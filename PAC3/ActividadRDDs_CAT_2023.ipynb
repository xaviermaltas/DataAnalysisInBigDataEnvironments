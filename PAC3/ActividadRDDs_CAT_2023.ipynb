{
 "cells": [
  {
   "cell_type": "markdown",
   "metadata": {},
   "source": [
    "Before you turn this problem in, make sure everything runs as expected. First, **restart the kernel** (in the menubar, select Kernel$\\rightarrow$Restart) and then **run all cells** (in the menubar, select Cell$\\rightarrow$Run All).\n",
    "\n",
    "Make sure you fill in any place that says `YOUR CODE HERE` or \"YOUR ANSWER HERE\", as well as your name and collaborators below:"
   ]
  },
  {
   "cell_type": "code",
   "execution_count": 1,
   "metadata": {},
   "outputs": [],
   "source": [
    "NAME = \"XAVIER MALTAS TARRIDAS\"\n",
    "COLLABORATORS = \"\""
   ]
  },
  {
   "cell_type": "markdown",
   "metadata": {},
   "source": [
    "---"
   ]
  },
  {
   "cell_type": "markdown",
   "metadata": {
    "deletable": false,
    "editable": false,
    "nbgrader": {
     "cell_type": "markdown",
     "checksum": "7689c5f3dc7ad8a08c1a33272fbf7b32",
     "grade": false,
     "grade_id": "cell-594714016e3f67e5",
     "locked": true,
     "schema_version": 3,
     "solution": false,
     "task": false
    }
   },
   "source": [
    "# ![Spark Logo](http://spark-mooc.github.io/web-assets/images/ta_Spark-logo-small.png)  ![Python Logo](http://spark-mooc.github.io/web-assets/images/python-logo-master-v3-TM-flattened_small.png)\n",
    "# Comptant paraules: Construeix una aplicació que compti paraules de manera eficient\n",
    "\n",
    "Amb l'ús massiu d'Internet i les xarxes socials, el volum de text no estructurat aquesta creixent dramàticament, i Spark és una gran eina per a analitzar aquest tipus de dades. En aquesta activitat, escriurem codi per a trobar les paraules més comunes en un text generat, el ja conegut [Lorem Ipsum](https://www.lipsum.com/).\n",
    "\n",
    "El més interessant de la manera de treballar en aquesta pràctica és que podria escalar-se per a analitzar contingut web, per exemple, dins de Wikipedia.\n",
    "\n",
    "\n",
    "## Durant aquesta activitat cobrirem:\n",
    "\n",
    "* Part 1:* Creació d'un RDD i un pair RDD (1 Punt)\n",
    "* Part 2:* Comptar paraules fent servir un pair RDD (1 Punt)\n",
    "* Part 3:* Trobar paraules concretes i la seva freqüència d'aparició mitjana (1 Punt)\n",
    "* Part 4:* Aplicar les funcionalitats desenvolupades a un arxiu de text (2 Punts)\n",
    "* Part 5:* Calcular algunes estadístiques (2 Punts)\n",
    "* Part 6:* Vídeo resposta (3 Punts)\n",
    "\n",
    "> Com a referència a tots mètodes que es requereixen per a implementar aquesta pràctica podeu consultar:\n",
    "> * [API Python de Spark](https://spark.apache.org/docs/2.4.0/rdd-programming-guide.html)"
   ]
  },
  {
   "cell_type": "markdown",
   "metadata": {
    "deletable": false,
    "editable": false,
    "nbgrader": {
     "cell_type": "markdown",
     "checksum": "784df826a488be7417d4fc43aa7a123f",
     "grade": false,
     "grade_id": "cell-a2267f6fa8c63781",
     "locked": true,
     "schema_version": 3,
     "solution": false,
     "task": false
    }
   },
   "source": [
    "## Part 1: Creació d'un RDD i un pair RDDs\n",
    "\n",
    "En aquesta secció, explorarem com crear RRDs fent servir 'parallelize' i com aplicar pair RDDs al problema del comptatge de paraules.\n",
    "\n",
    "### (0a) Què és un RDD (Resilient Distributed Dataset)?\n",
    "\n",
    "Com hem vist, un RDD és una col·lecció d'elements sobre el qual podem aplicar operacions que es poden ejectuar en paral·lel, amb les següents característiques:\n",
    "\n",
    "- Són immutables\n",
    "- Estan distribuïts en els diferents nodes del clúster\n",
    "- Són tolerants a fallades\n",
    "\n",
    "### (0b) Configuració de l'entorn python + spark\n",
    "> Com a referència a tots mètodes que es requereixen per a implementar aquesta pràctica podeu consultar:\n",
    "> * [API Python de Spark](https://spark.apache.org/docs/2.4.0/rdd-programming-guide.html)"
   ]
  },
  {
   "cell_type": "code",
   "execution_count": 2,
   "metadata": {
    "deletable": false,
    "editable": false,
    "nbgrader": {
     "cell_type": "code",
     "checksum": "39ecaa03554f6a108d6ffe29b470c0b6",
     "grade": false,
     "grade_id": "cell-817c6073513cb3e6",
     "locked": true,
     "schema_version": 3,
     "solution": false,
     "task": false
    }
   },
   "outputs": [
    {
     "data": {
      "text/plain": [
       "<pyspark.conf.SparkConf at 0x7f90189505c0>"
      ]
     },
     "execution_count": 2,
     "metadata": {},
     "output_type": "execute_result"
    }
   ],
   "source": [
    "import findspark\n",
    "findspark.init()\n",
    "\n",
    "from pyspark import SparkConf, SparkContext\n",
    "\n",
    "conf = SparkConf()\n",
    "conf.setMaster(\"local[1]\")\n"
   ]
  },
  {
   "cell_type": "markdown",
   "metadata": {
    "deletable": false,
    "editable": false,
    "nbgrader": {
     "cell_type": "markdown",
     "checksum": "c3a0297c3c8cfdd557e703eba9943399",
     "grade": false,
     "grade_id": "cell-2d2bef7aae1e5c00",
     "locked": true,
     "schema_version": 3,
     "solution": false,
     "task": false
    }
   },
   "source": [
    "Introduïu el nom de l'app ActividadRDDs_ seguit del vostre nom d'usuari\n",
    "\n",
    "Copieu aquestes líneas a la cel·la seguent amb el vostre usuari.\n",
    "\n",
    "    conf.setAppName(\"ActividadRDDs_usuario\")\n",
    "    sc = SparkContext.getOrCreate(conf=conf)\n",
    "    sc.version"
   ]
  },
  {
   "cell_type": "code",
   "execution_count": 3,
   "metadata": {
    "deletable": false,
    "nbgrader": {
     "cell_type": "code",
     "checksum": "a4f0535dec1183d3965366023a619b69",
     "grade": true,
     "grade_id": "cell-9832a75750bbeb02",
     "locked": false,
     "points": 0,
     "schema_version": 3,
     "solution": true,
     "task": false
    }
   },
   "outputs": [
    {
     "data": {
      "text/plain": [
       "'2.4.0-cdh6.2.0'"
      ]
     },
     "execution_count": 3,
     "metadata": {},
     "output_type": "execute_result"
    }
   ],
   "source": [
    "conf.setAppName(\"ActividadRDDs_xmaltast\")\n",
    "sc = SparkContext.getOrCreate(conf=conf)\n",
    "sc.version"
   ]
  },
  {
   "cell_type": "markdown",
   "metadata": {
    "deletable": false,
    "editable": false,
    "nbgrader": {
     "cell_type": "markdown",
     "checksum": "91724b87032f17ff29d27a77f5f1ce64",
     "grade": false,
     "grade_id": "cell-ff0afa0f23271a84",
     "locked": true,
     "schema_version": 3,
     "solution": false,
     "task": false
    }
   },
   "source": [
    "### (1a) Creació d'un RDD\n",
    "Comencem generant un RDD a partir d'una llista de Python i el mètode 'sc.parallelize'. Després mostrarem per pantalla el tipus de la variable generada."
   ]
  },
  {
   "cell_type": "code",
   "execution_count": 4,
   "metadata": {
    "deletable": false,
    "editable": false,
    "nbgrader": {
     "cell_type": "code",
     "checksum": "278ad9409fcc57efd6cbf435b959681e",
     "grade": false,
     "grade_id": "cell-7c3668831843fa7f",
     "locked": true,
     "schema_version": 3,
     "solution": false,
     "task": false
    }
   },
   "outputs": [
    {
     "data": {
      "text/plain": [
       "pyspark.rdd.RDD"
      ]
     },
     "execution_count": 4,
     "metadata": {},
     "output_type": "execute_result"
    }
   ],
   "source": [
    "wordsList = ['lion', 'cat', 'tiger', 'elephant', 'rat', 'tiger', 'rat', 'cat']\n",
    "wordsRDD = sc.parallelize(wordsList, 4)\n",
    "# Print out the type of wordsRDD\n",
    "type(wordsRDD)"
   ]
  },
  {
   "cell_type": "markdown",
   "metadata": {
    "deletable": false,
    "editable": false,
    "nbgrader": {
     "cell_type": "markdown",
     "checksum": "0366826b6169825bbef429bb03255a26",
     "grade": false,
     "grade_id": "cell-b953bbbb29565d11",
     "locked": true,
     "schema_version": 3,
     "solution": false,
     "task": false
    }
   },
   "source": [
    "### (1b) Crear el plural de les paraules i testejar\n",
    "\n",
    "Utilitzarem una transformació 'map()' per a incorporar la lletra 's' a cadascun dels strings emmagatzemats en el RDD que acabem de crear. Primer definirem una funció de Python que retorni la paraula que se li ha passat com a paràmetre incorporant una \"s\" al final d'aquesta.\n",
    "\n",
    "En aquest exercici, es demana reemplaçar el text `<FILL IN>` amb la solució proposada. Després d'haver definit correctament la funció 'makePlural', executar la següent cel·la que conté una sèrie d'asserts de test. Si la solució és correcta, s'imprimirà '1 test passed'.\n",
    "\n",
    "Aquesta serà la forma habitual de treballar en les Activitats. Els exercicis contindran una explicació del que s'espera, seguit d'una cel·la de codi amb un o més `<FILL IN>`. Les cel·les que necessitin ser modificades contindran el text '# TODO: Replace with appropriate code' en la primera línia. En alguns casos, com veureu al final de la descripció de l'enunciat tindreu una petita ajuda (HINT) per a completar l'exercici.\n",
    "\n",
    "Una vegada s'hagin substituït tots els `<FILL IN>` pel codi Python adequat, executar la cel·la, i posteriorment executar la cel·la següent de test per a comprovar que la solució és l'esperada."
   ]
  },
  {
   "cell_type": "code",
   "execution_count": 5,
   "metadata": {
    "deletable": false,
    "nbgrader": {
     "cell_type": "code",
     "checksum": "bec9796e52a796dd06dd7e6fa82770ca",
     "grade": false,
     "grade_id": "cell-b8b4b950bec37953",
     "locked": false,
     "schema_version": 3,
     "solution": true,
     "task": false
    }
   },
   "outputs": [
    {
     "name": "stdout",
     "output_type": "stream",
     "text": [
      "['lions', 'cats', 'tigers', 'elephants', 'rats', 'tigers', 'rats', 'cats']\n"
     ]
    }
   ],
   "source": [
    "# TODO: Replace <FILL IN> with appropriate code\n",
    "def makePlural(word):\n",
    "    return word + 's'\n",
    "\n",
    "# Apply the makePlural function to each element in the RDD using map()\n",
    "pluralRDD = wordsRDD.map(makePlural)\n",
    "\n",
    "# Collect the results to the driver program and display them\n",
    "pluralWords = pluralRDD.collect()\n",
    "\n",
    "# Display the resulting plural words\n",
    "print(pluralWords)"
   ]
  },
  {
   "cell_type": "code",
   "execution_count": 6,
   "metadata": {
    "deletable": false,
    "editable": false,
    "nbgrader": {
     "cell_type": "code",
     "checksum": "eb539091a54a3546b22c3bfda8d3366c",
     "grade": true,
     "grade_id": "cell-babaf7e3cda35be8",
     "locked": true,
     "points": 0.2,
     "schema_version": 3,
     "solution": false,
     "task": false
    }
   },
   "outputs": [],
   "source": [
    "# TEST Pluralize and test (1b)\n",
    "assert makePlural('lion')=='lions'\n",
    "assert makePlural('cat')=='cats'\n",
    "assert makePlural('tiger')=='tigers'"
   ]
  },
  {
   "cell_type": "markdown",
   "metadata": {
    "deletable": false,
    "editable": false,
    "nbgrader": {
     "cell_type": "markdown",
     "checksum": "25bbd8d62924af42d4aa910e4cb3808f",
     "grade": false,
     "grade_id": "cell-5dab366b2c7623fd",
     "locked": true,
     "schema_version": 3,
     "solution": false,
     "task": false
    }
   },
   "source": [
    "### (1c) Aplicar 'makePlural' al nostre RDD\n",
    "Ara és el moment d'aplicar la nostra funció 'makePlural()' a tots els elements del RDD usant la transformació [map()](http://spark.apache.org/docs/2.4.0/api/python/pyspark.html#pyspark.RDD.map). Es demana completar la següent cel·la i posteriorment executar l'acció [collect()](http://spark.apache.org/docs/2.4.0/api/python/pyspark.html#pyspark.RDD.collect) en la cel·la de test per a obtenir el RDD transformat.\n",
    "\n",
    "A continuació, s'ofereix una petita ajuda.\n",
    "\n",
    "**HINT (Copy & Paste and Complete):**\n",
    "'''python\n",
    "pluralRDD = wordsRDD.map(< FILL_IN >)\n",
    "'''"
   ]
  },
  {
   "cell_type": "code",
   "execution_count": 7,
   "metadata": {
    "deletable": false,
    "nbgrader": {
     "cell_type": "code",
     "checksum": "c4e8bfceec6bac2573ea31ef6ea7bf7b",
     "grade": false,
     "grade_id": "cell-e72735b916b19a0d",
     "locked": false,
     "schema_version": 3,
     "solution": true,
     "task": false
    }
   },
   "outputs": [],
   "source": [
    "pluralRDD = wordsRDD.map(makePlural)"
   ]
  },
  {
   "cell_type": "code",
   "execution_count": 8,
   "metadata": {
    "deletable": false,
    "editable": false,
    "nbgrader": {
     "cell_type": "code",
     "checksum": "22a6148c4f3cf7f5bd7821d4dd91ea16",
     "grade": true,
     "grade_id": "cell-8f6820c332a87cf7",
     "locked": true,
     "points": 0.2,
     "schema_version": 3,
     "solution": false,
     "task": false
    }
   },
   "outputs": [],
   "source": [
    "# TEST Apply makePlural to the base RDD(1c)\n",
    "assert pluralRDD.collect() == ['lions', 'cats', 'tigers', 'elephants', 'rats', 'tigers', 'rats', 'cats']"
   ]
  },
  {
   "cell_type": "markdown",
   "metadata": {
    "deletable": false,
    "editable": false,
    "nbgrader": {
     "cell_type": "markdown",
     "checksum": "ee842c29e22ebf33b3f964347157d3ce",
     "grade": false,
     "grade_id": "cell-89e31743db4c02d9",
     "locked": true,
     "schema_version": 3,
     "solution": false,
     "task": false
    }
   },
   "source": [
    "### (1d) Aplicar una funció 'lambda' al llarg dels valors en un RDD mitjançant la funció 'map'\n",
    "\n",
    "Ara realitzarem una transformació equivalent a l'anterior mitjançant una funció 'lambda' en lloc d'una funció amb nom.\n",
    "\n",
    "Es demana completar la següent cel·la amb la solució. Podeu basar-vos en el següent HINT, i els exemples que es mostren en [API Python de Spark](https://spark.apache.org/docs/2.4.0/rdd-programming-guide.html)\n",
    "\n",
    "**HINT (Copy & Paste and Complete):** \n",
    "```python\n",
    "pluralLambdaRDD = wordsRDD.map(< FILL IN >)\n",
    "```"
   ]
  },
  {
   "cell_type": "code",
   "execution_count": 9,
   "metadata": {
    "deletable": false,
    "nbgrader": {
     "cell_type": "code",
     "checksum": "f738f3afce520ef4145b8f33a3229fb9",
     "grade": false,
     "grade_id": "cell-4565359139bf05c4",
     "locked": false,
     "schema_version": 3,
     "solution": true,
     "task": false
    }
   },
   "outputs": [],
   "source": [
    "# lambda function to pluralize words\n",
    "pluralLambdaRDD = wordsRDD.map(lambda word: word + 's')"
   ]
  },
  {
   "cell_type": "code",
   "execution_count": 10,
   "metadata": {
    "deletable": false,
    "editable": false,
    "nbgrader": {
     "cell_type": "code",
     "checksum": "9e01c4841aa004012ff3082c501ceba6",
     "grade": true,
     "grade_id": "cell-92dcd0dadb60af2e",
     "locked": true,
     "points": 0.2,
     "schema_version": 3,
     "solution": false,
     "task": false
    }
   },
   "outputs": [],
   "source": [
    "# TEST Cell: run collect action to the RDD (pluralLambdaRDD) obtained in the previous cell (1d)\n",
    "assert pluralLambdaRDD.collect() == ['lions', 'cats', 'tigers', 'elephants', 'rats', 'tigers', 'rats', 'cats']"
   ]
  },
  {
   "cell_type": "markdown",
   "metadata": {
    "deletable": false,
    "editable": false,
    "nbgrader": {
     "cell_type": "markdown",
     "checksum": "9f06d1c01c657a238ea47cd270de6245",
     "grade": false,
     "grade_id": "cell-7f35ed67c2b9d41a",
     "locked": true,
     "schema_version": 3,
     "solution": false,
     "task": false
    }
   },
   "source": [
    "### (1e) Nombre de caràcters de cadascuna de les paraules\n",
    "\n",
    "Ara es demana obtenir el nombre de caràcters de cada paraula mitjançant un transformació 'map()' i una funció 'lambda'. Farem servir l'acció 'collect' per a guardar el resultat directament en una variable.\n",
    "\n",
    "**HINT (Copy & Paste and Complete):** \n",
    "```python\n",
    "pluralLengths = pluralRDD.map(< FILL_IN >).< FILL_IN >\n",
    "```"
   ]
  },
  {
   "cell_type": "code",
   "execution_count": 11,
   "metadata": {
    "deletable": false,
    "nbgrader": {
     "cell_type": "code",
     "checksum": "f3b46f1cbb6c5fad6c72b04ececba45c",
     "grade": false,
     "grade_id": "cell-9b0af843e7c83e09",
     "locked": false,
     "schema_version": 3,
     "solution": true,
     "task": false
    }
   },
   "outputs": [
    {
     "name": "stdout",
     "output_type": "stream",
     "text": [
      "[5, 4, 6, 9, 4, 6, 4, 4]\n"
     ]
    }
   ],
   "source": [
    "# lambda function to show number of character in each word\n",
    "pluralLengths = pluralRDD.map(lambda word: len(word)).collect()\n",
    "\n",
    "# Display character count per each word\n",
    "print(pluralLengths)"
   ]
  },
  {
   "cell_type": "code",
   "execution_count": 12,
   "metadata": {
    "deletable": false,
    "editable": false,
    "nbgrader": {
     "cell_type": "code",
     "checksum": "6ea0e685eea123d6fb9795bc15f9d9cf",
     "grade": true,
     "grade_id": "cell-362b1d5aa87c3abd",
     "locked": true,
     "points": 0.2,
     "schema_version": 3,
     "solution": false,
     "task": false
    }
   },
   "outputs": [],
   "source": [
    "# TEST Length of each word (exercice 1e)\n",
    "assert pluralLengths == [5, 4, 6, 9, 4, 6, 4, 4]"
   ]
  },
  {
   "cell_type": "markdown",
   "metadata": {
    "deletable": false,
    "editable": false,
    "nbgrader": {
     "cell_type": "markdown",
     "checksum": "56b0a7716961243ec8be7423419a003d",
     "grade": false,
     "grade_id": "cell-cd21d9bad23e4e91",
     "locked": true,
     "schema_version": 3,
     "solution": false,
     "task": false
    }
   },
   "source": [
    "### (1f) Pair RDDs\n",
    "\n",
    "Per a completar el nostre programa de comptatge de paraules ara treballarem amb els anomenats pair RDD. Un pair RDD és un RDD en el qual cada element és un tupla de l'estil `(k, v)` on `k` és la clau i `v` és el seu valor corresponent. Primerament, es demana crear un pair RDD que contingui tuplas amb el format `(<word>, 1)` per a cada element del nostre RDD bàsic.\n",
    "\n",
    "Podem crear nostre pair RDD usant una transformació `map()` i una funció 'lambda()' que transformi adequadament els elements del RDD base.\n",
    "\n",
    "**HINT (Copy & Paste and Complete):** \n",
    "```python\n",
    "wordPairs = wordsRDD.map(< FILL IN >)\n",
    "```"
   ]
  },
  {
   "cell_type": "code",
   "execution_count": 13,
   "metadata": {
    "deletable": false,
    "nbgrader": {
     "cell_type": "code",
     "checksum": "b0077808694379a8e22fdacc197d5587",
     "grade": false,
     "grade_id": "cell-de89e345a5dccc45",
     "locked": false,
     "schema_version": 3,
     "solution": true,
     "task": false
    }
   },
   "outputs": [
    {
     "name": "stdout",
     "output_type": "stream",
     "text": [
      "[('lion', 1), ('cat', 1), ('tiger', 1), ('elephant', 1), ('rat', 1), ('tiger', 1), ('rat', 1), ('cat', 1)]\n"
     ]
    }
   ],
   "source": [
    "#lambda function to create pair RDDs\n",
    "wordPairs = wordsRDD.map(lambda word: (word, 1))\n",
    "\n",
    "#Display pair RDDs\n",
    "print(wordPairs.collect())"
   ]
  },
  {
   "cell_type": "code",
   "execution_count": 14,
   "metadata": {
    "deletable": false,
    "editable": false,
    "nbgrader": {
     "cell_type": "code",
     "checksum": "bf6954e1d0aeb87114a82cfa8bfd893a",
     "grade": true,
     "grade_id": "cell-d79816693c5197a0",
     "locked": true,
     "points": 0.2,
     "schema_version": 3,
     "solution": false,
     "task": false
    }
   },
   "outputs": [],
   "source": [
    "# TEST Pair RDDs (1f)\n",
    "assert wordPairs.collect() == [('lion', 1), ('cat', 1), ('tiger', 1), ('elephant', 1), ('rat', 1), ('tiger', 1), ('rat', 1), ('cat', 1)]"
   ]
  },
  {
   "cell_type": "markdown",
   "metadata": {
    "deletable": false,
    "editable": false,
    "nbgrader": {
     "cell_type": "markdown",
     "checksum": "aa279e55d31e68fbebcad9b2aa86461f",
     "grade": false,
     "grade_id": "cell-fd17cf39e7e9ecfd",
     "locked": true,
     "schema_version": 3,
     "solution": false,
     "task": false
    }
   },
   "source": [
    "## Part 2: Comptar paraules fent servir un pair RDD\n",
    "\n",
    "\n",
    "Ara, es demana comptar el nombre de vegades que cada paraula en particular apareix en el RDD. Aquesta operació es pot realitzar d'una infinitat de maneres, però algunes seran molt menys eficients que unes altres.\n",
    "\n",
    "Una solució molt senzilla seria usar 'collect()' sobre tots els elements retornar-los al driver i una vegada recollits al driver contar-los. Mentre aquesta manera de treballar podria funcionar amb textos relativament curts, nosaltres el que volem és poder treballar amb textos de qualsevol longitud. Addicionalment, executar tot el càlcul en el driver és molt més lent que executar-lo en paral·lel en els workers. Per aquests motius, en aquesta pràctica farem servir operacions paral·lelitzables.\n",
    "\n",
    "### (2a) Fent servir 'groupByKey()'\n",
    "Una primera proposta de solució al nostre problema, després veurem que hi ha unes altres molt més eficients, es podria basar en la transformació [groupByKey()](http://spark.apache.org/docs/2.4.0/api/python/pyspark.html#pyspark.RDD.groupByKey). Com el seu nom indica, la transformació 'groupByKey()' agrupa tots els elements d'un RDD que comparteixin la mateixa clau en una única llista dins d'una de les particions.\n",
    "\n",
    "Aquesta operació planteja dos problemes:\n",
    "+ Necessita moure tots els valors dins de la partició adequada. Això satura la xarxa.\n",
    "+ Les llistes generades poden arribar a ser molt grans arribant fins i tot a saturar la memòria d'algun dels workers\n",
    "\n",
    "Veurem com solucionar aquests problemes posteriorment. De moment es demana usar transformació  'groupByKey()' per a generar un pair RDD del tipus '('word', iterator)'.\n",
    "\n",
    "**HINT (Copy & Paste and Complete):**\n",
    "```python\n",
    "wordsGrouped = wordPairs.< FILL IN >\n",
    "for key, value in wordsGrouped.collect():\n",
    "    print('{0}: {1}'.format(key, list(value)))\n",
    "```"
   ]
  },
  {
   "cell_type": "code",
   "execution_count": 15,
   "metadata": {
    "deletable": false,
    "nbgrader": {
     "cell_type": "code",
     "checksum": "dad9557ba9904a53edc50ae0285d69d2",
     "grade": false,
     "grade_id": "cell-baba5ba9cccf54d0",
     "locked": false,
     "schema_version": 3,
     "solution": true,
     "task": false
    }
   },
   "outputs": [
    {
     "name": "stdout",
     "output_type": "stream",
     "text": [
      "lion: [1]\n",
      "tiger: [1, 1]\n",
      "cat: [1, 1]\n",
      "elephant: [1]\n",
      "rat: [1, 1]\n"
     ]
    }
   ],
   "source": [
    "# Use groupByKey to group words by their keys\n",
    "wordsGrouped = wordPairs.groupByKey()\n",
    "\n",
    "# Iterate through the groups and print the word and its occurrences\n",
    "for key, value in wordsGrouped.collect():\n",
    "    print('{0}: {1}'.format(key, list(value)))"
   ]
  },
  {
   "cell_type": "code",
   "execution_count": 16,
   "metadata": {
    "deletable": false,
    "editable": false,
    "nbgrader": {
     "cell_type": "code",
     "checksum": "123e81cb39e7d0d67c464200d84292d5",
     "grade": true,
     "grade_id": "cell-bf339be44df0b0dc",
     "locked": true,
     "points": 0.25,
     "schema_version": 3,
     "solution": false,
     "task": false
    }
   },
   "outputs": [],
   "source": [
    "# TEST groupByKey() approach (2a)\n",
    "assert sorted(wordsGrouped.mapValues(lambda x: list(x)).collect()) == [('cat', [1, 1]), ('elephant', [1]), ('lion', [1]), ('rat', [1, 1]), ('tiger', [1, 1])]"
   ]
  },
  {
   "cell_type": "markdown",
   "metadata": {
    "deletable": false,
    "editable": false,
    "nbgrader": {
     "cell_type": "markdown",
     "checksum": "9d6917858e3360a53fddfb69912a79bd",
     "grade": false,
     "grade_id": "cell-ad549bc573cfe490",
     "locked": true,
     "schema_version": 3,
     "solution": false,
     "task": false
    }
   },
   "source": [
    "### (2b) Utilitza 'groupByKey()' per a obtenir els contadors\n",
    "\n",
    "Fent servir la transformació 'groupByKey()' crea un RDD que contingui 2 elements, on cadascun d'ells sigui una tupla paraula (clau) iterador de Python (valor). Es pot reaprofitar el RDD 'wordsGrouped'.\n",
    "\n",
    "Després suma tots els valors del iterador usant una transformació 'map()'. El resultat ha de ser un pair RDD que contingui les parelles (word, count).\n",
    "\n",
    "**HINT (Copy & Paste and Complete):** \n",
    "```python\n",
    "wordCountsGrouped = wordsGrouped.< FILL IN >\n",
    "```"
   ]
  },
  {
   "cell_type": "code",
   "execution_count": 17,
   "metadata": {
    "deletable": false,
    "nbgrader": {
     "cell_type": "code",
     "checksum": "d3e03f96b4b604f4b3b903ee2b58a0b7",
     "grade": false,
     "grade_id": "cell-c7dea62d6c0c55ca",
     "locked": false,
     "schema_version": 3,
     "solution": true,
     "task": false
    }
   },
   "outputs": [
    {
     "name": "stdout",
     "output_type": "stream",
     "text": [
      "lion: 1\n",
      "tiger: 2\n",
      "cat: 2\n",
      "elephant: 1\n",
      "rat: 2\n"
     ]
    }
   ],
   "source": [
    "wordCountsGrouped = wordsGrouped.map(lambda x: (x[0], sum(x[1])))\n",
    "\n",
    "#Print the result\n",
    "for (word, count) in wordCountsGrouped.collect():\n",
    "    print('{}: {}'.format(word, count))"
   ]
  },
  {
   "cell_type": "code",
   "execution_count": 18,
   "metadata": {
    "deletable": false,
    "editable": false,
    "nbgrader": {
     "cell_type": "code",
     "checksum": "d629abe233a599b5ce9c4a5a5a9c3273",
     "grade": true,
     "grade_id": "cell-74a69c127898b698",
     "locked": true,
     "points": 0.25,
     "schema_version": 3,
     "solution": false,
     "task": false
    }
   },
   "outputs": [],
   "source": [
    "# TEST Use groupByKey() to obtain the counts (2b)\n",
    "assert sorted(wordCountsGrouped.collect())==[('cat', 2), ('elephant', 1), ('lion', 1), ('rat', 2), ('tiger', 2)]"
   ]
  },
  {
   "cell_type": "markdown",
   "metadata": {
    "deletable": false,
    "editable": false,
    "nbgrader": {
     "cell_type": "markdown",
     "checksum": "1299f82b2c134149a630aab657b1861e",
     "grade": false,
     "grade_id": "cell-5fb2fb896be85380",
     "locked": true,
     "schema_version": 3,
     "solution": false,
     "task": false
    }
   },
   "source": [
    "### (2c) Contadors fent servir 'reduceByKey'\n",
    "\n",
    "Intentant solucionar la problemàtica citada anteriorment, una millor solució per a obtenir els comptatges és començar des d'un pair RDD i després usar la transformació [reduceByKey()](http://spark.apache.org/docs/2.4.0/api/python/pyspark.html#pyspark.RDD.reduceByKey) per a crear un nou pair RDD. La transformació 'reduceByKey()' agrupa totes les parelles que comparteixen la mateixa clau. Posteriorment, aplica la funció que se li passa per paràmetre agrupant els valors de dos en dos. Aquest procés es repeteix iterativament fins que aconseguim un únic valor agregat per a cadascuna de les claus del pair RDD. La transformació 'reduceByKey()' opera aplicant la funció primer dins de cadascuna de les particions de manera independent, i posteriorment només comparteix els valors agregats entre particions diferents, permetent-li escalar de manera eficient donat que no té necessitat de desplaçar per la xarxa una gran quantitat de dades.\n",
    "\n",
    "**HINT (Copy & Paste and Complete):** \n",
    "```python\n",
    "wordCounts = wordPairs.reduceByKey(< FILL IN >)\n",
    "```"
   ]
  },
  {
   "cell_type": "code",
   "execution_count": 19,
   "metadata": {
    "deletable": false,
    "nbgrader": {
     "cell_type": "code",
     "checksum": "fc2711c5cb3ca98551635f46597be4d5",
     "grade": false,
     "grade_id": "cell-a2dfc0df90101b5b",
     "locked": false,
     "schema_version": 3,
     "solution": true,
     "task": false
    }
   },
   "outputs": [
    {
     "name": "stdout",
     "output_type": "stream",
     "text": [
      "lion: 1\n",
      "tiger: 2\n",
      "cat: 2\n",
      "elephant: 1\n",
      "rat: 2\n"
     ]
    }
   ],
   "source": [
    "wordCounts = wordPairs.reduceByKey(lambda x, y: x + y)\n",
    "\n",
    "#Print the \n",
    "for (word, count) in wordCounts.collect():\n",
    "    print('{}: {}'.format(word, count))"
   ]
  },
  {
   "cell_type": "code",
   "execution_count": 20,
   "metadata": {
    "deletable": false,
    "editable": false,
    "nbgrader": {
     "cell_type": "code",
     "checksum": "9c836262f75b1c7667b736fa8aacd124",
     "grade": true,
     "grade_id": "cell-4336283b7de4f325",
     "locked": true,
     "points": 0.25,
     "schema_version": 3,
     "solution": false,
     "task": false
    }
   },
   "outputs": [],
   "source": [
    "# TEST Counting using reduceByKey (2c)\n",
    "assert sorted(wordCounts.collect())==[('cat', 2), ('elephant', 1), ('lion', 1), ('rat', 2), ('tiger', 2)]"
   ]
  },
  {
   "cell_type": "markdown",
   "metadata": {
    "deletable": false,
    "editable": false,
    "nbgrader": {
     "cell_type": "markdown",
     "checksum": "d8514fa49f25696a0cc261310e7e4edf",
     "grade": false,
     "grade_id": "cell-65a9cf5388127ae2",
     "locked": true,
     "schema_version": 3,
     "solution": false,
     "task": false
    }
   },
   "source": [
    "### (2d) Ara tot junt\n",
    "\n",
    "La versió més complexa per a solucionar el problema del comptatge executa primer un 'map()' sobre el pair RDD, després la transformació 'reduceByKey()' i, finalment, l'acció 'collect()' en una única línia de codi.\n",
    "\n",
    "**HINT (Copy & Paste and Complete):** \n",
    "```python\n",
    "wordCountsCollected = (wordsRDD\n",
    "    .< FILL IN >\n",
    "    ...\n",
    "    .< FILL IN >                       \n",
    "    .collect())\n",
    "```"
   ]
  },
  {
   "cell_type": "code",
   "execution_count": 21,
   "metadata": {
    "deletable": false,
    "nbgrader": {
     "cell_type": "code",
     "checksum": "120b3f55667761bf4101e7d716c7bd35",
     "grade": false,
     "grade_id": "cell-efb14ccdee6629d8",
     "locked": false,
     "schema_version": 3,
     "solution": true,
     "task": false
    }
   },
   "outputs": [
    {
     "name": "stdout",
     "output_type": "stream",
     "text": [
      "lion: 1\n",
      "tiger: 2\n",
      "cat: 2\n",
      "elephant: 1\n",
      "rat: 2\n"
     ]
    }
   ],
   "source": [
    "wordCountsCollected = (wordsRDD\n",
    "    .map(lambda word: (word, 1))  # Pair each word with 1\n",
    "    .reduceByKey(lambda x, y: x + y)  # Count word occurrences\n",
    "    .collect())  # Collect the results\n",
    "\n",
    "# Print the results\n",
    "for (word, count) in wordCountsCollected:\n",
    "    print('{}: {}'.format(word, count))"
   ]
  },
  {
   "cell_type": "code",
   "execution_count": 22,
   "metadata": {
    "deletable": false,
    "editable": false,
    "nbgrader": {
     "cell_type": "code",
     "checksum": "e9b6035cafede772c025f45c8f1c2548",
     "grade": true,
     "grade_id": "cell-856e3903dc0f06aa",
     "locked": true,
     "points": 0.25,
     "schema_version": 3,
     "solution": false,
     "task": false
    }
   },
   "outputs": [],
   "source": [
    "# TEST exercise 2d\n",
    "assert sorted(wordCountsCollected)==[('cat', 2), ('elephant', 1), ('lion', 1), ('rat', 2), ('tiger', 2)]"
   ]
  },
  {
   "cell_type": "code",
   "execution_count": null,
   "metadata": {},
   "outputs": [],
   "source": []
  },
  {
   "cell_type": "markdown",
   "metadata": {
    "deletable": false,
    "editable": false,
    "nbgrader": {
     "cell_type": "markdown",
     "checksum": "6a2c89b49ade88853cc6ccc613f87ee6",
     "grade": false,
     "grade_id": "cell-299c8a2f6ecc2724",
     "locked": true,
     "schema_version": 3,
     "solution": false,
     "task": false
    }
   },
   "source": [
    "## Part 3: Trobar les paraules individuals i la seva freqüència d'aparició mitjana\n",
    "\n",
    "### (3a) Paraules úniques\n",
    "\n",
    "Es demana obtenir el nombre de paraules úniques en 'wordsRDD'. Pots utilitzar altres RDDs que hagis creat en aquesta pràctica si et resulta més senzill.\n",
    "\n",
    "**HINT (Copy & Paste and Complete):** \n",
    "```python\n",
    "uniqueWords = < FILL IN >\n",
    "```"
   ]
  },
  {
   "cell_type": "code",
   "execution_count": 23,
   "metadata": {
    "deletable": false,
    "nbgrader": {
     "cell_type": "code",
     "checksum": "4675506f560a0c1578ed5e1f97600329",
     "grade": false,
     "grade_id": "cell-16348ea08b49c4a8",
     "locked": false,
     "schema_version": 3,
     "solution": true,
     "task": false
    }
   },
   "outputs": [
    {
     "name": "stdout",
     "output_type": "stream",
     "text": [
      "5\n"
     ]
    }
   ],
   "source": [
    "# Get the number of unique words\n",
    "uniqueWords = wordsRDD.distinct().count()\n",
    "\n",
    "#Print the result\n",
    "print(uniqueWords)"
   ]
  },
  {
   "cell_type": "code",
   "execution_count": 24,
   "metadata": {
    "deletable": false,
    "editable": false,
    "nbgrader": {
     "cell_type": "code",
     "checksum": "c3c144b03beabf935ed01ceb7527bd5d",
     "grade": true,
     "grade_id": "cell-18114a75b3dc89f9",
     "locked": true,
     "points": 0.4,
     "schema_version": 3,
     "solution": false,
     "task": false
    }
   },
   "outputs": [],
   "source": [
    "# TEST exercise 3a\n",
    "assert uniqueWords== 5"
   ]
  },
  {
   "cell_type": "markdown",
   "metadata": {
    "deletable": false,
    "editable": false,
    "nbgrader": {
     "cell_type": "markdown",
     "checksum": "e1b5ce4c22e6545ee8c0ea055a810518",
     "grade": false,
     "grade_id": "cell-88f80ac1ad6b10a3",
     "locked": true,
     "schema_version": 3,
     "solution": false,
     "task": false
    }
   },
   "source": [
    "### (3b) Calcular la freqüència mitjana d'aparició usant 'reduce()'\n",
    "\n",
    "Troba la freqüència mitjana d'aparició de cada paraula en el RDD 'wordCounts'.\n",
    "\n",
    "Es demana utilitzar l'acció 'reduce()' per a sumar els comptatges en 'wordCounts' i llavors dividir pel nombre de paraules úniques. Per a realitzar això primer aplica un 'map()' al pair RDD 'wordCounts', que està format per tuplas amb el format (key, value), per a convertir-ho en un RDD de valors.\n",
    "\n",
    "**HINT (Copy & Paste and Complete):** \n",
    "\n",
    "```python\n",
    "from operator import add\n",
    "totalCount = (wordCounts\n",
    "    .map(< FILL IN >)\n",
    "    .reduce(< FILL IN >))\n",
    "average = < FILL IN > / float(< FILL IN >)\n",
    "```\n",
    "\n",
    "NOTA: en cas de resoldre el problema seguint el procés anterior l'exercici es valorarà en 0.4 punts. Si es troba una solució que només faci servir una sola instrucció per a obtenir el resultat es valorarà en 0.6 punts. És a dir, sense haver d'aplicar la divisió en una segona instrucció."
   ]
  },
  {
   "cell_type": "code",
   "execution_count": 29,
   "metadata": {
    "deletable": false,
    "nbgrader": {
     "cell_type": "code",
     "checksum": "24e4c2622f3c2c8e34f4aed2561e65fb",
     "grade": false,
     "grade_id": "cell-9066ac11760c53f6",
     "locked": false,
     "schema_version": 3,
     "solution": true,
     "task": false
    }
   },
   "outputs": [
    {
     "name": "stdout",
     "output_type": "stream",
     "text": [
      "1.6\n"
     ]
    }
   ],
   "source": [
    "from operator import add\n",
    "\n",
    "totalCount = (wordCounts\n",
    "    .map(lambda pair: pair[1])\n",
    "    .reduce(add))\n",
    "\n",
    "average = totalCount / float(uniqueWords)\n",
    "\n",
    "print(average)"
   ]
  },
  {
   "cell_type": "code",
   "execution_count": 30,
   "metadata": {
    "deletable": false,
    "editable": false,
    "nbgrader": {
     "cell_type": "code",
     "checksum": "ec64cd0fa950c57a116435506ded5e91",
     "grade": true,
     "grade_id": "cell-074da01b339d1d9d",
     "locked": true,
     "points": 0.4,
     "schema_version": 3,
     "solution": false,
     "task": false
    }
   },
   "outputs": [],
   "source": [
    "# TEST exercise 3b\n",
    "assert round(average, 2)==1.6, 'incorrect value of average'"
   ]
  },
  {
   "cell_type": "markdown",
   "metadata": {
    "deletable": false,
    "editable": false,
    "nbgrader": {
     "cell_type": "markdown",
     "checksum": "09d2bfd5716112a0c30230aa830e5aeb",
     "grade": false,
     "grade_id": "cell-6b80e44dc34d1f96",
     "locked": true,
     "schema_version": 3,
     "solution": false,
     "task": false
    }
   },
   "source": [
    "## Part 4: Aplicar les funcionalitats desenvolupades a un arxiu de text\n",
    "\n",
    "L'objectiu que es proposa és construir una funció 'wordCount', capaç de treballar amb dades reals, que solen presenten problemes com l'ús de majúscules o minúscules, puntuació, accents, etc. Posteriorment, es demana carregar les dades de la nostra font de dades i finalment, calcular els contadors de paraules sobre les dades processades.\n",
    "\n",
    "### (4a) Funció 'wordCount'\n",
    "\n",
    "Es demana definir una funció per al comptatge d'aquestes paraules. S'aconsella reutilitzar les tècniques que has vist en els apartats anteriors d'aquesta pràctica. Aquesta funció, ha de prendre un RDD que contingui una llista de paraules, i retornar un pair RDD que contingui totes les paraules amb els seus corresponents comptatges."
   ]
  },
  {
   "cell_type": "code",
   "execution_count": 36,
   "metadata": {
    "deletable": false,
    "nbgrader": {
     "cell_type": "code",
     "checksum": "e059bce7c34f4f25e02db143e5cb22c7",
     "grade": false,
     "grade_id": "cell-90cb9e33943318d1",
     "locked": false,
     "schema_version": 3,
     "solution": true,
     "task": false
    }
   },
   "outputs": [
    {
     "name": "stdout",
     "output_type": "stream",
     "text": [
      "[('lion', 1), ('tiger', 2), ('cat', 2), ('elephant', 1), ('rat', 2)]\n"
     ]
    }
   ],
   "source": [
    "def wordCount(wordListRDD):\n",
    "    #Convert all words to lowercase\n",
    "    wordListRDD = wordListRDD.map(lambda word: word.lower())\n",
    "    \n",
    "    # Map words to (word, 1) pairs\n",
    "    wordPairs = wordListRDD.map(lambda word: (word, 1))\n",
    "    \n",
    "    # Reduce by key to count word occurrences\n",
    "    wordCounts = wordPairs.reduceByKey(lambda x, y: x + y)\n",
    "    \n",
    "    return wordCounts\n",
    "\n",
    "#Apply function and show the result\n",
    "countedWords = wordCount(wordsRDD).collect()\n",
    "print(countedWords)"
   ]
  },
  {
   "cell_type": "code",
   "execution_count": 35,
   "metadata": {
    "deletable": false,
    "editable": false,
    "nbgrader": {
     "cell_type": "code",
     "checksum": "b197d6f6d6954b06dd48b32fbec3a06c",
     "grade": true,
     "grade_id": "cell-388aedb5b80c8820",
     "locked": true,
     "points": 0.4,
     "schema_version": 3,
     "solution": false,
     "task": false
    }
   },
   "outputs": [],
   "source": [
    "# TEST exercise 4a\n",
    "assert sorted(wordCount(wordsRDD).collect())==[('cat', 2), ('elephant', 1), ('lion', 1), ('rat', 2), ('tiger', 2)]"
   ]
  },
  {
   "cell_type": "markdown",
   "metadata": {
    "deletable": false,
    "editable": false,
    "nbgrader": {
     "cell_type": "markdown",
     "checksum": "f519c8b96d64feea004068e709e4086d",
     "grade": false,
     "grade_id": "cell-9162c6e27ac67a96",
     "locked": true,
     "schema_version": 3,
     "solution": false,
     "task": false
    }
   },
   "source": [
    "### (4b) Majúscules i puntuació\n",
    "\n",
    "Els fitxers amb dades reals són molt més complexos que els que hem estat usant en aquesta activitat. Alguns dels problemes a tractar són:\n",
    "+ Les paraules han de contar-se independentment de si contenen majúscules o minúscules (per exemple, Spark i spark haurien de contar com la mateixa paraula).\n",
    "+ Tots els signes de puntuació han d'eliminar-se.\n",
    "+ Qualsevol espai al principi o al final de la paraula ha d'eliminar-se.\n",
    "\n",
    "Es demana definir la funció 'removePunctuation' que converteixi tot el text a minúscules, elimini els signes de puntuació i els espais al principi i fi de cada paraula. Fes servir el mòdul de Python [re](https://docs.python.org/2/library/re.html) per a eliminar qualsevol caràcter que no sigui una lletra, un número o un espai.\n",
    "\n",
    "Si no estàs familiaritzat amb les expressions regulars s'aconsella revisar [aquest tutorial](https://developers.google.com/edu/python/regular-expressions). Alternativament, [aquesta web](https://regex101.com/#python) és de gran ajuda per a debugar les teves expressions regulars.\n",
    "\n",
    "**Hints**\n",
    "\n",
    "1. Usa la función [re.sub()](https://docs.python.org/2.7/library/re.html#re.sub).\n",
    "2. Para nuestros propósitos, \"puntuación\" significa no alfabético, numérico, o espacio. La expresión regular que define estos carácteres es: `[^A-Za-z\\s\\d]`\n",
    "3. No usar `\\W`, ya que retendrá los guiones bajos."
   ]
  },
  {
   "cell_type": "code",
   "execution_count": 41,
   "metadata": {
    "deletable": false,
    "nbgrader": {
     "cell_type": "code",
     "checksum": "ebec9439897866ea1fd099d5ae066e43",
     "grade": false,
     "grade_id": "cell-2f6ff0c9ac2172e4",
     "locked": false,
     "schema_version": 3,
     "solution": true,
     "task": false
    }
   },
   "outputs": [
    {
     "name": "stdout",
     "output_type": "stream",
     "text": [
      "hi you\n",
      "no underscore\n",
      "remove punctuation then spaces\n"
     ]
    }
   ],
   "source": [
    "import re\n",
    "\n",
    "def removePunctuation(text):\n",
    "    # Regular expression to remove the non alphabetic characters and spaces\n",
    "    cleanedText = re.sub(r'[^a-zA-Z0-9\\s]', '', text)\n",
    "    \n",
    "    # Convert to lowercase and remove whitespaces\n",
    "    cleanedText = cleanedText.lower().strip()\n",
    "    \n",
    "    return cleanedText\n",
    "\n",
    "print(removePunctuation('Hi, you!'))\n",
    "print(removePunctuation(' No under_score!'))\n",
    "print(removePunctuation(' *      Remove punctuation then spaces  * '))"
   ]
  },
  {
   "cell_type": "code",
   "execution_count": 40,
   "metadata": {
    "deletable": false,
    "editable": false,
    "nbgrader": {
     "cell_type": "code",
     "checksum": "dcc26fb2262c0e3d93eb4ffcab8bc8d2",
     "grade": true,
     "grade_id": "cell-97a96198085b67f0",
     "locked": true,
     "points": 0.4,
     "schema_version": 3,
     "solution": false,
     "task": false
    }
   },
   "outputs": [],
   "source": [
    "# TEST exercise 4b\n",
    "assert removePunctuation(\" The Elephant's 4 cats. \") == 'the elephants 4 cats'"
   ]
  },
  {
   "cell_type": "markdown",
   "metadata": {
    "deletable": false,
    "editable": false,
    "nbgrader": {
     "cell_type": "markdown",
     "checksum": "7f42b74bfb01da1ab6f7b0d63651b8b3",
     "grade": false,
     "grade_id": "cell-c9c4ac478bde93cd",
     "locked": true,
     "schema_version": 3,
     "solution": false,
     "task": false
    }
   },
   "source": [
    "### (4c) Carregar un fitxer de text\n",
    "\n",
    "A partir d'aquest punt farem servir el text ja esmentat Lorem Ipsum generat per a la pràctica. Per a carregar un fitxer de text a un RDD, farem servir el mètode 'SparkContext.textFile()'. Una vegada carregat el fitxer es demana netejar les dades mitjançant 'removePunctuation()' dins d'una transformació 'map()'. Atès que el fitxer és bastant gran, farem servir 'take(15)', de manera que tan sols imprimirem per pantalla les 15 primeres línies.\n",
    "\n",
    "Es demana revisar i executar la següent cel·la."
   ]
  },
  {
   "cell_type": "code",
   "execution_count": 42,
   "metadata": {
    "deletable": false,
    "editable": false,
    "nbgrader": {
     "cell_type": "code",
     "checksum": "fd549dd086aec68a053edf8132f6e04f",
     "grade": false,
     "grade_id": "cell-c27536ba0515363e",
     "locked": true,
     "schema_version": 3,
     "solution": false,
     "task": false
    }
   },
   "outputs": [
    {
     "data": {
      "text/plain": [
       "['aut minima deleniti et autem minus illo esse dolores eligendi corrupti dolore minima nostrum eos nobis nam nihil aspernatur nam ut quae sint laborum ut dolores error possimus aperiam consequatur',\n",
       " 'pariatur sed quo non itaque qui pariatur saepe ad quis consequatur nihil iste molestias et eos ut expedita vel reiciendis dolorem enim doloribus quam architecto aperiam']"
      ]
     },
     "execution_count": 42,
     "metadata": {},
     "output_type": "execute_result"
    }
   ],
   "source": [
    "# Just run the code\n",
    "import os.path\n",
    "\n",
    "fileName = os.path.join('/aula_M2.858/data/', 'LoremIpsum.txt')\n",
    "loremRDD = sc.textFile(fileName, 8).map(removePunctuation).filter(lambda x: len(x)>0)\n",
    "loremRDD.take(2)"
   ]
  },
  {
   "cell_type": "code",
   "execution_count": 43,
   "metadata": {},
   "outputs": [
    {
     "data": {
      "text/plain": [
       "['aut minima deleniti et autem minus illo esse dolores eligendi corrupti dolore minima nostrum eos nobis nam nihil aspernatur nam ut quae sint laborum ut dolores error possimus aperiam consequatur',\n",
       " 'pariatur sed quo non itaque qui pariatur saepe ad quis consequatur nihil iste molestias et eos ut expedita vel reiciendis dolorem enim doloribus quam architecto aperiam',\n",
       " 'sed repudiandae pariatur similique est aut sequi animi in aperiam enim ipsa enim dolorem inventore aut quo odio in consequatur et',\n",
       " 'aspernatur ad esse et aliquid itaque dolores rerum quia commodi explicabo non magnam nostrum consectetur non sint eum nulla et aut quis doloribus itaque nulla molestiae quis est est quo facilis incidunt a ipsa in itaque sed aut nobis facere dignissimos atque unde cum ea vero',\n",
       " 'tenetur vel quod voluptatum laudantium dolores neque aut est modi qui aperiam itaque aperiam quae ratione doloremque aut delectus quas qui',\n",
       " 'qui placeat vel ipsam praesentium sint recusandae dicta minus praesentium omnis sequi a sed veritatis porro ab et officia esse commodi pariatur sequi cumque',\n",
       " 'mollitia facilis amet deleniti quia laborum commodi et molestias maxime quia dignissimos inventore neque libero deleniti ad quo corrupti numquam quis accusantium',\n",
       " 'architecto harum sunt et enim nisi commodi et id reprehenderit illum molestias illo facilis fuga eum illum quasi fugit qui',\n",
       " 'modi voluptatem quia et saepe inventore sed quo ea debitis explicabo vel perferendis commodi exercitationem sequi eum dolor cupiditate ab molestiae nemo ullam neque hic ipsa cupiditate dolor molestiae neque nam nobis nihil mollitia unde',\n",
       " 'voluptates quod in ipsum dicta fuga voluptatibus sint consequatur quod optio molestias nostrum repellendus consequatur aliquam fugiat provident omnis minus est quisquam exercitationem eum voluptas fugit quae eveniet perspiciatis assumenda maxime',\n",
       " 'ad amet libero exercitationem incidunt qui delectus deserunt nemo totam repellat repudiandae praesentium totam ad sint et natus officiis impedit aut quaerat hic labore impedit aut consectetur voluptas et adipisci aliquam voluptatibus consequatur et sit quia laudantium repellat quaerat',\n",
       " 'exercitationem fuga autem nostrum molestias itaque aperiam asperiores omnis adipisci atque et aperiam veritatis vel modi voluptas vel ea',\n",
       " 'deserunt accusantium praesentium ea aperiam et esse quia voluptates ratione nemo adipisci aut quo rerum neque commodi temporibus doloremque cupiditate et sunt incidunt et nam delectus repellendus nobis nulla iure culpa itaque modi expedita quia aperiam',\n",
       " 'illum modi aspernatur labore sint ipsa cum iure non est omnis amet laboriosam occaecati optio delectus aut reprehenderit quaerat ut quasi nobis ipsum perspiciatis dicta corporis molestiae suscipit voluptatem nisi magni omnis',\n",
       " 'earum laboriosam et dolores reprehenderit dolores ipsum aspernatur aut ut officiis et libero omnis ut magnam est tempora laboriosam doloribus at est minus rerum excepturi esse culpa quia tenetur unde quod et autem']"
      ]
     },
     "execution_count": 43,
     "metadata": {},
     "output_type": "execute_result"
    }
   ],
   "source": [
    "# Just run the code\n",
    "import os.path\n",
    "\n",
    "fileName = os.path.join('/aula_M2.858/data/', 'LoremIpsum.txt')\n",
    "loremRDD = sc.textFile(fileName, 8).map(removePunctuation).filter(lambda x: len(x)>0)\n",
    "loremRDD.take(15)"
   ]
  },
  {
   "cell_type": "markdown",
   "metadata": {
    "deletable": false,
    "editable": false,
    "nbgrader": {
     "cell_type": "markdown",
     "checksum": "8cad74a798eafd68978124ed50d44ff2",
     "grade": false,
     "grade_id": "cell-25d2feffdf0069db",
     "locked": true,
     "schema_version": 3,
     "solution": false,
     "task": false
    }
   },
   "source": [
    "### (4d) Extreure les paraules de les línies\n",
    "\n",
    "Abans de poder usar la funció 'wordcount()', hem de solucionar dos problemes amb el format del RDD:\n",
    "+ El primer problema és que necessitem obtenir les paraules que conté cada línia. Això ho solucionarem en l'apartat (4d).\n",
    "+ El segon problema és que necessitem filtrar les línies completament buides. Això ho solucionarem en l'apartat (4e).\n",
    "\n",
    "Per a aplicar una transformació que divideixi cada element del RDD pels seus espais, es proposa aplicar la funció incorporada en els strings de Python [split()](https://docs.python.org/2/library/string.html#string.split). Cura que a primera vista pot semblar que la funció necessària és una transformacion 'map()', però si analitzes el resultat de la funció 'split()' t'adonaràs que aquesta no és l'opció correcta. Es demana a l'alumne revisar altres funcions afins a 'map()' en la documentació, que puguin ajustar-se millor a la tasca requerida.\n",
    "\n",
    "> Nota:\n",
    "> * No facis servir la implementació estàndard del 'split()', passa-li un valor de separador. Per exemple, per a dividir 'line' per comes, faries servir 'line.split(',')'.\n",
    "\n",
    "**HINT (Copy & Paste and Complete):** \n",
    "```python\n",
    "loremWordsRDD = loremRDD.< FILL IN >\n",
    "```"
   ]
  },
  {
   "cell_type": "code",
   "execution_count": 47,
   "metadata": {
    "deletable": false,
    "nbgrader": {
     "cell_type": "code",
     "checksum": "1456576106a520c6e3e63512b1c06584",
     "grade": false,
     "grade_id": "cell-62026cde37a4b3d5",
     "locked": false,
     "schema_version": 3,
     "solution": true,
     "task": false
    }
   },
   "outputs": [
    {
     "name": "stdout",
     "output_type": "stream",
     "text": [
      "29249699\n"
     ]
    }
   ],
   "source": [
    "loremWordsRDD = loremRDD.flatMap(lambda line: line.split())\n",
    "loremWordsCount = loremWordsRDD.count()\n",
    "\n",
    "print(loremWordsCount)"
   ]
  },
  {
   "cell_type": "code",
   "execution_count": 48,
   "metadata": {
    "deletable": false,
    "editable": false,
    "nbgrader": {
     "cell_type": "code",
     "checksum": "89c04c795278271720bb7288550a8f16",
     "grade": true,
     "grade_id": "cell-5eefb61d132b0437",
     "locked": true,
     "points": 0.4,
     "schema_version": 3,
     "solution": false,
     "task": false
    }
   },
   "outputs": [],
   "source": [
    "# TEST Words from lines (4d)\n",
    "# This test allows for leading spaces to be removed either before or after\n",
    "# punctuation is removed.\n",
    "assert loremWordsCount == 29249699\n",
    "assert loremWordsRDD.top(5)==['voluptatum', 'voluptatum', 'voluptatum', 'voluptatum', 'voluptatum']"
   ]
  },
  {
   "cell_type": "markdown",
   "metadata": {
    "deletable": false,
    "editable": false,
    "nbgrader": {
     "cell_type": "markdown",
     "checksum": "d6c3e1ff6c977c08c6a564051d6bac0f",
     "grade": false,
     "grade_id": "cell-262dd789514fcb2a",
     "locked": true,
     "schema_version": 3,
     "solution": false,
     "task": false
    }
   },
   "source": [
    "### (4e) Millorant l'eficiència mitjançant persistència\n",
    "\n",
    "Una vegada que hem comptat el nombre de paraules amb el mètode 'count()', ens centrarem en fer el codi més eficient.\n",
    "\n",
    "Per a reduir els temps d'execució, utilitzarem la persistència d'un RDD 'persist()', que principalment s'utilitza quan s'efectuen múltiples operacions repetides sobre un RDD. Quan es fa servir la persistència, cada node conserva la partició del RDD que opera en la memòria.\n",
    "\n",
    "El bon ús de la persistència d'un RDD pot arribar a augmentar el rendiment de les aplicacions Spark en més de 10 vegades. Per a algorismes iteratius i aplicacions interactives ràpides, la persistència és de vital importància.\n",
    "\n",
    "Existeixen diferents nivells de persistència, depenent de si s'emmagatzema el RDD en memòria o en disc. En aquest exemple farem servir el nivell de persistència per defecte MEMORY_ONLY.\n",
    "\n",
    "Mitjançant les següents cel·les podrem veure els avantatges de la persistència. Per a poder quantificar la millora del rendiment ens ajudarem de la funció '%%time', que imprimeix el CPU.-time i el wall clock time d'execució per a la cel·la completa.\n",
    "\n",
    "> Nota:\n",
    "> * Wall clock time: temps total real que porta executar una tasca (CPU time, I/O time i temps de comunicació entre màquines si les dades estan repartides entre diverses)\n",
    ">* CPU time: temps total que està la CPU executant una tasca\n",
    "\n",
    "Seguidament, farem una sèrie d'execucions sobre un RDD utilitzant el mètode 'count()' encara que podríem fer servir diferents mètodes o combinacions de mètodes, però ho farem així per simplicitat.\n",
    "\n",
    "1. Contem el nombre de paraules i veiem el temps invertit en l'execució"
   ]
  },
  {
   "cell_type": "code",
   "execution_count": 49,
   "metadata": {
    "deletable": false,
    "editable": false,
    "nbgrader": {
     "cell_type": "code",
     "checksum": "1fee76b0d3f5092ee8f3d23ca3511197",
     "grade": false,
     "grade_id": "cell-02bb2327bc432e0d",
     "locked": true,
     "schema_version": 3,
     "solution": false,
     "task": false
    }
   },
   "outputs": [
    {
     "name": "stdout",
     "output_type": "stream",
     "text": [
      "CPU times: user 12 ms, sys: 8 ms, total: 20 ms\n",
      "Wall time: 16.1 s\n"
     ]
    },
    {
     "data": {
      "text/plain": [
       "29249699"
      ]
     },
     "execution_count": 49,
     "metadata": {},
     "output_type": "execute_result"
    }
   ],
   "source": [
    "%%time\n",
    "loremWordsRDD.count()"
   ]
  },
  {
   "cell_type": "markdown",
   "metadata": {
    "deletable": false,
    "editable": false,
    "nbgrader": {
     "cell_type": "markdown",
     "checksum": "130298b3f9705663bc68f235c3aff5b9",
     "grade": false,
     "grade_id": "cell-a7617cbe5aa9c77a",
     "locked": true,
     "schema_version": 3,
     "solution": false,
     "task": false
    }
   },
   "source": [
    "2. Es demada fer un `persist()` sobre el RDD `loremWordsRDD`\n",
    "**HINT (Copy & Paste and Complete):** \n",
    "```python \n",
    "loremWordsRDD.< FILL IN >\n",
    "```"
   ]
  },
  {
   "cell_type": "code",
   "execution_count": 50,
   "metadata": {
    "deletable": false,
    "nbgrader": {
     "cell_type": "code",
     "checksum": "b398ee7d6c4e108deacd59c29f535774",
     "grade": true,
     "grade_id": "cell-842622900cd7989e",
     "locked": false,
     "points": 0.1,
     "schema_version": 3,
     "solution": true,
     "task": false
    }
   },
   "outputs": [],
   "source": [
    "loremWordsRDD = loremWordsRDD.persist()"
   ]
  },
  {
   "cell_type": "markdown",
   "metadata": {
    "deletable": false,
    "editable": false,
    "nbgrader": {
     "cell_type": "markdown",
     "checksum": "2d90c7eb8e6338457a9959afdc0ef2fb",
     "grade": false,
     "grade_id": "cell-c1223b8ccd849d46",
     "locked": true,
     "schema_version": 3,
     "solution": false,
     "task": false
    }
   },
   "source": [
    "3. Tornem a comptar el nombre de paraules després de fer el `persist()` i observem que el temps d'execució és major que abans de fer el `persist()` ja que ha d'emmagatzemar els resultats en els nodes per al seu posterior ús."
   ]
  },
  {
   "cell_type": "code",
   "execution_count": 51,
   "metadata": {
    "deletable": false,
    "editable": false,
    "nbgrader": {
     "cell_type": "code",
     "checksum": "b9a759ed76c16634bdfa718bcb96334e",
     "grade": false,
     "grade_id": "cell-3f1333dc673a92fe",
     "locked": true,
     "schema_version": 3,
     "solution": false,
     "task": false
    }
   },
   "outputs": [
    {
     "name": "stdout",
     "output_type": "stream",
     "text": [
      "CPU times: user 0 ns, sys: 12 ms, total: 12 ms\n",
      "Wall time: 22.9 s\n"
     ]
    },
    {
     "data": {
      "text/plain": [
       "29249699"
      ]
     },
     "execution_count": 51,
     "metadata": {},
     "output_type": "execute_result"
    }
   ],
   "source": [
    "%%time\n",
    "loremWordsRDD.count()"
   ]
  },
  {
   "cell_type": "markdown",
   "metadata": {
    "deletable": false,
    "editable": false,
    "nbgrader": {
     "cell_type": "markdown",
     "checksum": "2615179090286e63a9a01b3d132bbd4d",
     "grade": false,
     "grade_id": "cell-c937bf509aa1f2fc",
     "locked": true,
     "schema_version": 3,
     "solution": false,
     "task": false
    }
   },
   "source": [
    "4. En aquesta segona execució del `count()` i posteriors observarem que el temps d'execució és gairebé 10 vegades menor"
   ]
  },
  {
   "cell_type": "code",
   "execution_count": 52,
   "metadata": {
    "deletable": false,
    "editable": false,
    "nbgrader": {
     "cell_type": "code",
     "checksum": "a3cd0df436808cc9611d25929c510306",
     "grade": false,
     "grade_id": "cell-dcbbb8e9ae62648d",
     "locked": true,
     "schema_version": 3,
     "solution": false,
     "task": false
    }
   },
   "outputs": [
    {
     "name": "stdout",
     "output_type": "stream",
     "text": [
      "CPU times: user 12 ms, sys: 0 ns, total: 12 ms\n",
      "Wall time: 4.63 s\n"
     ]
    },
    {
     "data": {
      "text/plain": [
       "29249699"
      ]
     },
     "execution_count": 52,
     "metadata": {},
     "output_type": "execute_result"
    }
   ],
   "source": [
    "%%time\n",
    "loremWordsRDD.count()"
   ]
  },
  {
   "cell_type": "markdown",
   "metadata": {
    "deletable": false,
    "editable": false,
    "nbgrader": {
     "cell_type": "markdown",
     "checksum": "868810acc401d685c936bc76c1a74413",
     "grade": false,
     "grade_id": "cell-24c1133fc8fd1a02",
     "locked": true,
     "schema_version": 3,
     "solution": false,
     "task": false
    }
   },
   "source": [
    "5. Si volem des-persistir el RDD que hem persistit amb `persist()` farem servir `unpersist()`\n",
    "\n",
    "**HINT (Copy & Paste and Complete):** \n",
    "```python\n",
    "loremWordsRDD.< FILL IN >\n",
    "```"
   ]
  },
  {
   "cell_type": "code",
   "execution_count": 53,
   "metadata": {
    "deletable": false,
    "nbgrader": {
     "cell_type": "code",
     "checksum": "fa66c7373207ec067c2096546fb92cc9",
     "grade": true,
     "grade_id": "cell-04cf8ab9ef00be68",
     "locked": false,
     "points": 0.1,
     "schema_version": 3,
     "solution": true,
     "task": false
    }
   },
   "outputs": [
    {
     "data": {
      "text/plain": [
       "PythonRDD[68] at RDD at PythonRDD.scala:53"
      ]
     },
     "execution_count": 53,
     "metadata": {},
     "output_type": "execute_result"
    }
   ],
   "source": [
    "loremWordsRDD.unpersist()"
   ]
  },
  {
   "cell_type": "markdown",
   "metadata": {
    "deletable": false,
    "editable": false,
    "nbgrader": {
     "cell_type": "markdown",
     "checksum": "156f84a99a20452917fddb388cf62ce5",
     "grade": false,
     "grade_id": "cell-ff0d44684256537e",
     "locked": true,
     "schema_version": 3,
     "solution": false,
     "task": false
    }
   },
   "source": [
    "6. Tornem a comptar el nombre de paraules amb el 'count()' i observem que tornem a tenir temps d'execució similars abans d'executar el 'persist()'"
   ]
  },
  {
   "cell_type": "code",
   "execution_count": 54,
   "metadata": {
    "deletable": false,
    "editable": false,
    "nbgrader": {
     "cell_type": "code",
     "checksum": "069508f2589db7b78eff9a7bc5277285",
     "grade": false,
     "grade_id": "cell-8f20b7e3e70f50ba",
     "locked": true,
     "schema_version": 3,
     "solution": false,
     "task": false
    }
   },
   "outputs": [
    {
     "name": "stdout",
     "output_type": "stream",
     "text": [
      "CPU times: user 16 ms, sys: 4 ms, total: 20 ms\n",
      "Wall time: 14.9 s\n"
     ]
    },
    {
     "data": {
      "text/plain": [
       "29249699"
      ]
     },
     "execution_count": 54,
     "metadata": {},
     "output_type": "execute_result"
    }
   ],
   "source": [
    "%%time\n",
    "loremWordsRDD.count()"
   ]
  },
  {
   "cell_type": "markdown",
   "metadata": {
    "deletable": false,
    "editable": false,
    "nbgrader": {
     "cell_type": "markdown",
     "checksum": "bb950c6821caee047f63c3c6a49bc327",
     "grade": false,
     "grade_id": "cell-3931e089ba319a38",
     "locked": true,
     "schema_version": 3,
     "solution": false,
     "task": false
    }
   },
   "source": [
    "### (4f) Calcula paraules diferents\n",
    "\n",
    "En aquest punt es demana comptar quantes paraules diferents conté el nostre text\n",
    "\n",
    "\n",
    "**HINT (Copy & Paste and Complete):** \n",
    "```python\n",
    "distintWordsMapRDD = loremWordsRDD.< FILL IN >\n",
    "```"
   ]
  },
  {
   "cell_type": "code",
   "execution_count": 58,
   "metadata": {
    "deletable": false,
    "nbgrader": {
     "cell_type": "code",
     "checksum": "822b53e8828e69c1fdee7d22ab85434b",
     "grade": false,
     "grade_id": "cell-f9cb40f98d506e08",
     "locked": false,
     "schema_version": 3,
     "solution": true,
     "task": false
    }
   },
   "outputs": [
    {
     "name": "stdout",
     "output_type": "stream",
     "text": [
      "182\n"
     ]
    }
   ],
   "source": [
    "distinctWordsMapRDD = loremWordsRDD.map(lambda word: (word, 1))\n",
    "distintWordsRDD = distinctWordsMapRDD.keys().distinct()\n",
    "uniqueWordCount = distintWordsRDD.count()\n",
    "print(uniqueWordCount)"
   ]
  },
  {
   "cell_type": "code",
   "execution_count": 59,
   "metadata": {
    "deletable": false,
    "editable": false,
    "nbgrader": {
     "cell_type": "code",
     "checksum": "7f742970c8a18a7af6444aeb52e1f72d",
     "grade": true,
     "grade_id": "cell-a594923db15344f9",
     "locked": true,
     "points": 0.3,
     "schema_version": 3,
     "solution": false,
     "task": false
    }
   },
   "outputs": [],
   "source": [
    "# TEST Remove empty elements (4f)\n",
    "assert distintWordsRDD.count()== 182"
   ]
  },
  {
   "cell_type": "markdown",
   "metadata": {
    "deletable": false,
    "editable": false,
    "nbgrader": {
     "cell_type": "markdown",
     "checksum": "b9d267cf10b553de735277cdacc347c0",
     "grade": false,
     "grade_id": "cell-e2332f8e4442c2f2",
     "locked": true,
     "schema_version": 3,
     "solution": false,
     "task": false
    }
   },
   "source": [
    "### (4g) Compte les paraules\n",
    "\n",
    "Es demana aplicar la funció `wordCount()` per a produir una llista amb els contadors de paraules al RDD 'loremWordsRDD' i mostrar les 15 paraules més comunes amb els seus comptatges. Podem fer servir l'acció 'takeOrdered()'; no obstant això, com els elements del RDD són tuplas, necessitem una funció especial que ordeni els parells de la forma correcta.\n",
    "\n",
    "Fes servir les funcions `wordCount()` i `takeOrdered()` per a obtenir les 15 paraules més comunes juntament amb els seus comptatges.\n",
    "**HINT (Copy & Paste and Complete):** \n",
    "```python\n",
    "top15WordsAndCounts = wordCount(loremWordsRDD).< FILL IN >\n",
    "```"
   ]
  },
  {
   "cell_type": "code",
   "execution_count": 65,
   "metadata": {
    "deletable": false,
    "nbgrader": {
     "cell_type": "code",
     "checksum": "6e1160a2f6567f6fe5f1af0dfaa5d548",
     "grade": false,
     "grade_id": "cell-d1578aa6bfcaee3f",
     "locked": false,
     "schema_version": 3,
     "solution": true,
     "task": false
    }
   },
   "outputs": [
    {
     "name": "stdout",
     "output_type": "stream",
     "text": [
      "et: 1291567\n",
      "aut: 705322\n",
      "ut: 704966\n",
      "qui: 704703\n",
      "est: 587782\n",
      "voluptatem: 469634\n",
      "quia: 469401\n",
      "rerum: 353054\n",
      "sed: 352873\n",
      "omnis: 352653\n",
      "consequatur: 352436\n",
      "sit: 352396\n",
      "non: 351959\n",
      "voluptas: 351127\n",
      "dolorem: 235822\n"
     ]
    }
   ],
   "source": [
    "# Get word counts using wordCount function\n",
    "wordCounts = wordCount(loremWordsRDD)\n",
    "\n",
    "# Get the 15 top words count\n",
    "top15WordsAndCounts = wordCounts.takeOrdered(15, key=lambda x: -x[1])\n",
    "\n",
    "# Display the result\n",
    "for word, count in top15WordsAndCounts:\n",
    "    print('{}: {}'.format(word, count))"
   ]
  },
  {
   "cell_type": "code",
   "execution_count": 66,
   "metadata": {
    "deletable": false,
    "editable": false,
    "nbgrader": {
     "cell_type": "code",
     "checksum": "6239b3a5a0b90f8057cbc1d2da3a8ea1",
     "grade": true,
     "grade_id": "cell-55604f13d56cfa0a",
     "locked": true,
     "points": 0.4,
     "schema_version": 3,
     "solution": false,
     "task": false
    }
   },
   "outputs": [],
   "source": [
    "# TEST Count the words (exercise 4g)\n",
    "assert top15WordsAndCounts== [('et', 1291567), ('aut', 705322), \n",
    "                              ('ut', 704966), ('qui', 704703), \n",
    "                              ('est', 587782), ('voluptatem', 469634), \n",
    "                              ('quia', 469401), ('rerum', 353054), ('sed', 352873),\n",
    "                              ('omnis', 352653), ('consequatur', 352436), \n",
    "                              ('sit', 352396), ('non', 351959), ('voluptas', 351127), \n",
    "                              ('dolorem', 235822)]"
   ]
  },
  {
   "cell_type": "markdown",
   "metadata": {
    "deletable": false,
    "editable": false,
    "nbgrader": {
     "cell_type": "markdown",
     "checksum": "2cc37daf8784901218c96fef6cac4fef",
     "grade": false,
     "grade_id": "cell-ad61bde848da0528",
     "locked": true,
     "schema_version": 3,
     "solution": false,
     "task": false
    }
   },
   "source": [
    "## Part 5: Calcular algunes estadístiques\n",
    "\n",
    "Fent servir les mateixes tècniques que has aplicat en els exercicis anteriors respon a les següents preguntes:\n",
    "\n",
    "- Quantes paraules diferents tenen exactament dos 's'?\n",
    "- Com és la paraula de set lletres que més es repeteix? Quantes vegades apareix?\n",
    "- Quantes paraules diferents tenen més consonants que vocals?"
   ]
  },
  {
   "cell_type": "code",
   "execution_count": null,
   "metadata": {
    "deletable": false,
    "nbgrader": {
     "cell_type": "code",
     "checksum": "b445528bea33efb64ed3478e85283628",
     "grade": false,
     "grade_id": "cell-7c371ee95bd57d18",
     "locked": false,
     "schema_version": 3,
     "solution": true,
     "task": false
    }
   },
   "outputs": [],
   "source": [
    "#¿Cuantas palabras distintas tienen exactamente dos 's'?\n",
    "# TODO: Complete the cell with the appropriate code\n",
    "# YOUR CODE HERE\n",
    "raise NotImplementedError()"
   ]
  },
  {
   "cell_type": "code",
   "execution_count": null,
   "metadata": {
    "deletable": false,
    "editable": false,
    "nbgrader": {
     "cell_type": "code",
     "checksum": "e28ca3146f60e50e8cb8ba8c2c5a0c36",
     "grade": true,
     "grade_id": "cell-072520fa34734220",
     "locked": true,
     "points": 0.6,
     "schema_version": 3,
     "solution": false,
     "task": false
    }
   },
   "outputs": [],
   "source": [
    "# TEST Different words with exactly two 's' (5a)\n",
    "assert loremWordsRDD_2s.count()== 7"
   ]
  },
  {
   "cell_type": "code",
   "execution_count": null,
   "metadata": {
    "deletable": false,
    "nbgrader": {
     "cell_type": "code",
     "checksum": "6f77a99357c97f96c949c3eea5725e98",
     "grade": false,
     "grade_id": "cell-079fd33957109dca",
     "locked": false,
     "schema_version": 3,
     "solution": true,
     "task": false
    }
   },
   "outputs": [],
   "source": [
    "#¿Cual es la palabra de siete letas que más se repite?¿Cuantas veces aparece?\n",
    "# TODO: Complete the cell with the appropriate code\n",
    "# YOUR CODE HERE\n",
    "raise NotImplementedError()\n"
   ]
  },
  {
   "cell_type": "code",
   "execution_count": null,
   "metadata": {
    "deletable": false,
    "editable": false,
    "nbgrader": {
     "cell_type": "code",
     "checksum": "409273a5966f28c5665c287d49dccc4d",
     "grade": true,
     "grade_id": "cell-b7efa700f3bef7bb",
     "locked": true,
     "points": 0.6,
     "schema_version": 3,
     "solution": false,
     "task": false
    }
   },
   "outputs": [],
   "source": [
    "# TEST 7 letters most repeated word, how many times is repeated (5b)\n",
    "assert distintWordsRDD_7_Number_Repetitions.count()== 23"
   ]
  },
  {
   "cell_type": "code",
   "execution_count": null,
   "metadata": {
    "deletable": false,
    "nbgrader": {
     "cell_type": "code",
     "checksum": "cfb3ec9b8d8d2b176da54f87b770b6f5",
     "grade": false,
     "grade_id": "cell-a5272a8fe999e503",
     "locked": false,
     "schema_version": 3,
     "solution": true,
     "task": false
    }
   },
   "outputs": [],
   "source": [
    "#¿Cuantas palabras distintas tienen más consonantes que vocales?\n",
    "# YOUR CODE HERE\n",
    "raise NotImplementedError()"
   ]
  },
  {
   "cell_type": "code",
   "execution_count": null,
   "metadata": {
    "deletable": false,
    "editable": false,
    "nbgrader": {
     "cell_type": "code",
     "checksum": "e5353ace6f752616767384a68161f366",
     "grade": true,
     "grade_id": "cell-ef4bc4b82edc1fe2",
     "locked": true,
     "points": 0.8,
     "schema_version": 3,
     "solution": false,
     "task": false
    }
   },
   "outputs": [],
   "source": [
    "# TEST More consonants than vowels (5c)\n",
    "assert moreConstWordsRDD.count()== 89"
   ]
  },
  {
   "cell_type": "markdown",
   "metadata": {
    "deletable": false,
    "editable": false,
    "nbgrader": {
     "cell_type": "markdown",
     "checksum": "e43aa761a2ff4e15bc3e46f3446c078a",
     "grade": false,
     "grade_id": "cell-9ca54928786e35cb",
     "locked": true,
     "schema_version": 3,
     "solution": false,
     "task": false
    }
   },
   "source": [
    "<h2 style='margin-left:18.0pt;text-indent:-18.0pt'>6<span style='font:7.0pt \"Times New Roman\"'>&nbsp;&nbsp;&nbsp;&nbsp;&nbsp;&nbsp;&nbsp;\n",
    "</span>Video resposta - RDDs</h2>\n",
    "\n",
    "En aquest apartat s'haurà de respondre a les qüestions que es mostren a continuació mitjançant un vídeo resposta d'entre 5 i 10 minuts. Heu de realitzar una gravació en la qual se us vegi la cara responent amb les vostres pròpies paraules.\n",
    "\n",
    "Heu de seguir els següents punts per a realitzar el vídeo:\n",
    "\n",
    "1. Al principi del vídeo heu de dir el vostre nom i DNI mentre mostreu el DNI (que ha de veure's amb claredat i ser llegible).\n",
    "\n",
    "2. Heu de respondre a les preguntes en l'ordre en el qual estan, comentant sempre al principi de cada resposta a què pregunta us esteu referint.\n",
    "\n",
    "3. En el cas de no respondre a alguna pregunta, heu d'indicar el número de la pregunta que no responeu i el perquè.\n",
    "\n",
    "\n",
    "    \n",
    "<h3 style='margin-left:18.0pt;text-indent:-18.0pt'> Preguntes </h3>\n",
    "\n",
    "\n",
    "Contesta a les següents preguntes en relació amb la utilització de Spark amb RDDs:\n",
    "\n",
    "1 - Quina és la diferència entre accions i transformacions? (0.5 punts)\n",
    "\n",
    "2 - Quins nivells de persistència es poden utilitzar? (1 punt)\n",
    "\n",
    "3 - Què és el \"Spark Driver\" ? (0.5 punts)\n",
    "\n",
    "4 - Quins sistemes de fitxers suporta Spark ? (0.5 punts)\n",
    "\n",
    "5 - Quin \"Clúster Managers\" es poden utilitzar amb Spark. ? (0.5 punts)"
   ]
  },
  {
   "cell_type": "code",
   "execution_count": null,
   "metadata": {
    "deletable": false,
    "nbgrader": {
     "cell_type": "code",
     "checksum": "5e9bb3525ae0c64406aa744021704b4f",
     "grade": true,
     "grade_id": "cell-174494fdb2664d21",
     "locked": false,
     "points": 3,
     "schema_version": 3,
     "solution": true,
     "task": false
    }
   },
   "outputs": [],
   "source": [
    "# YOUR CODE HERE\n",
    "raise NotImplementedError()"
   ]
  }
 ],
 "metadata": {
  "kernelspec": {
   "display_name": "Python 3",
   "language": "python",
   "name": "python3"
  },
  "language_info": {
   "codemirror_mode": {
    "name": "ipython",
    "version": 3
   },
   "file_extension": ".py",
   "mimetype": "text/x-python",
   "name": "python",
   "nbconvert_exporter": "python",
   "pygments_lexer": "ipython3",
   "version": "3.5.2"
  }
 },
 "nbformat": 4,
 "nbformat_minor": 4
}
