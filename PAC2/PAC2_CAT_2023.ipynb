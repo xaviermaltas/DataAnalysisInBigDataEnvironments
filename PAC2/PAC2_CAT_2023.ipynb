{
 "cells": [
  {
   "cell_type": "markdown",
   "metadata": {},
   "source": [
    "Before you turn this problem in, make sure everything runs as expected. First, **restart the kernel** (in the menubar, select Kernel$\\rightarrow$Restart) and then **run all cells** (in the menubar, select Cell$\\rightarrow$Run All).\n",
    "\n",
    "Make sure you fill in any place that says `YOUR CODE HERE` or \"YOUR ANSWER HERE\", as well as your name and collaborators below:"
   ]
  },
  {
   "cell_type": "code",
   "execution_count": null,
   "metadata": {},
   "outputs": [],
   "source": [
    "NAME = \"XAVIER MALTAS TARRIDAS\"\n",
    "COLLABORATORS = \"\""
   ]
  },
  {
   "cell_type": "markdown",
   "metadata": {},
   "source": [
    "---"
   ]
  },
  {
   "cell_type": "markdown",
   "metadata": {
    "deletable": false,
    "editable": false,
    "nbgrader": {
     "cell_type": "markdown",
     "checksum": "864d52c1185bb9f85f5c5300d2f77c22",
     "grade": false,
     "grade_id": "cell-f6a9ad809e29d6a6",
     "locked": true,
     "schema_version": 3,
     "solution": false,
     "task": false
    }
   },
   "source": [
    "<div class=WordSection1>\n",
    "\n",
    "<h1>Activitat YARN: Execució de treballs mitjançant gestors de recursos</h1>\n",
    "\n",
    "<h2 style='margin-left:18.0pt;text-indent:-18.0pt'>Nota</h2>\n",
    "<p class=MsoNormal>En alguns dels exercicis caldrà realitzar <b>captures de pantalla que justifiquin les respostes</b>. Les captures de pantalla es poden fer amb les eines del sistema operatiu que esteu utilitzant. Per copiar la imatge al porta-retalls podeu utilitzar diferents mètodes: \"Eina de Retallades\" a Windows, \"Imprimir pantalla\", Ctrl+C al seleccionar una imatge, etc... Les imatges una vegada capturades es poden enganxar directament a les cel·les de resposta, mitjançant Ctrl+V o amb el menú contextual que apareix amb el botó dret del ratolí, cosa que enganxarà la imatge que estigui al porta-retalls. Per veure la imatge cal executar la cel·la. </p>\n",
    "\n",
    "<h2 style='margin-left:18.0pt;text-indent:-18.0pt'>1<span style='font:7.0pt \"Times New Roman\"'>&nbsp;&nbsp;&nbsp;&nbsp;&nbsp;&nbsp;&nbsp;\n",
    "</span> Introducció</h2>\n",
    "\n",
    "<p class=MsoNormal>A l'activitat anterior vam començar a familiaritzar-nos amb un entorn big data, treballant amb un sistema d'arxius distribuïts i fent ingestes de dades. En aquesta activitat, l'exercici consisteix a executar treballs de processament i a saber gestionar-los mitjançant una eina de gestió de recursos.</p>\n",
    "\n",
    "<p class=MsoNormal><span style='line-height:115%'>Abans de començar amb l'enunciat de l'activitat, revisarem una mica la composició del sistema Big Data que esteu utilitzant. En la següent imatge, mitjançant el Cloudera Manager (el gestor del sistema que utilitzem <a href=\"https://www.cloudera.com/products/open-source/apache-hadoop/key-cdh-components.html\" name=\"_ftnref1\" title=\"\">[CDH Components]</a>), podem veure com està configurat el nostre entorn i els seus recursos disponibles. És interessant veure (Figura 1) que en el nostre cas el clúster està compost per 4 màquines, una principal, i més gran, i tres auxiliars més modestes. Podeu veure les característiques de les màquines a les diverses columnes de l'esquerra. En el vostre cas, quan accediu al sistema, ho feu mitjançant la màquina “eimtcld.uoc.edu”. </span></p>\n",
    "\n",
    "<p class=MsoNormal align=center style='text-align:center'><span style='line-height:115%'><img id=\"Picture 25\" src=\"image001.png\" alt=\"Graphical user interface, application&#10;&#10;Description automatically generated\"></span></p>\n",
    "\n",
    "<p class=MsoNormal align=center style='text-align:center'><span style='font-size:9.0pt;line-height:115%'>Figura 1: Descripció del sistema Cloudera instal·lat per la realització de les activitats.</span></p>\n",
    "\n",
    "<p class=MsoNormal><span style='line-height:115%'>A la Figura 2 podeu veure la configuració del resource manager utilitzat, el Yarn. Veiem que cadascuna de les màquines està corrent un “Node manager” de Yarn gestionat pel “Resource Manager” que s'executa a la màquina principal. Si no recordeu bé aquests conceptes podeu revisar la \"Secció 2 Apache Yarn\" del contingut teòric del mòdul actual (Document Gestors de recursos).</span></p>\n",
    "\n",
    "<p class=MsoNormal><span style='line-height:115%'>Per tant, qualsevol procés que s'executi mitjançant Yarn s'executarà (si ho considera necessari) utilitzant tots els recursos del sistema. Mitjançant els següents exercicis veurem com utilitzar Yarn, com analitzar les característiques del programa executat i veurem el resultat de l'execució.</span></p>\n",
    "\n",
    "<p class=MsoNormal align=center style='text-align:center'><span style='font-size:9.0pt;line-height:115%'>&nbsp;</span></p>\n",
    "\n",
    "<p class=MsoNormal align=center style='text-align:center'><span style='line-height:115%'><img id=\"Picture 24\" src=\"image002.png\" alt=\"Graphical user interface, application&#10;&#10;Description automatically generated\"></span></p>\n",
    "\n",
    "<p class=MsoNormal align=center style='text-align:center'><span style='font-size:9.0pt;line-height:115%'>Figura 2: Configuració del gestor de recursos Yarn a la màquina utilitzada en l'assignatura.</span></p>"
   ]
  },
  {
   "cell_type": "markdown",
   "metadata": {
    "deletable": false,
    "editable": false,
    "nbgrader": {
     "cell_type": "markdown",
     "checksum": "f24bb756fa34ad900259c73963ee7f79",
     "grade": false,
     "grade_id": "cell-0e64163c0743bc04",
     "locked": true,
     "schema_version": 3,
     "solution": false,
     "task": false
    }
   },
   "source": [
    "<h2 style='margin-left:18.0pt;text-indent:-18.0pt'>2<span style='font:7.0pt \"Times New Roman\"'>&nbsp;&nbsp;&nbsp;&nbsp;&nbsp;&nbsp;&nbsp;</span>Execució de Spark </h2>\n",
    "<h3 style='margin-left:18.0pt;text-indent:-18.0pt'><b>2.1<span\n",
    "style='font:7.0pt \"Times New Roman\"'>&nbsp; </span></b>Descripció del programa\n",
    "SparkPi</h3>\n",
    "<p class=MsoNormal>En aquest exercici pràctic treballarem sobre un\n",
    "programa ja compilat i preparat per executar-se. El programa que utilitzarem\n",
    "és un exemple que ve incorporat en la instal·lació de Cloudera, es fa servir\n",
    "com a exemple base per realitzar tasques de comprovació d'operativitat del\n",
    "sistema i rendiment. Podeu trobar el programa a:</p>\n",
    "<p class=MsoNormal><span style='font-size:12.0pt;line-height:115%;font-family:\n",
    "\"Courier New\"'>/opt/cloudera/parcels/CDH/lib/spark/examples/jars/spark-examples_2.11-2.4.0-cdh6.2.0.jar</span></p>\n",
    "<p class=MsoNormal>En concret, dins dels exemples inclosos amb la distribució de spark, farem servir SparkPi. Com podeu veure el programa està construït en Java (arxiu jar), però no el modificarem. Només l'executarem. \n",
    "\n",
    "El següent enllaç descriu com executar aplicacions en Spark:\n",
    "<a href=\"https://docs.cloudera.com/HDPDocuments/HDP3/HDP-3.1.0/running-spark-applications/content/running_sample_spark_2_x_applications.html\" title=\"\">Execució d'aplicacions Apache Spark</a>\n",
    "\n",
    "Teniu una mica de documentació per revisar aquests exemples i programes (i codi en Java, Scala i Python) a:</p>\n",
    "\n",
    "<a href=\"https://spark.apache.org/examples.html\" title=\"\">Exemples Apache Spark</a>\n",
    "<p>i teniu una implementació d'aquest programa en Scala a </p>\n",
    "\n",
    "<a href=\"https://github.com/apache/spark/blob/master/examples/src/main/scala/org/apache/spark/examples/SparkPi.scala\" title=\"\">Github</a>\n",
    "<p class=MsoNormal>En aquest primer apartat es demana que descriviu: </p>\n",
    "<p class=MsoListParagraphCxSpFirst style='text-indent:-18.0pt'><span\n",
    "style='font-family:Symbol'>·<span style='font:7.0pt \"Times New Roman\"'>&nbsp;&nbsp;&nbsp;&nbsp;&nbsp;&nbsp;&nbsp;&nbsp;\n",
    "</span></span>Què fa el programa?</p>"
   ]
  },
  {
   "cell_type": "markdown",
   "metadata": {
    "deletable": false,
    "nbgrader": {
     "cell_type": "code",
     "checksum": "eff783cff9687f83520ed1bc5950f33c",
     "grade": true,
     "grade_id": "cell-8a1cf173188e0453",
     "locked": false,
     "points": 0.5,
     "schema_version": 3,
     "solution": true,
     "task": false
    }
   },
   "source": [
    "El codi font proporcionat correspon a l'exemple 'SparkPi', que és una aplicació Apache Spark senzilla que té com a finalitat estimar el valor del nombre pi. Analitzant el codi font podem determinar que l'estimació del valor del nombre pi es realitza mitjançant el mètode de Monte Carlo. Aquest mètode és una tècnica estadística i computacional on s'utilitzen nombres aleatoris per resoldre problemes numèrics o geomètrics. En el context del programa, es generen punts aleatoris dins d'un quadrat unitari i es fa servir la probabilitat que aquests punts es trobin dins d'un cercle unitari per estimar el valor de Pi."
   ]
  },
  {
   "cell_type": "markdown",
   "metadata": {
    "deletable": false,
    "editable": false,
    "nbgrader": {
     "cell_type": "markdown",
     "checksum": "728973b1d0508286b9880995157370eb",
     "grade": false,
     "grade_id": "cell-9d112d9a5db67196",
     "locked": true,
     "schema_version": 3,
     "solution": false,
     "task": false
    }
   },
   "source": [
    "Com ho fa?"
   ]
  },
  {
   "cell_type": "markdown",
   "metadata": {
    "deletable": false,
    "nbgrader": {
     "cell_type": "code",
     "checksum": "18bc5386f5a24a63926433803dd96666",
     "grade": true,
     "grade_id": "cell-fcaf2ea1625a6d64",
     "locked": false,
     "points": 0.5,
     "schema_version": 3,
     "solution": true,
     "task": false
    }
   },
   "source": [
    "En primer lloc, i després de realitzar les importacions necessàries per executar una aplicació Spark, veiem que s'estableix un SparkSession utilitzant el mètode 'SparkSession.builder'.\n",
    "A continuació, observem que el programa usa un argument de la línia d'ordres ('slices') que ens permet definir el nombre de processaments en paral·lel. Seguidament, s'inicia la lògica principal del problema i on es duu a terme l'estimació utilitzant el mètode de Monte Carlo.\n",
    "Es calcula el nombre total de punts (n) mitjançant el producte de 100.000 pel nombre de 'slices'. Es crea un RDD (Resilient Distributed Dataset) utilitzant el mètode 'spark.sparkContext.parallelize'. Aquest RDD es distribuirà entre el nombre específic de particions o slices. Per a cada punt, es generen dues coordenades aleatòries (x,y) entre el rang de (-1 a 1) representant un punt dins d'un quadrat unitari centrat a l'origen. Seguidament, es comprova si aquestes coordenades es situen dins un cercle unitari i es comptabilitza quants han quedat dins i quants fora.\n",
    "Finalment, l'estimació del nombre pi es computarà per mitjà de la següent fórmula:\n",
    "\n",
    "4 * (n punts dins el cercle)/(n)\n",
    "\n",
    "Per acabar el procés, s'atura i s'alliberen recursos amb el mètode 'spark.stop'."
   ]
  },
  {
   "cell_type": "markdown",
   "metadata": {
    "deletable": false,
    "editable": false,
    "nbgrader": {
     "cell_type": "markdown",
     "checksum": "3e9466c6f89bd6675ac4433565b46b2d",
     "grade": false,
     "grade_id": "cell-110de7e0c4f0386a",
     "locked": true,
     "schema_version": 3,
     "solution": false,
     "task": false
    }
   },
   "source": [
    "Quins paràmetres rep per la seva execució i per què serveixen?"
   ]
  },
  {
   "cell_type": "markdown",
   "metadata": {
    "deletable": false,
    "nbgrader": {
     "cell_type": "code",
     "checksum": "9f801071fe7447f5d97b27da62167755",
     "grade": true,
     "grade_id": "cell-b90a3fdb1e8bd579",
     "locked": false,
     "points": 0.5,
     "schema_version": 3,
     "solution": true,
     "task": false
    }
   },
   "source": [
    "L'únic paràmetre que rep l'aplicació 'Sparkpi' és 'slices'. Aquest paràmetre correspon al nombre de particions que s'utilitzen per a paral·lelitzar un càlcul i té la finalitat de determinar com es distribuiran les operacions entre les diverses particions. Augmentar el nombre de 'slices' pot millorar la paral·lelització i reduir el temps d'execució, però també pot augmentar la sobrecàrrega de la xarxa. El valor d'aquest paràmetre depèn de les característiques del clúster i els necessitats de l'aplicació. En cas de no especificar aquest paràmetre, el seu valor predeterminat és 2."
   ]
  },
  {
   "cell_type": "markdown",
   "metadata": {
    "deletable": false,
    "editable": false,
    "nbgrader": {
     "cell_type": "markdown",
     "checksum": "435b07134c782db1051e687272fb9e98",
     "grade": false,
     "grade_id": "cell-5fd56fc7c7f639a1",
     "locked": true,
     "schema_version": 3,
     "solution": false,
     "task": false
    }
   },
   "source": [
    "<h3 style='margin-left:18.0pt;text-indent:-18.0pt'><b>2.2<span\n",
    "style='font:7.0pt \"Times New Roman\"'>&nbsp; </span></b>Execució</h3>\n",
    "<p class=MsoNormal>Reviseu la documentació de Cloudera <a href=\"https://docs.cloudera.com/runtime/7.2.1/running-spark-applications/topics/spark-running-spark-apps-on-yarn.html\"\n",
    "name=\"_ftnref3\" title=\"\"><span class=MsoFootnoteReference><span\n",
    "class=MsoFootnoteReference><span style='font-size:12.0pt;line-height:115%;\n",
    "font-family:\"Calibri\",sans-serif'>[Executant aplicacions Spark a YARN]</span></span></span></a> i executeu el\n",
    "programa usant Yarn en mode client, amb una memòria per executor d'1\n",
    "gigabyte i configurant el programa SparkPi per realitzar 10 particions. Heu d'executar el programa mitjançant un terminal (loguejats via ssh o directament amb el\n",
    "terminal de Jupyter), mitjançant la comanda spark-submit. Una vegada executat, el resultat esperat ha de ser semblant\n",
    "al següent:</p>\n",
    "<p class=MsoNormal><img \n",
    "id=\"Imatge 1\" src=\"image004.jpg\"\n",
    "alt=\"Interfície gràfica d'usuari, text&#10;&#10;Descripció generada automàticament\"></p>"
   ]
  },
  {
   "cell_type": "code",
   "execution_count": null,
   "metadata": {
    "deletable": false,
    "nbgrader": {
     "cell_type": "code",
     "checksum": "70f1992eda7b59453aab4cda2f6b8a00",
     "grade": true,
     "grade_id": "cell-b453b0ea0f87d647",
     "locked": false,
     "points": 1.5,
     "schema_version": 3,
     "solution": true,
     "task": false
    }
   },
   "outputs": [],
   "source": [
    "PASTE SCREENSHOT HERE!\n",
    "\n",
    "#START <FILL IN>\n",
    "# YOUR CODE HERE\n",
    "raise NotImplementedError()\n",
    "#END <FILL IN>"
   ]
  },
  {
   "cell_type": "markdown",
   "metadata": {
    "deletable": false,
    "editable": false,
    "nbgrader": {
     "cell_type": "markdown",
     "checksum": "f10509ac56b8bb17cbb062d7d0509826",
     "grade": false,
     "grade_id": "cell-b5e26eb4f3ffbf3b",
     "locked": true,
     "schema_version": 3,
     "solution": false,
     "task": false
    }
   },
   "source": [
    "<h3 style='margin-left:18.0pt;text-indent:-18.0pt'><b>2.3<span style='font:7.0pt \"Times New Roman\"'>&nbsp; </span></b>Modes d'execució</h3>\n",
    "<p class=MsoNormal>Quina diferència hi ha entre executar una aplicació de Spark en YARN en mode client o mode clúster? En quins casos utilitzaries cadascun d'aquests modes?</p>"
   ]
  },
  {
   "cell_type": "code",
   "execution_count": null,
   "metadata": {
    "deletable": false,
    "nbgrader": {
     "cell_type": "code",
     "checksum": "73424a1694690b3adc1becd35cd5a4b6",
     "grade": true,
     "grade_id": "cell-98b047fd4db0b94e",
     "locked": false,
     "points": 0.5,
     "schema_version": 3,
     "solution": true,
     "task": false
    }
   },
   "outputs": [],
   "source": [
    "# YOUR CODE HERE\n",
    "raise NotImplementedError()"
   ]
  },
  {
   "cell_type": "markdown",
   "metadata": {
    "deletable": false,
    "editable": false,
    "nbgrader": {
     "cell_type": "markdown",
     "checksum": "9ec416bd6a0f36aa16db106eaea4e58e",
     "grade": false,
     "grade_id": "cell-78276c8d20a5e451",
     "locked": true,
     "schema_version": 3,
     "solution": false,
     "task": false
    }
   },
   "source": [
    "<h2 style='margin-left:18.0pt;text-indent:-18.0pt'>3<span style='font:7.0pt \"Times New Roman\"'>&nbsp;&nbsp;&nbsp;&nbsp;&nbsp;&nbsp;&nbsp;\n",
    "</span>Gestió d'aplicacions a YARN</h2>\n",
    "<p class=MsoNormal>Com ja sabeu, YARN és l'encarregat de gestionar els recursos dels nodes que formen el clúster de manera global i és ell qui té la responsabilitat de distribuir les aplicacions perquè s'executin de manera paral·lela i equilibrar la càrrega entre elles.</p>\n",
    "<p class=MsoNormal>Una vegada s'ha enviat una aplicació a YARN en mode clúster, aquesta s'executa sota el seu control, per això, si volem cancel·lar una aplicació, no n'hi ha prou amb fer un <span style='font-size:12.0pt;line-height:115%;font-family: \"Courier New\"'>cntr+c</span> sinó que hem d'indicar-ho a YARN.</p>\n",
    "<p class=MsoNormal>Per a aquesta tasca i moltes altres, teniu disponible la comanda <span style='font-size:12.0pt;line-height:115%;font-family:\"Courier New\"'>yarn</span> al terminal <a href=\"https://hadoop.apache.org/docs/stable/hadoop-yarn/hadoop-yarn-site/YarnCommands.html\" name=\"_ftnref5\" title=\"\"><span class=MsoFootnoteReference><span class=MsoFootnoteReference><span style='font-size:12.0pt;line-height:115%;font-family:\"Calibri\",sans-serif'>[Comandes YARN]</span></span></span></a>. En aquest exercici veurem algunes de les possibilitats que ofereix.</p>\n",
    "<p class=MsoNormal>Totes les respostes a les preguntes següents han d'anar acompanyades d'evidències amb captures de pantalla.</p>\n",
    "<p class=MsoNormal>Per aquest exercici, obrirem dues terminals dins del JupyterLab, una a cada pestanya. A la primera, tornarem a executar l'aplicació SparkPi en mode clúster incrementant el nombre de mostres de 10 a 10000.</p>\n",
    "<p class=MsoNormal>A la segona, i mentre SparkPI s'està executant, heu de consultar les aplicacions que YARN està executant mitjançant la comanda <span style='font-size:12.0pt;line-height:115%;font-family:\"Courier New\"'>yarn</span>.</p>\n",
    "<p>Quina comanda yarn utilitzes per llistar les aplicacions actuals? Quina és la ID que s'ha assignat? </p>"
   ]
  },
  {
   "cell_type": "code",
   "execution_count": null,
   "metadata": {
    "deletable": false,
    "nbgrader": {
     "cell_type": "code",
     "checksum": "12638d79314052ee6793695129b4acbf",
     "grade": true,
     "grade_id": "cell-2d29574cc7e9f8b3",
     "locked": false,
     "points": 0.5,
     "schema_version": 3,
     "solution": true,
     "task": false
    }
   },
   "outputs": [],
   "source": [
    "PASTE SCREENSHOT HERE!\n",
    "\n",
    "#START <FILL IN>\n",
    "# YOUR CODE HERE\n",
    "raise NotImplementedError()\n",
    "#END <FILL IN>"
   ]
  },
  {
   "cell_type": "markdown",
   "metadata": {
    "deletable": false,
    "editable": false,
    "nbgrader": {
     "cell_type": "markdown",
     "checksum": "4fe49dd788024a5127a4227029a7a098",
     "grade": false,
     "grade_id": "cell-eae6bb70fd0b9fd8",
     "locked": true,
     "schema_version": 3,
     "solution": false,
     "task": false
    }
   },
   "source": [
    "Una vegada obtingueu la Id del vostre programa, mentre la nostra aplicació està encara en execució (tarda 40 segons a executar-se depenent de la càrrega del clúster), utilitzeu la comanda yarn per aturar la seva execució.\n",
    "Quina comanda heu executat?"
   ]
  },
  {
   "cell_type": "code",
   "execution_count": null,
   "metadata": {
    "deletable": false,
    "nbgrader": {
     "cell_type": "code",
     "checksum": "f8404636f60d21172d4917d15060033a",
     "grade": true,
     "grade_id": "cell-6bfe9d8ea064d8ac",
     "locked": false,
     "points": 0.5,
     "schema_version": 3,
     "solution": true,
     "task": false
    }
   },
   "outputs": [],
   "source": [
    "PASTE SCREENSHOT HERE!\n",
    "\n",
    "#START <FILL IN>\n",
    "# YOUR CODE HERE\n",
    "raise NotImplementedError()\n",
    "#END <FILL IN>"
   ]
  },
  {
   "cell_type": "markdown",
   "metadata": {
    "deletable": false,
    "editable": false,
    "nbgrader": {
     "cell_type": "markdown",
     "checksum": "acf3a48b40f0c8f889caa9e53ee11310",
     "grade": false,
     "grade_id": "cell-ea05c997f89e62a4",
     "locked": true,
     "schema_version": 3,
     "solution": false,
     "task": false
    }
   },
   "source": [
    "Quina comanda yarn podem utilitzar per veure l'estat de la nostra aplicació i els recursos consumits?\n",
    "Quant ha consumit (en core segons) el procés que hem executat?\n",
    "Nota: Només podem veure aquesta informació mentre el procés s'està executant."
   ]
  },
  {
   "cell_type": "code",
   "execution_count": null,
   "metadata": {
    "deletable": false,
    "nbgrader": {
     "cell_type": "code",
     "checksum": "28de0fd4b08841c53b52c2b2b86592c2",
     "grade": true,
     "grade_id": "cell-dd05df7189d55236",
     "locked": false,
     "points": 0.5,
     "schema_version": 3,
     "solution": true,
     "task": false
    }
   },
   "outputs": [],
   "source": [
    "PASTE SCREENSHOT HERE!\n",
    "\n",
    "#START <FILL IN>\n",
    "# YOUR CODE HERE\n",
    "raise NotImplementedError()\n",
    "#END <FILL IN>"
   ]
  },
  {
   "cell_type": "markdown",
   "metadata": {
    "deletable": false,
    "editable": false,
    "nbgrader": {
     "cell_type": "markdown",
     "checksum": "1ee58db07cb9a41565a8b31f828eb4e9",
     "grade": false,
     "grade_id": "cell-c2abeba01036f190",
     "locked": true,
     "schema_version": 3,
     "solution": false,
     "task": false
    }
   },
   "source": [
    "<h2 style='margin-left:18.0pt;text-indent:-18.0pt'>4<span style='font:7.0pt \"Times New Roman\"'>&nbsp;&nbsp;&nbsp;&nbsp;&nbsp;&nbsp;&nbsp;\n",
    "</span>Vídeo resposta - Spark History Server</h2>\n",
    "\n",
    "En aquest apartat caldrà respondre a les qüestions que es mostren a continuació mitjançant una vídeo resposta d'entre 5 i 10 minuts. Heu de realitzar una gravació on es vegi la vostra cara contestant amb les vostres pròpies paraules a les qüestions. Seguiu els següents punts per realitzar el vídeo:\n",
    "\n",
    "1 - Al principi del vídeo heu de dir el vostre nom i DNI mentre mostreu el DNI (ha de veure's amb claredat i ser llegible).\n",
    "\n",
    "2 - Heu de respondre a les preguntes en l'ordre en què estan, comentant sempre a l'inici de cada resposta a quina pregunta us referiu.\n",
    "\n",
    "3 - En cas de no respondre a alguna pregunta, heu d'indicar el número de la pregunta que no respongueu i el perquè.\n",
    "\n",
    "<p class=MsoNormal>En aquest bloc de preguntes treballarem amb l'eina de monitorització que ofereix Spark.\n",
    "\n",
    "Es demana entrar a la Web UI del Spark History Server <a href=\"https://docs.cloudera.com/documentation/enterprise/6/6.2/topics/operation_spark_applications.html\" name=\"_ftnref4\" title=\"\"><span\n",
    "class=MsoFootnoteReference><span class=MsoFootnoteReference><span\n",
    "style='font-size:12.0pt;line-height:115%;font-family:\"Calibri\",sans-serif'>[Monitoritzant Aplicacions Spark]</span></span></span></a> habilitant primerament un túnel SSH:</p>\n",
    "<p class=MsoNormal>http://localhost:18088</p>\n",
    "<p class=MsoNormal>i contestar les següents preguntes. Reviseu amb compte la informació que us proporciona el Spark History Server ja que no només apareixen els vostres programes. Al vídeo heu de mostrar com heu obtingut la informació que us demanem mitjançant el Spark History Server.\n",
    "<h3 style='margin-left:18.0pt;text-indent:-18.0pt'> Preguntes </h3>\n",
    "\n",
    "1 - Quin ha estat l'identificador d'aplicació que ens ha assignat YARN quan hem executat el nostre programa? (0.5 punts)\n",
    "\n",
    "2 - Quant temps ha durat l'execució? (0.5 punts)\n",
    "\n",
    "3 - Quants executors han intervingut durant la nostra execució i en quin node s'han aixecat? (1 punt)\n",
    "\n",
    "4 - Quantas Tasks s'han executat per al nostre job? (1 punt)\n",
    "\n",
    "5 - Quantas transformacions s'han invocat durant el nostre programa? (1 punt)\n",
    "\n",
    "6 - Quants cores totals del nostre clúster han intervingut en la nostra execució? (1 punt)\n",
    "\n",
    "Pujar el vídeo a l'apartat Canvas corresponent."
   ]
  },
  {
   "cell_type": "markdown",
   "metadata": {
    "deletable": false,
    "nbgrader": {
     "cell_type": "markdown",
     "checksum": "c3d87098d31e7fd8cefdc580c3028756",
     "grade": true,
     "grade_id": "cell-eaddd93fb407982c",
     "locked": false,
     "points": 5,
     "schema_version": 3,
     "solution": true,
     "task": false
    }
   },
   "source": [
    "YOUR ANSWER HERE"
   ]
  }
 ],
 "metadata": {
  "kernelspec": {
   "display_name": "Python 3",
   "language": "python",
   "name": "python3"
  },
  "language_info": {
   "codemirror_mode": {
    "name": "ipython",
    "version": 3
   },
   "file_extension": ".py",
   "mimetype": "text/x-python",
   "name": "python",
   "nbconvert_exporter": "python",
   "pygments_lexer": "ipython3",
   "version": "3.5.2"
  }
 },
 "nbformat": 4,
 "nbformat_minor": 4
}
