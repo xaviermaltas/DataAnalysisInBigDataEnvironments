{
 "cells": [
  {
   "cell_type": "markdown",
   "metadata": {},
   "source": [
    "Before you turn this problem in, make sure everything runs as expected. First, **restart the kernel** (in the menubar, select Kernel$\\rightarrow$Restart) and then **run all cells** (in the menubar, select Cell$\\rightarrow$Run All).\n",
    "\n",
    "Make sure you fill in any place that says `YOUR CODE HERE` or \"YOUR ANSWER HERE\", as well as your name and collaborators below:"
   ]
  },
  {
   "cell_type": "code",
   "execution_count": 1,
   "metadata": {},
   "outputs": [],
   "source": [
    "NAME = \"XAVIER MALTAS TARRIDAS\"\n",
    "COLLABORATORS = \"OSCAR BUISAN\""
   ]
  },
  {
   "cell_type": "markdown",
   "metadata": {},
   "source": [
    "---"
   ]
  },
  {
   "cell_type": "markdown",
   "metadata": {
    "deletable": false,
    "editable": false,
    "nbgrader": {
     "cell_type": "markdown",
     "checksum": "f76151ddba40d26b70ee07cae7ccd4a4",
     "grade": false,
     "grade_id": "intro",
     "locked": true,
     "schema_version": 3,
     "solution": false,
     "task": false
    }
   },
   "source": [
    "![Spark Logo](http://spark-mooc.github.io/web-assets/images/ta_Spark-logo-small.png)  ![Python Logo](http://spark-mooc.github.io/web-assets/images/python-logo-master-v3-TM-flattened_small.png)\n",
    "# Activitat 4: Octubre 2023\n",
    "\n",
    "## Extracció de coneixement de fonts de dades heterogènies mitjançant Spark SQL, RDDs i GraphFrames\n",
    "\n",
    "En aquesta pràctica anem a introduir els elements que ofereix Spark per treballar amb estructures de dades. Veurem des d'estructures molt simples fins a estructures complexes,n els camps poden al seu torn tenir camps imbricats. En concret utilitzarem dades de twitter capturats en el context de les eleccions generals a Espanya de l'28 d'Abril de 2019. La pràctica està estructurada de la següent manera:\n",
    "- **Part 0:** Configuració de l'entorn\n",
    "- **Part 1:** Introducció a data frames estructurats i com operar extreure informació *(2 punts)*\n",
    "    - **Part 1.1:** Importa les dades *(0.25 punts)*\n",
    "    - **Part 1.2:** *Queries* sobre sobre data frames complexos *(1.75 punts)*\n",
    "        - **Part 1.2.1:** Queries SQL *(0.75 punts)*\n",
    "        - **Part 1.2.2:** Queries sobre el pipeline *(1 punt)*\n",
    "- **Part 2:** Bases de dades HIVE i operacions complexes *(3 punts)*\n",
    "    - **Part 2.1:** Bases de dades Hive *(0.25 punts)*\n",
    "    - **Part 2.2:** Més enllà de les transformacions SQL *(2.75 punts)*\n",
    "        - **Part 2.2.1:** Tweets per població  *(1.25 punts)*\n",
    "            - **Part 2.2.1.1:** Utilizant SQL *(0.25 punts)*\n",
    "            - **Part 2.2.1.2:** Utilizant RDD *(1 punt)*\n",
    "        - **Part 2.2.2:** Comptar hashtags *(1.5 punts)*\n",
    "- **Part 3:** Sampling *(1.5 punts)*\n",
    "    - **Part 3.1:** Homogeni *(0.5 punt)*\n",
    "    - **Part 3.2:** Estratificat *(1 punts)*\n",
    "- **Part 4**: Introducció a les dades relacionals *(1.5 punts)*\n",
    "    - **Part 4.1:** Generar la xarxa de retweets *(1 punt)*\n",
    "        - **Part 4.1.1**: Construcció de l'edgelist *(0.5 punts)*\n",
    "        - **Part 4.1.2**: Centralidad de grau *(0.5 punts)*\n",
    "    - **Part 4.2:** Anàlisi de xarxes utilitzant GraphFrames *(0.5 punt)*\n",
    "- **Part 5**: Preguntes teòriques *(2 punts)*    "
   ]
  },
  {
   "cell_type": "markdown",
   "metadata": {
    "deletable": false,
    "editable": false,
    "nbgrader": {
     "cell_type": "markdown",
     "checksum": "b3d58739209664d7a6d8c24859383f11",
     "grade": false,
     "grade_id": "Parte0_header",
     "locked": true,
     "schema_version": 3,
     "solution": false,
     "task": false
    }
   },
   "source": [
    "## **Part 0:** Configuració del entorn"
   ]
  },
  {
   "cell_type": "code",
   "execution_count": 2,
   "metadata": {
    "deletable": false,
    "editable": false,
    "nbgrader": {
     "cell_type": "code",
     "checksum": "1019c3cf9d0efe96cc1d9afdf24f0548",
     "grade": false,
     "grade_id": "importspark",
     "locked": true,
     "schema_version": 3,
     "solution": false,
     "task": false
    }
   },
   "outputs": [],
   "source": [
    "import findspark\n",
    "findspark.init()"
   ]
  },
  {
   "cell_type": "code",
   "execution_count": 3,
   "metadata": {
    "deletable": false,
    "editable": false,
    "nbgrader": {
     "cell_type": "code",
     "checksum": "4ac204ea47d4c0ba2422851f2491df1f",
     "grade": false,
     "grade_id": "importlibraries",
     "locked": true,
     "schema_version": 3,
     "solution": false,
     "task": false
    }
   },
   "outputs": [],
   "source": [
    "import re\n",
    "import os\n",
    "import pandas as pd\n",
    "from matplotlib import pyplot as plt\n",
    "from math import floor\n",
    "from pyspark import SparkConf, SparkContext, SQLContext, HiveContext\n",
    "from pyspark.sql import Row"
   ]
  },
  {
   "cell_type": "code",
   "execution_count": 4,
   "metadata": {},
   "outputs": [],
   "source": [
    "SUBMIT_ARGS = \"--jars /opt/cloudera/parcels/CDH-6.2.0-1.cdh6.2.0.p0.967373/jars/graphframes_graphframes-0.7.0-spark2.4-s_2.11.jar pyspark-shell\"\n",
    "\n",
    "os.environ[\"PYSPARK_SUBMIT_ARGS\"] = SUBMIT_ARGS\n",
    "\n",
    "conf = SparkConf()\n",
    "conf.setMaster(\"local[1]\")\n",
    "# Introduïu el nom de l'app PAC3_ seguit del vostre nom d'usuari\n",
    "conf.setAppName(\"PAC3_xmaltast\")\n",
    "sc = SparkContext(conf=conf)"
   ]
  },
  {
   "cell_type": "markdown",
   "metadata": {
    "deletable": false,
    "editable": false,
    "nbgrader": {
     "cell_type": "markdown",
     "checksum": "689f93742125694b7d0f41c1332f3b0b",
     "grade": false,
     "grade_id": "parte1_1_intro",
     "locked": true,
     "schema_version": 3,
     "solution": false,
     "task": false
    },
    "toc-hr-collapsed": false
   },
   "source": [
    "## **Part 1:** Introducció a DataFrames estructurats i operacions sobre ells.\n",
    "\n",
    "Com ja s'ha esmentat, en aquesta pràctica utilitzarem dades de Twitter que es van recollir durant les eleccions generals a Espanya de l'28 d'abril de 2019. Com veurem, els tweets tenen una estructura interna força complexa tot i que s'ha simplificat una mica en aquesta pràctica.\n",
    "\n",
    "### **Part 1.1:** Importa les dades\n",
    "\n",
    "El primer que anem ha aprendre és com importar aquest tipus de dades al nostre entorn. Un dels tipus d'arxius més comuns per guardar aquest format d'informació és [l'estructura JSON] (https://en.wikipedia.org/wiki/JSON). Aquesta estructura permet registrar informació en text pla de diferents objectes seguint una estructura de diccionari on cada camp té assignat una clau i un valor. L'estructura pot ser imbricada, o sigui que una clau pot tenir com a valor una altra estructura tipus diccionari.\n",
    "\n",
    "Spark SQL permet llegir dades de molts formats diferents. En aquesta ocasió, se us demana que llegiu un [fitxer JSON](https://spark.apache.org/docs/2.4.0/sql-data-sources-json.html) de la ruta ```/aula_M2.858/data/tweets28a_sample.json```. Aquest fitxer conté un petit *sample*, 0.1% de la base de dades completa (en un següent apartat veurem com realitzar aquest *samplejat*). En aquesta ocasió a la funció read no cal especificar l'estructura de l'DataFrame ja que la funció de lectura la inferirà automàticament.\n",
    "\n",
    "**Esquema**\n",
    "\n",
    "```Python\n",
    "sqlContext = SQLContext(sc)\n",
    "tweets_sample = sqlContext.read.<FILL IN>\n",
    "\n",
    "print(\"Loaded dataset contains %d tweets\" % tweets_sample.count())\n",
    "```"
   ]
  },
  {
   "cell_type": "code",
   "execution_count": 5,
   "metadata": {
    "deletable": false,
    "nbgrader": {
     "cell_type": "code",
     "checksum": "7f04ecc8fe795af3dcfd4e51643a90e5",
     "grade": false,
     "grade_id": "load_tweets",
     "locked": false,
     "schema_version": 3,
     "solution": true,
     "task": false
    }
   },
   "outputs": [
    {
     "name": "stdout",
     "output_type": "stream",
     "text": [
      "Loaded dataset contains 27268 tweets\n"
     ]
    }
   ],
   "source": [
    "from pyspark.sql import SparkSession\n",
    "\n",
    "# SparkContext creation\n",
    "sqlContext = SQLContext(sc)\n",
    "\n",
    "# Path to the JSON file\n",
    "json_file_path = \"/aula_M2.858/data/tweets28a_sample.json\"\n",
    "\n",
    "# Read JSON file into a DataFrame\n",
    "tweets_sample = sqlContext.read.json(json_file_path)\n",
    "\n",
    "# Display the number of tweets\n",
    "print(\"Loaded dataset contains %d tweets\" % tweets_sample.count())"
   ]
  },
  {
   "cell_type": "code",
   "execution_count": 6,
   "metadata": {
    "deletable": false,
    "editable": false,
    "nbgrader": {
     "cell_type": "code",
     "checksum": "5b32e31dcac7cd3cb12f5ff8c4ec967f",
     "grade": true,
     "grade_id": "cell-ac6d02ab7a3980d0",
     "locked": true,
     "points": 0.125,
     "schema_version": 3,
     "solution": false,
     "task": false
    }
   },
   "outputs": [],
   "source": [
    "assert tweets_sample.count() == 27268, \"Incorrect answer\""
   ]
  },
  {
   "cell_type": "markdown",
   "metadata": {
    "deletable": false,
    "editable": false,
    "nbgrader": {
     "cell_type": "markdown",
     "checksum": "109ba9f10711a016eacd7f043f650a47",
     "grade": false,
     "grade_id": "cell-0b021e1dd0a4438c",
     "locked": true,
     "schema_version": 3,
     "solution": false,
     "task": false
    }
   },
   "source": [
    "El següent pas és mostrar l'estructura del dataset que acabem de carregar.Podeu obtenir la informació sobre com està estructurat el DataTable utilitzant el mètode ```printSchema()```de la variable `tweets_sample`."
   ]
  },
  {
   "cell_type": "code",
   "execution_count": 7,
   "metadata": {
    "deletable": false,
    "nbgrader": {
     "cell_type": "code",
     "checksum": "df146a278f35e2a4678400c4d6aa15b1",
     "grade": true,
     "grade_id": "print_shema",
     "locked": false,
     "points": 0.125,
     "schema_version": 3,
     "solution": true,
     "task": false
    }
   },
   "outputs": [
    {
     "name": "stdout",
     "output_type": "stream",
     "text": [
      "root\n",
      " |-- _id: string (nullable = true)\n",
      " |-- created_at: long (nullable = true)\n",
      " |-- lang: string (nullable = true)\n",
      " |-- place: struct (nullable = true)\n",
      " |    |-- bounding_box: struct (nullable = true)\n",
      " |    |    |-- coordinates: array (nullable = true)\n",
      " |    |    |    |-- element: array (containsNull = true)\n",
      " |    |    |    |    |-- element: array (containsNull = true)\n",
      " |    |    |    |    |    |-- element: double (containsNull = true)\n",
      " |    |    |-- type: string (nullable = true)\n",
      " |    |-- country_code: string (nullable = true)\n",
      " |    |-- id: string (nullable = true)\n",
      " |    |-- name: string (nullable = true)\n",
      " |    |-- place_type: string (nullable = true)\n",
      " |-- retweeted_status: struct (nullable = true)\n",
      " |    |-- _id: string (nullable = true)\n",
      " |    |-- user: struct (nullable = true)\n",
      " |    |    |-- followers_count: long (nullable = true)\n",
      " |    |    |-- friends_count: long (nullable = true)\n",
      " |    |    |-- id_str: string (nullable = true)\n",
      " |    |    |-- lang: string (nullable = true)\n",
      " |    |    |-- screen_name: string (nullable = true)\n",
      " |    |    |-- statuses_count: long (nullable = true)\n",
      " |-- text: string (nullable = true)\n",
      " |-- user: struct (nullable = true)\n",
      " |    |-- followers_count: long (nullable = true)\n",
      " |    |-- friends_count: long (nullable = true)\n",
      " |    |-- id_str: string (nullable = true)\n",
      " |    |-- lang: string (nullable = true)\n",
      " |    |-- screen_name: string (nullable = true)\n",
      " |    |-- statuses_count: long (nullable = true)\n",
      "\n"
     ]
    }
   ],
   "source": [
    "# Show the structure of the dataset\n",
    "tweets_sample.printSchema()"
   ]
  },
  {
   "cell_type": "markdown",
   "metadata": {
    "deletable": false,
    "editable": false,
    "nbgrader": {
     "cell_type": "markdown",
     "checksum": "52f40de46fa2307d5d2a55b3e8c24bb9",
     "grade": false,
     "grade_id": "expl_schema",
     "locked": true,
     "schema_version": 3,
     "solution": false,
     "task": false
    }
   },
   "source": [
    "Podeu observar que l'estructura de la piulada conté múltiples camps imbricats. Heu de familiaritzar-vos amb aquesta estructura ja que serà la què utilitzarem durant tota aquesta pràctica. Recordeu també que no tots els tweets tenen tots els camps, com ara la ubicació (camp ```place```). Quan això passa el camp és ```NULL```. Podeu veure mes informació sobre aquest tipus de dades en [aquest enllaç](https://developer.twitter.com/en/docs/tweets/data-dictionary/overview/tweet-object)."
   ]
  },
  {
   "cell_type": "markdown",
   "metadata": {
    "deletable": false,
    "editable": false,
    "nbgrader": {
     "cell_type": "markdown",
     "checksum": "4b05dcb866eb5e8ab48920d3d7b47ab8",
     "grade": false,
     "grade_id": "Parte1_2",
     "locked": true,
     "schema_version": 3,
     "solution": false,
     "task": false
    },
    "toc-hr-collapsed": false
   },
   "source": [
    "### **Part 1.2:** *Queries* sobre sobre data frames complexos\n",
    "\n",
    "\n",
    "\n",
    "En aquesta part de la pràctica veurem com fer consultes sobre el dataset que acabem de carregar. A la primera part anem ha utilitzar [sentències *SQL*](https://www.w3schools.com/sql/default.asp) (com les utilitzades en la majoria de bases de dades relacionals). Per finalitzar veurem un sistema alternatiu per fer consultes utilitzant una aproximació més semblant a la que vau veure a la primera PAC."
   ]
  },
  {
   "cell_type": "markdown",
   "metadata": {
    "deletable": false,
    "editable": false,
    "nbgrader": {
     "cell_type": "markdown",
     "checksum": "d15e6bd419bb1f062971f4524395f8d7",
     "grade": false,
     "grade_id": "parte1_2_1",
     "locked": true,
     "schema_version": 3,
     "solution": false,
     "task": false
    }
   },
   "source": [
    "#### **Part 1.2.1:** Queries SQL\n",
    "\n",
    "En primer lloc anem a registrar el nostre DataFrame com una taula de SQL anomenat ```tweets_sample```. Com que és possible que repeteixis aquesta pràctica diverses vegades, anem a prendre la precaució d'eliminar qualsevol taula existent en primer lloc.\n",
    "\n",
    "Podem eliminar qualsevol taula SQL existent `tweets_sample` usant la sentència SQL: `DROP TABLE IF EXISTS tweets_sample`. Per executar una ordre sql només heu de fer servir el mètode SQL de l'objecte context, en aquest cas `sqlContext`.\n",
    "\n",
    "Un cop executat el pas anterior, podem registrar el nostre DataFrame com una taula de SQL utilitzant [sqlContext.registerDataFrameAsTable()](https://spark.apache.org/docs/2.4.0/api/python/pyspark.sql.html#pyspark.sql.SQLContext.registerDataFrameAsTable).\n",
    "\n",
    "**Esquema**\n",
    "```Python\n",
    "sqlContext.sql(<FILL IN>)\n",
    "sqlContext.registerDataFrameAsTable(<FILL IN>)\n",
    "```"
   ]
  },
  {
   "cell_type": "code",
   "execution_count": 8,
   "metadata": {
    "deletable": false,
    "nbgrader": {
     "cell_type": "code",
     "checksum": "769f90cf052a4fb5996ca535210f5822",
     "grade": false,
     "grade_id": "registrotabla",
     "locked": false,
     "schema_version": 3,
     "solution": true,
     "task": false
    }
   },
   "outputs": [
    {
     "name": "stdout",
     "output_type": "stream",
     "text": [
      "Number of rows in 'tweets_sample' table: 27268\n"
     ]
    }
   ],
   "source": [
    "# Drop existing 'tweets_sample' table if it exists\n",
    "sqlContext.sql(\"DROP TABLE IF EXISTS tweets_sample\")\n",
    "\n",
    "# Register the DataFrame as a SQL table named 'tweets_sample'\n",
    "tweets_sample.createOrReplaceTempView(\"tweets_sample\")\n",
    "\n",
    "# Display the count of rows in the registered table\n",
    "#table_count = sqlContext.sql(\"SELECT * FROM tweets_sample\").count()\n",
    "table_count = sqlContext.sql(\"SELECT COUNT(*) FROM tweets_sample\").collect()[0][0]\n",
    "print(\"Number of rows in 'tweets_sample' table: {}\".format(table_count))"
   ]
  },
  {
   "cell_type": "code",
   "execution_count": 9,
   "metadata": {
    "deletable": false,
    "editable": false,
    "nbgrader": {
     "cell_type": "code",
     "checksum": "26ea8b0e7c521e14b87a71e828446a6b",
     "grade": true,
     "grade_id": "cell-8e1ad46863b3e86b",
     "locked": true,
     "points": 0.05,
     "schema_version": 3,
     "solution": false,
     "task": false
    }
   },
   "outputs": [],
   "source": [
    "assert sqlContext.sql(\"SELECT * FROM tweets_sample\").count() == 27268, \"Incorrecct answer\""
   ]
  },
  {
   "cell_type": "markdown",
   "metadata": {
    "deletable": false,
    "editable": false,
    "nbgrader": {
     "cell_type": "markdown",
     "checksum": "156baa06d37e947cf44b28bbf5301f7c",
     "grade": false,
     "grade_id": "agregar1_2_1",
     "locked": true,
     "schema_version": 3,
     "solution": false,
     "task": false
    }
   },
   "source": [
    "Ara es demana que creeu una taula ```users_agg``` amb [la informació agregada] (https://www.w3schools.com/sql/sql_groupby.asp) dels usuaris que tinguin definit el seu idioma (``` user.lang```) com espanyol (```es```). En concret se us demana que la taula contingui les següents columnes:\n",
    "- **screen_name:** nom de l'usuari\n",
    "- **friends_count:** nombre màxim (veure nota) de persones a les que segueix\n",
    "- **tweets:** nombre de tweets realitzats\n",
    "- **followers_count:** nombre màxim (veure nota) persones que segueixen a l'usuari.\n",
    "\n",
    "L'ordre en què s'han de mostrar els registres és ordre descendent d'acord amb el nombre de tweets.\n",
    "\n",
    "***Nota:*** és important que us fixeu en què el nom de *friends* i *followers* pot diferir al llarg de l'adquisició de dades. En aquest cas anem a utilitzar la funció d'agregació ```MAX``` sobre cadascun d'aquests camps per evitar segmentar l'usuari en diverses instàncies.\n",
    "\n",
    "**Esquema**\n",
    "```Python\n",
    "users_agg = sqlContext.sql(<FILL IN>)\n",
    "users_agg.limit(10).show()\n",
    "```"
   ]
  },
  {
   "cell_type": "code",
   "execution_count": 10,
   "metadata": {
    "deletable": false,
    "nbgrader": {
     "cell_type": "code",
     "checksum": "ca3f2c4b070474037ee65868288ed54b",
     "grade": false,
     "grade_id": "aggregar1_2_1_ans",
     "locked": false,
     "schema_version": 3,
     "solution": true,
     "task": false
    }
   },
   "outputs": [
    {
     "name": "stdout",
     "output_type": "stream",
     "text": [
      "+---------------+-------------+------+---------------+\n",
      "|    screen_name|friends_count|tweets|followers_count|\n",
      "+---------------+-------------+------+---------------+\n",
      "|       anaoromi|         6258|    16|           6774|\n",
      "|    RosaMar6254|         6208|    14|           6245|\n",
      "|        lyuva26|         3088|    13|           3732|\n",
      "|PisandoFuerte10|         2795|    12|           1752|\n",
      "|     carrasquem|          147|    12|            215|\n",
      "|       jasalo54|         1889|    11|            689|\n",
      "|  PabloChabolas|         4925|     9|           4042|\n",
      "|      lolalailo|         4922|     9|           3738|\n",
      "|     Lordcrow11|         5002|     9|           3069|\n",
      "|    DuroBelinda|         5242|     9|           5778|\n",
      "+---------------+-------------+------+---------------+\n",
      "\n"
     ]
    }
   ],
   "source": [
    "# Create the users_agg table with aggregated information\n",
    "query = \"\"\"\n",
    "SELECT\n",
    "    user.screen_name AS screen_name,\n",
    "    MAX(user.friends_count) AS friends_count,\n",
    "    COUNT(*) AS tweets,\n",
    "    MAX(user.followers_count) AS followers_count\n",
    "FROM\n",
    "    tweets_sample\n",
    "WHERE\n",
    "    user.lang = 'es'\n",
    "GROUP BY\n",
    "    user.screen_name\n",
    "ORDER BY\n",
    "    tweets DESC\n",
    "\"\"\"\n",
    "\n",
    "# Execute the query and create the users_agg DataFrame\n",
    "users_agg = sqlContext.sql(query)\n",
    "\n",
    "# Show the top 10 records\n",
    "users_agg.limit(10).show()\n"
   ]
  },
  {
   "cell_type": "code",
   "execution_count": 11,
   "metadata": {
    "deletable": false,
    "editable": false,
    "nbgrader": {
     "cell_type": "code",
     "checksum": "1c6d5fadcac19d51cdb929106de1b6b9",
     "grade": true,
     "grade_id": "aggregar1_2_1_test",
     "locked": true,
     "points": 0.3,
     "schema_version": 3,
     "solution": false,
     "task": false
    }
   },
   "outputs": [],
   "source": [
    "output = users_agg.first()\n",
    "assert output.screen_name == 'anaoromi' and output.friends_count == 6258 and output.tweets == 16 and output.followers_count == 6774, \"Incorrect output\""
   ]
  },
  {
   "cell_type": "markdown",
   "metadata": {},
   "source": [
    "Imagineu ara que volem combinar la informació que acabem de generar amb informació sobre el nombre de vegades que un usuari ha estat retuitejat. Per fer aquest tipus de combinacions necessitem recórrer a l'[```JOIN``` de taules](https://www.w3schools.com/sql/sql_join.asp). Primer hem de registrar la taula que acabem de generar en el context SQL. Recordeu que primer heu de comprovar si la taula existeix i en cas afirmatiu eliminar-la. La taula heu de registrar-la sota el nom de ```user_agg```."
   ]
  },
  {
   "cell_type": "code",
   "execution_count": 12,
   "metadata": {
    "deletable": false,
    "nbgrader": {
     "cell_type": "code",
     "checksum": "e47591ce898a91d8dc4ac3fe2f664e1f",
     "grade": false,
     "grade_id": "cell-0cd12ff61db691ff",
     "locked": false,
     "schema_version": 3,
     "solution": true,
     "task": false
    }
   },
   "outputs": [
    {
     "name": "stdout",
     "output_type": "stream",
     "text": [
      "Number of rows in 'user_agg' table: 17925\n",
      "+---------------+-------------+------+---------------+\n",
      "|    screen_name|friends_count|tweets|followers_count|\n",
      "+---------------+-------------+------+---------------+\n",
      "|       anaoromi|         6258|    16|           6774|\n",
      "|    RosaMar6254|         6208|    14|           6245|\n",
      "|        lyuva26|         3088|    13|           3732|\n",
      "|     carrasquem|          147|    12|            215|\n",
      "|PisandoFuerte10|         2795|    12|           1752|\n",
      "|       jasalo54|         1889|    11|            689|\n",
      "|  Rafa_eltorete|          908|     9|           1060|\n",
      "| locuspolitikus|        11261|     9|          10244|\n",
      "|      kikyosanz|          154|     9|            273|\n",
      "|  PabloChabolas|         4925|     9|           4042|\n",
      "|     Lordcrow11|         5002|     9|           3069|\n",
      "|      lolalailo|         4922|     9|           3738|\n",
      "|    DuroBelinda|         5242|     9|           5778|\n",
      "|        Fermirv|         3031|     8|           1731|\n",
      "| BlaancaNiieves|         7023|     8|          12630|\n",
      "| complementosCH|         2985|     8|           2740|\n",
      "|   rosavergar23|          900|     8|           1224|\n",
      "| Espanholimetro|         1637|     8|            708|\n",
      "|    SSarelvis67|         3287|     8|           2323|\n",
      "|   merchi_otero|          701|     8|            852|\n",
      "+---------------+-------------+------+---------------+\n",
      "only showing top 20 rows\n",
      "\n"
     ]
    }
   ],
   "source": [
    "# Check if 'user_agg' table exists and drop it if it does\n",
    "if sqlContext.sql(\"SHOW TABLES LIKE 'user_agg'\").count() > 0:\n",
    "    sqlContext.sql(\"DROP TABLE user_agg\")\n",
    "\n",
    "# Register 'users_agg' DataFrame as a SQL table named 'user_agg'\n",
    "users_agg.createOrReplaceTempView(\"user_agg\")\n",
    "\n",
    "# Show the output of the registered 'user_agg' table and the count\n",
    "output_user_agg = sqlContext.sql(\"SELECT * FROM user_agg\")\n",
    "user_agg_count = output_user_agg.count()\n",
    "print(\"Number of rows in 'user_agg' table: {}\".format(user_agg_count))\n",
    "output_user_agg.show()"
   ]
  },
  {
   "cell_type": "code",
   "execution_count": 13,
   "metadata": {
    "deletable": false,
    "editable": false,
    "nbgrader": {
     "cell_type": "code",
     "checksum": "811c730709b21f04eaed440760be8db7",
     "grade": true,
     "grade_id": "cell-1aec360ef1068567",
     "locked": true,
     "points": 0.1,
     "schema_version": 3,
     "solution": false,
     "task": false
    }
   },
   "outputs": [],
   "source": [
    "assert sqlContext.sql(\"SELECT * FROM user_agg\").count() == 17925, \"Incorrect answer\""
   ]
  },
  {
   "cell_type": "markdown",
   "metadata": {
    "deletable": false,
    "editable": false,
    "nbgrader": {
     "cell_type": "markdown",
     "checksum": "fa56449e0e2fc30d4e65ca4ff0067983",
     "grade": false,
     "grade_id": "join1_2_1",
     "locked": true,
     "schema_version": 3,
     "solution": false,
     "task": false
    }
   },
   "source": [
    "Un cop registrada es demana que combineu aquesta taula i la taula ```tweets_sample``` servir un ``` INNER JOIN``` per obtenir una nova taula amb la següent informació:\n",
    "- ***screen_name:*** nom d'usuari\n",
    "- ***friends_count:*** nombre màxim de persones a les que segueix\n",
    "- ***followers_count:*** nombre màxim de persones que segueixen a l'usuari.\n",
    "- ***tweets:*** nombre de tweets realitzats per l'usuari.\n",
    "- ***retweeted:*** nombre de retweets obtinguts per l'usuari.\n",
    "- ***ratio_tweet_retweeted:*** ràtio de retweets per nombre de tweets publicats $\\frac{retweets}{tweets}$\n",
    "\n",
    "La taula resultate ha d'estar ordenada de manera descendent segons el valor de la columna```ratio_tweet_retweeted```\n",
    "\n",
    "**Esquema**\n",
    "```Python\n",
    "retweeted = sqlContext.sql(<FILL IN>)\n",
    "\n",
    "retweeted.limit(10).show()\n",
    "```"
   ]
  },
  {
   "cell_type": "code",
   "execution_count": 14,
   "metadata": {
    "deletable": false,
    "nbgrader": {
     "cell_type": "code",
     "checksum": "213059d3e37115a13c0953f6b27b172c",
     "grade": false,
     "grade_id": "join1_2_1_ans",
     "locked": false,
     "schema_version": 3,
     "solution": true,
     "task": false
    }
   },
   "outputs": [
    {
     "name": "stdout",
     "output_type": "stream",
     "text": [
      "+--------------+------+---------+-------------+---------------+---------------------+\n",
      "|   screen_name|tweets|retweeted|friends_count|followers_count|ratio_tweet_retweeted|\n",
      "+--------------+------+---------+-------------+---------------+---------------------+\n",
      "|          PSOE|     1|      155|        13635|         671073|                155.0|\n",
      "|  CiudadanosCs|     1|      117|        92910|         511896|                117.0|\n",
      "|     JuntsXCat|     1|       73|          202|          88515|                 73.0|\n",
      "|  PartidoPACMA|     1|       63|         1498|         232932|                 63.0|\n",
      "|  pablocasado_|     1|       50|         4567|         238926|                 50.0|\n",
      "|voxnoticias_es|     1|       44|         2146|          29582|                 44.0|\n",
      "|RaiLopezCalvet|     1|       43|         7579|          13574|                 43.0|\n",
      "|        iunida|     1|       39|        10225|         558318|                 39.0|\n",
      "|        Xuxipc|     1|       37|          311|         184967|                 37.0|\n",
      "|       Panik81|     1|       29|         1587|          15374|                 29.0|\n",
      "+--------------+------+---------+-------------+---------------+---------------------+\n",
      "\n"
     ]
    }
   ],
   "source": [
    "# Perform INNER JOIN to combine 'user_agg' and 'tweets_sample'\n",
    "query = \"\"\" \n",
    "SELECT \n",
    "    ts.rt_name as screen_name,\n",
    "    MAX(u.tweets) as tweets,\n",
    "    MAX(ts.retweeted) as retweeted,\n",
    "    MAX(u.friends_count) as friends_count,\n",
    "    MAX(u.followers_count) as followers_count,\n",
    "    MAX(ts.retweeted/u.tweets) as ratio_tweet_retweeted \n",
    "FROM user_agg u \n",
    "INNER JOIN\n",
    "(\n",
    "    SELECT \n",
    "        retweeted_status.user.screen_name as rt_name,\n",
    "        COUNT(retweeted_status.user.screen_name) as retweeted\n",
    "    FROM tweets_sample \n",
    "    GROUP BY retweeted_status.user.screen_name\n",
    ") ts \n",
    "ON u.screen_name = ts.rt_name\n",
    "GROUP BY ts.rt_name \n",
    "ORDER BY retweeted DESC\n",
    "\"\"\"\n",
    "\n",
    "# Execute the query and create the 'retweeted' DataFrame\n",
    "retweeted = sqlContext.sql(query)\n",
    "\n",
    "# Show the top 10 records\n",
    "retweeted.limit(10).show()"
   ]
  },
  {
   "cell_type": "code",
   "execution_count": 15,
   "metadata": {},
   "outputs": [
    {
     "name": "stdout",
     "output_type": "stream",
     "text": [
      "+-----------+------+---------+-------------+---------------+---------------------+\n",
      "|screen_name|tweets|retweeted|friends_count|followers_count|ratio_tweet_retweeted|\n",
      "+-----------+------+---------+-------------+---------------+---------------------+\n",
      "|       PSOE|     1|      155|        13635|         671073|                155.0|\n",
      "+-----------+------+---------+-------------+---------------+---------------------+\n",
      "\n"
     ]
    }
   ],
   "source": [
    "# Filter the 'retweeted' DataFrame for a specific 'screen_name'\n",
    "specific_user = retweeted.filter(retweeted.screen_name == 'PSOE')\n",
    "\n",
    "# Show the filtered DataFrame\n",
    "specific_user.show()"
   ]
  },
  {
   "cell_type": "code",
   "execution_count": 16,
   "metadata": {
    "deletable": false,
    "editable": false,
    "nbgrader": {
     "cell_type": "code",
     "checksum": "fe283a4539a7b90e66b7d4994026387a",
     "grade": true,
     "grade_id": "join1_2_1_test",
     "locked": true,
     "points": 0.3,
     "schema_version": 3,
     "solution": false,
     "task": false
    }
   },
   "outputs": [],
   "source": [
    "output = retweeted.first()\n",
    "assert output.screen_name == 'PSOE' and output.friends_count == 13635 and output.tweets == 1 and output.followers_count == 671073 and output.ratio_tweet_retweeted == 155.0 and output.retweeted == 155, \"Incorrect output\""
   ]
  },
  {
   "cell_type": "markdown",
   "metadata": {
    "deletable": false,
    "editable": false,
    "nbgrader": {
     "cell_type": "markdown",
     "checksum": "fd1aa48919d67320c4f97e5c863df8bb",
     "grade": false,
     "grade_id": "part1_2_2",
     "locked": true,
     "schema_version": 3,
     "solution": false,
     "task": false
    }
   },
   "source": [
    "#### **Part 1.2.2:** Queries mijançant el pipeline\n",
    "\n",
    "Les taules de Spark SQL ofereixen un altre mecanisme per aplicar les transformacions i obtenir resultats similars als que s'obtindria aplicant una consulta SQL. Per exemple utilitzant el següent pipeline obtindrem el text de tots els tweets en espanyol:\n",
    "\n",
    "```\n",
    "tweets_sample.where(\"lang == 'es'\").select(\"text\")\n",
    "```\n",
    "\n",
    "L'anterior instrucció és equivalent a la següent sentència SQL:\n",
    "```\n",
    "SELECT text\n",
    "FROM tweets_sample\n",
    "WHERE lang == 'es'\n",
    "```\n",
    "\n",
    "Podeu consultar el [API de spark SQL](https://spark.apache.org/docs/2.4.0/api/python/pyspark.sql.html) per trobar més informació sobre com utilitzar les diferents transformacions sobre taules.\n",
    "\n",
    "En aquest exercici es demana que repliqueu la query obtinguda a l'apartat anterior generant primerament la taula ```users_agg```. Podeu utilitzar les transformacions ```where```, ```select``` (o ```selectExpr```), ```groupBy```, ```count```, ```agg``` i ```orderBy```\n",
    "\n",
    "**Esquema**\n",
    "```Python\n",
    "users = tweets_sample.where(<FILL IN>).select(<FILL IN>)\n",
    "\n",
    "users_agg = users.groupBy(<FILL IN>)\\\n",
    "                 .agg(<FILL IN>)\\\n",
    "                 .orderBy(<FILL IN>)\n",
    "\n",
    "users_agg.limit(10).show()\n",
    "```"
   ]
  },
  {
   "cell_type": "code",
   "execution_count": 17,
   "metadata": {
    "deletable": false,
    "nbgrader": {
     "cell_type": "code",
     "checksum": "67437fad6a5bf300c6c606d935873056",
     "grade": false,
     "grade_id": "cell-31f4988652579ba9",
     "locked": false,
     "schema_version": 3,
     "solution": true,
     "task": false
    }
   },
   "outputs": [
    {
     "name": "stdout",
     "output_type": "stream",
     "text": [
      "+---------------+----+------------------+------------------+--------------------+\n",
      "|    screen_name|lang|max(friends_count)|count(screen_name)|max(followers_count)|\n",
      "+---------------+----+------------------+------------------+--------------------+\n",
      "|       anaoromi|  es|              6258|                16|                6774|\n",
      "|    RosaMar6254|  es|              6208|                14|                6245|\n",
      "|        lyuva26|  es|              3088|                13|                3732|\n",
      "|     carrasquem|  es|               147|                12|                 215|\n",
      "|PisandoFuerte10|  es|              2795|                12|                1752|\n",
      "|       jasalo54|  es|              1889|                11|                 689|\n",
      "| locuspolitikus|  es|             11261|                 9|               10244|\n",
      "|      kikyosanz|  es|               154|                 9|                 273|\n",
      "|  Rafa_eltorete|  es|               908|                 9|                1060|\n",
      "|      lolalailo|  es|              4922|                 9|                3738|\n",
      "+---------------+----+------------------+------------------+--------------------+\n",
      "\n"
     ]
    }
   ],
   "source": [
    "from pyspark.sql.functions import count\n",
    "\n",
    "# Generate 'users' DataFrame\n",
    "users = tweets_sample.where(tweets_sample[\"user.lang\"] == 'es').select(\"user.id_str\",\"user.screen_name\",\"user.lang\",\"user.friends_count\", \"user.followers_count\")\n",
    "\n",
    "# Generate 'users_agg' DataFrame\n",
    "users_agg = users.groupBy(\"screen_name\",\"lang\")\\\n",
    "                 .agg({\"friends_count\":\"max\",\"followers_count\":\"max\",\"screen_name\":\"count\"})\\\n",
    "                 .orderBy(\"count(screen_name)\",ascending=False)\n",
    "\n",
    "# Show the top 10 records\n",
    "users_agg.limit(10).show()\n"
   ]
  },
  {
   "cell_type": "code",
   "execution_count": 18,
   "metadata": {
    "deletable": false,
    "editable": false,
    "nbgrader": {
     "cell_type": "code",
     "checksum": "d3b5dee302ffc0075fc2650be934555e",
     "grade": true,
     "grade_id": "cell-1314e0736f9f4584",
     "locked": true,
     "points": 0.125,
     "schema_version": 3,
     "solution": false,
     "task": false
    }
   },
   "outputs": [],
   "source": [
    "output = users_agg.first()\n",
    "assert output.screen_name == 'anaoromi'"
   ]
  },
  {
   "cell_type": "markdown",
   "metadata": {
    "deletable": false,
    "editable": false,
    "nbgrader": {
     "cell_type": "markdown",
     "checksum": "e2ca7432a381b9eba1c52d70559b4ded",
     "grade": false,
     "grade_id": "cell-d9521e35c564cc7b",
     "locked": true,
     "schema_version": 3,
     "solution": false,
     "task": false
    }
   },
   "source": [
    "Si us fixeu veureu que el nom de les columnes no correspon amb l'obtingut anteriorment, podeu canviar el nom d'una columna determinada utilitzant la transfomació ```withColumnRenamed```. Canvieu el nom de les columnes perquè coincideixin amb l'apartat anterior i les guardeu en una variable ```user_agg_new```.\n",
    "\n",
    "**Esquema**\n",
    "```Python\n",
    "users_agg_new = users_agg.withColumnRenamed(<FILL IN>)\\\n",
    "                         .withColumnRenamed(<FILL IN>)\\\n",
    "                         .withColumnRenamed(<FILL IN>)\n",
    "\n",
    "users_agg_new.limit(10).show()\n",
    "```"
   ]
  },
  {
   "cell_type": "code",
   "execution_count": 19,
   "metadata": {
    "deletable": false,
    "nbgrader": {
     "cell_type": "code",
     "checksum": "e0fcbf7beb9dd084688badbb00b0f079",
     "grade": false,
     "grade_id": "cell-6ac270f9e0f90d1e",
     "locked": false,
     "schema_version": 3,
     "solution": true,
     "task": false
    }
   },
   "outputs": [],
   "source": [
    "# Rename some columns\n",
    "users_agg_new = users_agg.withColumnRenamed('max(friends_count)', 'friends_count')\\\n",
    "                         .withColumnRenamed('count(screen_name)', 'tweets')\\\n",
    "                         .withColumnRenamed('max(followers_count)', 'followers_count')"
   ]
  },
  {
   "cell_type": "code",
   "execution_count": 20,
   "metadata": {
    "deletable": false,
    "editable": false,
    "nbgrader": {
     "cell_type": "code",
     "checksum": "81250f3c4440dbca15f96db6fbd3d18f",
     "grade": true,
     "grade_id": "cell-a44780017b5b62c9",
     "locked": true,
     "points": 0.15,
     "schema_version": 3,
     "solution": false,
     "task": false
    }
   },
   "outputs": [],
   "source": [
    "output = users_agg_new.first()\n",
    "assert output.screen_name == 'anaoromi' and output.friends_count == 6258 and output.tweets == 16 and output.followers_count == 6774, \"Incorrect output\""
   ]
  },
  {
   "cell_type": "markdown",
   "metadata": {
    "deletable": false,
    "editable": false,
    "nbgrader": {
     "cell_type": "markdown",
     "checksum": "c42a57423afa57d7b40a579247075734",
     "grade": false,
     "grade_id": "cell-29eff3e98104dff3",
     "locked": true,
     "schema_version": 3,
     "solution": false,
     "task": false
    }
   },
   "source": [
    "Creeu ara una taula ```user_retweets``` utilitzant transformacions que contingui dues columnes:\n",
    "- ***screen_name:*** nom d'usuari\n",
    "- ***retweeted:*** nombre de retweets\n",
    "\n",
    "Podeu utilitzar les mateixes transformacions que en l'exercici anterior. Ordeneu la taula en ordre descendent utilitzant el valor de la columna ```retweeted```.\n",
    "\n",
    "**Esquema**\n",
    "```Python\n",
    "user_retweets = tweets_sample.<FILL IN>\n",
    "\n",
    "user_retweets.limit(10).show()\n",
    "```"
   ]
  },
  {
   "cell_type": "code",
   "execution_count": 21,
   "metadata": {
    "deletable": false,
    "nbgrader": {
     "cell_type": "code",
     "checksum": "8c1a0966187fe8e923b31201eaddedc2",
     "grade": false,
     "grade_id": "cell-7e10fbd5ae8b6f53",
     "locked": false,
     "schema_version": 3,
     "solution": true,
     "task": false
    }
   },
   "outputs": [
    {
     "name": "stdout",
     "output_type": "stream",
     "text": [
      "+--------------+---------+-------------+\n",
      "|   screen_name|retweeted|friends_count|\n",
      "+--------------+---------+-------------+\n",
      "|        vox_es|      299|          299|\n",
      "|  ahorapodemos|      238|          238|\n",
      "| Santi_ABASCAL|      238|          238|\n",
      "|      iescolar|      166|          166|\n",
      "| AlbanoDante76|      161|          161|\n",
      "|          PSOE|      155|          155|\n",
      "|AntonioMaestre|      154|          154|\n",
      "|          KRLS|      149|          149|\n",
      "|        boye_g|      142|          142|\n",
      "|  CiudadanosCs|      117|          117|\n",
      "+--------------+---------+-------------+\n",
      "\n"
     ]
    }
   ],
   "source": [
    "# Generate 'user_retweets' DataFrame\n",
    "user_retweets = tweets_sample.select(\"retweeted_status.user.screen_name\", \"retweeted_status.user.id_str\") \\\n",
    "                             .groupBy(\"screen_name\") \\\n",
    "                             .agg(\n",
    "                                 count(\"id_str\").alias(\"retweeted\"),\n",
    "                                 count(\"screen_name\").alias(\"friends_count\")\n",
    "                             ) \\\n",
    "                             .orderBy(\"retweeted\", ascending=False)\n",
    "\n",
    "user_retweets.limit(10).show()"
   ]
  },
  {
   "cell_type": "code",
   "execution_count": 22,
   "metadata": {
    "deletable": false,
    "editable": false,
    "nbgrader": {
     "cell_type": "code",
     "checksum": "31688376512e22f1abe18ee737d14394",
     "grade": true,
     "grade_id": "cell-fc4c41133d08ec25",
     "locked": true,
     "points": 0.45,
     "schema_version": 3,
     "solution": false,
     "task": false
    }
   },
   "outputs": [],
   "source": [
    "output = user_retweets.first()\n",
    "assert output.screen_name == 'vox_es' and output.retweeted == 299, \"Incorrect output\""
   ]
  },
  {
   "cell_type": "markdown",
   "metadata": {
    "deletable": false,
    "editable": false,
    "nbgrader": {
     "cell_type": "markdown",
     "checksum": "6855e2d2383cbb5ea808108fd4c0ef76",
     "grade": false,
     "grade_id": "cell-eddb113c8541c8c2",
     "locked": true,
     "schema_version": 3,
     "solution": false,
     "task": false
    }
   },
   "source": [
    "Una altra manera de combinar dues taules és utilitzant el [mètode de taula ```join```](https://spark.apache.org/docs/2.4.0/api/python/pyspark.sql.html). Combineu la informació de la taula ```users_agg_new``` i ``` user_retweets``` en una nova taula ```retweeted``` utilitzant la columna ``` screen_name```. Ordeneu la nova taula en ordre descendent segons el nom de retweets.\n",
    "\n",
    "**Esquema**\n",
    "\n",
    "```Python\n",
    "retweeted = users_agg_new.join(<FILL IN>)\\\n",
    "                         .orderBy(<FILL IN>)\n",
    "\n",
    "retweeted.limit(10).show()\n",
    "```"
   ]
  },
  {
   "cell_type": "code",
   "execution_count": 23,
   "metadata": {
    "deletable": false,
    "nbgrader": {
     "cell_type": "code",
     "checksum": "bd7e752647a3281d956431f38b6a6d4d",
     "grade": false,
     "grade_id": "cell-e0fb48703c8222c2",
     "locked": false,
     "schema_version": 3,
     "solution": true,
     "task": false
    }
   },
   "outputs": [
    {
     "name": "stdout",
     "output_type": "stream",
     "text": [
      "+--------------+----+-------------+------+---------------+---------+-------------+\n",
      "|   screen_name|lang|friends_count|tweets|followers_count|retweeted|friends_count|\n",
      "+--------------+----+-------------+------+---------------+---------+-------------+\n",
      "|          PSOE|  es|        13635|     1|         671073|      155|          155|\n",
      "|  CiudadanosCs|  es|        92910|     1|         511896|      117|          117|\n",
      "|     JuntsXCat|  es|          202|     1|          88515|       73|           73|\n",
      "|  PartidoPACMA|  es|         1498|     1|         232932|       63|           63|\n",
      "|  pablocasado_|  es|         4567|     1|         238926|       50|           50|\n",
      "|voxnoticias_es|  es|         2146|     1|          29582|       44|           44|\n",
      "|RaiLopezCalvet|  es|         7579|     1|          13574|       43|           43|\n",
      "|        iunida|  es|        10225|     1|         558318|       39|           39|\n",
      "|        Xuxipc|  es|          311|     1|         184967|       37|           37|\n",
      "|       Panik81|  es|         1587|     1|          15374|       29|           29|\n",
      "+--------------+----+-------------+------+---------------+---------+-------------+\n",
      "\n"
     ]
    }
   ],
   "source": [
    "# Combine 'users_agg_new' and 'user_retweets' tables into 'retweeted' table\n",
    "retweeted = users_agg_new.join(user_retweets, \"screen_name\") \\\n",
    "                         .orderBy(user_retweets.retweeted.desc())\n",
    "\n",
    "# Show the top 10 records\n",
    "retweeted.limit(10).show()"
   ]
  },
  {
   "cell_type": "code",
   "execution_count": 24,
   "metadata": {
    "deletable": false,
    "editable": false,
    "nbgrader": {
     "cell_type": "code",
     "checksum": "9cb6d5638c55323d7bdbc623c6ac91bb",
     "grade": true,
     "grade_id": "cell-b98ce38ed786a428",
     "locked": true,
     "points": 0.15,
     "schema_version": 3,
     "solution": false,
     "task": false
    }
   },
   "outputs": [],
   "source": [
    "output = retweeted.first()\n",
    "assert output.screen_name == 'PSOE' and output.friends_count == 13635 and output.tweets == 1 and output.followers_count == 671073 and output.retweeted == 155, \"Incorrect output\""
   ]
  },
  {
   "cell_type": "markdown",
   "metadata": {
    "deletable": false,
    "editable": false,
    "nbgrader": {
     "cell_type": "markdown",
     "checksum": "56c72a8822155128342823d874064236",
     "grade": false,
     "grade_id": "cell-840198884f74f93e",
     "locked": true,
     "schema_version": 3,
     "solution": false,
     "task": false
    }
   },
   "source": [
    "Notareu que alguns dels registres que apareixen en el la taula ```users_retweeted``` no estan presents a la taula retweeted. Això és degut al fet que per defecte el mètode aplica un inner join i per tant només combina els registres presents en ambdues taules. Podeu canviar aquest comportament a través dels paràmetres de la funció.\n",
    "\n",
    "Per acabar aquesta part i reconstruir el resultat de l'apartat 1.2.1 anem a afegir una columna ```ratio_tweet_retweeted``` amb informació del ràtio entre retweets i tweets. Per a això heu d'utilitzar la transformació ```withColumn```. El resultat ha d'estar ordenat per aquesta nova columna en ordre descendent.\n",
    "\n",
    "**Esquema**\n",
    "```Python\n",
    "retweeted = retweeted.withColumn(<FILL IN>)\n",
    "retweeted.limit(10).show()\n",
    "```"
   ]
  },
  {
   "cell_type": "code",
   "execution_count": 25,
   "metadata": {
    "deletable": false,
    "nbgrader": {
     "cell_type": "code",
     "checksum": "32511e269bdb031e456d50ac9381f6cb",
     "grade": false,
     "grade_id": "cell-d5842b06bc796b93",
     "locked": false,
     "schema_version": 3,
     "solution": true,
     "task": false
    }
   },
   "outputs": [
    {
     "name": "stdout",
     "output_type": "stream",
     "text": [
      "+--------------+----+-------------+------+---------------+---------+-------------+---------------------+\n",
      "|   screen_name|lang|friends_count|tweets|followers_count|retweeted|friends_count|ratio_tweet_retweeted|\n",
      "+--------------+----+-------------+------+---------------+---------+-------------+---------------------+\n",
      "|          PSOE|  es|        13635|     1|         671073|      155|          155|                155.0|\n",
      "|  CiudadanosCs|  es|        92910|     1|         511896|      117|          117|                117.0|\n",
      "|     JuntsXCat|  es|          202|     1|          88515|       73|           73|                 73.0|\n",
      "|  PartidoPACMA|  es|         1498|     1|         232932|       63|           63|                 63.0|\n",
      "|  pablocasado_|  es|         4567|     1|         238926|       50|           50|                 50.0|\n",
      "|voxnoticias_es|  es|         2146|     1|          29582|       44|           44|                 44.0|\n",
      "|RaiLopezCalvet|  es|         7579|     1|          13574|       43|           43|                 43.0|\n",
      "|        iunida|  es|        10225|     1|         558318|       39|           39|                 39.0|\n",
      "|        Xuxipc|  es|          311|     1|         184967|       37|           37|                 37.0|\n",
      "|       Panik81|  es|         1587|     1|          15374|       29|           29|                 29.0|\n",
      "+--------------+----+-------------+------+---------------+---------+-------------+---------------------+\n",
      "\n"
     ]
    }
   ],
   "source": [
    "# Add 'ratio_tweet_retweeted' column to 'retweeted' DataFrame\n",
    "retweeted = retweeted.withColumn(\"ratio_tweet_retweeted\",retweeted.retweeted/retweeted.tweets)\n",
    "\n",
    "# Sort the DataFrame by the new column in descending order\n",
    "retweeted = retweeted.orderBy(\"ratio_tweet_retweeted\", ascending=False)\n",
    "\n",
    "retweeted.limit(10).show()"
   ]
  },
  {
   "cell_type": "code",
   "execution_count": 26,
   "metadata": {
    "deletable": false,
    "editable": false,
    "nbgrader": {
     "cell_type": "code",
     "checksum": "b2a8255d890716b9f9e81c51f06f0f62",
     "grade": true,
     "grade_id": "cell-e2dd111524c30b55",
     "locked": true,
     "points": 0.125,
     "schema_version": 3,
     "solution": false,
     "task": false
    }
   },
   "outputs": [],
   "source": [
    "output = retweeted.first()\n",
    "assert output.screen_name == 'PSOE' and output.friends_count == 13635 and output.tweets == 1 and output.followers_count == 671073 and output.ratio_tweet_retweeted == 155.0 and output.retweeted == 155, \"Incorrect output\""
   ]
  },
  {
   "cell_type": "markdown",
   "metadata": {
    "deletable": false,
    "editable": false,
    "nbgrader": {
     "cell_type": "markdown",
     "checksum": "6f897a8fb45c878a64db3ed45b0d1b8a",
     "grade": false,
     "grade_id": "cell-232f10e55e87ad12",
     "locked": true,
     "schema_version": 3,
     "solution": false,
     "task": false
    },
    "toc-hr-collapsed": false
   },
   "source": [
    "## **Part 2:** Bases de dades HIVE i operacions complexes\n",
    "\n",
    "Fins ara hem estat treballant amb un petit sample dels tweets generats (el 01%). En aquesta part de la PAC veurem com treballar i tractar el dataset complet per a això utilitzarem transformacions sobre taules i operacions sobre RDD quan sigui necessari."
   ]
  },
  {
   "cell_type": "markdown",
   "metadata": {
    "deletable": false,
    "editable": false,
    "nbgrader": {
     "cell_type": "markdown",
     "checksum": "acad392207f16b2ba93af6103b5f3c95",
     "grade": false,
     "grade_id": "cell-0b416ba9bc3ed03d",
     "locked": true,
     "schema_version": 3,
     "solution": false,
     "task": false
    }
   },
   "source": [
    "### **Part 2.1:** Bases de dades Hive\n",
    "\n",
    "Moltes vegades les dades s'utilitzen en varis projectes de manera simultània. Una manera d'organitzar les dades és, en lloc d'utilitzar directament els fitxers, recórrer a una base de dades per gestionar la informació. En l'entorn Hadoop una de les bases de dades més comuns és [Apache Hive](https://hive.apache.org/), una base de dades que permet treballar amb contingut distribuït.\n",
    "\n",
    "La manera d'accedir a aquesta base de dades és creant un context Hive de manera molt similar a com vam declarar un context SQL. Primer de tot anem a declarar una variable ```hiveContext``` creant una instància com un objecte de la classe ``` HiveContext```. Tot seguit anem a comprovar quantes taules estan registrades en aquest context.\n",
    "\n",
    "**Esquema**\n",
    "```Python\n",
    "hiveContext = <FILL IN>\n",
    "hiveContext.tables().show()\n",
    "```"
   ]
  },
  {
   "cell_type": "code",
   "execution_count": 27,
   "metadata": {
    "deletable": false,
    "nbgrader": {
     "cell_type": "code",
     "checksum": "a212d9c1805f8c0305a8b5742528c597",
     "grade": true,
     "grade_id": "cell-c1fea886f6bfbcbf",
     "locked": false,
     "points": 0.125,
     "schema_version": 3,
     "solution": true,
     "task": false
    }
   },
   "outputs": [
    {
     "name": "stdout",
     "output_type": "stream",
     "text": [
      "+--------+------------------+-----------+\n",
      "|database|         tableName|isTemporary|\n",
      "+--------+------------------+-----------+\n",
      "| default|            d_pais|      false|\n",
      "| default| d_tipo_habitacion|      false|\n",
      "| default|      province_28a|      false|\n",
      "| default|         tweets28a|      false|\n",
      "| default|     tweets28afull|      false|\n",
      "| default|tweets28a_sample25|      false|\n",
      "| default|         user_info|      false|\n",
      "| default|     user_info_old|      false|\n",
      "|        |     tweets_sample|       true|\n",
      "|        |          user_agg|       true|\n",
      "+--------+------------------+-----------+\n",
      "\n"
     ]
    }
   ],
   "source": [
    "# Create a HiveContext\n",
    "hiveContext = HiveContext(sc)\n",
    "\n",
    "# Show the registered tables in HiveContext\n",
    "hiveContext.tables().show()"
   ]
  },
  {
   "cell_type": "markdown",
   "metadata": {},
   "source": [
    "Observeu que ara mateix tenim cinc taules registrades en aquest context. Tres d'elles no temporals i dues temporals, les que hem registrat prèviament. Per tant sqlContext i hiveContext estan connectats (és la mateixa sessió)\n",
    "\n",
    "Anem ha crear la variable ```tweets``` que utilitzarem per accedir a la taula ``` tweets28a_sample25``` guardada a ```hiveContext``` utilitzant el mètode ``` table () ``` d'aquest objecte.\n",
    "\n",
    "**Esquema**\n",
    "```Python\n",
    "tweets = <FILL IN>\n",
    "print(\"Loaded dataset contains {} tweets\".format(tweets.count()))\n",
    "```"
   ]
  },
  {
   "cell_type": "code",
   "execution_count": 28,
   "metadata": {
    "deletable": false,
    "nbgrader": {
     "cell_type": "code",
     "checksum": "dee44c06e36300fcfd220842fc04d255",
     "grade": false,
     "grade_id": "cell-597891dd2d613c09",
     "locked": false,
     "schema_version": 3,
     "solution": true,
     "task": false
    }
   },
   "outputs": [
    {
     "name": "stdout",
     "output_type": "stream",
     "text": [
      "Loaded dataset contains 6354961 tweets\n"
     ]
    }
   ],
   "source": [
    "# Create 'tweets' variable\n",
    "tweets = hiveContext.table(\"tweets28a_sample25\")\n",
    "\n",
    "# Print the count of tweets\n",
    "print(\"Loaded dataset contains {} tweets\".format(tweets.count()))"
   ]
  },
  {
   "cell_type": "code",
   "execution_count": 29,
   "metadata": {
    "deletable": false,
    "editable": false,
    "nbgrader": {
     "cell_type": "code",
     "checksum": "d05bd885de8e0b2d5068da8efce897c8",
     "grade": true,
     "grade_id": "cell-2da5fa7df4970547",
     "locked": true,
     "points": 0.0625,
     "schema_version": 3,
     "solution": false,
     "task": false
    }
   },
   "outputs": [],
   "source": [
    "assert tweets.count() == 6354961, \"Incorrect Answer\""
   ]
  },
  {
   "cell_type": "markdown",
   "metadata": {
    "deletable": false,
    "editable": false,
    "nbgrader": {
     "cell_type": "markdown",
     "checksum": "faf1850205e74efcd4cc5d2a6324a637",
     "grade": false,
     "grade_id": "cell-38bf6de2954151dd",
     "locked": true,
     "schema_version": 3,
     "solution": false,
     "task": false
    }
   },
   "source": [
    "Utilitzant el mateix mètode utilitzat en l'apartat 1.1, comproveu l'estructura de la taula que acabem de carregar."
   ]
  },
  {
   "cell_type": "code",
   "execution_count": 30,
   "metadata": {
    "deletable": false,
    "nbgrader": {
     "cell_type": "code",
     "checksum": "45a95c132bae9c32a2aff7b3d0a7669b",
     "grade": true,
     "grade_id": "cell-ef350e58ac316978",
     "locked": false,
     "points": 0.0625,
     "schema_version": 3,
     "solution": true,
     "task": false
    }
   },
   "outputs": [
    {
     "name": "stdout",
     "output_type": "stream",
     "text": [
      "root\n",
      " |-- _id: string (nullable = true)\n",
      " |-- created_at: timestamp (nullable = true)\n",
      " |-- lang: string (nullable = true)\n",
      " |-- place: struct (nullable = true)\n",
      " |    |-- bounding_box: struct (nullable = true)\n",
      " |    |    |-- coordinates: array (nullable = true)\n",
      " |    |    |    |-- element: array (containsNull = true)\n",
      " |    |    |    |    |-- element: array (containsNull = true)\n",
      " |    |    |    |    |    |-- element: double (containsNull = true)\n",
      " |    |    |-- type: string (nullable = true)\n",
      " |    |-- country_code: string (nullable = true)\n",
      " |    |-- id: string (nullable = true)\n",
      " |    |-- name: string (nullable = true)\n",
      " |    |-- place_type: string (nullable = true)\n",
      " |-- retweeted_status: struct (nullable = true)\n",
      " |    |-- _id: string (nullable = true)\n",
      " |    |-- user: struct (nullable = true)\n",
      " |    |    |-- followers_count: long (nullable = true)\n",
      " |    |    |-- friends_count: long (nullable = true)\n",
      " |    |    |-- id_str: string (nullable = true)\n",
      " |    |    |-- lang: string (nullable = true)\n",
      " |    |    |-- screen_name: string (nullable = true)\n",
      " |    |    |-- statuses_count: long (nullable = true)\n",
      " |-- text: string (nullable = true)\n",
      " |-- user: struct (nullable = true)\n",
      " |    |-- followers_count: long (nullable = true)\n",
      " |    |-- friends_count: long (nullable = true)\n",
      " |    |-- id_str: string (nullable = true)\n",
      " |    |-- lang: string (nullable = true)\n",
      " |    |-- screen_name: string (nullable = true)\n",
      " |    |-- statuses_count: long (nullable = true)\n",
      "\n"
     ]
    }
   ],
   "source": [
    "# Show the structure of the loaded table\n",
    "tweets.printSchema()"
   ]
  },
  {
   "cell_type": "markdown",
   "metadata": {
    "deletable": false,
    "editable": false,
    "nbgrader": {
     "cell_type": "markdown",
     "checksum": "c885962a0e8d9f353d630ceba329f145",
     "grade": false,
     "grade_id": "cell-594eb699f3c4f56f",
     "locked": true,
     "schema_version": 3,
     "solution": false,
     "task": false
    },
    "toc-hr-collapsed": false
   },
   "source": [
    "### **Part 2.2:** Més enllà de les transformacions SQL\n",
    "\n",
    "Algunes vegades necessitarem obtenir resultats que necessiten operacions que van mes enllà del que podem aconseguir utilitzant el llenguatge SQL. En aquesta part de la pràctica anem practicar com passar d'una taula a un RDD, per fer operacions complexes, i després tornar a passar a una taula."
   ]
  },
  {
   "cell_type": "markdown",
   "metadata": {
    "deletable": false,
    "editable": false,
    "nbgrader": {
     "cell_type": "markdown",
     "checksum": "2c88d11ed8648545fe242aa32b39e551",
     "grade": false,
     "grade_id": "cell-8d0734c219f082d0",
     "locked": true,
     "schema_version": 3,
     "solution": false,
     "task": false
    },
    "toc-hr-collapsed": false
   },
   "source": [
    "#### **Part 2.2.1:** piulades per població\n",
    "##### **Part 2.2.1.1:** Utilitzant SQL\n",
    "Un petit percentatge, al voltant de l'1%, dels tweets realitzats està geolocalitzat. Això vol dir que per a aquests tweets tenim informació sobre el lloc on han estat realitzats guardat en el camp ```place```. En aquest exercici es demana que utilitzant una sentència SQL mostreu en ordre descendent quants tweets s'han realitzat en cada lloc. La taula resultant ```tweets_place``` ha de tenir les següents columnes:\n",
    "- ***name:*** nom de el lloc\n",
    "- ***tweets:*** nombre de tweets\n",
    "\n",
    "Recordeu que no tots els tweets a la base de dades han de tenir informació geolocalitzada, heu de filtrar-tenint en compte tots els que tenen un valor no nul. La taula ha d'estar en ordre descendent por nombre de tweets.\n",
    "\n",
    "**Esquema**\n",
    "```Python\n",
    "tweets_place = hiveContext.sql(<FILL IN>)\n",
    "tweets_place.limit(10).show()\n",
    "```"
   ]
  },
  {
   "cell_type": "code",
   "execution_count": 31,
   "metadata": {
    "deletable": false,
    "nbgrader": {
     "cell_type": "code",
     "checksum": "0c70f032337b535ace2ee7938f3de91f",
     "grade": false,
     "grade_id": "cell-894db3dca0f080ea",
     "locked": false,
     "schema_version": 3,
     "solution": true,
     "task": false
    }
   },
   "outputs": [
    {
     "name": "stdout",
     "output_type": "stream",
     "text": [
      "+-----------+------+\n",
      "|       name|tweets|\n",
      "+-----------+------+\n",
      "|     Madrid|  4911|\n",
      "|  Barcelona|  3481|\n",
      "|    Sevilla|   959|\n",
      "|   Valencia|   689|\n",
      "|   Zaragoza|   597|\n",
      "|Villamartín|   570|\n",
      "|     Málaga|   546|\n",
      "|     Murcia|   461|\n",
      "|      Palma|   416|\n",
      "|   Alicante|   407|\n",
      "+-----------+------+\n",
      "\n"
     ]
    }
   ],
   "source": [
    "# Create the 'tweets_place' table\n",
    "tweets_place_query = \"\"\"\n",
    "SELECT\n",
    "    place.name,\n",
    "    COUNT(*) AS tweets\n",
    "FROM\n",
    "    tweets28a_sample25\n",
    "WHERE\n",
    "    place.name IS NOT NULL AND place.name != ''\n",
    "GROUP BY\n",
    "    place.name\n",
    "ORDER BY\n",
    "    tweets DESC\n",
    "\"\"\"\n",
    "\n",
    "# Execute the query and create the 'tweets_place' DataFrame\n",
    "tweets_place = hiveContext.sql(tweets_place_query)\n",
    "\n",
    "# Show the top 10 records\n",
    "tweets_place.limit(10).show()"
   ]
  },
  {
   "cell_type": "code",
   "execution_count": 32,
   "metadata": {
    "deletable": false,
    "editable": false,
    "nbgrader": {
     "cell_type": "code",
     "checksum": "35be4259da0f97caef67aeb240405799",
     "grade": true,
     "grade_id": "cell-c4cf795341edf5b3",
     "locked": true,
     "points": 0.25,
     "schema_version": 3,
     "solution": false,
     "task": false
    }
   },
   "outputs": [],
   "source": [
    "output = tweets_place.first()\n",
    "assert output.name == \"Madrid\" and output.tweets == 4911, \"Incorrect output\""
   ]
  },
  {
   "cell_type": "markdown",
   "metadata": {
    "deletable": false,
    "editable": false,
    "nbgrader": {
     "cell_type": "markdown",
     "checksum": "d4718ba2fa46880918b9a10dc36489e2",
     "grade": false,
     "grade_id": "cell-eb9c24d0b500613c",
     "locked": true,
     "schema_version": 3,
     "solution": false,
     "task": false
    }
   },
   "source": [
    "##### **Part 2.2.1.2:** Utilitzant RDD\n",
    "\n",
    "Ara es demana que feu el mateix però aquesta vegada utilitzant RDD per realitzar l'agregació (recordeu els exercicis de comptar paraules que vau fer a la PAC 1).\n",
    "\n",
    "El primer pas consisteix a generar un taula ```tweets_geo``` que només contingui informació de tweets geolocalitzats amb una sola columna:\n",
    "- ***name:*** nom de el lloc des d'on s'ha generat el tweet\n",
    "\n",
    "**Esquema**\n",
    "```Python\n",
    "tweets_geo = <FILL IN>\n",
    "```"
   ]
  },
  {
   "cell_type": "code",
   "execution_count": 33,
   "metadata": {
    "deletable": false,
    "nbgrader": {
     "cell_type": "code",
     "checksum": "bbe1888f913198cc3cb6353e6be88bba",
     "grade": false,
     "grade_id": "cell-d3f8a6734cec62e5",
     "locked": false,
     "schema_version": 3,
     "solution": true,
     "task": false
    }
   },
   "outputs": [
    {
     "name": "stdout",
     "output_type": "stream",
     "text": [
      "+--------------------+\n",
      "|                name|\n",
      "+--------------------+\n",
      "|           Barcelona|\n",
      "|            Palencia|\n",
      "|              Murcia|\n",
      "|            Marbella|\n",
      "|           Barcelona|\n",
      "|             Camargo|\n",
      "|             Calella|\n",
      "|Sant Quirze del V...|\n",
      "|San Cristóbal de ...|\n",
      "|             Sevilla|\n",
      "+--------------------+\n",
      "\n"
     ]
    }
   ],
   "source": [
    "# Generate 'tweets_geo' RDD\n",
    "tweets_geo_rdd = tweets.rdd \\\n",
    "    .filter(lambda row: row['place'] is not None and 'name' in row['place']) \\\n",
    "    .map(lambda row: (row['place']['name'],))\n",
    "\n",
    "# Convert RDD to DataFrame\n",
    "tweets_geo = hiveContext.createDataFrame(tweets_geo_rdd, ['name'])\n",
    "\n",
    "# Show the top 10 records\n",
    "tweets_geo.limit(10).show()\n",
    "\n",
    "\n",
    "# tweets_geo_o = hiveContext.sql(\"\"\"\n",
    "# SELECT place.name\n",
    "# FROM tweets28a_sample25\n",
    "# WHERE place is not NULL\n",
    "# \"\"\")\n",
    "\n",
    "# tweets_geo_o.limit(10).show()"
   ]
  },
  {
   "cell_type": "code",
   "execution_count": 34,
   "metadata": {
    "deletable": false,
    "editable": false,
    "nbgrader": {
     "cell_type": "code",
     "checksum": "d70fa2bb8e7f709d28e37a1fa2b115f1",
     "grade": true,
     "grade_id": "cell-a80661a525cbf003",
     "locked": true,
     "points": 0.125,
     "schema_version": 3,
     "solution": false,
     "task": false
    }
   },
   "outputs": [],
   "source": [
    "assert tweets_geo.count() == 44477, \"Incorrect answer\""
   ]
  },
  {
   "cell_type": "markdown",
   "metadata": {
    "deletable": false,
    "editable": false,
    "nbgrader": {
     "cell_type": "markdown",
     "checksum": "d90c4af2a510e42c196b298929c23bd6",
     "grade": false,
     "grade_id": "cell-1cb95ba661c79484",
     "locked": true,
     "schema_version": 3,
     "solution": false,
     "task": false
    }
   },
   "source": [
    "El punt clau és que una taula pot esdevenir un RDD a través de l'atribut ```.rdd```. Aquest atribut guarda la informació de la taula en una llista on cada element és un [objecte del tipus ```Row```](https://spark.apache.org/docs/2.4.0/api/python/pyspark.sql.html#pyspark.sql.Row). Els objectes pertanyents a aquesta classe es poden veure com diccionaris on la informació de les diferents columnes queda reflectida en forma d'atribut. Per exemple, imagineu que tenim una taula amb dues columnes, nom i cognom, si utilitzem l'atribut ```.rdd``` d'aquesta taula obtindrem una llista amb objectes del tipus row on cada objecte té dos atributs: nom i cognom. Per accedir als atributs només hem de fer servir la sintaxi *punt* de Python, e.g., ```row.nombre``` o ``` row.apellido```.\n",
    "\n",
    "En aquesta part de l'exercici es demana que creeu un objecte ```tweets_lang_rdd``` que contingui una llista de tuples amb la informació ``` (name, tweets) ``` sobre el nom del lloc i el nombre de tweets generats des del mateix. Recordeu l'exercici de comptar paraules de la PAC 1.\n",
    "\n",
    "**Esquema**\n",
    "```Python\n",
    "tweets_place_rdd = tweets_geo.<FILL IN>\n",
    "```"
   ]
  },
  {
   "cell_type": "code",
   "execution_count": 35,
   "metadata": {
    "deletable": false,
    "nbgrader": {
     "cell_type": "code",
     "checksum": "4705a8a52eed12c1b0d7a8c1116a0e75",
     "grade": false,
     "grade_id": "cell-4509d0316eec4998",
     "locked": false,
     "schema_version": 3,
     "solution": true,
     "task": false
    }
   },
   "outputs": [
    {
     "data": {
      "text/plain": [
       "[('Madrid', 4911),\n",
       " ('Barcelona', 3481),\n",
       " ('Sevilla', 959),\n",
       " ('Valencia', 689),\n",
       " ('Zaragoza', 597),\n",
       " ('Villamartín', 570),\n",
       " ('Málaga', 546),\n",
       " ('Murcia', 461),\n",
       " ('Palma', 416),\n",
       " ('Alicante', 407),\n",
       " ('Granada', 405),\n",
       " ('Gijón', 338),\n",
       " ('Valladolid', 334),\n",
       " ('Oviedo', 329),\n",
       " ('Las Palmas de Gran Canaria', 326),\n",
       " ('Vigo', 295),\n",
       " ('Córdoba', 257),\n",
       " ('Girona', 235),\n",
       " ('A Coruña', 233),\n",
       " ('Bilbao', 225),\n",
       " (\"L'Hospitalet de Llobregat\", 225),\n",
       " ('Terrassa', 220),\n",
       " ('Marbella', 203),\n",
       " ('Badalona', 201),\n",
       " ('Salamanca', 195),\n",
       " ('Móstoles', 191),\n",
       " ('Santander', 189),\n",
       " ('San Fernando', 188),\n",
       " ('Getafe', 180),\n",
       " ('Elche', 178),\n",
       " ('Sabadell', 178),\n",
       " ('Ferrol', 173),\n",
       " ('Alcalá de Henares', 164),\n",
       " ('San Cristóbal de la Laguna', 149),\n",
       " ('España', 149),\n",
       " ('Las Rozas de Madrid', 148),\n",
       " ('Cartagena', 148),\n",
       " ('Badajoz', 147),\n",
       " ('Huelva', 147),\n",
       " ('Sant Cugat del Vallès', 145),\n",
       " ('Santa Cruz de Tenerife', 140),\n",
       " ('Lleida', 138),\n",
       " ('Almería', 137),\n",
       " ('Barakaldo', 135),\n",
       " ('Tarragona', 135),\n",
       " ('Ciudad Autónoma de Buenos Aires', 134),\n",
       " ('Jerez de la Frontera', 134),\n",
       " ('Reus', 132),\n",
       " ('Burgos', 130),\n",
       " ('Mairena del Aljarafe', 128),\n",
       " ('Benicarló', 127),\n",
       " ('San Sebastián', 127),\n",
       " ('Melilla', 126),\n",
       " ('Leganés', 126),\n",
       " ('Toledo', 124),\n",
       " ('Mataró', 123),\n",
       " ('León', 123),\n",
       " ('Castellón de la Plana', 121),\n",
       " ('Langreo', 119),\n",
       " ('Bogotá, D.C.', 118),\n",
       " ('Getxo', 112),\n",
       " ('Torrevieja', 110),\n",
       " ('Rivas-Vaciamadrid', 109),\n",
       " ('Cádiz', 108),\n",
       " ('Figueres', 106),\n",
       " ('Manresa', 106),\n",
       " ('Logroño', 105),\n",
       " ('Vitoria-Gasteiz', 105),\n",
       " ('Alcorcón', 104),\n",
       " ('Tomares', 103),\n",
       " ('Marratxí', 94),\n",
       " ('Ávila', 91),\n",
       " ('Pozuelo de Alarcón', 91),\n",
       " (\"l'Hospitalet de Llobregat\", 90),\n",
       " ('Rueda', 89),\n",
       " ('Fuenlabrada', 88),\n",
       " ('Santiago de Compostela', 87),\n",
       " ('Jaén', 86),\n",
       " ('Albacete', 83),\n",
       " ('Vinarós', 81),\n",
       " ('Santa Coloma de Gramenet', 78),\n",
       " ('Vélez-Málaga', 77),\n",
       " ('Pamplona', 77),\n",
       " ('Mérida', 77),\n",
       " ('Calella', 77),\n",
       " ('Palafrugell', 77),\n",
       " ('Viladecans', 75),\n",
       " ('Cáceres', 75),\n",
       " ('Molina de Segura', 74),\n",
       " ('Fuengirola', 74),\n",
       " ('Vic', 73),\n",
       " ('London', 71),\n",
       " ('Vilassar de Mar', 69),\n",
       " ('Torrelavega', 68),\n",
       " ('Palencia', 67),\n",
       " ('Ciudad Real', 67),\n",
       " ('Tres Cantos', 66),\n",
       " ('Dos Hermanas', 65),\n",
       " ('Torrent', 65),\n",
       " ('Esplugues de Llobregat', 65),\n",
       " ('Ourense', 65),\n",
       " ('Cerdanyola del Vallès', 65),\n",
       " ('Pinto', 64),\n",
       " ('Corte de Peleas', 63),\n",
       " ('Paterna', 62),\n",
       " ('Algeciras', 61),\n",
       " ('El Vendrell', 61),\n",
       " ('Manhattan', 61),\n",
       " ('Vilanova i la Geltrú', 61),\n",
       " ('Torrejón de Ardoz', 60),\n",
       " ('Caracas', 59),\n",
       " ('Rubí', 59),\n",
       " ('Inca', 58),\n",
       " ('Cambrils', 58),\n",
       " ('Coslada', 58),\n",
       " ('Lugo', 56),\n",
       " ('Lloret de Mar', 56),\n",
       " ('Guadalajara', 56),\n",
       " ('Cornellà de Llobregat', 55),\n",
       " ('Gavà', 54),\n",
       " ('Vila-seca', 54),\n",
       " ('Betanzos', 52),\n",
       " ('Paris', 52),\n",
       " ('Ponferrada', 52),\n",
       " ('Avilés', 52),\n",
       " ('Sagunto', 52),\n",
       " ('Granollers', 52),\n",
       " ('Ames', 51),\n",
       " ('Roma', 51),\n",
       " ('Torremolinos', 51),\n",
       " ('Venezuela', 49),\n",
       " ('Alcalá de Guadaíra', 49),\n",
       " ('Sant Joan Despí', 49),\n",
       " ('Huércal de Almería', 48),\n",
       " ('Algarrobo', 48),\n",
       " ('València', 47),\n",
       " ('Alcantarilla', 47),\n",
       " ('Montcada i Reixac', 47),\n",
       " ('Moratalla', 46),\n",
       " ('Telde', 46),\n",
       " ('Seseña', 46),\n",
       " ('San Sebastián de los Reyes', 46),\n",
       " ('Alcobendas', 46),\n",
       " ('Orihuela', 45),\n",
       " ('Tortosa', 44),\n",
       " ('Rincón de la Victoria', 44),\n",
       " ('Utrera', 44),\n",
       " ('Seville', 43),\n",
       " ('Navalmoral de la Mata', 43),\n",
       " ('Begues', 42),\n",
       " ('Al Rai', 42),\n",
       " ('Benidorm', 42),\n",
       " ('Paracuellos de Jarama', 42),\n",
       " ('Berlanga', 42),\n",
       " ('Calvià', 42),\n",
       " ('Frankfurt on the Main', 41),\n",
       " ('Bigues i Riells', 41),\n",
       " ('El Prat de Llobregat', 41),\n",
       " ('Banyoles', 40),\n",
       " ('Igualada', 40),\n",
       " ('Memmelsdorf', 40),\n",
       " ('Ceuta', 40),\n",
       " ('Cuenca', 39),\n",
       " ('Villafranca de los Barros', 39),\n",
       " ('Comunidad de Madrid', 39),\n",
       " ('Brooklyn', 39),\n",
       " ('Taradell', 39),\n",
       " ('Águilas', 38),\n",
       " ('Plasencia', 38),\n",
       " ('Coomonte', 38),\n",
       " ('Cúcuta', 38),\n",
       " ('Chiclana de la Frontera', 38),\n",
       " ('Santiago', 37),\n",
       " ('Puerto de la Cruz', 37),\n",
       " ('Gandia', 37),\n",
       " ('Bueu', 37),\n",
       " ('Sant Andreu de la Barca', 36),\n",
       " ('anto Domingo de Guzmán', 36),\n",
       " ('Avinyonet de Puigventós', 36),\n",
       " ('San Vicente del Raspeig', 36),\n",
       " ('Aranjuez', 36),\n",
       " ('Eivissa', 36),\n",
       " ('Castelldefels', 36),\n",
       " ('El Puerto de Santa María', 36),\n",
       " ('Puertollano', 35),\n",
       " ('Noia', 35),\n",
       " ('Solsona', 35),\n",
       " ('Sant Boi de Llobregat', 35),\n",
       " ('Guadalcázar', 34),\n",
       " ('Sant Feliu de Guíxols', 34),\n",
       " (\"L'Alfàs del Pi\", 34),\n",
       " ('Els Pallaresos', 34),\n",
       " ('Espanya', 34),\n",
       " ('Hoya-Gonzalo', 34),\n",
       " ('Mayorga', 34),\n",
       " ('Camargo', 34),\n",
       " ('Majadahonda', 33),\n",
       " ('Miami', 33),\n",
       " ('San Javier', 33),\n",
       " ('Villaquilambre', 33),\n",
       " ('Burriana', 33),\n",
       " ('Montevideo', 33),\n",
       " ('Lorca', 32),\n",
       " ('Apeldoorn', 32),\n",
       " ('Arrecife', 32),\n",
       " ('Quito', 32),\n",
       " ('Ripollet', 31),\n",
       " ('El Ejido', 31),\n",
       " ('Pasaia', 31),\n",
       " ('Collado Villalba', 31),\n",
       " ('Miranda', 30),\n",
       " ('Roses', 30),\n",
       " ('Olot', 30),\n",
       " ('Blanes', 30),\n",
       " ('Santa Pola', 30),\n",
       " ('Benalmádena', 29),\n",
       " ('Mollet del Vallès', 29),\n",
       " ('Panamá', 29),\n",
       " ('San Fernando de Henares', 29),\n",
       " ('Pontevedra', 29),\n",
       " ('Palamós', 29),\n",
       " ('Roquetas de Mar', 29),\n",
       " ('Rosario', 29),\n",
       " ('Castellvell del Camp', 29),\n",
       " ('La Nucia', 28),\n",
       " ('Vilagarcía de Arousa', 28),\n",
       " ('Segovia', 28),\n",
       " ('Medellín', 28),\n",
       " ('Mont-roig del Camp', 28),\n",
       " ('Washington', 28),\n",
       " ('Corbera de Llobregat', 28),\n",
       " (\"L'Escala\", 27),\n",
       " ('Olesa de Montserrat', 27),\n",
       " ('Chillón', 27),\n",
       " ('Chicago', 27),\n",
       " ('Almarza', 27),\n",
       " ('Boadilla del Monte', 27),\n",
       " ('Barranquilla', 27),\n",
       " ('Salou', 26),\n",
       " ('Torroella de Montgrí', 26),\n",
       " ('La Rinconada', 26),\n",
       " ('Spain', 26),\n",
       " ('Los Angeles', 26),\n",
       " ('Santa Fé', 26),\n",
       " ('Oleiros', 26),\n",
       " ('Manises', 26),\n",
       " (\"l'Albi\", 26),\n",
       " ('Huesca', 26),\n",
       " ('La Orotava', 26),\n",
       " ('Callosa de Segura', 26),\n",
       " ('Gáldar', 25),\n",
       " ('Soria', 25),\n",
       " ('Sant Carles de la Ràpita', 25),\n",
       " ('Monóvar', 25),\n",
       " ('Llinars del Vallès', 25),\n",
       " ('París', 25),\n",
       " ('Boiro', 25),\n",
       " ('Riyadh', 25),\n",
       " ('Hostalric', 25),\n",
       " ('Piera', 25),\n",
       " ('Llucmajor', 25),\n",
       " ('Jávea', 25),\n",
       " ('Parla', 25),\n",
       " ('Antequera', 24),\n",
       " ('Las Condes', 24),\n",
       " ('Adra', 24),\n",
       " ('Vilafranca del Penedès', 24),\n",
       " ('Estepona', 24),\n",
       " ('Rota', 24),\n",
       " ('Villanueva del Pardillo', 24),\n",
       " ('Aladrén', 24),\n",
       " ('Valls', 24),\n",
       " ('Almuñécar', 24),\n",
       " ('Vallromanes', 24),\n",
       " ('Providencia', 24),\n",
       " ('Piélagos', 24),\n",
       " ('Manacor', 24),\n",
       " ('Mijas', 24),\n",
       " ('Nuestra Señora del Rosario de Baruta', 24),\n",
       " (\"Sant Joan d'Alacant\", 24),\n",
       " ('Guía de Isora', 24),\n",
       " ('O Carballiño', 23),\n",
       " ('Armilla', 23),\n",
       " ('Dénia', 23),\n",
       " ('Markina-Xemein', 23),\n",
       " ('Coín', 23),\n",
       " ('Puerto Real', 23),\n",
       " ('Lisboa', 23),\n",
       " (\"Móra d'Ebre\", 23),\n",
       " ('Zamora', 23),\n",
       " ('Larache', 22),\n",
       " ('Sant Feliu de Llobregat', 22),\n",
       " ('El Campello', 22),\n",
       " ('Brent', 22),\n",
       " ('Don Benito', 22),\n",
       " ('Eibar', 22),\n",
       " ('Mislata', 22),\n",
       " ('Edinburgh', 21),\n",
       " ('Noja', 21),\n",
       " ('Premià de Mar', 21),\n",
       " ('Alboraya', 21),\n",
       " ('Martorell', 21),\n",
       " ('Sant Adrià de Besòs', 21),\n",
       " ('Mieres', 21),\n",
       " ('La Línea de la Concepción', 21),\n",
       " ('Glasgow', 21),\n",
       " ('Turin', 21),\n",
       " ('Alacant', 21),\n",
       " ('Irun', 21),\n",
       " ('Mancha Real', 21),\n",
       " ('Ciempozuelos', 21),\n",
       " (\"Sant Sadurní d'Anoia\", 21),\n",
       " ('Sant Pere de Ribes', 21),\n",
       " ('Minaya', 20),\n",
       " ('Bolivia', 20),\n",
       " ('Adeje', 20),\n",
       " ('Florida', 20),\n",
       " ('Oporto', 20),\n",
       " ('Caldes de Montbui', 20),\n",
       " ('la Massana', 20),\n",
       " ('Torredembarra', 20),\n",
       " ('Los Corrales', 20),\n",
       " ('Tomelloso', 20),\n",
       " ('Laguna de Duero', 20),\n",
       " ('Sant Just Desvern', 20),\n",
       " ('الري', 19),\n",
       " ('Castelló de la Plana', 19),\n",
       " ('San Roque', 19),\n",
       " ('Santa Perpètua de Mogoda', 19),\n",
       " ('Chacao', 19),\n",
       " ('Sant Quirze del Vallès', 19),\n",
       " ('Cardedeu', 19),\n",
       " ('Calafell', 19),\n",
       " ('Nicaragua', 19),\n",
       " ('Andújar', 19),\n",
       " ('Uzwil', 18),\n",
       " ('Guatemala', 18),\n",
       " ('Cervelló', 18),\n",
       " ('Sant Pere de Vilamajor', 18),\n",
       " ('Marina de Cudeyo', 18),\n",
       " ('Camas', 18),\n",
       " ('Ribamontán al Mar', 18),\n",
       " ('Riells i Viabrea', 18),\n",
       " ('Pineda de Mar', 18),\n",
       " ('Balaguer', 18),\n",
       " ('Gernika-Lumo', 18),\n",
       " ('Altura', 18),\n",
       " ('Teià', 18),\n",
       " ('Arcos de la Frontera', 18),\n",
       " ('Calahorra', 18),\n",
       " (\"Bell-lloc d'Urgell\", 18),\n",
       " ('Guayaquil', 18),\n",
       " ('Piedrahíta', 18),\n",
       " ('Altea', 18),\n",
       " ('Villaviciosa de Odón', 18),\n",
       " ('Villarreal', 17),\n",
       " ('Benetússer', 17),\n",
       " ('Calonge', 17),\n",
       " ('La Garriga', 17),\n",
       " ('Alzira', 17),\n",
       " ('Calgary', 17),\n",
       " ('Breno', 17),\n",
       " ('La Plata', 17),\n",
       " ('Molins de Rei', 17),\n",
       " ('O Grove', 17),\n",
       " ('Argentona', 17),\n",
       " ('Moscú', 17),\n",
       " ('Cunit', 17),\n",
       " ('Frontera', 17),\n",
       " ('Alhaurín de la Torre', 17),\n",
       " ('Utrecht', 17),\n",
       " ('Tiana', 17),\n",
       " ('San Miguel de Abona', 17),\n",
       " ('San Andrés del Rabanedo', 17),\n",
       " ('Cuauhtémoc', 17),\n",
       " ('Barberà del Vallès', 17),\n",
       " ('Colmenar Viejo', 16),\n",
       " ('La Bañeza', 16),\n",
       " ('Houston', 16),\n",
       " ('Cambre', 16),\n",
       " ('Silla', 16),\n",
       " ('Turku', 16),\n",
       " ('Astigarraga', 16),\n",
       " ('Santpedor', 16),\n",
       " ('Sitges', 16),\n",
       " ('San Francisco', 16),\n",
       " ('Nerva', 16),\n",
       " ('Rio de Janeiro', 16),\n",
       " ('Islington', 16),\n",
       " ('Sanlúcar de Barrameda', 16),\n",
       " ('Ingenio', 16),\n",
       " ('Aguilar de Campoo', 16),\n",
       " ('Úbeda', 16),\n",
       " ('el Prat de Llobregat', 16),\n",
       " ('Artés', 16),\n",
       " ('Carballo', 16),\n",
       " ('Xirivella', 16),\n",
       " ('Xàtiva', 16),\n",
       " ('Santa Coloma de Queralt', 16),\n",
       " ('Lebrija', 16),\n",
       " ('Galapagar', 16),\n",
       " ('Linares', 15),\n",
       " ('Jeddah', 15),\n",
       " ('Villajoyosa', 15),\n",
       " ('Collsuspina', 15),\n",
       " ('Negreira', 15),\n",
       " ('Villanueva de la Cañada', 15),\n",
       " ('Candelaria', 15),\n",
       " ('Talavera de la Reina', 15),\n",
       " ('Medina del Campo', 15),\n",
       " ('Cologne', 15),\n",
       " ('Ciutadella de Menorca', 15),\n",
       " ('Llanes', 15),\n",
       " ('Trujillo', 15),\n",
       " ('Amsterdam', 15),\n",
       " ('Basauri', 15),\n",
       " ('Egüés', 15),\n",
       " ('Catllar', 15),\n",
       " ('Alfafar', 15),\n",
       " ('Astorga', 15),\n",
       " ('Jaca', 15),\n",
       " ('Villaviciosa', 15),\n",
       " ('Portugalete', 15),\n",
       " ('Espanha', 15),\n",
       " ('Gines', 15),\n",
       " ('Leioa', 14),\n",
       " ('Cee', 14),\n",
       " ('Uceda', 14),\n",
       " ('Valdemoro', 14),\n",
       " ('Dublín', 14),\n",
       " ('Santurtzi', 14),\n",
       " ('Picassent', 14),\n",
       " ('Galdakao', 14),\n",
       " ('Culleredo', 14),\n",
       " ('Dublin City', 14),\n",
       " ('Chillán', 14),\n",
       " ('San Juan del Puerto', 14),\n",
       " ('Villanueva de la Serena', 14),\n",
       " ('Cangas de Onís', 14),\n",
       " ('Santa Eugènia', 14),\n",
       " ('Belém', 14),\n",
       " ('Valparaíso', 14),\n",
       " ('Bormujos', 14),\n",
       " ('Cogollos de la Vega', 14),\n",
       " ('Camarma de Esteruelas', 14),\n",
       " ('Sant Vicenç de Castellet', 14),\n",
       " ('El Astillero', 14),\n",
       " ('Siero', 14),\n",
       " ('Tyler', 14),\n",
       " ('Queens', 14),\n",
       " ('Santa Fe', 14),\n",
       " ('Cangas', 13),\n",
       " ('Castro-Urdiales', 13),\n",
       " ('Villarrobledo', 13),\n",
       " ('Sant Fost de Campsentelles', 13),\n",
       " ('Torino', 13),\n",
       " ('Toronto', 13),\n",
       " ('Gozón', 13),\n",
       " ('La Zubia', 13),\n",
       " ('Schaafheim', 13),\n",
       " ('Torrelodones', 13),\n",
       " ('Macau', 13),\n",
       " ('Puerto del Rosario', 13),\n",
       " ('Sant Antoni de Portmany', 13),\n",
       " ('Dubai', 13),\n",
       " ('Villanueva de Perales', 13),\n",
       " ('Barnet', 13),\n",
       " ('Cistérniga', 13),\n",
       " ('Los Llanos de Aridane', 13),\n",
       " ('Conil de la Frontera', 13),\n",
       " ('Motril', 13),\n",
       " ('Hellín', 13),\n",
       " ('Asuncion', 13),\n",
       " ('Arenys de Mar', 13),\n",
       " ('Rochefort', 13),\n",
       " ('Riudellots de la Selva', 13),\n",
       " ('Bellpuig', 13),\n",
       " ('Hackney', 13),\n",
       " ('Antofagasta', 13),\n",
       " ('South Africa', 12),\n",
       " ('Greenville', 12),\n",
       " ('Morata de Tajuña', 12),\n",
       " ('Sant Joan de Labritja', 12),\n",
       " ('Tacoronte', 12),\n",
       " ('Montréal', 12),\n",
       " ('Buenos Aires', 12),\n",
       " ('Community of Madrid', 12),\n",
       " ('Puebla', 12),\n",
       " ('Seva', 12),\n",
       " ('Sopot', 12),\n",
       " ('Ribadeo', 12),\n",
       " ('Johannesburg', 12),\n",
       " ('La Seca', 12),\n",
       " ('Lanciego', 12),\n",
       " ('Alcásser', 12),\n",
       " ('Benito Juárez', 12),\n",
       " ('Berlin', 12),\n",
       " ('Mali', 12),\n",
       " ('La Oliva', 12),\n",
       " ('Tàrrega', 12),\n",
       " ('Baeza', 12),\n",
       " ('Creixell', 12),\n",
       " ('Torà', 12),\n",
       " ('Manilva', 12),\n",
       " ('Alaquás', 12),\n",
       " ('Amorebieta-Etxano', 12),\n",
       " ('Islas Canarias', 12),\n",
       " ('Santa Brígida', 12),\n",
       " ('Algemesí', 12),\n",
       " ('El Espinar', 12),\n",
       " ('Arrigorriaga', 12),\n",
       " ('Errenteria', 11),\n",
       " ('Valentz', 11),\n",
       " ('Castrillón', 11),\n",
       " ('Arona', 11),\n",
       " ('Scottsdale', 11),\n",
       " ('Sant Feliu de Codines', 11),\n",
       " ('Nigrán', 11),\n",
       " ('Villamayor', 11),\n",
       " ('Alpedrete', 11),\n",
       " ('Valderrobres', 11),\n",
       " ('Melbourne', 11),\n",
       " ('Baralla', 11),\n",
       " ('Malaga', 11),\n",
       " ('Alcoy', 11),\n",
       " ('Matadepera', 11),\n",
       " ('Torrejón del Rey', 11),\n",
       " ('Palacio de Deportes de la Comunidad de Madrid', 11),\n",
       " ('Niederkassel', 11),\n",
       " ('Campos', 11),\n",
       " ('San Ildefonso', 11),\n",
       " ('California', 11),\n",
       " ('Moncada', 11),\n",
       " ('Arucas', 11),\n",
       " ('Aranga', 11),\n",
       " ('Burjassot', 11),\n",
       " ('Camden Town', 11),\n",
       " ('Valdepeñas', 11),\n",
       " ('Ucrania', 11),\n",
       " ('Parets del Vallès', 11),\n",
       " ('Miraflores', 11),\n",
       " ('Collado Mediano', 11),\n",
       " ('Poplar', 11),\n",
       " ('Cuéllar', 11),\n",
       " ('Oliva', 11),\n",
       " ('Philadelphia', 11),\n",
       " ('Villanueva del Arzobispo', 11),\n",
       " ('Palau-solità I Plegamans', 11),\n",
       " (\"Lliçà d'Amunt\", 11),\n",
       " ('Requena', 11),\n",
       " ('Lima', 11),\n",
       " ('Castellar del Vallès', 11),\n",
       " ('Petra', 10),\n",
       " ('Cataluña', 10),\n",
       " ('Vallirana', 10),\n",
       " ('Alfamén', 10),\n",
       " ('Castellví de Rosanes', 10),\n",
       " ('Ogíjares', 10),\n",
       " ('Scuol', 10),\n",
       " ('La Pobla Llarga', 10),\n",
       " ('El Escorial', 10),\n",
       " ('Santa Lucía de Tirajana', 10),\n",
       " ('Camberwell', 10),\n",
       " ('Pedrezuela', 10),\n",
       " ('Manchester', 10),\n",
       " ('Ñuñoa', 10),\n",
       " ('San Martín del Rey Aurelio', 10),\n",
       " ('Riba-roja de Túria', 10),\n",
       " ('El Masnou', 10),\n",
       " ('Pallejà', 10),\n",
       " ('Villarrica', 10),\n",
       " ('Naut Aran', 10),\n",
       " ('Berlín', 10),\n",
       " ('Illescas', 10),\n",
       " ('El Rosario', 10),\n",
       " ('Torrijos', 10),\n",
       " ('Zúrich', 10),\n",
       " ('Castilleja de la Cuesta', 10),\n",
       " ('Nambroca', 10),\n",
       " ('Irvington', 10),\n",
       " ('Cercedilla', 10),\n",
       " ('Miguel Hidalgo', 10),\n",
       " ('Cuarte de Huerva', 10),\n",
       " ('Santa Margarida de Montbui', 10),\n",
       " ('Soto del Real', 10),\n",
       " ('Cuba', 10),\n",
       " ('Bunyola', 10),\n",
       " ('La Llagosta', 10),\n",
       " ('Azuqueca de Henares', 10),\n",
       " ('Elda', 10),\n",
       " ('Cieza', 10),\n",
       " ('Níjar', 10),\n",
       " ('Salobreña', 10),\n",
       " ('São Paulo', 10),\n",
       " ('Mollerussa', 10),\n",
       " ('Orio', 10),\n",
       " ('Écija', 10),\n",
       " ('İstanbul', 10),\n",
       " ('Denver', 10),\n",
       " ('Capellades', 9),\n",
       " ('Deltebre', 9),\n",
       " ('Polinyà', 9),\n",
       " ('Salt', 9),\n",
       " ('Ventas', 9),\n",
       " ('Elciego', 9),\n",
       " ('Massanes', 9),\n",
       " ('Felanitx', 9),\n",
       " ('Vilobí del Penedès', 9),\n",
       " ('Viña del Mar', 9),\n",
       " ('Etretat', 9),\n",
       " ('les Borges Blanques', 9),\n",
       " ('Helsinki', 9),\n",
       " ('Barcellona', 9),\n",
       " ('Ronda', 9),\n",
       " ('Stockholm', 9),\n",
       " ('Mungia', 9),\n",
       " ('Benicasim', 9),\n",
       " ('Albal', 9),\n",
       " ('Pinoso', 9),\n",
       " ('Colmenarejo', 9),\n",
       " ('Santa Marta de Tormes', 9),\n",
       " ('Punta Umbría', 9),\n",
       " ('Santa Eulária des Riu', 9),\n",
       " ('Foz', 9),\n",
       " ('Sant Hilari Sacalm', 9),\n",
       " ('Bizkaia', 9),\n",
       " ('Yecla', 9),\n",
       " ('Granadilla de Abona', 9),\n",
       " ('Leitza', 9),\n",
       " ('Sant Fruitós de Bages', 9),\n",
       " ('Ciudad del Libertador General San Martín', 9),\n",
       " ('Andalucía', 9),\n",
       " (\"La Seu d'Urgell\", 9),\n",
       " ('Carabobo', 9),\n",
       " ('Galway', 9),\n",
       " ('San Juan de Aznalfarache', 9),\n",
       " ('Ocaña', 9),\n",
       " ('Pontedeume', 9),\n",
       " ('Querétaro', 9),\n",
       " ('San Bartolomé de Tirajana', 9),\n",
       " ('Magdalena Vieja', 9),\n",
       " ('Tarancón', 9),\n",
       " ('Sils', 9),\n",
       " ('Muntanyola', 9),\n",
       " ('الرياض', 9),\n",
       " ('Odena', 9),\n",
       " ('Algete', 9),\n",
       " (\"Castell-Platja d'Aro\", 9),\n",
       " ('Muskiz', 9),\n",
       " ('Peligros', 9),\n",
       " ('Sant Celoni', 9),\n",
       " ('Engelberg', 9),\n",
       " ('Villalbilla', 9),\n",
       " ('Porta', 9),\n",
       " ('Mazarrón', 9),\n",
       " ('Altafulla', 8),\n",
       " ('Santa Ursula', 8),\n",
       " ('Ripoll', 8),\n",
       " ('Warszawa', 8),\n",
       " ('East', 8),\n",
       " ('Petare', 8),\n",
       " ('Barranco', 8),\n",
       " ('Laukiz', 8),\n",
       " ('Ondarroa', 8),\n",
       " ('Alcalá del Júcar', 8),\n",
       " ('Zarautz', 8),\n",
       " ('Phoenix', 8),\n",
       " ('Torelló', 8),\n",
       " ('Paiporta', 8),\n",
       " ('Casarabonela', 8),\n",
       " ('Cabrera de Mar', 8),\n",
       " ('Berruguete', 8),\n",
       " ('Tona', 8),\n",
       " ('Cabra', 8),\n",
       " ('San Luis Potosí', 8),\n",
       " ('San Antonio de Benagéber', 8),\n",
       " ('Lasarte-Oria', 8),\n",
       " ('Calatayud', 8),\n",
       " ('Orkoien', 8),\n",
       " ('Bolívar', 8),\n",
       " ('el Masnou', 8),\n",
       " ('Laredo', 8),\n",
       " ('Ribadedeva', 8),\n",
       " ('Teruel', 8),\n",
       " ('Berriozar', 8),\n",
       " ('Barquisimeto', 8),\n",
       " ('Sahagún', 8),\n",
       " ('Nördlingen', 8),\n",
       " ('Los Realejos', 8),\n",
       " ('Austin', 8),\n",
       " ('Sede Nacional del PSOE', 8),\n",
       " ('Toulouse', 8),\n",
       " ('Isla Cristina', 8),\n",
       " ('Auckland', 8),\n",
       " ('Ohio', 8),\n",
       " (\"la Seu d'Urgell\", 8),\n",
       " ('Plaza del jardinillo', 8),\n",
       " ('Torrelles de Llobregat', 8),\n",
       " ('Ontinyent', 8),\n",
       " ('Llíria', 8),\n",
       " ('La Molina', 8),\n",
       " ('Son Servera', 8),\n",
       " ('Palmira', 8),\n",
       " ('Agüimes', 8),\n",
       " ('Miranda de Ebro', 8),\n",
       " ('Albolote', 8),\n",
       " ('Múnich', 8),\n",
       " ('Les Borges Blanques', 8),\n",
       " ('Almansa', 8),\n",
       " ('Santa Coloma de Farners', 8),\n",
       " ('plaza de castilla de san rafael', 8),\n",
       " ('Lovaina', 8),\n",
       " ('राय', 8),\n",
       " ('Castellserà', 8),\n",
       " ('San José', 8),\n",
       " ('Alborache', 8),\n",
       " ('Llanera', 8),\n",
       " ('Cártama', 8),\n",
       " ('Campanario', 8),\n",
       " ('Priego de Córdoba', 8),\n",
       " ('Peal de Becerro', 8),\n",
       " ('Milano', 8),\n",
       " ('Sant Josep de sa Talaia', 8),\n",
       " ('Poio', 7),\n",
       " ('Torun', 7),\n",
       " ('Preston', 7),\n",
       " ('Central Region', 7),\n",
       " ('Victoria', 7),\n",
       " ('Azagra', 7),\n",
       " ('Puçol', 7),\n",
       " ('Moià', 7),\n",
       " ('Portland', 7),\n",
       " ('Obanos', 7),\n",
       " ('Tudela', 7),\n",
       " ('Cervera', 7),\n",
       " ('Castilla y León', 7),\n",
       " ('Nezahualcóyotl', 7),\n",
       " ('Valdeolmos-Alalpardo', 7),\n",
       " ('Lucena', 7),\n",
       " ('Las Gabias', 7),\n",
       " ('Atarfe', 7),\n",
       " ('Linden', 7),\n",
       " ('Coyoacán', 7),\n",
       " ('Pals', 7),\n",
       " ('Tavernes Blanques', 7),\n",
       " ('Wandsworth', 7),\n",
       " ('La Pobla de Vallbona', 7),\n",
       " ('Barcelone', 7),\n",
       " ('Navalcarnero', 7),\n",
       " ('Salvador', 7),\n",
       " (\"Canet d'En Berenguer\", 7),\n",
       " ('Cebreros', 7),\n",
       " ('Calpe', 7),\n",
       " ('Burguillos', 7),\n",
       " ('México', 7),\n",
       " (\"l'Aldea\", 7),\n",
       " ('Belo Horizonte', 7),\n",
       " ('Ribeira', 7),\n",
       " ('Hrvatska', 7),\n",
       " ('Zaratán', 7),\n",
       " ('Andorra la Vieja', 7),\n",
       " ('Zizur Mayor', 7),\n",
       " ('Benissanet', 7),\n",
       " ('Chinchón', 7),\n",
       " ('Arganda del Rey', 7),\n",
       " ('Cambridge', 7),\n",
       " ('Sabiñánigo', 7),\n",
       " ('Tottenham', 7),\n",
       " ('Haro', 7),\n",
       " ('Georgia', 7),\n",
       " ('Gdansk', 7),\n",
       " ('San Esteban de Gormaz', 7),\n",
       " ('Torrecaballeros', 7),\n",
       " ('Wien', 7),\n",
       " ('Pelayos de la Presa', 7),\n",
       " ('Llorac', 7),\n",
       " ('Puigcerdà', 7),\n",
       " ('Donostia', 7),\n",
       " ('Almendrales', 7),\n",
       " ('Donostia-San Sebastián', 7),\n",
       " ('Roquetes', 7),\n",
       " ('Olías del Rey', 7),\n",
       " ('Honduras', 7),\n",
       " ('Esparreguera', 7),\n",
       " ('La Riera de Gaià', 7),\n",
       " (\"Santa Cristina d'Aro\", 7),\n",
       " ('Sydney', 7),\n",
       " ('Vacarisses', 7),\n",
       " ('Santiago de Surco', 7),\n",
       " ('La Matanza de Acentejo', 7),\n",
       " ('Huércal-Overa', 7),\n",
       " ('TeatroGoya Multiespacio', 7),\n",
       " ('Malgrat de Mar', 7),\n",
       " ('Mendoza', 7),\n",
       " ('Moralzarzal', 7),\n",
       " ('Vera', 7),\n",
       " ('Altsasu', 7),\n",
       " ('Milton Keynes', 7),\n",
       " ('San Juan', 7),\n",
       " ('San Lorenzo de El Escorial', 7),\n",
       " (\"la Bisbal d'Empordà\", 7),\n",
       " ('Greenwich', 6),\n",
       " ('Maracena', 6),\n",
       " ('Erandio', 6),\n",
       " ('Denizli', 6),\n",
       " ('San Diego', 6),\n",
       " ('Posadas', 6),\n",
       " ('Magaz de Cepeda', 6),\n",
       " ('Estados Unidos', 6),\n",
       " ('Coria del Río', 6),\n",
       " ('La Sénia', 6),\n",
       " ('Fortaleza', 6),\n",
       " ('Benavente', 6),\n",
       " ('Abarán', 6),\n",
       " (\"La Vall d'Uixó\", 6),\n",
       " ('Brasília', 6),\n",
       " ('Sopelana', 6),\n",
       " ('Casar de Cáceres', 6),\n",
       " ('Jaen', 6),\n",
       " ('Hinojosa del Duque', 6),\n",
       " ('Navas de Oro', 6),\n",
       " ('Bárcena de Cicero', 6),\n",
       " ('Panama', 6),\n",
       " ('Guangdong', 6),\n",
       " ('Josa i Tuixén', 6),\n",
       " ('El Cabaco', 6),\n",
       " ('Formentera del Segura', 6),\n",
       " ('Bareyo', 6),\n",
       " ('Hawaii', 6),\n",
       " ('Oberdorf (NW)', 6),\n",
       " ('Elx', 6),\n",
       " ('Texas', 6),\n",
       " ('Darnius', 6),\n",
       " ('Palacio De Congresos De Alicante', 6),\n",
       " ('Casas de Fernando Alonso', 6),\n",
       " ('Pravia', 6),\n",
       " ('Monforte de Lemos', 6),\n",
       " ('Redován', 6),\n",
       " ('Harrow', 6),\n",
       " ('la Selva del Camp', 6),\n",
       " ('Tlalpan', 6),\n",
       " (\"L'Eliana\", 6),\n",
       " ('Chipiona', 6),\n",
       " ('Móra la Nova', 6),\n",
       " ('Entre Ríos', 6),\n",
       " ('La Puebla del Río', 6),\n",
       " ('Manlleu', 6),\n",
       " ('Argoños', 6),\n",
       " ('Neuquén', 6),\n",
       " ('Palafolls', 6),\n",
       " ('Padul', 6),\n",
       " ('New York', 6),\n",
       " ('Benissa', 6),\n",
       " ('Valverde de la Virgen', 6),\n",
       " ('Carmona', 6),\n",
       " ('Peralta de Alcofea', 6),\n",
       " ('La Jonquera', 6),\n",
       " ('Vielha e Mijaran', 6),\n",
       " ('Honolulu', 6),\n",
       " ('Monterrey', 6),\n",
       " ('Cubelles', 6),\n",
       " ('Bolvir', 6),\n",
       " ('Arbeca', 6),\n",
       " ('Cuevas del Almanzora', 6),\n",
       " ('Almonacid de Toledo', 6),\n",
       " ('Sallent de Gállego', 6),\n",
       " ('Belmont', 6),\n",
       " ('Puebla de Don Fadrique', 6),\n",
       " ('El Sauzal', 6),\n",
       " ('Hernani', 6),\n",
       " ('Salvaterra de Miño', 6),\n",
       " ('Catarroja', 6),\n",
       " ('Carcaixent', 6),\n",
       " ('Villaverde de Guareña', 6),\n",
       " ('Castellterçol', 6),\n",
       " ('Vilassar de Dalt', 6),\n",
       " ('Arroyo de la Encomienda', 6),\n",
       " ('Tías', 6),\n",
       " ('Jun', 6),\n",
       " ('Torres de la Alameda', 6),\n",
       " ('Cornudella de Montsant', 6),\n",
       " ('Elsene', 6),\n",
       " ('Brujas', 6),\n",
       " ('Archena', 6),\n",
       " ('Oxford', 6),\n",
       " ('Cantillana', 6),\n",
       " ('Campo de Criptana', 6),\n",
       " ('Nepal', 6),\n",
       " ('Peru', 6),\n",
       " ('Betxí', 6),\n",
       " ('Azpeitia', 6),\n",
       " ('Besalú', 6),\n",
       " ('Tarifa', 6),\n",
       " ('Guillena', 6),\n",
       " ('Iquique', 6),\n",
       " ('Valdemorillo', 6),\n",
       " ('Onda', 6),\n",
       " ('Temuco', 6),\n",
       " ('Paddington', 6),\n",
       " ('Brussel', 6),\n",
       " ('Weston', 6),\n",
       " ('Almendralejo', 6),\n",
       " ('Alcúdia', 6),\n",
       " ('Reinosa', 6),\n",
       " ('Aranguren', 6),\n",
       " ('Narón', 6),\n",
       " ('Hammersmith', 6),\n",
       " ('San Miguel', 6),\n",
       " ('Copenhague', 6),\n",
       " ('Fingal', 6),\n",
       " ('Belén de Escobar', 6),\n",
       " ('SEDE DE CIUDADANOS', 6),\n",
       " ('Olius', 5),\n",
       " ('Rianxo', 5),\n",
       " ('La Torre de Esteban Hambrán', 5),\n",
       " ('Güímar', 5),\n",
       " ('Maó', 5),\n",
       " ('Arbúcies', 5),\n",
       " ('Nerja', 5),\n",
       " ('Colonia', 5),\n",
       " ('Pina de Ebro', 5),\n",
       " ('El Segundo', 5),\n",
       " ('Cartaya', 5),\n",
       " ('Ho Chi Minh', 5),\n",
       " ('Pilar de la Horadada', 5),\n",
       " ('Humanes de Madrid', 5),\n",
       " ('Hoyo de Manzanares', 5),\n",
       " ('ADDA - Auditorio Provincial de Alicante', 5),\n",
       " ('San Bartolomé', 5),\n",
       " ('Abbotsford', 5),\n",
       " ('Sant Vicenç dels Horts', 5),\n",
       " ('Venta de Baños', 5),\n",
       " ('Curitiba', 5),\n",
       " ('Northampton', 5),\n",
       " ('川口市', 5),\n",
       " ('San Martín de Valdeiglesias', 5),\n",
       " ('Reocín', 5),\n",
       " ('Tampa', 5),\n",
       " ('Sada', 5),\n",
       " ('Santa Marta', 5),\n",
       " ('Masquefa', 5),\n",
       " ('Churriana de la Vega', 5),\n",
       " ('Alcázar de San Juan', 5),\n",
       " ('Ribera del Fresno', 5),\n",
       " ('Illes Balears', 5),\n",
       " (\"Castelló d'Empúries\", 5),\n",
       " ('Carlet', 5),\n",
       " ('Buñol', 5),\n",
       " ('Corvera de Asturias', 5),\n",
       " ('Santa María del Páramo', 5),\n",
       " ('Mogán', 5),\n",
       " ('Potríes', 5),\n",
       " ('Asturias', 5),\n",
       " ('Monzón', 5),\n",
       " ('Roztoky', 5),\n",
       " ('Ponte Caldelas', 5),\n",
       " ('Lanús Oeste', 5),\n",
       " ('Baleares', 5),\n",
       " ('Maracay', 5),\n",
       " ('Rojales', 5),\n",
       " ('Frigiliana', 5),\n",
       " ('Láchar', 5),\n",
       " ('Artà', 5),\n",
       " ('Sant Climent de Llobregat', 5),\n",
       " ('Sant Lluís', 5),\n",
       " ('Pennsylvania', 5),\n",
       " ('Valle de Mena', 5),\n",
       " ('Puente Viesgo', 5),\n",
       " ('Tegueste', 5),\n",
       " ('Collbató', 5),\n",
       " ('Mairena del Alcor', 5),\n",
       " ('Sueca', 5),\n",
       " ('Polícar', 5),\n",
       " (\"la Font d'en Fargues\", 5),\n",
       " ('Marín', 5),\n",
       " ('Legazpi', 5),\n",
       " ('San Salvatore Monferrato', 5),\n",
       " ('Líbano', 5),\n",
       " ('Wisconsin', 5),\n",
       " ('Soraluze-Placencia de las Armas', 5),\n",
       " ('Las Vegas', 5),\n",
       " ('Baena', 5),\n",
       " ('Lisbon', 5),\n",
       " ('Martos', 5),\n",
       " ('Salteras', 5),\n",
       " ('Pájara', 5),\n",
       " ('Segorbe', 5),\n",
       " ('Aguilares', 5),\n",
       " ('Sant Gregori', 5),\n",
       " ('Baza', 5),\n",
       " ('Maire de Castroponce', 5),\n",
       " ('Llançà', 5),\n",
       " ('Pozuelo del Páramo', 5),\n",
       " ('Extremadura', 5),\n",
       " ('Nulles', 5),\n",
       " (\"l'Ametlla del Vallès\", 5),\n",
       " ('Uruguay', 5),\n",
       " ('Pachuca de Soto', 5),\n",
       " ('Archidona', 5),\n",
       " ('Novelda', 5),\n",
       " ...]"
      ]
     },
     "execution_count": 35,
     "metadata": {},
     "output_type": "execute_result"
    }
   ],
   "source": [
    "# Create 'tweets_place_rdd' object with sorting\n",
    "tweets_place_rdd = tweets_geo.rdd \\\n",
    "    .map(lambda row: (row['name'], 1)) \\\n",
    "    .reduceByKey(lambda a, b: a + b) \\\n",
    "    .sortBy(lambda a: a[1], ascending=False)\n",
    "\n",
    "# Show the result of 'tweets_place_rdd'\n",
    "tweets_place_rdd.collect()"
   ]
  },
  {
   "cell_type": "code",
   "execution_count": 36,
   "metadata": {
    "deletable": false,
    "editable": false,
    "nbgrader": {
     "cell_type": "code",
     "checksum": "dafe55f461433114789884e094bde7f6",
     "grade": true,
     "grade_id": "cell-01a10584947205a8",
     "locked": true,
     "points": 0.5,
     "schema_version": 3,
     "solution": false,
     "task": false
    }
   },
   "outputs": [],
   "source": [
    "assert tweets_place_rdd.count() == 4038, \"Incorrect output\""
   ]
  },
  {
   "cell_type": "markdown",
   "metadata": {
    "deletable": false,
    "editable": false,
    "nbgrader": {
     "cell_type": "markdown",
     "checksum": "cad3c4c05e1a14cff4aa5bba980ce2d4",
     "grade": false,
     "grade_id": "cell-278eef05750c3de5",
     "locked": true,
     "schema_version": 3,
     "solution": false,
     "task": false
    }
   },
   "source": [
    "Un cop generat aquest RDD crearem un taula. El primer pas és generar per cada tupla un objecte Row que contingui un atribut ```name``` i un atribut ``` tweets```. Ara només heu d'aplicar el mètode ```toDF ()``` per generar una taula. Ordeneu les files d'aquesta taula pel nombre de tweets en ordre descendent.\n",
    "\n",
    "**Esquema**\n",
    "```Python\n",
    "tweets_place = tweets_place_rdd.<FILL IN>\n",
    "\n",
    "tweets_place.limit(10).show()\n",
    "```"
   ]
  },
  {
   "cell_type": "code",
   "execution_count": 37,
   "metadata": {
    "deletable": false,
    "nbgrader": {
     "cell_type": "code",
     "checksum": "d8ee3c40ac484a28ddcbc75d281bed32",
     "grade": false,
     "grade_id": "cell-40de85c3cb590996",
     "locked": false,
     "schema_version": 3,
     "solution": true,
     "task": false
    }
   },
   "outputs": [
    {
     "name": "stdout",
     "output_type": "stream",
     "text": [
      "+-----------+------+\n",
      "|       name|tweets|\n",
      "+-----------+------+\n",
      "|     Madrid|  4911|\n",
      "|  Barcelona|  3481|\n",
      "|    Sevilla|   959|\n",
      "|   Valencia|   689|\n",
      "|   Zaragoza|   597|\n",
      "|Villamartín|   570|\n",
      "|     Málaga|   546|\n",
      "|     Murcia|   461|\n",
      "|      Palma|   416|\n",
      "|   Alicante|   407|\n",
      "+-----------+------+\n",
      "\n"
     ]
    }
   ],
   "source": [
    "from pyspark.sql import Row\n",
    "\n",
    "# Create Row objects for each tuple\n",
    "tweets_place_rows = tweets_place_rdd.map(lambda x: Row(name=x[0], tweets=x[1]))\n",
    "\n",
    "# Create DataFrame from Row objects\n",
    "tweets_place = tweets_place_rows.toDF()\n",
    "\n",
    "# Sort the DataFrame by the number of tweets in descending order\n",
    "tweets_place = tweets_place.orderBy(\"tweets\", ascending=False)\n",
    "\n",
    "# Show the top 10 records\n",
    "tweets_place.limit(10).show()"
   ]
  },
  {
   "cell_type": "code",
   "execution_count": 38,
   "metadata": {
    "deletable": false,
    "editable": false,
    "nbgrader": {
     "cell_type": "code",
     "checksum": "2aa9a5b6aba02b034f484a39661dc8ab",
     "grade": true,
     "grade_id": "cell-4b202ec17fb72450",
     "locked": true,
     "points": 0.375,
     "schema_version": 3,
     "solution": false,
     "task": false
    }
   },
   "outputs": [],
   "source": [
    "output = tweets_place.first()\n",
    "assert output.name == \"Madrid\" and output.tweets == 4911, \"Incorrect output\""
   ]
  },
  {
   "cell_type": "markdown",
   "metadata": {
    "deletable": false,
    "editable": false,
    "nbgrader": {
     "cell_type": "markdown",
     "checksum": "3346708a0e3b7fef0a9823430f90509f",
     "grade": false,
     "grade_id": "cell-beb23e0cb9a56f36",
     "locked": true,
     "schema_version": 3,
     "solution": false,
     "task": false
    }
   },
   "source": [
    "#### **Part 2.2.2:** Comptar hashtags\n",
    "\n",
    "En l'exercici anterior hem vist com podem generar la mateixa informació fent una agregació mitjançant SQL o utilitzant RDDs. Com segur que heu observat la semàntica de la sentència SQL és molt més neta per a realitzar aquesta tasca. Però no totes les tasques que us trobareu es poden fer mitjançant sentències SQL. En aquest exercici anem a veure un exemple.\n",
    "\n",
    "L'objectiu d'aquest exercici és comptar el nombre de vegades que cada hashtag (paraules precedides o separades per un #) ha aparegut al dataset. Per evitar la sobrerepresentació deguda als retweets anem a concentrar-nos en només aquells tweets que no són retweets de cap altre, o dit d'una altra manera, en aquells en els quals el camp ```retweeted_status``` és nul. Creeu una variable ```non_retweets``` que contingui tots aquests tweets.\n",
    "\n",
    "**Esquema**\n",
    "```Python\n",
    "non_retweets = <FILL IN>\n",
    "```"
   ]
  },
  {
   "cell_type": "code",
   "execution_count": 39,
   "metadata": {
    "deletable": false,
    "nbgrader": {
     "cell_type": "code",
     "checksum": "937f2396b7f82613a95738ef4bc24ccd",
     "grade": false,
     "grade_id": "cell-54dc6516920b99c6",
     "locked": false,
     "schema_version": 3,
     "solution": true,
     "task": false
    },
    "scrolled": true
   },
   "outputs": [
    {
     "name": "stdout",
     "output_type": "stream",
     "text": [
      "+--------------------+\n",
      "|                text|\n",
      "+--------------------+\n",
      "|@Earco1977 Pues a...|\n",
      "|@CastigadorY @jus...|\n",
      "|Hola @policia, ho...|\n",
      "|@LaRepublicaCat @...|\n",
      "|@Podemos_CPRA @Ir...|\n",
      "|@_GetMata_ @vox_e...|\n",
      "|PSOE: RT SextaNoc...|\n",
      "|@AnyPedrolo_2018 ...|\n",
      "|PSOE: /❤️Millones...|\n",
      "|Hilo imprescindib...|\n",
      "+--------------------+\n",
      "\n"
     ]
    }
   ],
   "source": [
    "# Create 'non_retweets' variable\n",
    "non_retweets = hiveContext.sql(\"\"\"\n",
    "SELECT text\n",
    "FROM tweets28a_sample25\n",
    "WHERE retweeted_status is NULL\n",
    "\"\"\")\n",
    "\n",
    "# Show the top 10 records\n",
    "non_retweets.limit(10).show()"
   ]
  },
  {
   "cell_type": "code",
   "execution_count": 40,
   "metadata": {
    "deletable": false,
    "editable": false,
    "nbgrader": {
     "cell_type": "code",
     "checksum": "3f8d0bd6ccd35345cf43f51f635311e5",
     "grade": true,
     "grade_id": "cell-dc8bf26ac512836d",
     "locked": true,
     "points": 0.1,
     "schema_version": 3,
     "solution": false,
     "task": false
    }
   },
   "outputs": [],
   "source": [
    "assert non_retweets.count() == 1318664, \"Incorrect answer\""
   ]
  },
  {
   "cell_type": "markdown",
   "metadata": {
    "deletable": false,
    "editable": false,
    "nbgrader": {
     "cell_type": "markdown",
     "checksum": "c6823f627286373a4d2d615d29216c65",
     "grade": false,
     "grade_id": "cell-7dc2107203021a1c",
     "locked": true,
     "schema_version": 3,
     "solution": false,
     "task": false
    }
   },
   "source": [
    "Seguidament anem ha crear una variable ```hashtags``` que contingui una llista de tuples amb la informació ``` (hashtag, count) ```. Per a això, creeu un RDD que contingui una llista amb el text de tots els tweets. Un cop fet aquest pas heu d'extraure els hashtags (paraules precedides o separades per un #).\n",
    "\n",
    "Recordeu els coneixements adquirits a la PAC 1 i l'anterior exercici, us seran de gran ajuda."
   ]
  },
  {
   "cell_type": "code",
   "execution_count": 41,
   "metadata": {
    "deletable": false,
    "nbgrader": {
     "cell_type": "code",
     "checksum": "502ec252554b51990b00d78981ae9739",
     "grade": true,
     "grade_id": "cell-472cc1af8d65ca8a",
     "locked": false,
     "points": 0.7,
     "schema_version": 3,
     "solution": true,
     "task": false
    }
   },
   "outputs": [
    {
     "name": "stdout",
     "output_type": "stream",
     "text": [
      "hashtags#otrohashtag\n"
     ]
    }
   ],
   "source": [
    "import re\n",
    "\n",
    "def extract_hashtags(text):\n",
    "    # Using a regular expression to find the hashtags in the text\n",
    "    hashtag = re.sub(r'([^\\#\\w+])+\\w*','', text)\n",
    "    hashtag = re.sub(r'^(\\w+)','', hashtag)\n",
    "    res = hashtag.strip('#')\n",
    "    return res\n",
    "\n",
    "# Ejemplo de uso:\n",
    "text = \"This is an example with #hashtags and #otrohashtag\"\n",
    "hashtags_rdd = extract_hashtags(text)\n",
    "print(hashtags_rdd)"
   ]
  },
  {
   "cell_type": "code",
   "execution_count": 42,
   "metadata": {},
   "outputs": [
    {
     "data": {
      "text/plain": [
       "['PPSOE#L6Ncampaña#L6Nrevilla#StopLeyAbusosPoliciales#EquiparacionYa',\n",
       " 'YaTeVale',\n",
       " 'L6Nrevilla',\n",
       " '28Abril#Presidente#HazQueNoPase',\n",
       " 'ProhibidoRendirse',\n",
       " 'SantaBrígida#28A']"
      ]
     },
     "execution_count": 42,
     "metadata": {},
     "output_type": "execute_result"
    }
   ],
   "source": [
    "non_retweets_rdd = non_retweets.rdd\n",
    "def hashtagCount(hashtag):\n",
    "    return hashtag.map(lambda a: ('#' + a, 1)).reduceByKey(add).sortBy(lambda kv: (kv[1]),ascending=False)\n",
    "\n",
    "\n",
    "hashtags = non_retweets_rdd.map(lambda a: extract_hashtags(a[0])).filter(lambda x: len(x)>0)\n",
    "hashtags.take(6)"
   ]
  },
  {
   "cell_type": "code",
   "execution_count": 43,
   "metadata": {},
   "outputs": [
    {
     "data": {
      "text/plain": [
       "[('#28A', 39158), ('#ElDebateDecisivo', 27200)]"
      ]
     },
     "execution_count": 43,
     "metadata": {},
     "output_type": "execute_result"
    }
   ],
   "source": [
    "from operator import add\n",
    "\n",
    "hashtags_splitted = hashtags.flatMap(lambda x: x.split(\"#\"))\n",
    "hashtags_result = hashtagCount(hashtags_splitted)\n",
    "hashtags_result.take(2)"
   ]
  },
  {
   "cell_type": "markdown",
   "metadata": {
    "deletable": false,
    "editable": false,
    "nbgrader": {
     "cell_type": "markdown",
     "checksum": "9c32adc6e22d5d1c65267d97c927aa95",
     "grade": false,
     "grade_id": "cell-2f143219bff9e857",
     "locked": true,
     "schema_version": 3,
     "solution": false,
     "task": false
    }
   },
   "source": [
    "Finalment, es demana que amb el RDD obtingut genereu una taula ```hashtagsTable``` composta de dues columnes:\n",
    "- ***hashtag***\n",
    "- ***num:*** nombre de vegades que apareix cada hashtag.\n",
    "\n",
    "Ordeneu-la per ordre descendent per nombre de tweets.\n",
    "\n",
    "**Esquema**\n",
    "```Python\n",
    "hashtagsTable = <FILL IN>\n",
    "\n",
    "hashtagsTable.limit(20).show()\n",
    "```"
   ]
  },
  {
   "cell_type": "code",
   "execution_count": 44,
   "metadata": {
    "deletable": false,
    "nbgrader": {
     "cell_type": "code",
     "checksum": "775f43eadc8b59f5198ee3219102db44",
     "grade": false,
     "grade_id": "cell-10435b59256fe1ad",
     "locked": false,
     "schema_version": 3,
     "solution": true,
     "task": false
    }
   },
   "outputs": [
    {
     "name": "stdout",
     "output_type": "stream",
     "text": [
      "+--------------------+-----+\n",
      "|             hashtag|  num|\n",
      "+--------------------+-----+\n",
      "|                #28A|39158|\n",
      "|   #ElDebateDecisivo|27200|\n",
      "|     #ELDEBATEenRTVE|23501|\n",
      "|#EleccionesGenera...| 8506|\n",
      "|     #EquiparacionYa| 7771|\n",
      "|       #EleccionesL6| 7427|\n",
      "|         #HazQuePase| 6663|\n",
      "|   #DebateAtresmedia| 5400|\n",
      "|         #DebateRTVE| 4433|\n",
      "|#LaHistoriaLaEscr...| 4279|\n",
      "|          #PorEspaña| 3971|\n",
      "|           #DebatTV3| 3741|\n",
      "|                #28a| 3608|\n",
      "|#EleccionesGenerales| 3504|\n",
      "|         #ILPJusapol| 3399|\n",
      "|            #28Abril| 3235|\n",
      "|           #VotaPSOE| 3092|\n",
      "|         #EspañaViva| 3078|\n",
      "|        #ValorSeguro| 2777|\n",
      "|             #España| 2676|\n",
      "+--------------------+-----+\n",
      "\n"
     ]
    }
   ],
   "source": [
    "hashtagsTable =  hashtags_result.toDF().withColumnRenamed('_1','hashtag').withColumnRenamed('_2','num')\n",
    "hashtagsTable.limit(20).show()"
   ]
  },
  {
   "cell_type": "code",
   "execution_count": 45,
   "metadata": {
    "deletable": false,
    "editable": false,
    "nbgrader": {
     "cell_type": "code",
     "checksum": "2ccdc8aa4d07e652239603292bc929f7",
     "grade": true,
     "grade_id": "cell-0554917487d542e2",
     "locked": true,
     "points": 0.7,
     "schema_version": 3,
     "solution": false,
     "task": false
    }
   },
   "outputs": [],
   "source": [
    "output = hashtagsTable.first()\n",
    "assert output.hashtag == \"#28A\" and output.num >= 38000, \"Incorrect output\""
   ]
  },
  {
   "cell_type": "markdown",
   "metadata": {
    "deletable": false,
    "editable": false,
    "nbgrader": {
     "cell_type": "markdown",
     "checksum": "ade828833db0da7d0a23fbef57ab0a60",
     "grade": false,
     "grade_id": "cell-eaac2bd3c05aaf8e",
     "locked": true,
     "schema_version": 3,
     "solution": false,
     "task": false
    },
    "toc-hr-collapsed": false
   },
   "source": [
    "## **Part 3:** Sampling\n",
    "\n",
    "En moltes ocasions, abans de llançar processos amb alt temps de càlcul, és pràctica habitual tractar amb un petit conjunt de les dades per investigar algunes propietats o simplement per debugar nostres algoritmes, a aquesta tasca se l'anomena sampling. En aquesta part de la pràctica anem a veure els dos principals mètodes de sampling i com utilitzar-los."
   ]
  },
  {
   "cell_type": "markdown",
   "metadata": {
    "deletable": false,
    "editable": false,
    "nbgrader": {
     "cell_type": "markdown",
     "checksum": "e49720f67e2756da635946017f93338e",
     "grade": false,
     "grade_id": "cell-6cc5b79056c13a7d",
     "locked": true,
     "schema_version": 3,
     "solution": false,
     "task": false
    }
   },
   "source": [
    "### **Part 3.1:** homogeni\n",
    "\n",
    "El primer sampling que veurem és [el homogeni](https://en.wikipedia.org/wiki/Simple_random_sample). Aquest sampling es basa simplement en triar una fracció de la població seleccionant aleatòriament elements de la mateixa.\n",
    "\n",
    "Primer de tot anem ha realitzar un sampling homogeni de l'1% dels tweets generats en el període electoral sense reemplaçament. Guardeu en una variable ```tweets_sample``` aquest sampling utilitzant el mètode ``` sample``` descrit a [API de pyspark SQL](https://spark.apache.org/docs/2.4.0/api/python/pyspark.sql.html). El seed que aneu a utilitzar per inicialitzar el generador aleatori és 42.\n",
    "\n",
    "**Esquema**\n",
    "```Python\n",
    "seed = 42\n",
    "fraction = 0.01\n",
    "\n",
    "tweets_sample = tweets.<FILL IN>\n",
    "\n",
    "print(\"Number of tweets sampled: {0}\".format(tweets_sample.count()))\n",
    "```"
   ]
  },
  {
   "cell_type": "code",
   "execution_count": 46,
   "metadata": {
    "deletable": false,
    "nbgrader": {
     "cell_type": "code",
     "checksum": "7d01c1fc4066fd1e1002e3f3b459fd98",
     "grade": false,
     "grade_id": "cell-b64b6c8d35cf75ee",
     "locked": false,
     "schema_version": 3,
     "solution": true,
     "task": false
    }
   },
   "outputs": [
    {
     "name": "stdout",
     "output_type": "stream",
     "text": [
      "Number of tweets sampled: 63888\n"
     ]
    }
   ],
   "source": [
    "seed = 42\n",
    "fraction = 0.01\n",
    "\n",
    "# Perform homogeneous sampling\n",
    "tweets_sample = tweets.sample(False, fraction, seed)\n",
    "\n",
    "print(\"Number of tweets sampled: {0}\".format(tweets_sample.count()))"
   ]
  },
  {
   "cell_type": "code",
   "execution_count": 47,
   "metadata": {
    "deletable": false,
    "editable": false,
    "nbgrader": {
     "cell_type": "code",
     "checksum": "5ac91362c7714ba382fc320fe06c1ce7",
     "grade": true,
     "grade_id": "cell-a7cfa251ac394cc2",
     "locked": true,
     "points": 0.075,
     "schema_version": 3,
     "solution": false,
     "task": false
    }
   },
   "outputs": [],
   "source": [
    "assert tweets_sample.count() == 63888, \"Incorrect output\""
   ]
  },
  {
   "cell_type": "markdown",
   "metadata": {
    "deletable": false,
    "editable": false,
    "nbgrader": {
     "cell_type": "markdown",
     "checksum": "c34528cd04a53719a2936e2b51caebfa",
     "grade": false,
     "grade_id": "cell-9fbb3918484a07ce",
     "locked": true,
     "schema_version": 3,
     "solution": false,
     "task": false
    }
   },
   "source": [
    "Una de les coses que resulta interessant comprovar sobre els patrons d'ús de les xarxes socials és el patró d'ús diari. En aquest cas ens interessa el nombre mitjà de tweets que es genera cada hora de el dia. Per extreure aquesta informació el que farem primer, serà generar una taula ```tweets_timestamp``` amb la informació:\n",
    "- ***created_at***: timestamp de quan es va publicar el tweet.\n",
    "- ***hour***: a quina hora del dia correspon.\n",
    "- ***day***: Data en format MM-dd-YY\n",
    "\n",
    "La funció ```hour``` us servirà per extreure l'hora de l'timestamp i la funció ``` date_format``` us permetrà generar la data. La taula ha d'estar en ordre ascendent segons la columna `created_at`."
   ]
  },
  {
   "cell_type": "code",
   "execution_count": 48,
   "metadata": {
    "deletable": false,
    "nbgrader": {
     "cell_type": "code",
     "checksum": "262ec79af805fc2972704923a42e2f1b",
     "grade": false,
     "grade_id": "cell-5d8ae05f924c3591",
     "locked": false,
     "schema_version": 3,
     "solution": true,
     "task": false
    }
   },
   "outputs": [
    {
     "name": "stdout",
     "output_type": "stream",
     "text": [
      "+-------------------+----+--------+\n",
      "|         created_at|hour|     day|\n",
      "+-------------------+----+--------+\n",
      "|2019-04-12 03:06:25|   3|04-12-19|\n",
      "|2019-04-12 05:08:47|   5|04-12-19|\n",
      "|2019-04-12 09:15:02|   9|04-12-19|\n",
      "|2019-04-12 09:38:31|   9|04-12-19|\n",
      "|2019-04-12 10:46:02|  10|04-12-19|\n",
      "|2019-04-12 10:47:17|  10|04-12-19|\n",
      "|2019-04-12 10:49:17|  10|04-12-19|\n",
      "|2019-04-12 10:49:30|  10|04-12-19|\n",
      "|2019-04-12 10:54:29|  10|04-12-19|\n",
      "|2019-04-12 10:55:06|  10|04-12-19|\n",
      "|2019-04-12 10:55:08|  10|04-12-19|\n",
      "|2019-04-12 10:55:16|  10|04-12-19|\n",
      "|2019-04-12 10:55:28|  10|04-12-19|\n",
      "|2019-04-12 10:55:52|  10|04-12-19|\n",
      "|2019-04-12 10:58:11|  10|04-12-19|\n",
      "|2019-04-12 10:59:53|  10|04-12-19|\n",
      "|2019-04-12 11:00:27|  11|04-12-19|\n",
      "|2019-04-12 11:00:34|  11|04-12-19|\n",
      "|2019-04-12 11:00:54|  11|04-12-19|\n",
      "|2019-04-12 11:02:18|  11|04-12-19|\n",
      "+-------------------+----+--------+\n",
      "\n"
     ]
    }
   ],
   "source": [
    "from pyspark.sql.functions import date_format, hour, from_utc_timestamp\n",
    "\n",
    "# Extract timestamp, hour, and day from the original tweets DataFrame\n",
    "tweets_timestamp = tweets_sample.select(\n",
    "    \"created_at\",\n",
    "    hour(from_utc_timestamp(\"created_at\", \"UTC\")).alias(\"hour\"),\n",
    "    date_format(\"created_at\", \"MM-dd-yy\").alias(\"day\"))\n",
    "# Sort the table in ascending order based on the 'created_at' column\n",
    "tweets_timestamp = tweets_timestamp.orderBy(\"created_at\")\n",
    "tweets_timestamp.limit(20).show()"
   ]
  },
  {
   "cell_type": "code",
   "execution_count": 49,
   "metadata": {
    "deletable": false,
    "editable": false,
    "nbgrader": {
     "cell_type": "code",
     "checksum": "68c4033dda8437ebdbace512a1b163eb",
     "grade": true,
     "grade_id": "cell-846e0102e9e77c84",
     "locked": true,
     "points": 0.1,
     "schema_version": 3,
     "solution": false,
     "task": false
    }
   },
   "outputs": [],
   "source": [
    "output = tweets_timestamp.first()\n",
    "assert output.day == \"04-12-19\" and output.hour == 3, \"Incorrect output\""
   ]
  },
  {
   "cell_type": "markdown",
   "metadata": {
    "deletable": false,
    "editable": false,
    "nbgrader": {
     "cell_type": "markdown",
     "checksum": "8f3aef321e37507c4083442058780c36",
     "grade": false,
     "grade_id": "cell-4d55081b8f9d4261",
     "locked": true,
     "schema_version": 3,
     "solution": false,
     "task": false
    }
   },
   "source": [
    "El pas següent és afegir aquestes dades per hora i dia en una taula ```tweets_hour_day```. Heu de crear una taula ```tweets_hour``` amb la informació:\n",
    "- ***hour:*** hora de el dia\n",
    "- ***day:*** data\n",
    "- ***count:*** nombre de tweets generats"
   ]
  },
  {
   "cell_type": "code",
   "execution_count": 50,
   "metadata": {
    "deletable": false,
    "nbgrader": {
     "cell_type": "code",
     "checksum": "081131a2e734d16c1242bcd86efd4435",
     "grade": false,
     "grade_id": "cell-5ff5adc081f0ed8a",
     "locked": false,
     "schema_version": 3,
     "solution": true,
     "task": false
    }
   },
   "outputs": [
    {
     "name": "stdout",
     "output_type": "stream",
     "text": [
      "+----+--------+-----+\n",
      "|hour|     day|count|\n",
      "+----+--------+-----+\n",
      "|  23|04-23-19| 1222|\n",
      "|  23|04-22-19| 1116|\n",
      "|   0|04-24-19|  999|\n",
      "|  23|04-28-19|  929|\n",
      "|  22|04-23-19|  917|\n",
      "|  22|04-22-19|  913|\n",
      "|  22|04-28-19|  856|\n",
      "|   0|04-29-19|  838|\n",
      "|   0|04-23-19|  713|\n",
      "|  21|04-28-19|  494|\n",
      "|   1|04-24-19|  427|\n",
      "|  16|04-28-19|  417|\n",
      "|  15|04-28-19|  417|\n",
      "|  20|04-28-19|  412|\n",
      "|   1|04-29-19|  408|\n",
      "|  18|04-28-19|  393|\n",
      "|  17|04-28-19|  386|\n",
      "|  19|04-28-19|  366|\n",
      "|  21|04-23-19|  354|\n",
      "|  14|04-28-19|  346|\n",
      "+----+--------+-----+\n",
      "\n"
     ]
    }
   ],
   "source": [
    "from pyspark.sql.functions import count\n",
    "\n",
    "# Create the tweets_hour_day table\n",
    "tweets_hour_day = tweets_timestamp.groupBy(\"hour\", \"day\").agg(count(\"*\").alias(\"count\")).orderBy(\"count\", ascending=False)\n",
    "\n",
    "tweets_hour_day.limit(20).show()"
   ]
  },
  {
   "cell_type": "code",
   "execution_count": 51,
   "metadata": {
    "deletable": false,
    "editable": false,
    "nbgrader": {
     "cell_type": "code",
     "checksum": "9d40d2efbd2f837d3458d43234c6112e",
     "grade": true,
     "grade_id": "cell-4136767d4dba6837",
     "locked": true,
     "points": 0.075,
     "schema_version": 3,
     "solution": false,
     "task": false
    }
   },
   "outputs": [],
   "source": [
    "output = tweets_hour_day.first()\n",
    "assert output.hour == 23 and output['count'] == 1222, \"Incorrect output\""
   ]
  },
  {
   "cell_type": "markdown",
   "metadata": {
    "deletable": false,
    "editable": false,
    "nbgrader": {
     "cell_type": "markdown",
     "checksum": "c675f2bcdcacafb2a392cb750fec4020",
     "grade": false,
     "grade_id": "cell-9711c5a4b8435d13",
     "locked": true,
     "schema_version": 3,
     "solution": false,
     "task": false
    }
   },
   "source": [
    "Finalment només ens queda fer una agregació per hora per aconseguir la mitjana de tweets per hora. Heu de generar una taula ```tweets_hour``` amb la informació:\n",
    "- ***hour:*** Hora\n",
    "- ***tweets:*** Mitjana de tweets realitzats\n",
    "\n",
    "Recordeu que estem treballant amb un sample de l'1% per tant heu de corregir la columna ```tweets``` perquè reflecteixi la mitjana que hauríem d'esperar en el conjunt complet de tweets. La taula ha d'estar ordenada en ordre ascendent d'hora."
   ]
  },
  {
   "cell_type": "code",
   "execution_count": 52,
   "metadata": {
    "deletable": false,
    "nbgrader": {
     "cell_type": "code",
     "checksum": "91db13dfb8cd1a97238b76c8715b6e60",
     "grade": false,
     "grade_id": "cell-e54cd30ac632f4bb",
     "locked": false,
     "schema_version": 3,
     "solution": true,
     "task": false
    }
   },
   "outputs": [
    {
     "name": "stdout",
     "output_type": "stream",
     "text": [
      "+----+------------------+\n",
      "|hour|            tweets|\n",
      "+----+------------------+\n",
      "|   0| 26188.88888888889|\n",
      "|   1|13161.111111111111|\n",
      "|   2| 6227.777777777777|\n",
      "|   3|3016.6666666666665|\n",
      "|   4|2235.2941176470586|\n",
      "|   5|1866.6666666666667|\n",
      "|   6|3217.6470588235297|\n",
      "|   7| 6729.411764705883|\n",
      "|   8|10952.941176470587|\n",
      "|   9|13455.555555555555|\n",
      "|  10|14405.555555555555|\n",
      "|  11|15133.333333333334|\n",
      "|  12|16011.111111111111|\n",
      "|  13|16422.222222222223|\n",
      "|  14|16877.777777777777|\n",
      "|  15|18016.666666666664|\n",
      "|  16|17494.444444444445|\n",
      "|  17| 16461.11111111111|\n",
      "|  18|16622.222222222223|\n",
      "|  19|17433.333333333332|\n",
      "+----+------------------+\n",
      "only showing top 20 rows\n",
      "\n"
     ]
    }
   ],
   "source": [
    "from pyspark.sql.functions import avg\n",
    "\n",
    "# Create the tweets_hour table\n",
    "tweets_hour = tweets_hour_day.groupBy(\"hour\").agg(avg(\"count\").alias(\"tweets\"))\n",
    "\n",
    "tweets_hour = tweets_hour.withColumn(\"tweets\", tweets_hour[\"tweets\"] / 0.01)  # Ajustem per l'1% de mostreig\n",
    "tweets_hour = tweets_hour.orderBy(\"hour\")\n",
    "\n",
    "tweets_hour.limit(24).show()"
   ]
  },
  {
   "cell_type": "code",
   "execution_count": 53,
   "metadata": {
    "deletable": false,
    "editable": false,
    "nbgrader": {
     "cell_type": "code",
     "checksum": "14a2129e8bbae4daf942b7887c550037",
     "grade": true,
     "grade_id": "cell-d7cdae10a0b3a437",
     "locked": true,
     "points": 0.125,
     "schema_version": 3,
     "solution": false,
     "task": false
    }
   },
   "outputs": [],
   "source": [
    "assert tweets_hour.first().hour == 0 and round(tweets_hour.first().tweets) == 26189"
   ]
  },
  {
   "cell_type": "markdown",
   "metadata": {
    "deletable": false,
    "editable": false,
    "nbgrader": {
     "cell_type": "markdown",
     "checksum": "13a171ff73dbbc812975132d6e996b28",
     "grade": false,
     "grade_id": "cell-57be2455836c59b9",
     "locked": true,
     "schema_version": 3,
     "solution": false,
     "task": false
    }
   },
   "source": [
    "Finalment, heu de produir un gràfic de barres utilitzant [Pandes] (https://pandas.pydata.org/) on es mostri la informació que acabeu de generar. Primer transformeu la taula `tweets_hour` a pandes utilitzant el mètode` toPandas ()`. Mostreu gràficament la taula resultant utilitzant [la funcionalitat gràfica de pandes.](https://pandas.pydata.org/docs/reference/api/pandas.DataFrame.plot.bar.html)"
   ]
  },
  {
   "cell_type": "code",
   "execution_count": 54,
   "metadata": {
    "deletable": false,
    "nbgrader": {
     "cell_type": "code",
     "checksum": "29226d46c74b80c35f4f1fa07e04dd58",
     "grade": true,
     "grade_id": "cell-8b426c5ba583bcc9",
     "locked": false,
     "points": 0.125,
     "schema_version": 3,
     "solution": true,
     "task": false
    }
   },
   "outputs": [
    {
     "data": {
      "image/png": "[encoded data removed]",
      "text/plain": [
       "<Figure size 864x432 with 1 Axes>"
      ]
     },
     "metadata": {
      "needs_background": "light"
     },
     "output_type": "display_data"
    }
   ],
   "source": [
    "import pandas as pd\n",
    "import matplotlib.pyplot as plt\n",
    "\n",
    "# Convert the Spark DataFrame 'tweets_hour' to a Pandas DataFrame\n",
    "tweets_hour_pd = tweets_hour.toPandas()\n",
    "\n",
    "# Plot the bar graph\n",
    "plt.figure(figsize=(12, 6))\n",
    "plt.bar(tweets_hour_pd['hour'], tweets_hour_pd['tweets'], color='skyblue')\n",
    "plt.xlabel('Hour of the Day')\n",
    "plt.ylabel('Average Tweets')\n",
    "plt.title('Average Tweets per Hour')\n",
    "plt.show()"
   ]
  },
  {
   "cell_type": "markdown",
   "metadata": {
    "deletable": false,
    "editable": false,
    "nbgrader": {
     "cell_type": "markdown",
     "checksum": "ab40185d209d33947acef5f92d474a47",
     "grade": false,
     "grade_id": "cell-811275200af43ba5",
     "locked": true,
     "schema_version": 3,
     "solution": false,
     "task": false
    }
   },
   "source": [
    "### **Part 3.2:** Estratificat"
   ]
  },
  {
   "cell_type": "markdown",
   "metadata": {
    "deletable": false,
    "editable": false,
    "nbgrader": {
     "cell_type": "markdown",
     "checksum": "e9ab32f7c347ef221c2cbbec837db954",
     "grade": false,
     "grade_id": "cell-fbe68f197f991274",
     "locked": true,
     "schema_version": 3,
     "solution": false,
     "task": false
    }
   },
   "source": [
    "En moltes ocasions el sampling homogeni no és adequat ja que la pròpia estructura de les dades fa que determinades poblacions estiguin sobrerepresentades. Aquest és el cas que observem en els tweets on les grans àrees urbanes estan sobrerepresentades si ho comparem amb el volum de població. En aquesta activitat veurem com aplicar aquesta tècnica al dataset de tweets, per obtenir un sampling que respecti la proporció de diputats per província.\n",
    "\n",
    "A Espanya, el procés electoral assigna un volum de diputats a cada província que depèn de la població i d'un percentatge mínim assignat per llei. En el context Hive que hem creat prèviament (```hiveContext```) podem trobar una taula (``` province_28a```) que conté informació sobre les circumscripcions electorals. Carregueu aquesta taula en una variable amb nom ```province```."
   ]
  },
  {
   "cell_type": "code",
   "execution_count": 55,
   "metadata": {
    "deletable": false,
    "nbgrader": {
     "cell_type": "code",
     "checksum": "41494f3eecb070841512f49107b0a96a",
     "grade": false,
     "grade_id": "cell-78c789c01092cbc0",
     "locked": false,
     "schema_version": 3,
     "solution": true,
     "task": false
    }
   },
   "outputs": [
    {
     "name": "stdout",
     "output_type": "stream",
     "text": [
      "+-----------+-----------+------------------+----------+---------+\n",
      "|    capital|   province|              ccaa|population|diputados|\n",
      "+-----------+-----------+------------------+----------+---------+\n",
      "|     Teruel|     Teruel|            Aragón|     35691|        3|\n",
      "|      Soria|      Soria|   Castilla y León|     39112|        2|\n",
      "|    Segovia|    Segovia|   Castilla y León|     51683|        3|\n",
      "|     Huesca|     Huesca|            Aragón|     52463|        3|\n",
      "|     Cuenca|     Cuenca|Castilla-La Mancha|     54898|        3|\n",
      "|      Ávila|      Ávila|   Castilla y León|     57697|        3|\n",
      "|     Zamora|     Zamora|   Castilla y León|     61827|        3|\n",
      "|Ciudad Real|Ciudad Real|Castilla-La Mancha|     74743|        5|\n",
      "|   Palencia|   Palencia|   Castilla y León|     78629|        3|\n",
      "| Pontevedra| Pontevedra|           Galicia|     82802|        7|\n",
      "|     Toledo|     Toledo|Castilla-La Mancha|     84282|        6|\n",
      "|Guadalajara|Guadalajara|Castilla-La Mancha|     84910|        3|\n",
      "|      Ceuta|      Ceuta|             Ceuta|     85144|        1|\n",
      "|    Melilla|    Melilla|           Melilla|     86384|        1|\n",
      "|    Cáceres|    Cáceres|       Extremadura|     96098|        4|\n",
      "|       Lugo|       Lugo|           Galicia|     98025|        4|\n",
      "|     Girona|     Girona|          Cataluña|    100266|        6|\n",
      "|     Orense|     Orense|           Galicia|    105505|        4|\n",
      "|       Jaén|       Jaén|         Andalucía|    113457|        5|\n",
      "|      Cádiz|      Cádiz|         Andalucía|    116979|        9|\n",
      "+-----------+-----------+------------------+----------+---------+\n",
      "\n"
     ]
    }
   ],
   "source": [
    "# Load the 'province_28a' table using an SQL query into the 'province' variable\n",
    "query = \"\"\" \n",
    "SELECT * FROM province_28a\n",
    "\"\"\"\n",
    "province = hiveContext.sql(query)\n",
    "\n",
    "# Show the top 20 records of the 'province' table\n",
    "province.limit(20).show()"
   ]
  },
  {
   "cell_type": "code",
   "execution_count": 56,
   "metadata": {
    "deletable": false,
    "editable": false,
    "nbgrader": {
     "cell_type": "code",
     "checksum": "7dce4debf8a3bff33b4fba4c8fc160bd",
     "grade": true,
     "grade_id": "cell-df66365e7782a5a2",
     "locked": true,
     "points": 0.0625,
     "schema_version": 3,
     "solution": false,
     "task": false
    }
   },
   "outputs": [],
   "source": [
    "assert province.count() == 52, \"Incorrect answer\""
   ]
  },
  {
   "cell_type": "markdown",
   "metadata": {
    "deletable": false,
    "editable": false,
    "nbgrader": {
     "cell_type": "markdown",
     "checksum": "3384355812f254bcab597c37d316931d",
     "grade": false,
     "grade_id": "cell-559a5cf0365b93cf",
     "locked": true,
     "schema_version": 3,
     "solution": false,
     "task": false
    }
   },
   "source": [
    "Per fer un sampling estratificat el primer que hem de fer és determinar la fracció que volem assignar a cada categoria. En aquest cas volem una fracció que faci que la fracció de tweets diputat sigui igual per a totes les capitals de província. Hem de tenir en compte que la precisió de la geolocalització a Twitter és normalment a nivell de ciutat. Per això, per evitar incrementar la complexitat de l'exercici, utilitzarem els tweets en capitals de província com a proxy dels tweets en tota la província.\n",
    "\n",
    "El primer que heu de fer és crear un taula ```info_tweets_province``` que ha de contenir:\n",
    "- ***capital:*** nom de la capital de província.\n",
    "- ***tweets:*** nombre de tweets geolocalitzats a cada capital\n",
    "- ***diputats:*** diputats que assignats a la província.\n",
    "- ***ratio_tweets_diputado:*** nombre de tweets per diputat.\n",
    "\n",
    "Heu d'ordenar la llista per ```ratio_tweets_diputado``` en ordre ascendent.\n",
    "\n",
    "***Nota:*** Podeu fer aquest exercici de moltes maneres, probablement la més fàcil és utilitzar la taula ```tweets_place``` que heu generat en l'apartat 2.2.1. Recordeu com utilitzar el ```join ()```"
   ]
  },
  {
   "cell_type": "code",
   "execution_count": 57,
   "metadata": {
    "deletable": false,
    "nbgrader": {
     "cell_type": "code",
     "checksum": "1b477bf4113286c6afc2749a5b5ba0e7",
     "grade": false,
     "grade_id": "cell-686a378ab0c82538",
     "locked": false,
     "schema_version": 3,
     "solution": true,
     "task": false
    }
   },
   "outputs": [
    {
     "name": "stdout",
     "output_type": "stream",
     "text": [
      "+--------------------+---------+------+---------------------+\n",
      "|             capital|diputados|tweets|ratio_tweets_diputado|\n",
      "+--------------------+---------+------+---------------------+\n",
      "|              Teruel|        3|     8|   2.6666666666666665|\n",
      "|          Pontevedra|        7|    29|    4.142857142857143|\n",
      "|              Zamora|        3|    23|    7.666666666666667|\n",
      "|              Huesca|        3|    26|    8.666666666666666|\n",
      "|             Segovia|        3|    28|    9.333333333333334|\n",
      "|               Cádiz|        9|   108|                 12.0|\n",
      "|               Soria|        2|    25|                 12.5|\n",
      "|              Cuenca|        3|    39|                 13.0|\n",
      "|         Ciudad Real|        5|    67|                 13.4|\n",
      "|                Lugo|        4|    56|                 14.0|\n",
      "|            Pamplona|        5|    77|                 15.4|\n",
      "|                Jaén|        5|    86|                 17.2|\n",
      "|         Guadalajara|        3|    56|   18.666666666666668|\n",
      "|             Cáceres|        4|    75|                18.75|\n",
      "|Santa Cruz de Ten...|        7|   140|                 20.0|\n",
      "|              Toledo|        6|   124|   20.666666666666668|\n",
      "|            Albacete|        4|    83|                20.75|\n",
      "|       San Sebastián|        6|   127|   21.166666666666668|\n",
      "|            Palencia|        3|    67|   22.333333333333332|\n",
      "|           Tarragona|        6|   135|                 22.5|\n",
      "+--------------------+---------+------+---------------------+\n",
      "\n"
     ]
    }
   ],
   "source": [
    "query = \"\"\"\n",
    "    SELECT A.capital, A.diputados, B.tweets, B.tweets/A.diputados as ratio_tweets_diputado\n",
    "    FROM province_28a AS A \n",
    "    INNER JOIN (\n",
    "        SELECT place.name as place, COUNT(user.id_str) as tweets\n",
    "        FROM tweets28a_sample25\n",
    "        WHERE place is not NULL \n",
    "        GROUP BY place.name \n",
    "        ORDER BY tweets DESC\n",
    "    ) AS B ON A.capital = B.place\n",
    "    ORDER BY ratio_tweets_diputado ASC\n",
    "\"\"\"\n",
    "\n",
    "info_tweets_province = hiveContext.sql(query)\n",
    "\n",
    "info_tweets_province.limit(20).show()"
   ]
  },
  {
   "cell_type": "code",
   "execution_count": 58,
   "metadata": {
    "deletable": false,
    "editable": false,
    "nbgrader": {
     "cell_type": "code",
     "checksum": "d4dab434319671c833c372adee1f00eb",
     "grade": true,
     "grade_id": "cell-0786655528352342",
     "locked": true,
     "points": 0.25,
     "schema_version": 3,
     "solution": false,
     "task": false
    }
   },
   "outputs": [],
   "source": [
    "output = info_tweets_province.first()\n",
    "maximum_ratio = floor(output.ratio_tweets_diputado * 100) / 100\n",
    "assert output.capital == \"Teruel\" and output.tweets == 8 and output.diputados == 3, \"Incorrect output\""
   ]
  },
  {
   "cell_type": "markdown",
   "metadata": {
    "deletable": false,
    "editable": false,
    "nbgrader": {
     "cell_type": "markdown",
     "checksum": "f1587612fd6d291abd0f0636768e7b6b",
     "grade": false,
     "grade_id": "cell-c174ca1e2c152b10",
     "locked": true,
     "schema_version": 3,
     "solution": false,
     "task": false
    }
   },
   "source": [
    "En aquesta cas el primer que necessitarem és un diccionari amb nom ```ratios``` on cada capital de província és una clau i el seu valor associat és la fracció de tweets que anem a samplejar. En aquest cas el que volem és que el ràtio de tweets per cada diputat sigui similar per a cada capital de província.\n",
    "\n",
    "Com volem que el sampling sigui el més gran possible i no volem que cap capital quedi infrarepresentada el ràtio de tweets per diputat serà el valor més petit podeu observar a la taula ```info_tweets_province```, que correspon a 11.66 tweets per diputat a Terol. Teniu aquest valor guardat a la variable ```maximum_ratio```.\n",
    "\n",
    "*Nota:* El mètode ```collectAsMap ()``` transforma un PairRDD en un diccionari."
   ]
  },
  {
   "cell_type": "code",
   "execution_count": 59,
   "metadata": {
    "deletable": false,
    "nbgrader": {
     "cell_type": "code",
     "checksum": "65bda9dc2291316da04c6459c06c416b",
     "grade": false,
     "grade_id": "cell-65ab3f04afcee421",
     "locked": false,
     "schema_version": 3,
     "solution": true,
     "task": false
    }
   },
   "outputs": [],
   "source": [
    "info_tweets_province=info_tweets_province.withColumn(\"ratio_tweets_diputado2\",(info_tweets_province.diputados*maximum_ratio)/info_tweets_province.tweets)\n",
    "ratios = info_tweets_province.select(info_tweets_province.capital,info_tweets_province.ratio_tweets_diputado2).rdd.collectAsMap()"
   ]
  },
  {
   "cell_type": "code",
   "execution_count": 60,
   "metadata": {
    "deletable": false,
    "editable": false,
    "nbgrader": {
     "cell_type": "code",
     "checksum": "f792b2b8057d22a43d326a2c3084ac74",
     "grade": true,
     "grade_id": "cell-aabf4f25dda3fd80",
     "locked": true,
     "points": 0.125,
     "schema_version": 3,
     "solution": false,
     "task": false
    }
   },
   "outputs": [],
   "source": [
    "assert ratios['Albacete'] == 0.12819277108433735, \"Incorrect output\""
   ]
  },
  {
   "cell_type": "markdown",
   "metadata": {
    "deletable": false,
    "editable": false,
    "nbgrader": {
     "cell_type": "markdown",
     "checksum": "b09c1b113da1283d7f0838440fec959b",
     "grade": false,
     "grade_id": "cell-d2d9aafd35905891",
     "locked": true,
     "schema_version": 3,
     "solution": false,
     "task": false
    }
   },
   "source": [
    "Genereu una taula ```geo_tweets``` amb tots els tweets geolocalitzats."
   ]
  },
  {
   "cell_type": "code",
   "execution_count": 61,
   "metadata": {
    "deletable": false,
    "nbgrader": {
     "cell_type": "code",
     "checksum": "5749f705be432359aef81c9f1964229a",
     "grade": true,
     "grade_id": "cell-ba31ae52e39701e5",
     "locked": false,
     "points": 0.0625,
     "schema_version": 3,
     "solution": true,
     "task": false
    }
   },
   "outputs": [
    {
     "name": "stdout",
     "output_type": "stream",
     "text": [
      "+--------------------+--------------------+\n",
      "|               place|              tweets|\n",
      "+--------------------+--------------------+\n",
      "|           Barcelona|@nasholop @PSOE N...|\n",
      "|            Palencia|@luttor007 @Sexta...|\n",
      "|              Murcia|@JORDIARCE Aquí s...|\n",
      "|            Marbella|@DTrolera @Irene_...|\n",
      "|           Barcelona|@SoyDeDerechas @S...|\n",
      "|             Camargo|Ya puestos, Pablo...|\n",
      "|             Calella|La mayor confront...|\n",
      "|Sant Quirze del V...|@vox_es @Santi_AB...|\n",
      "|San Cristóbal de ...|@Jaumeasens Podem...|\n",
      "|             Sevilla|@PSOE @sanchezcas...|\n",
      "+--------------------+--------------------+\n",
      "\n"
     ]
    }
   ],
   "source": [
    "query = \"\"\"\n",
    "SELECT place.name as place, text as tweets\n",
    "FROM tweets28a_sample25\n",
    "WHERE place IS NOT NULL\n",
    "\"\"\"\n",
    "\n",
    "# Execute the query and create the 'geo_tweets' DataFrame\n",
    "geo_tweets = hiveContext.sql(query)\n",
    "\n",
    "# Show the top 10 records of the 'geo_tweets' table\n",
    "geo_tweets.limit(10).show()"
   ]
  },
  {
   "cell_type": "markdown",
   "metadata": {
    "deletable": false,
    "editable": false,
    "nbgrader": {
     "cell_type": "markdown",
     "checksum": "a66e1656238385a7a927c9fb68cc0d3e",
     "grade": false,
     "grade_id": "cell-b279373d74116807",
     "locked": true,
     "schema_version": 3,
     "solution": false,
     "task": false
    }
   },
   "source": [
    "Ara ja estem en disposició de fer el sampling estratificat per població. Per a això podeu utilitzar el mètode ```sampleBy ()```. Utilitzeu 42 com seed de el generador pseudoaleatori.\n",
    "\n",
    "**Esquema**\n",
    "```Python\n",
    "seed = 42\n",
    "sample = <FILL IN>\n",
    "```"
   ]
  },
  {
   "cell_type": "code",
   "execution_count": 62,
   "metadata": {
    "deletable": false,
    "nbgrader": {
     "cell_type": "code",
     "checksum": "03689b51b5402081bceb365466af129a",
     "grade": true,
     "grade_id": "cell-a59cf6ff77d3933c",
     "locked": false,
     "points": 0.0625,
     "schema_version": 3,
     "solution": true,
     "task": false
    }
   },
   "outputs": [
    {
     "name": "stdout",
     "output_type": "stream",
     "text": [
      "+--------------------+--------------------+\n",
      "|               place|              tweets|\n",
      "+--------------------+--------------------+\n",
      "|          Pontevedra|Mañana domingo, @...|\n",
      "|              Bilbao|@luisdemalaga64 @...|\n",
      "|              Málaga|@PLSDE @SextaNoch...|\n",
      "|              Málaga|@SextaNocheTV @In...|\n",
      "|           Barcelona|@populares @PSOE ...|\n",
      "|                León|Es vergonzoso #Ge...|\n",
      "|         Ciudad Real|@OrbitaEduardo @D...|\n",
      "|             Sevilla|Este tal Maroto e...|\n",
      "|              Girona|@repubblica Vince...|\n",
      "|Las Palmas de Gra...|@AlexisRavelo1 O ...|\n",
      "|               Cádiz|Santiiiiiago Abas...|\n",
      "|               Palma|Enhorabuena, @san...|\n",
      "|              Toledo|Juan Guaido le de...|\n",
      "|            Valencia|@carmenalvarez05 ...|\n",
      "|              Lleida|     Molt interesant|\n",
      "|            Zaragoza|Después del docto...|\n",
      "|            Valencia|@PPCatalunya @cay...|\n",
      "|             Badajoz|@Lechuzadenavia @...|\n",
      "|             Almería|@sanchezcastejon ...|\n",
      "|             Almería|@velardedaoiz EMH...|\n",
      "+--------------------+--------------------+\n",
      "\n"
     ]
    }
   ],
   "source": [
    "seed = 42\n",
    "\n",
    "# Create the 'sample' DataFrame using sampleBy\n",
    "sample = geo_tweets.sampleBy(\"place\", ratios, seed)\n",
    "\n",
    "# Show the top 20 records of the 'sample' DataFrame\n",
    "sample.limit(20).show()"
   ]
  },
  {
   "cell_type": "markdown",
   "metadata": {
    "deletable": false,
    "editable": false,
    "nbgrader": {
     "cell_type": "markdown",
     "checksum": "449e068966c91131996e9cf20ed7fa92",
     "grade": false,
     "grade_id": "cell-efeaef422602bb30",
     "locked": true,
     "schema_version": 3,
     "solution": false,
     "task": false
    }
   },
   "source": [
    "Per visualitzar el resultat de l'sampling aneu a crear una taula ```info_sample``` que contingui la següent informació:\n",
    "- ***capital:*** nom de la capital de província.\n",
    "- *** tweets:*** nombre de tweets samplejats a cada capital\n",
    "- ***diputats:*** diputats que assignats a la província.\n",
    "- ***ratio_tweets_diputado:*** nombre de tweets per diputat.\n",
    "\n",
    "Ordeneu la taula resultant per ordre de ```ratio_tweets_diputado``` ascendent."
   ]
  },
  {
   "cell_type": "code",
   "execution_count": 63,
   "metadata": {
    "deletable": false,
    "nbgrader": {
     "cell_type": "code",
     "checksum": "3e3c5975cd337bbe4c4749eac7a56c80",
     "grade": false,
     "grade_id": "cell-b30012b203c207eb",
     "locked": false,
     "schema_version": 3,
     "solution": true,
     "task": false
    }
   },
   "outputs": [
    {
     "name": "stdout",
     "output_type": "stream",
     "text": [
      "+--------------------+------+---------+---------------------+\n",
      "|             capital|tweets|diputados|ratio_tweets_diputado|\n",
      "+--------------------+------+---------+---------------------+\n",
      "|             Melilla|     1|        1|                  1.0|\n",
      "|                Lugo|     4|        4|                  1.0|\n",
      "|              Zamora|     5|        3|   1.6666666666666667|\n",
      "|             Segovia|     5|        3|   1.6666666666666667|\n",
      "|     Vitoria-Gasteiz|     7|        4|                 1.75|\n",
      "|                León|     7|        4|                 1.75|\n",
      "|           Santander|     9|        5|                  1.8|\n",
      "|                Jaén|     9|        5|                  1.8|\n",
      "|       San Sebastián|    11|        6|   1.8333333333333333|\n",
      "|               Soria|     4|        2|                  2.0|\n",
      "|              Cuenca|     6|        3|                  2.0|\n",
      "|Las Palmas de Gra...|    16|        8|                  2.0|\n",
      "|Castellón de la P...|    11|        5|                  2.2|\n",
      "|              Madrid|    82|       37|   2.2162162162162162|\n",
      "|              Burgos|     9|        4|                 2.25|\n",
      "|             Cáceres|     9|        4|                 2.25|\n",
      "|               Ávila|     7|        3|   2.3333333333333335|\n",
      "|              Huesca|     7|        3|   2.3333333333333335|\n",
      "|            Palencia|     7|        3|   2.3333333333333335|\n",
      "|              Murcia|    24|       10|                  2.4|\n",
      "+--------------------+------+---------+---------------------+\n",
      "\n"
     ]
    }
   ],
   "source": [
    "sample.createOrReplaceTempView(\"sample\")\n",
    "info_tweets_province.createOrReplaceTempView(\"info_tweets_province\")\n",
    "query = \"\"\"\n",
    "SELECT s.place as capital, COUNT(s.tweets) AS tweets,tp.diputados, COUNT(s.tweets)/tp.diputados as ratio_tweets_diputado\n",
    "FROM sample AS s \n",
    "JOIN info_tweets_province as tp ON s.place = tp.capital\n",
    "GROUP BY s.place, tp.diputados\n",
    "ORDER BY (ratio_tweets_diputado) ASC, diputados ASC\n",
    "\"\"\"\n",
    "info_sample = hiveContext.sql(query)\n",
    "\n",
    "info_sample.limit(20).show()"
   ]
  },
  {
   "cell_type": "code",
   "execution_count": 64,
   "metadata": {
    "deletable": false,
    "editable": false,
    "nbgrader": {
     "cell_type": "code",
     "checksum": "592e349358f72953e164e23d7b2d586e",
     "grade": true,
     "grade_id": "cell-77898278f3ee3b69",
     "locked": true,
     "points": 0.25,
     "schema_version": 3,
     "solution": false,
     "task": false
    }
   },
   "outputs": [],
   "source": [
    "output = info_sample.first()\n",
    "assert output.capital == \"Melilla\" and output.tweets == 1  and output.diputados == 1 and output.ratio_tweets_diputado == 1.0, \"Incorrect output\""
   ]
  },
  {
   "cell_type": "markdown",
   "metadata": {
    "deletable": false,
    "editable": false,
    "nbgrader": {
     "cell_type": "markdown",
     "checksum": "3de32214dec64b4713903b194476dcbe",
     "grade": false,
     "grade_id": "cell-bf8ae16a0f12d52d",
     "locked": true,
     "schema_version": 3,
     "solution": false,
     "task": false
    }
   },
   "source": [
    "Com veieu el sampling no és exacte, és una aproximació. Però com podeu imaginar apropar el sampling a la representativitat electoral de les regions és necessaris en molts casos.\n",
    "\n",
    "Per comprovar-compteu primer tots els hashtags presents a la taula ```geo_tweets``` tal com hem fet en l'apartat 2.2.2 i ordeneu el resultat per nombre de tweets en ordre descendent. Deseu la taula en la variable `hashtagsTable`."
   ]
  },
  {
   "cell_type": "code",
   "execution_count": 65,
   "metadata": {
    "deletable": false,
    "nbgrader": {
     "cell_type": "code",
     "checksum": "c3046076e9308d54f166b79aabd5e103",
     "grade": false,
     "grade_id": "cell-e1a2c1d512ab249e",
     "locked": false,
     "schema_version": 3,
     "solution": true,
     "task": false
    }
   },
   "outputs": [
    {
     "name": "stdout",
     "output_type": "stream",
     "text": [
      "+--------------------+----+\n",
      "|             hashtag| num|\n",
      "+--------------------+----+\n",
      "|                #28A|1803|\n",
      "|   #ElDebateDecisivo| 968|\n",
      "|     #ELDEBATEenRTVE| 865|\n",
      "|     #EquiparacionYa| 547|\n",
      "|       #6AbrilMadrid| 450|\n",
      "|         #ILPJusapoL| 429|\n",
      "|         #HazQuePase| 411|\n",
      "|#EleccionesGenera...| 359|\n",
      "|        #ValorSeguro| 230|\n",
      "|       #EleccionesL6| 228|\n",
      "|   #DebateAtresmedia| 193|\n",
      "| #LaEspañaQueQuieres| 175|\n",
      "|#LaHistoriaLaEscr...| 170|\n",
      "|         #DebateRTVE| 164|\n",
      "|           #DebatTV3| 163|\n",
      "|           #VotaPSOE| 158|\n",
      "|#EleccionesGenerales| 151|\n",
      "|             #España| 151|\n",
      "|         #EspañaViva| 145|\n",
      "|    #VamosCiudadanos| 138|\n",
      "+--------------------+----+\n",
      "\n"
     ]
    }
   ],
   "source": [
    "geo_tweets_rdd = geo_tweets.rdd\n",
    "hashtags_geo = geo_tweets_rdd.map(lambda a: extract_hashtags(a[1])).filter(lambda x: len(x)>0)\n",
    "hashtags_geo_splitted =  hashtags_geo.flatMap(lambda x: x.split(\"#\"))\n",
    "hashtags_geo_result = hashtagCount(hashtags_geo_splitted)\n",
    "hashtagsTable =  hashtags_geo_result.toDF().withColumnRenamed('_1','hashtag').withColumnRenamed('_2','num')\n",
    "\n",
    "hashtagsTable.limit(20).show()"
   ]
  },
  {
   "cell_type": "code",
   "execution_count": 66,
   "metadata": {
    "deletable": false,
    "editable": false,
    "nbgrader": {
     "cell_type": "code",
     "checksum": "2714d3cc5cd6d8ad099c894d07795981",
     "grade": true,
     "grade_id": "cell-523a33c0ce6749f0",
     "locked": true,
     "points": 0.125,
     "schema_version": 3,
     "solution": false,
     "task": false
    }
   },
   "outputs": [],
   "source": [
    "output = hashtagsTable.first()\n",
    "assert output.hashtag == \"#28A\" and output.num >= 1700, \"Incorrect answer\""
   ]
  },
  {
   "cell_type": "markdown",
   "metadata": {
    "deletable": false,
    "editable": false,
    "nbgrader": {
     "cell_type": "markdown",
     "checksum": "eff3c9ed1ffb1ce78cb6895e4476f3f7",
     "grade": false,
     "grade_id": "cell-b41cdc82c0313230",
     "locked": true,
     "schema_version": 3,
     "solution": false,
     "task": false
    }
   },
   "source": [
    "Compareu aquest resultat amb el que obtenim quan vam crear una taula ```hashtagsTable_sample``` on comptem els hashtags al mostra. Ordeneu la taula per nombre de tweets en ordre descendent."
   ]
  },
  {
   "cell_type": "code",
   "execution_count": 67,
   "metadata": {
    "deletable": false,
    "nbgrader": {
     "cell_type": "code",
     "checksum": "6267b0ce4b2029ef4e45a4d4996f05fa",
     "grade": false,
     "grade_id": "cell-2a1d0b60920e07ea",
     "locked": false,
     "schema_version": 3,
     "solution": true,
     "task": false
    }
   },
   "outputs": [
    {
     "name": "stdout",
     "output_type": "stream",
     "text": [
      "+--------------------+---+\n",
      "|             hashtag|num|\n",
      "+--------------------+---+\n",
      "|                #28A| 42|\n",
      "|   #ElDebateDecisivo| 27|\n",
      "|     #ELDEBATEenRTVE| 15|\n",
      "|         #HazQuePase| 13|\n",
      "| #LaEspañaQueQuieres| 10|\n",
      "|         #DebateRTVE|  8|\n",
      "|#EleccionesGenera...|  6|\n",
      "|#LaHistoriaLaEscr...|  5|\n",
      "|    #EstamosMuyCerca|  5|\n",
      "|                #vox|  4|\n",
      "|           #DebatTV3|  4|\n",
      "|          #Catalunya|  3|\n",
      "|        #28AVotaPSOE|  3|\n",
      "|        #ValorSeguro|  3|\n",
      "| #LauraBorrasEsForça|  3|\n",
      "|           #VotaPSOE|  3|\n",
      "|                #VOX|  3|\n",
      "|     #EquiparacionYa|  3|\n",
      "|            #28Abril|  3|\n",
      "|             #España|  3|\n",
      "+--------------------+---+\n",
      "\n"
     ]
    }
   ],
   "source": [
    "sample_rdd = sample.rdd\n",
    "hashtags_sample = sample_rdd.map(lambda a: extract_hashtags(a[1])).filter(lambda x: len(x)>0)\n",
    "hashtags_sample_splitted =  hashtags_sample.flatMap(lambda x: x.split(\"#\"))\n",
    "hashtags_sample_result = hashtagCount(hashtags_sample_splitted)\n",
    "hashtagsTable_sample =  hashtags_sample_result.toDF().withColumnRenamed('_1','hashtag').withColumnRenamed('_2','num')\n",
    "\n",
    "hashtagsTable_sample.limit(20).show()"
   ]
  },
  {
   "cell_type": "code",
   "execution_count": 68,
   "metadata": {
    "deletable": false,
    "editable": false,
    "nbgrader": {
     "cell_type": "code",
     "checksum": "b5ac4e4116ce604f00a0903e21d9ca52",
     "grade": true,
     "grade_id": "cell-64cea6f5c2bf3d84",
     "locked": true,
     "points": 0.0625,
     "schema_version": 3,
     "solution": false,
     "task": false
    }
   },
   "outputs": [],
   "source": [
    "output = hashtagsTable_sample.first()\n",
    "assert output.hashtag == \"#28A\" and output.num >= 35, \"Incorrect answer\""
   ]
  },
  {
   "cell_type": "markdown",
   "metadata": {
    "deletable": false,
    "editable": false,
    "nbgrader": {
     "cell_type": "markdown",
     "checksum": "edeac81fb691e4d4a95ec747a0bcb8b8",
     "grade": false,
     "grade_id": "cell-282efc48db14dc51",
     "locked": true,
     "schema_version": 3,
     "solution": false,
     "task": false
    },
    "toc-hr-collapsed": false
   },
   "source": [
    "## **Part 4:** Introducció a les dades relacionals"
   ]
  },
  {
   "cell_type": "markdown",
   "metadata": {
    "deletable": false,
    "editable": false,
    "nbgrader": {
     "cell_type": "markdown",
     "checksum": "4bf03eef09598becfbb828fa65a56d05",
     "grade": false,
     "grade_id": "cell-37c26fe65603f838",
     "locked": true,
     "schema_version": 3,
     "solution": false,
     "task": false
    }
   },
   "source": [
    "El fet de treballar amb una base de dades que conté informació generada en una xarxa social ens permet introduir el concepte de dades relacionals. Podem definir dades relacionals com aquells en què les relacions entre les entitats constitueixen la base de dades. Sí aquestes relacions són binàries, relacions 1 a 1, podem representar les relacions com un graf compost per un conjunt de vèrtexs $\\mathcal{V}$ i un conjunt d'arestes $\\mathcal{E}$ que els relacionen.\n",
    "\n",
    "En el cas de grafs que emergeixen de manera auto-organitzada l'estructura va més enllà dels grafs regulars que segurament coneixeu. Aquest tipus d'estructures es coneixen com [xarxes complexes](https://es.wikipedia.org/wiki/Red_compleja). L'estudi de l'estructura i propietats dinàmiques d'aquest tipus de xarxes ha contribuït a importants resultats en camps tan dispars com la física, la sociologia, l'ecologia o la medicina.\n",
    "\n",
    "![Complex_network](https://images.squarespace-cdn.com/content/5150aec6e4b0e340ec52710a/1364574727391-XVOFAB9P6GHKTDAH6QTA/lastfm_800_graph_white.png?content-type=image%2Fpng)\n",
    "\n",
    "En aquesta última part de la pràctica anem ha treballar amb aquest tipus de dades. En concret anem a modelar un dels possibles relacions presents en el dataset, la xarxa de retweets."
   ]
  },
  {
   "cell_type": "markdown",
   "metadata": {
    "deletable": false,
    "editable": false,
    "nbgrader": {
     "cell_type": "markdown",
     "checksum": "4707d1193538bfed5c3edc4e551a3812",
     "grade": false,
     "grade_id": "cell-6a6e29d54a0ab104",
     "locked": true,
     "schema_version": 3,
     "solution": false,
     "task": false
    }
   },
   "source": [
    "### **Part 4.1:** Generar la xarxa de retweets"
   ]
  },
  {
   "cell_type": "markdown",
   "metadata": {
    "deletable": false,
    "editable": false,
    "nbgrader": {
     "cell_type": "markdown",
     "checksum": "c98aa162c0ace174080b8c2b08c6b71a",
     "grade": false,
     "grade_id": "cell-897b2eeeea0dafad",
     "locked": true,
     "schema_version": 3,
     "solution": false,
     "task": false
    }
   },
   "source": [
    "#### **Part 4.1.1**: Construcció de la edgelist"
   ]
  },
  {
   "cell_type": "markdown",
   "metadata": {
    "deletable": false,
    "editable": false,
    "nbgrader": {
     "cell_type": "markdown",
     "checksum": "7c4ed6f4a00be375f705d0a9e1eb6dd2",
     "grade": false,
     "grade_id": "cell-9a5492c3a2cca893",
     "locked": true,
     "schema_version": 3,
     "solution": false,
     "task": false
    }
   },
   "source": [
    "El primer es demana que genereu la xarxa (el graf). Hi ha diverses maneres de representar una xarxa complexa, per exemple, si estem interessats a treballar-hi des del punt de vista teòric, la manera més habitual de representar-les és utilitzant una [matriu d'adjacència](https://ca.wikipedia.org/wiki/Matriu_d%27adjac%C3%A8ncia). En aquesta pràctica ens centrarem en l'aspecte computacional, una de les maneres de mes eficients (computacionalment parlant) de representar una xarxa és mitjançant la seva [*edge list*](https://en.wikipedia.org/wiki/Edge_list) , una taula que especifica la relació a parelles entre les entitats.\n",
    "\n",
    "Les relacions poden ser bidireccionals o direccionals i tenir algun pes assignat o no (Weighted or unweighted). En el cas que ens ocupa, estem parlant d'una xarxa dirigida, un usuari retuiteja a un altre, i podem pensar-la tenint en compte quantes vegades això ha passat.\n",
    "\n",
    "El primer que fareu per simplificar el còmput, és crear una mostra homogènia sense reemplaçament de l'1% dels tweets. Utilitzant els coneixements que heu après en l'apartat 3.1. Utilitzarem 42 com a valor per a la seed.\n",
    "\n",
    "**Esquema**\n",
    "```Python\n",
    "seed = 42\n",
    "sample = tweets.<FILL IN>\n",
    "```"
   ]
  },
  {
   "cell_type": "code",
   "execution_count": 69,
   "metadata": {
    "deletable": false,
    "nbgrader": {
     "cell_type": "code",
     "checksum": "f7c834bfe32aaf48ce9880dc243af438",
     "grade": true,
     "grade_id": "cell-c070f596e66ebeb2",
     "locked": false,
     "points": 0.1,
     "schema_version": 3,
     "solution": true,
     "task": false
    }
   },
   "outputs": [
    {
     "name": "stdout",
     "output_type": "stream",
     "text": [
      "Number of tweets sampled: 63888\n"
     ]
    }
   ],
   "source": [
    "seed = 42\n",
    "fraction = 0.01\n",
    "\n",
    "sample = tweets.sample(fraction, seed)\n",
    "print(\"Number of tweets sampled: {0}\".format(sample.count()))"
   ]
  },
  {
   "cell_type": "markdown",
   "metadata": {
    "deletable": false,
    "editable": false,
    "nbgrader": {
     "cell_type": "markdown",
     "checksum": "fd0274b0dd36a2d843957ec3a25d7543",
     "grade": false,
     "grade_id": "cell-820555a5351b6bd3",
     "locked": true,
     "schema_version": 3,
     "solution": false,
     "task": false
    }
   },
   "source": [
    "Creeu una taula ```edgelist``` amb la següent informació:\n",
    "- ***src:*** usuari que retuiteja\n",
    "- ***dst:*** usuari que és retuitejat\n",
    "- ***weight:*** nombre de vegades que un usuari retuiteja a un altre.\n",
    "\n",
    "Filtrar el resultat perquè contingui només les relacions amb un weight igual o major a dos."
   ]
  },
  {
   "cell_type": "code",
   "execution_count": 70,
   "metadata": {
    "deletable": false,
    "nbgrader": {
     "cell_type": "code",
     "checksum": "96de40fc61c7ce1c90d7c37bc369f823",
     "grade": false,
     "grade_id": "cell-068c4e6981f4bd17",
     "locked": false,
     "schema_version": 3,
     "solution": true,
     "task": false
    },
    "scrolled": true
   },
   "outputs": [
    {
     "name": "stdout",
     "output_type": "stream",
     "text": [
      "There are 517 edges on the network.\n"
     ]
    }
   ],
   "source": [
    "sample.createOrReplaceGlobalTempView(\"sample_edge\")\n",
    "\n",
    "query = \"\"\"\n",
    "SELECT src,dst,weight FROM \n",
    "(\n",
    "    SELECT \n",
    "        user.screen_name as src,\n",
    "        retweeted_status.user.screen_name as dst,\n",
    "        count(retweeted_status.user.screen_name) as weight\n",
    "    FROM \n",
    "        global_temp.sample_edge\n",
    "    WHERE retweeted_status IS NOT NULL \n",
    "    GROUP BY user.screen_name, retweeted_status.user.screen_name\n",
    ") AS A\n",
    "WHERE weight > 1\n",
    "\"\"\"\n",
    "\n",
    "edgelist=sqlContext.sql(query)\n",
    "\n",
    "L = edgelist.count()\n",
    "\n",
    "print(\"There are {0} edges on the network.\".format(L))"
   ]
  },
  {
   "cell_type": "code",
   "execution_count": 71,
   "metadata": {
    "deletable": false,
    "editable": false,
    "nbgrader": {
     "cell_type": "code",
     "checksum": "9092a3720865f7a6dcd155bd0b52ffad",
     "grade": true,
     "grade_id": "cell-5382ba44e19655fc",
     "locked": true,
     "points": 0.4,
     "schema_version": 3,
     "solution": false,
     "task": false
    }
   },
   "outputs": [],
   "source": [
    "assert L == 517, \"Incorrect ouput\""
   ]
  },
  {
   "cell_type": "markdown",
   "metadata": {
    "deletable": false,
    "editable": false,
    "nbgrader": {
     "cell_type": "markdown",
     "checksum": "9a054c52aacc4fa4f61177336d27cd27",
     "grade": false,
     "grade_id": "cell-5e8643828cf2869d",
     "locked": true,
     "schema_version": 3,
     "solution": false,
     "task": false
    }
   },
   "source": [
    "#### **Part 4.1.2:** Centralitat de grau"
   ]
  },
  {
   "cell_type": "markdown",
   "metadata": {
    "deletable": false,
    "editable": false,
    "nbgrader": {
     "cell_type": "markdown",
     "checksum": "dcb0dd3fcbdb0ea2b42ae8c947a3471e",
     "grade": false,
     "grade_id": "cell-9ba26ef00ea8587b",
     "locked": true,
     "schema_version": 3,
     "solution": false,
     "task": false
    }
   },
   "source": [
    "Un dels descriptors més comuns en l'anàlisi de xarxes és el grau. El grau quantifica quantes arestes estan connectades a cada vèrtexs. En el cas de xarxes dirigides com la que acabem de crear aquest descriptor està descompost de:\n",
    "- **n degree**: quantes arestes apunten el node\n",
    "- **out degree**: quantes arestes surten de el node\n",
    "\n",
    "Si fem un rànquing d'aquests valors obtindreu una mesura de centralitat, la [centralitat de grau](https://en.wikipedia.org/wiki/Centrality#Degree_centrality), de cadascun dels nodes.\n",
    "\n",
    "Es demana que genereu una taula amb la següent informació:\n",
    "- ***screen_name:*** nom de l'usuari.\n",
    "- ***outDegree*** out degree de el node.\n",
    "\n",
    "Ordenar la taula per out degree en ordre descendent."
   ]
  },
  {
   "cell_type": "code",
   "execution_count": 72,
   "metadata": {
    "deletable": false,
    "nbgrader": {
     "cell_type": "code",
     "checksum": "03650fc79254b488da052ab3cbb96ac4",
     "grade": false,
     "grade_id": "cell-ee617d0c697a3c28",
     "locked": false,
     "schema_version": 3,
     "solution": true,
     "task": false
    }
   },
   "outputs": [
    {
     "name": "stdout",
     "output_type": "stream",
     "text": [
      "+---------------+---------+\n",
      "|    screen_name|outDegree|\n",
      "+---------------+---------+\n",
      "|    Manudocalin|        3|\n",
      "|  antoniobb1953|        3|\n",
      "|     carrasquem|        2|\n",
      "|     Nacho_JISF|        2|\n",
      "|       cukianaa|        2|\n",
      "|    Karmaleonic|        2|\n",
      "|       anap1958|        2|\n",
      "| lanzarotejesus|        2|\n",
      "| Maria_pilar_ga|        2|\n",
      "|      Juancarfg|        2|\n",
      "|    mariasvilas|        2|\n",
      "|     ArwenPlaza|        2|\n",
      "|    RosaMar6254|        2|\n",
      "| ALFONSOLODEIRO|        2|\n",
      "|     mirovira75|        2|\n",
      "|      ppoleiros|        2|\n",
      "|Migueln53227148|        2|\n",
      "|    mariaje1956|        2|\n",
      "|  mariarossa004|        2|\n",
      "|      fatimar56|        2|\n",
      "+---------------+---------+\n",
      "\n"
     ]
    }
   ],
   "source": [
    "# Calculate out-degrees\n",
    "outDegree = edgelist.select(\"src\",\"dst\").groupBy(\"src\")\\\n",
    "                     .agg({\"dst\":\"count\"})\\\n",
    "                     .orderBy(\"count(dst)\",ascending=False)\n",
    "outDegree = outDegree.withColumnRenamed(\"src\",\"screen_name\").withColumnRenamed(\"count(dst)\",\"outDegree\")\n",
    "\n",
    "#Show results \n",
    "outDegree.limit(20).show()"
   ]
  },
  {
   "cell_type": "code",
   "execution_count": 73,
   "metadata": {
    "deletable": false,
    "editable": false,
    "nbgrader": {
     "cell_type": "code",
     "checksum": "32da2443447140ca0356aa22281b7608",
     "grade": true,
     "grade_id": "cell-c035c05881920745",
     "locked": true,
     "points": 0.25,
     "schema_version": 3,
     "solution": false,
     "task": false
    }
   },
   "outputs": [],
   "source": [
    "output = outDegree.first()\n",
    "assert output.screen_name == \"Manudocalin\" and output.outDegree == 3, \"Incorrect output\""
   ]
  },
  {
   "cell_type": "markdown",
   "metadata": {
    "deletable": false,
    "editable": false,
    "nbgrader": {
     "cell_type": "markdown",
     "checksum": "80251a17480f6c72cef3a79a64ef4d04",
     "grade": false,
     "grade_id": "cell-e346c8c66921c20d",
     "locked": true,
     "schema_version": 3,
     "solution": false,
     "task": false
    }
   },
   "source": [
    "Es demana ara que genereu una taula `inDegree` con la informació:\n",
    "- ***screen_name:*** nom de l'usuari.\n",
    "- ***inDegree:*** in degree de el node.\n",
    "\n",
    "Ordeneu la taula per in degree en ordre descendent."
   ]
  },
  {
   "cell_type": "code",
   "execution_count": 74,
   "metadata": {
    "deletable": false,
    "nbgrader": {
     "cell_type": "code",
     "checksum": "15ab33812b6984766ed4183e765562c7",
     "grade": false,
     "grade_id": "cell-563978b25aed78d8",
     "locked": false,
     "schema_version": 3,
     "solution": true,
     "task": false
    }
   },
   "outputs": [
    {
     "name": "stdout",
     "output_type": "stream",
     "text": [
      "+---------------+--------+\n",
      "|    screen_name|inDegree|\n",
      "+---------------+--------+\n",
      "|           PSOE|      45|\n",
      "|   ahorapodemos|      37|\n",
      "|   CiudadanosCs|      26|\n",
      "|         vox_es|      26|\n",
      "|      populares|      25|\n",
      "|  Santi_ABASCAL|      18|\n",
      "|Front_Republica|       9|\n",
      "|      JuntsXCat|       9|\n",
      "|  AlbanoDante76|       7|\n",
      "|sanchezcastejon|       6|\n",
      "|           KRLS|       6|\n",
      "|    CastigadorY|       5|\n",
      "|   Esquerra_ERC|       5|\n",
      "|    protestona1|       5|\n",
      "|     rcabrero75|       4|\n",
      "|Pablo_Iglesias_|       4|\n",
      "| AntonioMaestre|       4|\n",
      "|socialistes_cat|       4|\n",
      "|       marubimo|       4|\n",
      "|       ivanedlm|       4|\n",
      "+---------------+--------+\n",
      "\n"
     ]
    }
   ],
   "source": [
    "# Calculate in-degrees\n",
    "inDegree = edgelist.select(\"src\",\"dst\").groupBy(\"dst\")\\\n",
    "                     .agg({\"src\":\"count\"})\\\n",
    "                     .orderBy(\"count(src)\",ascending=False)\n",
    "inDegree = inDegree.withColumnRenamed(\"dst\",\"screen_name\").withColumnRenamed(\"count(src)\",\"inDegree\")\n",
    "\n",
    "# Show the result\n",
    "inDegree.limit(20).show()"
   ]
  },
  {
   "cell_type": "code",
   "execution_count": 75,
   "metadata": {
    "deletable": false,
    "editable": false,
    "nbgrader": {
     "cell_type": "code",
     "checksum": "98982300a92a2294cff4e5680e69f21d",
     "grade": true,
     "grade_id": "cell-2e51da2e33a38b88",
     "locked": true,
     "points": 0.25,
     "schema_version": 3,
     "solution": false,
     "task": false
    }
   },
   "outputs": [],
   "source": [
    "output = inDegree.first()\n",
    "assert output.screen_name == \"PSOE\" and output.inDegree == 45, \"Incorrect output\""
   ]
  },
  {
   "cell_type": "markdown",
   "metadata": {
    "deletable": false,
    "editable": false,
    "nbgrader": {
     "cell_type": "markdown",
     "checksum": "54f54cbd33304095254f5a23e3b0771a",
     "grade": false,
     "grade_id": "cell-3090f93808799ac8",
     "locked": true,
     "schema_version": 3,
     "solution": false,
     "task": false
    },
    "toc-hr-collapsed": false
   },
   "source": [
    "### **Part 4.2:** Graphframes"
   ]
  },
  {
   "cell_type": "markdown",
   "metadata": {
    "deletable": false,
    "editable": false,
    "nbgrader": {
     "cell_type": "markdown",
     "checksum": "05f57713e73e5e2abba0d54e2ea9431e",
     "grade": false,
     "grade_id": "cell-573d4e35edb016e1",
     "locked": true,
     "schema_version": 3,
     "solution": false,
     "task": false
    }
   },
   "source": [
    "Aquest tipus d'estructures és molt comú en molts datasets i el seu anàlisi cada vegada s'ha tornat més habitual. Per simplificar les operacions i l'anàlisi utilitzarem una llibreria específicament dissenyada per treballar en xarxes en sistemes distribuïts: [**Graphframes**](https://graphframes.github.io/graphframes/docs/_site/index.html) ."
   ]
  },
  {
   "cell_type": "code",
   "execution_count": 76,
   "metadata": {
    "deletable": false,
    "editable": false,
    "nbgrader": {
     "cell_type": "code",
     "checksum": "63565c68dadd69d622904df5c2386da3",
     "grade": false,
     "grade_id": "cell-d7ed2b30adbb608b",
     "locked": true,
     "schema_version": 3,
     "solution": false,
     "task": false
    }
   },
   "outputs": [],
   "source": [
    "import sys\n",
    "pyfiles = str(sc.getConf().get(u'spark.submit.pyFiles')).split(',')\n",
    "sys.path.extend(pyfiles)\n",
    "from graphframes import *"
   ]
  },
  {
   "cell_type": "markdown",
   "metadata": {
    "deletable": false,
    "editable": false,
    "nbgrader": {
     "cell_type": "markdown",
     "checksum": "6ae38411c820501d5d4d5bb33cb1f3fa",
     "grade": false,
     "grade_id": "cell-4eb5d1ee55df827d",
     "locked": true,
     "schema_version": 3,
     "solution": false,
     "task": false
    }
   },
   "source": [
    "El primer que anem a fer és crear un objecte ```GraphFrame``` que contindrà tota la informació de la xarxa.\n",
    "\n",
    "En un pas previ ja hem creat la *edge list* ara crearem una llista amb els vèrtexs. Crear una taula ```vértices``` que contingui una única columna ``` id``` amb els nom d'usuari de tots els vèrtexs. Recordeu que hi ha vèrtexs que pot ser que només tinguin arestes incidents i altres que potser no tinguin (heu de fer servir la informació de les dues columnes de la ```edgelist```). Recordeu que la llista de vèrtexs és un conjunt on no hi pot haver repetició d'identificadors!"
   ]
  },
  {
   "cell_type": "code",
   "execution_count": 77,
   "metadata": {
    "deletable": false,
    "nbgrader": {
     "cell_type": "code",
     "checksum": "c769e75f0205604516ee772620012060",
     "grade": false,
     "grade_id": "cell-5223320eddb5e2df",
     "locked": false,
     "schema_version": 3,
     "solution": true,
     "task": false
    }
   },
   "outputs": [
    {
     "name": "stdout",
     "output_type": "stream",
     "text": [
      "There are 682 nodes on the network.\n"
     ]
    }
   ],
   "source": [
    "vertices = outDegree.join(inDegree,['screen_name'],\"fullouter\")\n",
    "\n",
    "# Show the count of nodes\n",
    "N = vertices.count()\n",
    "print(\"There are {0} nodes on the network.\".format(N))"
   ]
  },
  {
   "cell_type": "code",
   "execution_count": 78,
   "metadata": {
    "deletable": false,
    "editable": false,
    "nbgrader": {
     "cell_type": "code",
     "checksum": "4a05e368d18200e0a1c614536278e525",
     "grade": true,
     "grade_id": "cell-174493e69b3b15ae",
     "locked": true,
     "points": 0.25,
     "schema_version": 3,
     "solution": false,
     "task": false
    }
   },
   "outputs": [],
   "source": [
    "assert N == 682, 'Incorrect output'"
   ]
  },
  {
   "cell_type": "markdown",
   "metadata": {
    "deletable": false,
    "editable": false,
    "nbgrader": {
     "cell_type": "markdown",
     "checksum": "11473bc2fd81d98e542e4dc8668cac13",
     "grade": false,
     "grade_id": "cell-1bf3c068c7f4d9c6",
     "locked": true,
     "schema_version": 3,
     "solution": false,
     "task": false
    }
   },
   "source": [
    "A l'igual que amb les arestes, podeu assignar atributs als vèrtexs. Genereu la taula `vertices_extended` fent un *inner join* per ``` id``` amb la taula ```user_info``` guardada en el context ``` hiveContext```. Ordeneu la taula resultant per followers en ordre descendent.\n"
   ]
  },
  {
   "cell_type": "code",
   "execution_count": 79,
   "metadata": {
    "deletable": false,
    "nbgrader": {
     "cell_type": "code",
     "checksum": "ee29a87d4bdf678c73a94b6f1543b82c",
     "grade": false,
     "grade_id": "cell-f9e24aabf014646e",
     "locked": false,
     "schema_version": 3,
     "solution": true,
     "task": false
    }
   },
   "outputs": [
    {
     "name": "stdout",
     "output_type": "stream",
     "text": [
      "+-------------+----+------+------------+---------+---------+\n",
      "|           id|lang|tweets|total_tweets|following|followers|\n",
      "+-------------+----+------+------------+---------+---------+\n",
      "|000001Account|  en|     9|         107|       89|        2|\n",
      "|     00000365|  en|     1|         754|      685|      189|\n",
      "+-------------+----+------+------------+---------+---------+\n",
      "\n",
      "+---------------+---------+--------+----+------+------------+---------+---------+\n",
      "|             id|outDegree|inDegree|lang|tweets|total_tweets|following|followers|\n",
      "+---------------+---------+--------+----+------+------------+---------+---------+\n",
      "|        el_pais|     null|       3|  es|   880|      478720|      756|  6904062|\n",
      "|Pablo_Iglesias_|     null|       4|  es|   160|       20949|     2831|  2297175|\n",
      "|   ahorapodemos|     null|      37|  es|   858|      100336|     1571|  1381944|\n",
      "|  Albert_Rivera|     null|       2|  es|   122|       54980|     2581|  1127429|\n",
      "|        agarzon|     null|       1|  es|   134|       58265|     1204|  1049193|\n",
      "|sanchezcastejon|     null|       6|  es|   146|       25232|     6126|  1025272|\n",
      "|     eldiarioes|     null|       3|  es|  1082|      196012|      467|   978114|\n",
      "|       iescolar|     null|       2|  es|   266|       75294|     5574|   939790|\n",
      "|     publico_es|     null|       1|  es|   742|      349214|     1471|   934593|\n",
      "|           KRLS|     null|       6|  ca|   129|       18732|     4270|   754475|\n",
      "|      populares|     null|      25|  es|   748|       82229|     4469|   708893|\n",
      "|           PSOE|     null|      45|  es|  1085|       96635|    13644|   680626|\n",
      "|    elperiodico|     null|       1|  es|   521|      399635|    18446|   613042|\n",
      "|         iunida|     null|       3|  es|   586|       96033|    10255|   564099|\n",
      "|   CiudadanosCs|     null|      26|  es|  1359|      130740|    92934|   524129|\n",
      "|     MonederoJC|     null|       1|  es|    78|       13905|      998|   514714|\n",
      "|  InesArrimadas|     null|       1|  es|   107|        3737|     1260|   502455|\n",
      "|revistamongolia|     null|       1|  es|   240|      128199|     3381|   435101|\n",
      "|           COPE|     null|       1|  es|   656|      169877|      161|   367094|\n",
      "|   Esquerra_ERC|     null|       5|  ca|  1256|      111477|    99387|   363474|\n",
      "+---------------+---------+--------+----+------+------------+---------+---------+\n",
      "\n"
     ]
    }
   ],
   "source": [
    "query = \"\"\"\n",
    "SELECT * \n",
    "FROM user_info\n",
    "\"\"\"\n",
    "user_info = hiveContext.sql(query)\n",
    "user_info.limit(2).show()\n",
    "\n",
    "vertices = vertices.withColumnRenamed(\"screen_name\",\"id\")\n",
    "vertices_extended = vertices.join(user_info, ['id'],\"inner\")\n",
    "vertices_extended = vertices_extended.orderBy(vertices_extended.followers.desc())\n",
    "vertices_extended.limit(20).show()"
   ]
  },
  {
   "cell_type": "code",
   "execution_count": 80,
   "metadata": {
    "deletable": false,
    "editable": false,
    "nbgrader": {
     "cell_type": "code",
     "checksum": "477a9a61ef3b1e9998a6d148dbaeb7ad",
     "grade": true,
     "grade_id": "cell-b3fa48a27337ee8b",
     "locked": true,
     "points": 0.075,
     "schema_version": 3,
     "solution": false,
     "task": false
    }
   },
   "outputs": [],
   "source": [
    "output = vertices_extended.first()\n",
    "assert output.id == \"el_pais\" and output.lang == \"es\" and output.followers == 6904062"
   ]
  },
  {
   "cell_type": "markdown",
   "metadata": {
    "deletable": false,
    "editable": false,
    "nbgrader": {
     "cell_type": "markdown",
     "checksum": "0f61e5d046452b4288c73b1f5c87af67",
     "grade": false,
     "grade_id": "cell-3b15d252aa31f8d5",
     "locked": true,
     "schema_version": 3,
     "solution": false,
     "task": false
    }
   },
   "source": [
    "UnaUn cop tenim l'edgelist i la llista de vèrtexs estem en disposició d'instanciar [un objecte ```GraphFrame```](https://graphframes.github.io/graphframes/docs/_site/api/python/graphframes.html ). Instancieu aquest objecte a la variable ```network```."
   ]
  },
  {
   "cell_type": "code",
   "execution_count": 81,
   "metadata": {
    "deletable": false,
    "nbgrader": {
     "cell_type": "code",
     "checksum": "5ed9389b626938c912b46613a110b2f4",
     "grade": false,
     "grade_id": "cell-e3a653e229dddcb4",
     "locked": false,
     "schema_version": 3,
     "solution": true,
     "task": false
    }
   },
   "outputs": [],
   "source": [
    "from graphframes import GraphFrame\n",
    "\n",
    "# Assuming you have 'edgelist' and 'vertices' DataFrames\n",
    "network = GraphFrame(vertices, edgelist)"
   ]
  },
  {
   "cell_type": "code",
   "execution_count": 82,
   "metadata": {
    "deletable": false,
    "editable": false,
    "nbgrader": {
     "cell_type": "code",
     "checksum": "a7a4ecc4fd7c58c79e5f0a7e28f82349",
     "grade": true,
     "grade_id": "cell-dc9f7c83382037ae",
     "locked": true,
     "points": 0.075,
     "schema_version": 3,
     "solution": false,
     "task": false
    }
   },
   "outputs": [],
   "source": [
    "assert type(network) == GraphFrame, \"Incorrect answer\""
   ]
  },
  {
   "cell_type": "markdown",
   "metadata": {
    "deletable": false,
    "editable": false,
    "nbgrader": {
     "cell_type": "markdown",
     "checksum": "e84af56a5b2ff82a66ebe17f5efa3c25",
     "grade": false,
     "grade_id": "cell-7b74e86f41949456",
     "locked": true,
     "schema_version": 3,
     "solution": false,
     "task": false
    }
   },
   "source": [
    "L'objecte que acabeu de crear té molts atributs i mètodes per a l'anàlisis de xarxes [(comproveu l'API)](https://graphframes.github.io/graphframes/docs/_site/api/python/graphframes.html). Es demana que utilitzeu l'atribut ```inDegrees``` de l'objecte que acabeu de crear per, conjuntament amb la transformació ``` orderBy```, generar una taula `inDegreeGraph` ordenada descendentement per grau.\n",
    "\n"
   ]
  },
  {
   "cell_type": "code",
   "execution_count": 83,
   "metadata": {
    "deletable": false,
    "nbgrader": {
     "cell_type": "code",
     "checksum": "3a2edb6f9e9ec058b6aa5c8215050b3f",
     "grade": false,
     "grade_id": "cell-e2800f766932fb2b",
     "locked": false,
     "schema_version": 3,
     "solution": true,
     "task": false
    }
   },
   "outputs": [
    {
     "name": "stdout",
     "output_type": "stream",
     "text": [
      "+---------------+--------+\n",
      "|             id|inDegree|\n",
      "+---------------+--------+\n",
      "|           PSOE|      45|\n",
      "|   ahorapodemos|      37|\n",
      "|   CiudadanosCs|      26|\n",
      "|         vox_es|      26|\n",
      "|      populares|      25|\n",
      "|  Santi_ABASCAL|      18|\n",
      "|Front_Republica|       9|\n",
      "|      JuntsXCat|       9|\n",
      "|  AlbanoDante76|       7|\n",
      "|sanchezcastejon|       6|\n",
      "|           KRLS|       6|\n",
      "|    CastigadorY|       5|\n",
      "|   Esquerra_ERC|       5|\n",
      "|    protestona1|       5|\n",
      "|     rcabrero75|       4|\n",
      "|Pablo_Iglesias_|       4|\n",
      "| AntonioMaestre|       4|\n",
      "|socialistes_cat|       4|\n",
      "|       marubimo|       4|\n",
      "|       ivanedlm|       4|\n",
      "+---------------+--------+\n",
      "\n"
     ]
    }
   ],
   "source": [
    "# Order by degree in descending order\n",
    "inDegreeGraph = network.inDegrees.orderBy('inDegree', ascending=False)\n",
    "\n",
    "# Show the resulting table\n",
    "inDegreeGraph.limit(20).show()"
   ]
  },
  {
   "cell_type": "code",
   "execution_count": 84,
   "metadata": {
    "deletable": false,
    "editable": false,
    "nbgrader": {
     "cell_type": "code",
     "checksum": "d17f1747eb0b3a17e4abbbd5c7687521",
     "grade": true,
     "grade_id": "cell-2de83c2ac5675360",
     "locked": true,
     "points": 0.05,
     "schema_version": 3,
     "solution": false,
     "task": false
    }
   },
   "outputs": [],
   "source": [
    "output = inDegreeGraph.first()\n",
    "assert output.id == \"PSOE\" and output.inDegree == 45, \"Incorrect answer\""
   ]
  },
  {
   "cell_type": "markdown",
   "metadata": {
    "deletable": false,
    "editable": false,
    "nbgrader": {
     "cell_type": "markdown",
     "checksum": "7b8b6c02cbb57520b9bebc3099ce3a61",
     "grade": false,
     "grade_id": "cell-ca772769d5a97313",
     "locked": true,
     "schema_version": 3,
     "solution": false,
     "task": false
    }
   },
   "source": [
    "Feu el mateix amb l'atribut ```outDegrees``` per, conjuntament amb la transformació ``` orderBy```,  generar una taula `outDegreeGraph` que conteng</mark> la informació del out degree en orden descendente.\n"
   ]
  },
  {
   "cell_type": "code",
   "execution_count": 85,
   "metadata": {
    "deletable": false,
    "nbgrader": {
     "cell_type": "code",
     "checksum": "77e9dcf86ad78877e509a67ae4640866",
     "grade": false,
     "grade_id": "cell-e4623aa725e82ecc",
     "locked": false,
     "schema_version": 3,
     "solution": true,
     "task": false
    }
   },
   "outputs": [
    {
     "name": "stdout",
     "output_type": "stream",
     "text": [
      "+---------------+---------+\n",
      "|             id|outDegree|\n",
      "+---------------+---------+\n",
      "|    Manudocalin|        3|\n",
      "|  antoniobb1953|        3|\n",
      "|     carrasquem|        2|\n",
      "|     Nacho_JISF|        2|\n",
      "|       cukianaa|        2|\n",
      "|    Karmaleonic|        2|\n",
      "|       anap1958|        2|\n",
      "| lanzarotejesus|        2|\n",
      "| Maria_pilar_ga|        2|\n",
      "|      Juancarfg|        2|\n",
      "|    mariasvilas|        2|\n",
      "|     ArwenPlaza|        2|\n",
      "|    RosaMar6254|        2|\n",
      "| ALFONSOLODEIRO|        2|\n",
      "|     mirovira75|        2|\n",
      "|      ppoleiros|        2|\n",
      "|Migueln53227148|        2|\n",
      "|    mariaje1956|        2|\n",
      "|  mariarossa004|        2|\n",
      "|      fatimar56|        2|\n",
      "+---------------+---------+\n",
      "\n"
     ]
    }
   ],
   "source": [
    "# Calculate out-degrees\n",
    "outDegreeGraph = network.outDegrees.orderBy(\"outDegree\",ascending=False)\n",
    "\n",
    "# Show the resulting table\n",
    "outDegreeGraph.limit(20).show()"
   ]
  },
  {
   "cell_type": "code",
   "execution_count": 86,
   "metadata": {
    "deletable": false,
    "editable": false,
    "nbgrader": {
     "cell_type": "code",
     "checksum": "0805f4f98ce009866b4286ac98107995",
     "grade": true,
     "grade_id": "cell-106c397eb883e5cd",
     "locked": true,
     "points": 0.05,
     "schema_version": 3,
     "solution": false,
     "task": false
    }
   },
   "outputs": [],
   "source": [
    "output = outDegreeGraph.first()\n",
    "assert output.id == \"Manudocalin\" and output.outDegree == 3, \"Incorrect answer\""
   ]
  },
  {
   "cell_type": "markdown",
   "metadata": {
    "deletable": false,
    "editable": false,
    "nbgrader": {
     "cell_type": "markdown",
     "checksum": "4a73446630367a46c572f122bf7c3259",
     "grade": false,
     "grade_id": "cell-a7055035515a3473",
     "locked": true,
     "schema_version": 3,
     "solution": false,
     "task": false
    }
   },
   "source": [
    "### **Part 5:** Vídeo resposta - Dataframes (2 punt)\n",
    "\n",
    "En aquest apartat s'haurà de respondre a les qüestions que es mostren a continuació mitjançant un vídeo resposta d'entre 5 i 10 minuts. Heu de realitzar una gravació en la qual se us vegi la cara responent amb les vostres pròpies paraules a les qüestions. Heu de seguir els següents punts per a realitzar el vídeo:\n",
    "\n",
    "Al principi del vídeo heu de dir el vostre nom i DNI mentre mostreu el DNI (que ha de veure's amb claredat i ser llegible).\n",
    "\n",
    "Heu de respondre a les preguntes en l'ordre en el qual estan, comentant sempre al principi de cada resposta a quina pregunta us esteu referint.\n",
    "\n",
    "En el cas de no respondre a alguna pregunta, heu d'indicar el quina pregunta no contesteu i el perquè.\n",
    "\n",
    "### Preguntes\n",
    "\n",
    "1 - Expliqueu com s'ha treballat en grup (organització de tasques, canals de comunicació, etc.) i que ha fet cada membre del grup.\n",
    "\n",
    "2 - Explica les diferències entre un SGBDR i Apatxe Hive.\n",
    "\n",
    "3 - Explica les relacions que existeix entre Apatxe Hive, el seu Metastore i HDFS. \n",
    "\n",
    "4 - Realitza una comparativa detallada entre Apatxe Hive i Impala. \n",
    "\n",
    "5 - Explica el funcionament de Spark Accumulator \n",
    "\n",
    "6 - Explica quines opcions et semblen més útils per a connectar-se a una \"Font de dades\" amb Spark SQL"
   ]
  },
  {
   "cell_type": "markdown",
   "metadata": {
    "deletable": false,
    "editable": false,
    "nbgrader": {
     "cell_type": "markdown",
     "checksum": "967812226da1909c7ca877661a960db3",
     "grade": false,
     "grade_id": "cell-bf36386e9ef1997b",
     "locked": true,
     "points": 2,
     "schema_version": 3,
     "solution": false,
     "task": true
    }
   },
   "source": [
    "#Pugeu el vídeo al canvas."
   ]
  },
  {
   "cell_type": "markdown",
   "metadata": {},
   "source": [
    "**2 -** Els sistemes de gestió de bases de dades relacionals (RDBMS) i Apache Hive són tecnologies de bases de dades, però tenen diferències significatives EN quant a casos d'ús, models de dades, llenguatges de consulta i escalabilitat. Aquestes són les diferències clau entre RDBMS i Apache Hive:\n",
    "\n",
    "- **Model de dades**:\n",
    "    - RDBMS: emmagatzemen dades en taules estructurades amb un esquema predefinit. Les dades s'organitzen en files i columnes, i les relacions entre taules normalment es defineixen mitjançant claus primàries i forasteres.\n",
    "    \n",
    "    - Apache Hive: dissenyat per treballar amb grans volums de dades estructurades i semiestructurades emmagatzemades al sistema de fitxers distribuïts de Hadoop (HDFS). El model de dades de Hive és més flexible i pot gestionar l'esquema a la lectura, cosa que li permet treballar amb diferents formats de dades.\n",
    "    \n",
    "- **Llengutage de consulta**:\n",
    "\n",
    "    - RDBMS: utilitzen SQL  per consultar i manipular dades. \n",
    "    - Apache Hive: utilitza HiveQL (HQL), que és similar a SQL, però està dissenyat per consultar i analitzar dades a Hadoop. \n",
    "    \n",
    "- **Casos d'ús**:\n",
    "\n",
    "    - RDBMS: adequat per al processament transaccional i la gestió de dades estructurades com pot ser el comerç electrònic, gestió de relacions amb els clients (CRM) i sistemes financers.\n",
    "    - Apache HIVE:  dissenyat per al processament per lots, l'emmagatzematge de dades i l'anàlisi de dades a gran escala.\n",
    "    \n",
    "- **Escalabilitat**:\n",
    "\n",
    "    - RDBMS: solen ser escalables verticalment, la qual cosa significa que poden gestionar més càrregues afegint més recursos (p. ex., CPU, RAM) a un sol servidor.\n",
    "    - Apache Hive: són escalables horitzontalment, el que el fa molt adequat per a entorns de grans dades. \n",
    "    \n",
    "- **Emmagatzematge de dades**: \n",
    "\n",
    "    - RDBMS: emmagatzemen dades en motors d'emmagatzematge estructurats amb mecanismes d'indexació i recuperació de dades optimitzats.\n",
    "    - Apache Hive: emmagatzema dades principalment a HDFS, un sistema de fitxers distribuït. \n",
    "    \n",
    "- **Rendiment**:\n",
    "\n",
    "    - RDBMS: estan optimitzats per a un rendiment en temps real de baixa latència en aplicacions transaccionals. Proporcionen operacions ràpides de lectura i escriptura per a càrregues de treball OLTP.\n",
    "    - Apache Hive: optimitzat per al processament per lots i consultes analítiques, el que el fa més adequat per a càrregues de treball OLAP (processament analític en línia). \n",
    "    \n",
    "- **Ecosistema**:\n",
    "\n",
    "    - RDBMS: s'utilitzen  amb una àmplia gamma d'eines i plataformes per al desenvolupament d'aplicacions i l'anàlisi de dades.\n",
    "    - Apache Hive: forma part de l'ecosistema Apache Hadoop i funciona perfectament amb altres components Hadoop com HDFS, HBase, Spark, Pig i molt més."
   ]
  },
  {
   "cell_type": "markdown",
   "metadata": {},
   "source": [
    "**3 -** Les relacions entre aquests components són les següents:\n",
    "\n",
    "- **Hive i HDFS**:\n",
    "\n",
    "    - Hive interactua amb HDFS per llegir i escriure dades. Les taules i les particions de Hive es mapegen a directoris i fitxers a HDFS.\n",
    "    - Quan es crea una taula a Hive, proporciona una definició d'esquema lògic, però les dades reals s'emmagatzemen a HDFS. Normalment, cada taula correspon a un directori a HDFS.\n",
    "    - Les consultes de Hive utilitzen el Metastore per comprendre l'estructura i la ubicació dels fitxers de dades a HDFS.\n",
    "    - Les consultes de HiveQL les executa el Motor de Consultes de Hive, que les tradueix en tasques MapReduce o en altres motors d'execució com Apache Tez o Apache Spark. Aquestes tasques processen les dades a HDFS i retornen resultats.\n",
    "    \n",
    "- **Hive Metastore i HDFS**:\n",
    "\n",
    "    - El Metastore de Hive emmagatzema metadades sobre les taules de Hive, les seves particions, els esquemes i més. Aquestes metadades inclouen informació sobre la ubicació dels fitxers de dades a HDFS.\n",
    "    - El Metastore no emmagatzema les dades reals, però fa un seguiment de la ubicació de les dades a HDFS.\n",
    "    - Quan creeu, modifiqueu o consulteu taules de Hive, el Metastore es consulta per proporcionar informació sobre els fitxers de dades a HDFS.\n",
    "    \n",
    "    \n",
    "En resum, Apache Hive utilitza el Metastore de Hive per gestionar metadades sobre taules i particions, mentre que les dades reals s'emmagatzemen a HDFS. El Metastore ajuda als usuaris a interactuar i fer consultes sobre grans conjunts de dades a HDFS proporcionant un esquema estructurat i metadades. La integració entre Hive, el Metastore i HDFS és fonamental per fer accessibles als usuaris amb habilitats semblants a SQL l'anàlisi i la consulta de dades a gran escala."
   ]
  },
  {
   "cell_type": "markdown",
   "metadata": {},
   "source": [
    "**4 -** Apache Hive i Impala són dues tecnologies que pertanyen a l'ecosistema de Big Data d'Apache, i es fan servir per processar dades a gran escala. Tot i que tenen objectius semblants, hi ha algunes diferències importants entre elles:\n",
    "\n",
    "- **Naturalesa del Motor de Consulta**:\n",
    "\n",
    "    - Hive: Utilitza un motor de consulta retardada. Les consultes s'interpreten i s'executen en lot a través de tasques MapReduce, Tez o Spark. Per tant, pot tenir una latència més alta per a consultes interactives.\n",
    "    - Impala: Utilitza un motor de consulta en temps real. Les consultes s'executen de manera directa i interactiva amb un rendiment semblant al d'un sistema d'obertura relacional (RDBMS).\n",
    "\n",
    "- **Llenguatge de Consulta**:\n",
    "\n",
    "    - Hive: Utilitza HiveQL, un llenguatge semblant a SQL que permet als usuaris realitzar consultes SQL en un entorn Hadoop.\n",
    "    - Impala: També utilitza SQL, amb suport total per ANSI SQL.\n",
    "\n",
    "- **Optimització**:\n",
    "\n",
    "    - Hive: Les consultes s'optimitzen a través de tasques MapReduce, i poden requerir d'ajustaments manuals dels paràmetres per obtenir un rendiment òptim.\n",
    "    - Impala: Utilitza un optimitzador d'arbre de consulta que permet optimitzar automàticament les consultes i ajustar-se a les característiques de l'arquitectura d'Impala.\n",
    "\n",
    "- **Latència**:\n",
    "\n",
    "    - Hive: Té una latència més alta, ja que les consultes es processen en lot i poden trigar més temps.\n",
    "    - Impala: Ofereix una latència baixa per a consultes interactives. Les consultes es processen ràpidament, fent que sigui adequat per a entorns on la latència és crítica.\n",
    "\n",
    "- **Processament en Memòria**:\n",
    "\n",
    "    - Hive: No està dissenyat per a processament en memòria. Les dades solen emmagatzemar-se a HDFS i processar-se en disc.\n",
    "    - Impala: Està dissenyat per processar dades en memòria. Això el converteix en una opció més eficaç per a consultes interactives ràpides.\n",
    "\n",
    "- **Suport de Seguretat**:\n",
    "\n",
    "    - Hive: Ofereix una integració sòlida amb Apache Ranger i suport d'integració amb LDAP.\n",
    "    - Impala: També s'integra amb Apache Ranger i ofereix característiques avançades de seguretat.\n",
    "\n",
    "- **Ús de Recursos**:\n",
    "\n",
    "    - Hive: Utilitza una gestió més gran dels recursos, i les consultes poden ser més complexes per configurar.\n",
    "    - Impala: És més senzill en la gestió dels recursos, i les consultes són més senzilles d'ajustar.\n",
    "\n",
    "- **Casos d'ús**:\n",
    "\n",
    "    - Hive: És adequat per al processament en lot, treball analític complex i integració amb eines d'obertura com Spark i MapReduce.\n",
    "    - Impala: S'utilitza principalment per a consultes SQL interactives i ràpides, especialment en casos d'ús en què la latència és crítica."
   ]
  },
  {
   "cell_type": "markdown",
   "metadata": {},
   "source": [
    "**5 -** Un Spark Accumulator és una eina d'ús avançat que es fa servir en Apache Spark per a realitzar càlculs i recopilar dades de manera distribuïda en clústers. És especialment útil quan vols que diferents tasques o nodes d'execució processin dades i acumulin un resultat global sense que s'hagi de fer un pull de les dades de tots els nodes. La descripció del funcionament d'un Spark Accumulator seria la següent:\n",
    "\n",
    "- **Creació d'un Accumulator**: Crear un Spark Accumulator per a diferents tipus de dades, com ara enters, decimals o altres tipus de dades.\n",
    "\n",
    "- **Assignació de l'Accumulator a les Tasques**: l'assignarem a les tasques que s'executen en el clúster. Les tasques poden actualitzar el valor de l'Accumulator durant l'execució.\n",
    "\n",
    "- **Processament Distribuït**: Les tasques, que es distribueixen en nodes diferents del clúster, processen les dades i actualitzen el valor de l'Accumulator com si fos una variable compartida. Aquesta actualització no requereix que es faci una etapa d'extracció (pull) de les dades.\n",
    "\n",
    "- **Lectura del Resultat**: Un cop totes les tasques han finalitzat i l'Accumulator ha estat actualitzat a través del processament distribuït, es pot llegir el resultat final.\n",
    "\n",
    "- **Conservació de la Persistència**: L'Accumulator manté la persistència dels seus valors i, per tant, s'hi pot accedir posteriorment després de la finalització d'una tasca. Els valors de l'Accumulator es poden fer servir per a estadístiques, seguiment o altres operacions.\n",
    "\n",
    "Finalment, destacar que l'ús principal d'un Spark Accumulator és recopilar dades de manera distribuïda sense la necessitat de comunicació i extracció de dades explícites entre nodes. Això el converteix en una eina poderosa per al seguiment de resultats i el càlcul de dades globals en clústers d'Apache Spark. "
   ]
  },
  {
   "cell_type": "markdown",
   "metadata": {},
   "source": [
    "**6 -** En Spark SQL, hi ha diverses opcions per connectar-se a una font de dades. La seva elecció dependrà del tipus de font de dades i dels requisits específics del teu projecte. Algunes opcions que poden ser útils són:\n",
    "\n",
    "- **JDBC (Java Database Connectivity)**: Si volem connectar-nos a una base de dades relacional com MySQL, PostgreSQL o Oracle, JDBC és una opció viable. Podem utilitzar la classe org.apache.spark.sql.DataFrameReader per llegir dades de bases de dades mitjançant JDBC.\n",
    "\n",
    "- **Parquet**: Si la font de dades està en format Parquet, Spark SQL ofereix un suport nat al format. És un format molt eficient i amplament utilitzat en l'ecosistema de Hadoop.\n",
    "\n",
    "- **CSV**: Per a fonts de dades en format CSV, Spark SQL ofereix una opció senzilla i eficient. Es pot llegir dades CSV especificant l'opció csv com a format.\n",
    "\n",
    "- **Avro**: L'Avro és un format de dades binari molt útil per a fonts de dades que requereixen l'estructura de les dades. Spark SQL suporta Avro i permet llegir i escriure dades en aquest format.\n",
    "\n",
    "- **JSON**:  Spark SQL també proporciona suport per a aquest format. Es pot llegir i escriure dades JSON amb facilitat.\n",
    "\n",
    "- **Kafka**: Spark SQL permet connectar-se a un clúster de Kafka i llegir dades de temes de Kafka.\n",
    "\n",
    "Destacar que a selecció de l'opció més adient depèn de les característiques de la font de dades, la seva complexitat i els requeriments específics del cas d'ús. Les opcions anteriors representen algunes de les opcions més comunes i versàtils que Spark SQL ofereix per a la connexió amb fonts de dades."
   ]
  },
  {
   "cell_type": "markdown",
   "metadata": {},
   "source": [
    "Video -> https://drive.google.com/file/d/1rkJH-jjvc2BfNPO3aQ1TUwC4y48l6LHX/view?usp=sharing"
   ]
  }
 ],
 "metadata": {
  "kernelspec": {
   "display_name": "Python 3",
   "language": "python",
   "name": "python3"
  },
  "language_info": {
   "codemirror_mode": {
    "name": "ipython",
    "version": 3
   },
   "file_extension": ".py",
   "mimetype": "text/x-python",
   "name": "python",
   "nbconvert_exporter": "python",
   "pygments_lexer": "ipython3",
   "version": "3.5.2"
  },
  "toc-autonumbering": false,
  "toc-showcode": false,
  "toc-showmarkdowntxt": false,
  "toc-showtags": false
 },
 "nbformat": 4,
 "nbformat_minor": 4
}
