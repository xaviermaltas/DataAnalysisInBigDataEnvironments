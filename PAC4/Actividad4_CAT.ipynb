{
 "cells": [
  {
   "cell_type": "markdown",
   "metadata": {},
   "source": [
    "Before you turn this problem in, make sure everything runs as expected. First, **restart the kernel** (in the menubar, select Kernel$\\rightarrow$Restart) and then **run all cells** (in the menubar, select Cell$\\rightarrow$Run All).\n",
    "\n",
    "Make sure you fill in any place that says `YOUR CODE HERE` or \"YOUR ANSWER HERE\", as well as your name and collaborators below:"
   ]
  },
  {
   "cell_type": "code",
   "execution_count": null,
   "metadata": {},
   "outputs": [],
   "source": [
    "NAME = \"XAVIER MALTAS TARRIDAS\"\n",
    "COLLABORATORS = \"\""
   ]
  },
  {
   "cell_type": "markdown",
   "metadata": {},
   "source": [
    "---"
   ]
  },
  {
   "cell_type": "markdown",
   "metadata": {
    "deletable": false,
    "editable": false,
    "nbgrader": {
     "cell_type": "markdown",
     "checksum": "f76151ddba40d26b70ee07cae7ccd4a4",
     "grade": false,
     "grade_id": "intro",
     "locked": true,
     "schema_version": 3,
     "solution": false,
     "task": false
    }
   },
   "source": [
    "![Spark Logo](http://spark-mooc.github.io/web-assets/images/ta_Spark-logo-small.png)  ![Python Logo](http://spark-mooc.github.io/web-assets/images/python-logo-master-v3-TM-flattened_small.png)\n",
    "# Activitat 4: Octubre 2023\n",
    "\n",
    "## Extracció de coneixement de fonts de dades heterogènies mitjançant Spark SQL, RDDs i GraphFrames\n",
    "\n",
    "En aquesta pràctica anem a introduir els elements que ofereix Spark per treballar amb estructures de dades. Veurem des d'estructures molt simples fins a estructures complexes,n els camps poden al seu torn tenir camps imbricats. En concret utilitzarem dades de twitter capturats en el context de les eleccions generals a Espanya de l'28 d'Abril de 2019. La pràctica està estructurada de la següent manera:\n",
    "- **Part 0:** Configuració de l'entorn\n",
    "- **Part 1:** Introducció a data frames estructurats i com operar extreure informació *(2 punts)*\n",
    "    - **Part 1.1:** Importa les dades *(0.25 punts)*\n",
    "    - **Part 1.2:** *Queries* sobre sobre data frames complexos *(1.75 punts)*\n",
    "        - **Part 1.2.1:** Queries SQL *(0.75 punts)*\n",
    "        - **Part 1.2.2:** Queries sobre el pipeline *(1 punt)*\n",
    "- **Part 2:** Bases de dades HIVE i operacions complexes *(3 punts)*\n",
    "    - **Part 2.1:** Bases de dades Hive *(0.25 punts)*\n",
    "    - **Part 2.2:** Més enllà de les transformacions SQL *(2.75 punts)*\n",
    "        - **Part 2.2.1:** Tweets per població  *(1.25 punts)*\n",
    "            - **Part 2.2.1.1:** Utilizant SQL *(0.25 punts)*\n",
    "            - **Part 2.2.1.2:** Utilizant RDD *(1 punt)*\n",
    "        - **Part 2.2.2:** Comptar hashtags *(1.5 punts)*\n",
    "- **Part 3:** Sampling *(1.5 punts)*\n",
    "    - **Part 3.1:** Homogeni *(0.5 punt)*\n",
    "    - **Part 3.2:** Estratificat *(1 punts)*\n",
    "- **Part 4**: Introducció a les dades relacionals *(1.5 punts)*\n",
    "    - **Part 4.1:** Generar la xarxa de retweets *(1 punt)*\n",
    "        - **Part 4.1.1**: Construcció de l'edgelist *(0.5 punts)*\n",
    "        - **Part 4.1.2**: Centralidad de grau *(0.5 punts)*\n",
    "    - **Part 4.2:** Anàlisi de xarxes utilitzant GraphFrames *(0.5 punt)*\n",
    "- **Part 5**: Preguntes teòriques *(2 punts)*    "
   ]
  },
  {
   "cell_type": "markdown",
   "metadata": {
    "deletable": false,
    "editable": false,
    "nbgrader": {
     "cell_type": "markdown",
     "checksum": "b3d58739209664d7a6d8c24859383f11",
     "grade": false,
     "grade_id": "Parte0_header",
     "locked": true,
     "schema_version": 3,
     "solution": false,
     "task": false
    }
   },
   "source": [
    "## **Part 0:** Configuració del entorn"
   ]
  },
  {
   "cell_type": "code",
   "execution_count": 1,
   "metadata": {
    "deletable": false,
    "editable": false,
    "nbgrader": {
     "cell_type": "code",
     "checksum": "1019c3cf9d0efe96cc1d9afdf24f0548",
     "grade": false,
     "grade_id": "importspark",
     "locked": true,
     "schema_version": 3,
     "solution": false,
     "task": false
    }
   },
   "outputs": [],
   "source": [
    "import findspark\n",
    "findspark.init()"
   ]
  },
  {
   "cell_type": "code",
   "execution_count": 2,
   "metadata": {
    "deletable": false,
    "editable": false,
    "nbgrader": {
     "cell_type": "code",
     "checksum": "4ac204ea47d4c0ba2422851f2491df1f",
     "grade": false,
     "grade_id": "importlibraries",
     "locked": true,
     "schema_version": 3,
     "solution": false,
     "task": false
    }
   },
   "outputs": [],
   "source": [
    "import re\n",
    "import os\n",
    "import pandas as pd\n",
    "from matplotlib import pyplot as plt\n",
    "from math import floor\n",
    "from pyspark import SparkConf, SparkContext, SQLContext, HiveContext\n",
    "from pyspark.sql import Row"
   ]
  },
  {
   "cell_type": "code",
   "execution_count": 3,
   "metadata": {},
   "outputs": [],
   "source": [
    "SUBMIT_ARGS = \"--jars /opt/cloudera/parcels/CDH-6.2.0-1.cdh6.2.0.p0.967373/jars/graphframes_graphframes-0.7.0-spark2.4-s_2.11.jar pyspark-shell\"\n",
    "\n",
    "os.environ[\"PYSPARK_SUBMIT_ARGS\"] = SUBMIT_ARGS\n",
    "\n",
    "conf = SparkConf()\n",
    "conf.setMaster(\"local[1]\")\n",
    "# Introduïu el nom de l'app PAC3_ seguit del vostre nom d'usuari\n",
    "conf.setAppName(\"PAC3_xmaltast\")\n",
    "sc = SparkContext(conf=conf)"
   ]
  },
  {
   "cell_type": "markdown",
   "metadata": {
    "deletable": false,
    "editable": false,
    "nbgrader": {
     "cell_type": "markdown",
     "checksum": "689f93742125694b7d0f41c1332f3b0b",
     "grade": false,
     "grade_id": "parte1_1_intro",
     "locked": true,
     "schema_version": 3,
     "solution": false,
     "task": false
    },
    "toc-hr-collapsed": false
   },
   "source": [
    "## **Part 1:** Introducció a DataFrames estructurats i operacions sobre ells.\n",
    "\n",
    "Com ja s'ha esmentat, en aquesta pràctica utilitzarem dades de Twitter que es van recollir durant les eleccions generals a Espanya de l'28 d'abril de 2019. Com veurem, els tweets tenen una estructura interna força complexa tot i que s'ha simplificat una mica en aquesta pràctica.\n",
    "\n",
    "### **Part 1.1:** Importa les dades\n",
    "\n",
    "El primer que anem ha aprendre és com importar aquest tipus de dades al nostre entorn. Un dels tipus d'arxius més comuns per guardar aquest format d'informació és [l'estructura JSON] (https://en.wikipedia.org/wiki/JSON). Aquesta estructura permet registrar informació en text pla de diferents objectes seguint una estructura de diccionari on cada camp té assignat una clau i un valor. L'estructura pot ser imbricada, o sigui que una clau pot tenir com a valor una altra estructura tipus diccionari.\n",
    "\n",
    "Spark SQL permet llegir dades de molts formats diferents. En aquesta ocasió, se us demana que llegiu un [fitxer JSON](https://spark.apache.org/docs/2.4.0/sql-data-sources-json.html) de la ruta ```/aula_M2.858/data/tweets28a_sample.json```. Aquest fitxer conté un petit *sample*, 0.1% de la base de dades completa (en un següent apartat veurem com realitzar aquest *samplejat*). En aquesta ocasió a la funció read no cal especificar l'estructura de l'DataFrame ja que la funció de lectura la inferirà automàticament.\n",
    "\n",
    "**Esquema**\n",
    "\n",
    "```Python\n",
    "sqlContext = SQLContext(sc)\n",
    "tweets_sample = sqlContext.read.<FILL IN>\n",
    "\n",
    "print(\"Loaded dataset contains %d tweets\" % tweets_sample.count())\n",
    "```"
   ]
  },
  {
   "cell_type": "code",
   "execution_count": 4,
   "metadata": {
    "deletable": false,
    "nbgrader": {
     "cell_type": "code",
     "checksum": "7f04ecc8fe795af3dcfd4e51643a90e5",
     "grade": false,
     "grade_id": "load_tweets",
     "locked": false,
     "schema_version": 3,
     "solution": true,
     "task": false
    }
   },
   "outputs": [
    {
     "name": "stdout",
     "output_type": "stream",
     "text": [
      "Loaded dataset contains 27268 tweets\n"
     ]
    }
   ],
   "source": [
    "from pyspark.sql import SparkSession\n",
    "\n",
    "# SparkContext creation\n",
    "sqlContext = SQLContext(sc)\n",
    "\n",
    "# Path to the JSON file\n",
    "json_file_path = \"/aula_M2.858/data/tweets28a_sample.json\"\n",
    "\n",
    "# Read JSON file into a DataFrame\n",
    "tweets_sample = sqlContext.read.json(json_file_path)\n",
    "\n",
    "# Display the number of tweets\n",
    "print(\"Loaded dataset contains %d tweets\" % tweets_sample.count())"
   ]
  },
  {
   "cell_type": "code",
   "execution_count": 5,
   "metadata": {
    "deletable": false,
    "editable": false,
    "nbgrader": {
     "cell_type": "code",
     "checksum": "5b32e31dcac7cd3cb12f5ff8c4ec967f",
     "grade": true,
     "grade_id": "cell-ac6d02ab7a3980d0",
     "locked": true,
     "points": 0.125,
     "schema_version": 3,
     "solution": false,
     "task": false
    }
   },
   "outputs": [],
   "source": [
    "assert tweets_sample.count() == 27268, \"Incorrect answer\""
   ]
  },
  {
   "cell_type": "markdown",
   "metadata": {
    "deletable": false,
    "editable": false,
    "nbgrader": {
     "cell_type": "markdown",
     "checksum": "109ba9f10711a016eacd7f043f650a47",
     "grade": false,
     "grade_id": "cell-0b021e1dd0a4438c",
     "locked": true,
     "schema_version": 3,
     "solution": false,
     "task": false
    }
   },
   "source": [
    "El següent pas és mostrar l'estructura del dataset que acabem de carregar.Podeu obtenir la informació sobre com està estructurat el DataTable utilitzant el mètode ```printSchema()```de la variable `tweets_sample`."
   ]
  },
  {
   "cell_type": "code",
   "execution_count": 6,
   "metadata": {
    "deletable": false,
    "nbgrader": {
     "cell_type": "code",
     "checksum": "df146a278f35e2a4678400c4d6aa15b1",
     "grade": true,
     "grade_id": "print_shema",
     "locked": false,
     "points": 0.125,
     "schema_version": 3,
     "solution": true,
     "task": false
    }
   },
   "outputs": [
    {
     "name": "stdout",
     "output_type": "stream",
     "text": [
      "root\n",
      " |-- _id: string (nullable = true)\n",
      " |-- created_at: long (nullable = true)\n",
      " |-- lang: string (nullable = true)\n",
      " |-- place: struct (nullable = true)\n",
      " |    |-- bounding_box: struct (nullable = true)\n",
      " |    |    |-- coordinates: array (nullable = true)\n",
      " |    |    |    |-- element: array (containsNull = true)\n",
      " |    |    |    |    |-- element: array (containsNull = true)\n",
      " |    |    |    |    |    |-- element: double (containsNull = true)\n",
      " |    |    |-- type: string (nullable = true)\n",
      " |    |-- country_code: string (nullable = true)\n",
      " |    |-- id: string (nullable = true)\n",
      " |    |-- name: string (nullable = true)\n",
      " |    |-- place_type: string (nullable = true)\n",
      " |-- retweeted_status: struct (nullable = true)\n",
      " |    |-- _id: string (nullable = true)\n",
      " |    |-- user: struct (nullable = true)\n",
      " |    |    |-- followers_count: long (nullable = true)\n",
      " |    |    |-- friends_count: long (nullable = true)\n",
      " |    |    |-- id_str: string (nullable = true)\n",
      " |    |    |-- lang: string (nullable = true)\n",
      " |    |    |-- screen_name: string (nullable = true)\n",
      " |    |    |-- statuses_count: long (nullable = true)\n",
      " |-- text: string (nullable = true)\n",
      " |-- user: struct (nullable = true)\n",
      " |    |-- followers_count: long (nullable = true)\n",
      " |    |-- friends_count: long (nullable = true)\n",
      " |    |-- id_str: string (nullable = true)\n",
      " |    |-- lang: string (nullable = true)\n",
      " |    |-- screen_name: string (nullable = true)\n",
      " |    |-- statuses_count: long (nullable = true)\n",
      "\n"
     ]
    }
   ],
   "source": [
    "# Show the structure of the dataset\n",
    "tweets_sample.printSchema()"
   ]
  },
  {
   "cell_type": "markdown",
   "metadata": {
    "deletable": false,
    "editable": false,
    "nbgrader": {
     "cell_type": "markdown",
     "checksum": "52f40de46fa2307d5d2a55b3e8c24bb9",
     "grade": false,
     "grade_id": "expl_schema",
     "locked": true,
     "schema_version": 3,
     "solution": false,
     "task": false
    }
   },
   "source": [
    "Podeu observar que l'estructura de la piulada conté múltiples camps imbricats. Heu de familiaritzar-vos amb aquesta estructura ja que serà la què utilitzarem durant tota aquesta pràctica. Recordeu també que no tots els tweets tenen tots els camps, com ara la ubicació (camp ```place```). Quan això passa el camp és ```NULL```. Podeu veure mes informació sobre aquest tipus de dades en [aquest enllaç](https://developer.twitter.com/en/docs/tweets/data-dictionary/overview/tweet-object)."
   ]
  },
  {
   "cell_type": "markdown",
   "metadata": {
    "deletable": false,
    "editable": false,
    "nbgrader": {
     "cell_type": "markdown",
     "checksum": "4b05dcb866eb5e8ab48920d3d7b47ab8",
     "grade": false,
     "grade_id": "Parte1_2",
     "locked": true,
     "schema_version": 3,
     "solution": false,
     "task": false
    },
    "toc-hr-collapsed": false
   },
   "source": [
    "### **Part 1.2:** *Queries* sobre sobre data frames complexos\n",
    "\n",
    "\n",
    "\n",
    "En aquesta part de la pràctica veurem com fer consultes sobre el dataset que acabem de carregar. A la primera part anem ha utilitzar [sentències *SQL*](https://www.w3schools.com/sql/default.asp) (com les utilitzades en la majoria de bases de dades relacionals). Per finalitzar veurem un sistema alternatiu per fer consultes utilitzant una aproximació més semblant a la que vau veure a la primera PAC."
   ]
  },
  {
   "cell_type": "markdown",
   "metadata": {
    "deletable": false,
    "editable": false,
    "nbgrader": {
     "cell_type": "markdown",
     "checksum": "d15e6bd419bb1f062971f4524395f8d7",
     "grade": false,
     "grade_id": "parte1_2_1",
     "locked": true,
     "schema_version": 3,
     "solution": false,
     "task": false
    }
   },
   "source": [
    "#### **Part 1.2.1:** Queries SQL\n",
    "\n",
    "En primer lloc anem a registrar el nostre DataFrame com una taula de SQL anomenat ```tweets_sample```. Com que és possible que repeteixis aquesta pràctica diverses vegades, anem a prendre la precaució d'eliminar qualsevol taula existent en primer lloc.\n",
    "\n",
    "Podem eliminar qualsevol taula SQL existent `tweets_sample` usant la sentència SQL: `DROP TABLE IF EXISTS tweets_sample`. Per executar una ordre sql només heu de fer servir el mètode SQL de l'objecte context, en aquest cas `sqlContext`.\n",
    "\n",
    "Un cop executat el pas anterior, podem registrar el nostre DataFrame com una taula de SQL utilitzant [sqlContext.registerDataFrameAsTable()](https://spark.apache.org/docs/2.4.0/api/python/pyspark.sql.html#pyspark.sql.SQLContext.registerDataFrameAsTable).\n",
    "\n",
    "**Esquema**\n",
    "```Python\n",
    "sqlContext.sql(<FILL IN>)\n",
    "sqlContext.registerDataFrameAsTable(<FILL IN>)\n",
    "```"
   ]
  },
  {
   "cell_type": "code",
   "execution_count": 7,
   "metadata": {
    "deletable": false,
    "nbgrader": {
     "cell_type": "code",
     "checksum": "769f90cf052a4fb5996ca535210f5822",
     "grade": false,
     "grade_id": "registrotabla",
     "locked": false,
     "schema_version": 3,
     "solution": true,
     "task": false
    }
   },
   "outputs": [
    {
     "name": "stdout",
     "output_type": "stream",
     "text": [
      "Number of rows in 'tweets_sample' table: 27268\n"
     ]
    }
   ],
   "source": [
    "# Drop existing 'tweets_sample' table if it exists\n",
    "sqlContext.sql(\"DROP TABLE IF EXISTS tweets_sample\")\n",
    "\n",
    "# Register the DataFrame as a SQL table named 'tweets_sample'\n",
    "tweets_sample.createOrReplaceTempView(\"tweets_sample\")\n",
    "\n",
    "# Display the count of rows in the registered table\n",
    "#table_count = sqlContext.sql(\"SELECT * FROM tweets_sample\").count()\n",
    "table_count = sqlContext.sql(\"SELECT COUNT(*) FROM tweets_sample\").collect()[0][0]\n",
    "print(\"Number of rows in 'tweets_sample' table: {}\".format(table_count))"
   ]
  },
  {
   "cell_type": "code",
   "execution_count": 8,
   "metadata": {
    "deletable": false,
    "editable": false,
    "nbgrader": {
     "cell_type": "code",
     "checksum": "26ea8b0e7c521e14b87a71e828446a6b",
     "grade": true,
     "grade_id": "cell-8e1ad46863b3e86b",
     "locked": true,
     "points": 0.05,
     "schema_version": 3,
     "solution": false,
     "task": false
    }
   },
   "outputs": [],
   "source": [
    "assert sqlContext.sql(\"SELECT * FROM tweets_sample\").count() == 27268, \"Incorrecct answer\""
   ]
  },
  {
   "cell_type": "markdown",
   "metadata": {
    "deletable": false,
    "editable": false,
    "nbgrader": {
     "cell_type": "markdown",
     "checksum": "156baa06d37e947cf44b28bbf5301f7c",
     "grade": false,
     "grade_id": "agregar1_2_1",
     "locked": true,
     "schema_version": 3,
     "solution": false,
     "task": false
    }
   },
   "source": [
    "Ara es demana que creeu una taula ```users_agg``` amb [la informació agregada] (https://www.w3schools.com/sql/sql_groupby.asp) dels usuaris que tinguin definit el seu idioma (``` user.lang```) com espanyol (```es```). En concret se us demana que la taula contingui les següents columnes:\n",
    "- **screen_name:** nom de l'usuari\n",
    "- **friends_count:** nombre màxim (veure nota) de persones a les que segueix\n",
    "- **tweets:** nombre de tweets realitzats\n",
    "- **followers_count:** nombre màxim (veure nota) persones que segueixen a l'usuari.\n",
    "\n",
    "L'ordre en què s'han de mostrar els registres és ordre descendent d'acord amb el nombre de tweets.\n",
    "\n",
    "***Nota:*** és important que us fixeu en què el nom de *friends* i *followers* pot diferir al llarg de l'adquisició de dades. En aquest cas anem a utilitzar la funció d'agregació ```MAX``` sobre cadascun d'aquests camps per evitar segmentar l'usuari en diverses instàncies.\n",
    "\n",
    "**Esquema**\n",
    "```Python\n",
    "users_agg = sqlContext.sql(<FILL IN>)\n",
    "users_agg.limit(10).show()\n",
    "```"
   ]
  },
  {
   "cell_type": "code",
   "execution_count": 22,
   "metadata": {
    "deletable": false,
    "nbgrader": {
     "cell_type": "code",
     "checksum": "ca3f2c4b070474037ee65868288ed54b",
     "grade": false,
     "grade_id": "aggregar1_2_1_ans",
     "locked": false,
     "schema_version": 3,
     "solution": true,
     "task": false
    }
   },
   "outputs": [
    {
     "name": "stdout",
     "output_type": "stream",
     "text": [
      "+---------------+-------------+------+---------------+\n",
      "|    screen_name|friends_count|tweets|followers_count|\n",
      "+---------------+-------------+------+---------------+\n",
      "|       anaoromi|         6258|    16|           6774|\n",
      "|    RosaMar6254|         6208|    14|           6245|\n",
      "|        lyuva26|         3088|    13|           3732|\n",
      "|PisandoFuerte10|         2795|    12|           1752|\n",
      "|     carrasquem|          147|    12|            215|\n",
      "|       jasalo54|         1889|    11|            689|\n",
      "|  PabloChabolas|         4925|     9|           4042|\n",
      "|      lolalailo|         4922|     9|           3738|\n",
      "|     Lordcrow11|         5002|     9|           3069|\n",
      "|    DuroBelinda|         5242|     9|           5778|\n",
      "+---------------+-------------+------+---------------+\n",
      "\n"
     ]
    }
   ],
   "source": [
    "# Create the users_agg table with aggregated information\n",
    "query = \"\"\"\n",
    "SELECT\n",
    "    user.screen_name AS screen_name,\n",
    "    MAX(user.friends_count) AS friends_count,\n",
    "    COUNT(*) AS tweets,\n",
    "    MAX(user.followers_count) AS followers_count\n",
    "FROM\n",
    "    tweets_sample\n",
    "WHERE\n",
    "    user.lang = 'es'\n",
    "GROUP BY\n",
    "    user.screen_name\n",
    "ORDER BY\n",
    "    tweets DESC\n",
    "\"\"\"\n",
    "\n",
    "# Execute the query and create the users_agg DataFrame\n",
    "users_agg = sqlContext.sql(query)\n",
    "\n",
    "# Show the top 10 records\n",
    "users_agg.limit(10).show()\n"
   ]
  },
  {
   "cell_type": "code",
   "execution_count": 23,
   "metadata": {
    "deletable": false,
    "editable": false,
    "nbgrader": {
     "cell_type": "code",
     "checksum": "1c6d5fadcac19d51cdb929106de1b6b9",
     "grade": true,
     "grade_id": "aggregar1_2_1_test",
     "locked": true,
     "points": 0.3,
     "schema_version": 3,
     "solution": false,
     "task": false
    }
   },
   "outputs": [],
   "source": [
    "output = users_agg.first()\n",
    "assert output.screen_name == 'anaoromi' and output.friends_count == 6258 and output.tweets == 16 and output.followers_count == 6774, \"Incorrect output\""
   ]
  },
  {
   "cell_type": "markdown",
   "metadata": {},
   "source": [
    "Imagineu ara que volem combinar la informació que acabem de generar amb informació sobre el nombre de vegades que un usuari ha estat retuitejat. Per fer aquest tipus de combinacions necessitem recórrer a l'[```JOIN``` de taules](https://www.w3schools.com/sql/sql_join.asp). Primer hem de registrar la taula que acabem de generar en el context SQL. Recordeu que primer heu de comprovar si la taula existeix i en cas afirmatiu eliminar-la. La taula heu de registrar-la sota el nom de ```user_agg```."
   ]
  },
  {
   "cell_type": "code",
   "execution_count": 38,
   "metadata": {
    "deletable": false,
    "nbgrader": {
     "cell_type": "code",
     "checksum": "e47591ce898a91d8dc4ac3fe2f664e1f",
     "grade": false,
     "grade_id": "cell-0cd12ff61db691ff",
     "locked": false,
     "schema_version": 3,
     "solution": true,
     "task": false
    }
   },
   "outputs": [
    {
     "name": "stdout",
     "output_type": "stream",
     "text": [
      "Number of rows in 'user_agg' table: 17925\n",
      "+---------------+-------------+------+---------------+\n",
      "|    screen_name|friends_count|tweets|followers_count|\n",
      "+---------------+-------------+------+---------------+\n",
      "|       anaoromi|         6258|    16|           6774|\n",
      "|    RosaMar6254|         6208|    14|           6245|\n",
      "|        lyuva26|         3088|    13|           3732|\n",
      "|     carrasquem|          147|    12|            215|\n",
      "|PisandoFuerte10|         2795|    12|           1752|\n",
      "|       jasalo54|         1889|    11|            689|\n",
      "|  Rafa_eltorete|          908|     9|           1060|\n",
      "| locuspolitikus|        11261|     9|          10244|\n",
      "|      kikyosanz|          154|     9|            273|\n",
      "|  PabloChabolas|         4925|     9|           4042|\n",
      "|     Lordcrow11|         5002|     9|           3069|\n",
      "|      lolalailo|         4922|     9|           3738|\n",
      "|    DuroBelinda|         5242|     9|           5778|\n",
      "|        Fermirv|         3031|     8|           1731|\n",
      "| BlaancaNiieves|         7023|     8|          12630|\n",
      "| complementosCH|         2985|     8|           2740|\n",
      "|   rosavergar23|          900|     8|           1224|\n",
      "| Espanholimetro|         1637|     8|            708|\n",
      "|    SSarelvis67|         3287|     8|           2323|\n",
      "|   merchi_otero|          701|     8|            852|\n",
      "+---------------+-------------+------+---------------+\n",
      "only showing top 20 rows\n",
      "\n"
     ]
    }
   ],
   "source": [
    "# Check if 'user_agg' table exists and drop it if it does\n",
    "if sqlContext.sql(\"SHOW TABLES LIKE 'user_agg'\").count() > 0:\n",
    "    sqlContext.sql(\"DROP TABLE user_agg\")\n",
    "\n",
    "# Register 'users_agg' DataFrame as a SQL table named 'user_agg'\n",
    "users_agg.createOrReplaceTempView(\"user_agg\")\n",
    "\n",
    "# Show the output of the registered 'user_agg' table and the count\n",
    "output_user_agg = sqlContext.sql(\"SELECT * FROM user_agg\")\n",
    "user_agg_count = output_user_agg.count()\n",
    "print(\"Number of rows in 'user_agg' table: {}\".format(user_agg_count))\n",
    "output_user_agg.show()"
   ]
  },
  {
   "cell_type": "code",
   "execution_count": 29,
   "metadata": {
    "deletable": false,
    "editable": false,
    "nbgrader": {
     "cell_type": "code",
     "checksum": "811c730709b21f04eaed440760be8db7",
     "grade": true,
     "grade_id": "cell-1aec360ef1068567",
     "locked": true,
     "points": 0.1,
     "schema_version": 3,
     "solution": false,
     "task": false
    }
   },
   "outputs": [],
   "source": [
    "assert sqlContext.sql(\"SELECT * FROM user_agg\").count() == 17925, \"Incorrect answer\""
   ]
  },
  {
   "cell_type": "markdown",
   "metadata": {
    "deletable": false,
    "editable": false,
    "nbgrader": {
     "cell_type": "markdown",
     "checksum": "fa56449e0e2fc30d4e65ca4ff0067983",
     "grade": false,
     "grade_id": "join1_2_1",
     "locked": true,
     "schema_version": 3,
     "solution": false,
     "task": false
    }
   },
   "source": [
    "Un cop registrada es demana que combineu aquesta taula i la taula ```tweets_sample``` servir un ``` INNER JOIN``` per obtenir una nova taula amb la següent informació:\n",
    "- ***screen_name:*** nom d'usuari\n",
    "- ***friends_count:*** nombre màxim de persones a les que segueix\n",
    "- ***followers_count:*** nombre màxim de persones que segueixen a l'usuari.\n",
    "- ***tweets:*** nombre de tweets realitzats per l'usuari.\n",
    "- ***retweeted:*** nombre de retweets obtinguts per l'usuari.\n",
    "- ***ratio_tweet_retweeted:*** ràtio de retweets per nombre de tweets publicats $\\frac{retweets}{tweets}$\n",
    "\n",
    "La taula resultate ha d'estar ordenada de manera descendent segons el valor de la columna```ratio_tweet_retweeted```\n",
    "\n",
    "**Esquema**\n",
    "```Python\n",
    "retweeted = sqlContext.sql(<FILL IN>)\n",
    "\n",
    "retweeted.limit(10).show()\n",
    "```"
   ]
  },
  {
   "cell_type": "code",
   "execution_count": 39,
   "metadata": {
    "deletable": false,
    "nbgrader": {
     "cell_type": "code",
     "checksum": "213059d3e37115a13c0953f6b27b172c",
     "grade": false,
     "grade_id": "join1_2_1_ans",
     "locked": false,
     "schema_version": 3,
     "solution": true,
     "task": false
    }
   },
   "outputs": [
    {
     "name": "stdout",
     "output_type": "stream",
     "text": [
      "+---------------+-------------+---------------+------+---------+----------------------+\n",
      "|    screen_name|friends_count|followers_count|tweets|retweeted|ratio_tweets_retweeted|\n",
      "+---------------+-------------+---------------+------+---------+----------------------+\n",
      "|   Dori74176530|         1610|             74|     1|        2|                   2.0|\n",
      "| Marisa22208126|           36|             21|     1|        2|                   2.0|\n",
      "| locuspolitikus|        11261|          10244|     9|        9|                   1.0|\n",
      "| complementosCH|         2985|           2740|     8|        8|                   1.0|\n",
      "|      kikyosanz|          154|            273|     9|        9|                   1.0|\n",
      "|       anaoromi|         6258|           6774|    16|       16|                   1.0|\n",
      "| Espanholimetro|         1637|            708|     8|        8|                   1.0|\n",
      "|PisandoFuerte10|         2795|           1752|    12|       12|                   1.0|\n",
      "|     carrasquem|          147|            215|    12|       12|                   1.0|\n",
      "|       jasalo54|         1889|            689|    11|       11|                   1.0|\n",
      "+---------------+-------------+---------------+------+---------+----------------------+\n",
      "\n"
     ]
    }
   ],
   "source": [
    "# Perform INNER JOIN to combine 'user_agg' and 'tweets_sample'\n",
    "query = \"\"\"\n",
    "SELECT\n",
    "    u.screen_name,\n",
    "    u.friends_count,\n",
    "    u.followers_count,\n",
    "    u.tweets,\n",
    "    t.retweeted_count AS retweeted,\n",
    "    CAST(t.retweeted_count AS DOUBLE) / u.tweets AS ratio_tweets_retweeted\n",
    "FROM\n",
    "    user_agg u\n",
    "INNER JOIN\n",
    "    (\n",
    "        SELECT\n",
    "            user.screen_name,\n",
    "            COUNT(*) AS retweeted_count\n",
    "        FROM\n",
    "            tweets_sample\n",
    "        WHERE\n",
    "            retweeted_status IS NOT NULL\n",
    "        GROUP BY\n",
    "            user.screen_name\n",
    "    ) t\n",
    "ON\n",
    "    u.screen_name = t.screen_name\n",
    "ORDER BY\n",
    "    ratio_tweets_retweeted DESC\n",
    "\"\"\"\n",
    "\n",
    "# Execute the query and create the 'retweeted' DataFrame\n",
    "retweeted = sqlContext.sql(query)\n",
    "\n",
    "# Show the top 10 records\n",
    "retweeted.limit(10).show()"
   ]
  },
  {
   "cell_type": "code",
   "execution_count": 40,
   "metadata": {},
   "outputs": [
    {
     "name": "stdout",
     "output_type": "stream",
     "text": [
      "+-----------+-------------+---------------+------+---------+----------------------+\n",
      "|screen_name|friends_count|followers_count|tweets|retweeted|ratio_tweets_retweeted|\n",
      "+-----------+-------------+---------------+------+---------+----------------------+\n",
      "+-----------+-------------+---------------+------+---------+----------------------+\n",
      "\n"
     ]
    }
   ],
   "source": [
    "# Filter the 'retweeted' DataFrame for a specific 'screen_name'\n",
    "specific_user = retweeted.filter(retweeted.screen_name == 'PSOE')\n",
    "\n",
    "# Show the filtered DataFrame\n",
    "specific_user.show(truncate=False)"
   ]
  },
  {
   "cell_type": "code",
   "execution_count": 31,
   "metadata": {
    "deletable": false,
    "editable": false,
    "nbgrader": {
     "cell_type": "code",
     "checksum": "fe283a4539a7b90e66b7d4994026387a",
     "grade": true,
     "grade_id": "join1_2_1_test",
     "locked": true,
     "points": 0.3,
     "schema_version": 3,
     "solution": false,
     "task": false
    }
   },
   "outputs": [
    {
     "ename": "AssertionError",
     "evalue": "Incorrect output",
     "output_type": "error",
     "traceback": [
      "\u001b[0;31m---------------------------------------------------------------------------\u001b[0m",
      "\u001b[0;31mAssertionError\u001b[0m                            Traceback (most recent call last)",
      "\u001b[0;32m<ipython-input-31-9bbc4915a382>\u001b[0m in \u001b[0;36m<module>\u001b[0;34m\u001b[0m\n\u001b[1;32m      1\u001b[0m \u001b[0moutput\u001b[0m \u001b[0;34m=\u001b[0m \u001b[0mretweeted\u001b[0m\u001b[0;34m.\u001b[0m\u001b[0mfirst\u001b[0m\u001b[0;34m(\u001b[0m\u001b[0;34m)\u001b[0m\u001b[0;34m\u001b[0m\u001b[0m\n\u001b[0;32m----> 2\u001b[0;31m \u001b[0;32massert\u001b[0m \u001b[0moutput\u001b[0m\u001b[0;34m.\u001b[0m\u001b[0mscreen_name\u001b[0m \u001b[0;34m==\u001b[0m \u001b[0;34m'PSOE'\u001b[0m \u001b[0;32mand\u001b[0m \u001b[0moutput\u001b[0m\u001b[0;34m.\u001b[0m\u001b[0mfriends_count\u001b[0m \u001b[0;34m==\u001b[0m \u001b[0;36m13635\u001b[0m \u001b[0;32mand\u001b[0m \u001b[0moutput\u001b[0m\u001b[0;34m.\u001b[0m\u001b[0mtweets\u001b[0m \u001b[0;34m==\u001b[0m \u001b[0;36m1\u001b[0m \u001b[0;32mand\u001b[0m \u001b[0moutput\u001b[0m\u001b[0;34m.\u001b[0m\u001b[0mfollowers_count\u001b[0m \u001b[0;34m==\u001b[0m \u001b[0;36m671073\u001b[0m \u001b[0;32mand\u001b[0m \u001b[0moutput\u001b[0m\u001b[0;34m.\u001b[0m\u001b[0mratio_tweet_retweeted\u001b[0m \u001b[0;34m==\u001b[0m \u001b[0;36m155.0\u001b[0m \u001b[0;32mand\u001b[0m \u001b[0moutput\u001b[0m\u001b[0;34m.\u001b[0m\u001b[0mretweeted\u001b[0m \u001b[0;34m==\u001b[0m \u001b[0;36m155\u001b[0m\u001b[0;34m,\u001b[0m \u001b[0;34m\"Incorrect output\"\u001b[0m\u001b[0;34m\u001b[0m\u001b[0m\n\u001b[0m",
      "\u001b[0;31mAssertionError\u001b[0m: Incorrect output"
     ]
    }
   ],
   "source": [
    "output = retweeted.first()\n",
    "assert output.screen_name == 'PSOE' and output.friends_count == 13635 and output.tweets == 1 and output.followers_count == 671073 and output.ratio_tweet_retweeted == 155.0 and output.retweeted == 155, \"Incorrect output\""
   ]
  },
  {
   "cell_type": "markdown",
   "metadata": {
    "deletable": false,
    "editable": false,
    "nbgrader": {
     "cell_type": "markdown",
     "checksum": "fd1aa48919d67320c4f97e5c863df8bb",
     "grade": false,
     "grade_id": "part1_2_2",
     "locked": true,
     "schema_version": 3,
     "solution": false,
     "task": false
    }
   },
   "source": [
    "#### **Part 1.2.2:** Queries mijançant el pipeline\n",
    "\n",
    "Les taules de Spark SQL ofereixen un altre mecanisme per aplicar les transformacions i obtenir resultats similars als que s'obtindria aplicant una consulta SQL. Per exemple utilitzant el següent pipeline obtindrem el text de tots els tweets en espanyol:\n",
    "\n",
    "```\n",
    "tweets_sample.where(\"lang == 'es'\").select(\"text\")\n",
    "```\n",
    "\n",
    "L'anterior instrucció és equivalent a la següent sentència SQL:\n",
    "```\n",
    "SELECT text\n",
    "FROM tweets_sample\n",
    "WHERE lang == 'es'\n",
    "```\n",
    "\n",
    "Podeu consultar el [API de spark SQL](https://spark.apache.org/docs/2.4.0/api/python/pyspark.sql.html) per trobar més informació sobre com utilitzar les diferents transformacions sobre taules.\n",
    "\n",
    "En aquest exercici es demana que repliqueu la query obtinguda a l'apartat anterior generant primerament la taula ```users_agg```. Podeu utilitzar les transformacions ```where```, ```select``` (o ```selectExpr```), ```groupBy```, ```count```, ```agg``` i ```orderBy```\n",
    "\n",
    "**Esquema**\n",
    "```Python\n",
    "users = tweets_sample.where(<FILL IN>).select(<FILL IN>)\n",
    "\n",
    "users_agg = users.groupBy(<FILL IN>)\\\n",
    "                 .agg(<FILL IN>)\\\n",
    "                 .orderBy(<FILL IN>)\n",
    "\n",
    "users_agg.limit(10).show()\n",
    "```"
   ]
  },
  {
   "cell_type": "code",
   "execution_count": null,
   "metadata": {
    "deletable": false,
    "nbgrader": {
     "cell_type": "code",
     "checksum": "67437fad6a5bf300c6c606d935873056",
     "grade": false,
     "grade_id": "cell-31f4988652579ba9",
     "locked": false,
     "schema_version": 3,
     "solution": true,
     "task": false
    }
   },
   "outputs": [],
   "source": [
    "# YOUR CODE HERE\n",
    "raise NotImplementedError()"
   ]
  },
  {
   "cell_type": "code",
   "execution_count": null,
   "metadata": {
    "deletable": false,
    "editable": false,
    "nbgrader": {
     "cell_type": "code",
     "checksum": "d3b5dee302ffc0075fc2650be934555e",
     "grade": true,
     "grade_id": "cell-1314e0736f9f4584",
     "locked": true,
     "points": 0.125,
     "schema_version": 3,
     "solution": false,
     "task": false
    }
   },
   "outputs": [],
   "source": [
    "output = users_agg.first()\n",
    "assert output.screen_name == 'anaoromi'"
   ]
  },
  {
   "cell_type": "markdown",
   "metadata": {
    "deletable": false,
    "editable": false,
    "nbgrader": {
     "cell_type": "markdown",
     "checksum": "e2ca7432a381b9eba1c52d70559b4ded",
     "grade": false,
     "grade_id": "cell-d9521e35c564cc7b",
     "locked": true,
     "schema_version": 3,
     "solution": false,
     "task": false
    }
   },
   "source": [
    "Si us fixeu veureu que el nom de les columnes no correspon amb l'obtingut anteriorment, podeu canviar el nom d'una columna determinada utilitzant la transfomació ```withColumnRenamed```. Canvieu el nom de les columnes perquè coincideixin amb l'apartat anterior i les guardeu en una variable ```user_agg_new```.\n",
    "\n",
    "**Esquema**\n",
    "```Python\n",
    "users_agg_new = users_agg.withColumnRenamed(<FILL IN>)\\\n",
    "                         .withColumnRenamed(<FILL IN>)\\\n",
    "                         .withColumnRenamed(<FILL IN>)\n",
    "\n",
    "users_agg_new.limit(10).show()\n",
    "```"
   ]
  },
  {
   "cell_type": "code",
   "execution_count": null,
   "metadata": {
    "deletable": false,
    "nbgrader": {
     "cell_type": "code",
     "checksum": "e0fcbf7beb9dd084688badbb00b0f079",
     "grade": false,
     "grade_id": "cell-6ac270f9e0f90d1e",
     "locked": false,
     "schema_version": 3,
     "solution": true,
     "task": false
    }
   },
   "outputs": [],
   "source": [
    "# YOUR CODE HERE\n",
    "raise NotImplementedError()"
   ]
  },
  {
   "cell_type": "code",
   "execution_count": null,
   "metadata": {
    "deletable": false,
    "editable": false,
    "nbgrader": {
     "cell_type": "code",
     "checksum": "81250f3c4440dbca15f96db6fbd3d18f",
     "grade": true,
     "grade_id": "cell-a44780017b5b62c9",
     "locked": true,
     "points": 0.15,
     "schema_version": 3,
     "solution": false,
     "task": false
    }
   },
   "outputs": [],
   "source": [
    "output = users_agg_new.first()\n",
    "assert output.screen_name == 'anaoromi' and output.friends_count == 6258 and output.tweets == 16 and output.followers_count == 6774, \"Incorrect output\""
   ]
  },
  {
   "cell_type": "markdown",
   "metadata": {
    "deletable": false,
    "editable": false,
    "nbgrader": {
     "cell_type": "markdown",
     "checksum": "c42a57423afa57d7b40a579247075734",
     "grade": false,
     "grade_id": "cell-29eff3e98104dff3",
     "locked": true,
     "schema_version": 3,
     "solution": false,
     "task": false
    }
   },
   "source": [
    "Creeu ara una taula ```user_retweets``` utilitzant transformacions que contingui dues columnes:\n",
    "- ***screen_name:*** nom d'usuari\n",
    "- ***retweeted:*** nombre de retweets\n",
    "\n",
    "Podeu utilitzar les mateixes transformacions que en l'exercici anterior. Ordeneu la taula en ordre descendent utilitzant el valor de la columna ```retweeted```.\n",
    "\n",
    "**Esquema**\n",
    "```Python\n",
    "user_retweets = tweets_sample.<FILL IN>\n",
    "\n",
    "user_retweets.limit(10).show()\n",
    "```"
   ]
  },
  {
   "cell_type": "code",
   "execution_count": null,
   "metadata": {
    "deletable": false,
    "nbgrader": {
     "cell_type": "code",
     "checksum": "8c1a0966187fe8e923b31201eaddedc2",
     "grade": false,
     "grade_id": "cell-7e10fbd5ae8b6f53",
     "locked": false,
     "schema_version": 3,
     "solution": true,
     "task": false
    }
   },
   "outputs": [],
   "source": [
    "# YOUR CODE HERE\n",
    "raise NotImplementedError()"
   ]
  },
  {
   "cell_type": "code",
   "execution_count": null,
   "metadata": {
    "deletable": false,
    "editable": false,
    "nbgrader": {
     "cell_type": "code",
     "checksum": "31688376512e22f1abe18ee737d14394",
     "grade": true,
     "grade_id": "cell-fc4c41133d08ec25",
     "locked": true,
     "points": 0.45,
     "schema_version": 3,
     "solution": false,
     "task": false
    }
   },
   "outputs": [],
   "source": [
    "output = user_retweets.first()\n",
    "assert output.screen_name == 'vox_es' and output.retweeted == 299, \"Incorrect output\""
   ]
  },
  {
   "cell_type": "markdown",
   "metadata": {
    "deletable": false,
    "editable": false,
    "nbgrader": {
     "cell_type": "markdown",
     "checksum": "6855e2d2383cbb5ea808108fd4c0ef76",
     "grade": false,
     "grade_id": "cell-eddb113c8541c8c2",
     "locked": true,
     "schema_version": 3,
     "solution": false,
     "task": false
    }
   },
   "source": [
    "Una altra manera de combinar dues taules és utilitzant el [mètode de taula ```join```](https://spark.apache.org/docs/2.4.0/api/python/pyspark.sql.html). Combineu la informació de la taula ```users_agg_new``` i ``` user_retweets``` en una nova taula ```retweeted``` utilitzant la columna ``` screen_name```. Ordeneu la nova taula en ordre descendent segons el nom de retweets.\n",
    "\n",
    "**Esquema**\n",
    "\n",
    "```Python\n",
    "retweeted = users_agg_new.join(<FILL IN>)\\\n",
    "                         .orderBy(<FILL IN>)\n",
    "\n",
    "retweeted.limit(10).show()\n",
    "```"
   ]
  },
  {
   "cell_type": "code",
   "execution_count": null,
   "metadata": {
    "deletable": false,
    "nbgrader": {
     "cell_type": "code",
     "checksum": "bd7e752647a3281d956431f38b6a6d4d",
     "grade": false,
     "grade_id": "cell-e0fb48703c8222c2",
     "locked": false,
     "schema_version": 3,
     "solution": true,
     "task": false
    }
   },
   "outputs": [],
   "source": [
    "# YOUR CODE HERE\n",
    "raise NotImplementedError()"
   ]
  },
  {
   "cell_type": "code",
   "execution_count": null,
   "metadata": {
    "deletable": false,
    "editable": false,
    "nbgrader": {
     "cell_type": "code",
     "checksum": "9cb6d5638c55323d7bdbc623c6ac91bb",
     "grade": true,
     "grade_id": "cell-b98ce38ed786a428",
     "locked": true,
     "points": 0.15,
     "schema_version": 3,
     "solution": false,
     "task": false
    }
   },
   "outputs": [],
   "source": [
    "output = retweeted.first()\n",
    "assert output.screen_name == 'PSOE' and output.friends_count == 13635 and output.tweets == 1 and output.followers_count == 671073 and output.retweeted == 155, \"Incorrect output\""
   ]
  },
  {
   "cell_type": "markdown",
   "metadata": {
    "deletable": false,
    "editable": false,
    "nbgrader": {
     "cell_type": "markdown",
     "checksum": "56c72a8822155128342823d874064236",
     "grade": false,
     "grade_id": "cell-840198884f74f93e",
     "locked": true,
     "schema_version": 3,
     "solution": false,
     "task": false
    }
   },
   "source": [
    "Notareu que alguns dels registres que apareixen en el la taula ```users_retweeted``` no estan presents a la taula retweeted. Això és degut al fet que per defecte el mètode aplica un inner join i per tant només combina els registres presents en ambdues taules. Podeu canviar aquest comportament a través dels paràmetres de la funció.\n",
    "\n",
    "Per acabar aquesta part i reconstruir el resultat de l'apartat 1.2.1 anem a afegir una columna ```ratio_tweet_retweeted``` amb informació del ràtio entre retweets i tweets. Per a això heu d'utilitzar la transformació ```withColumn```. El resultat ha d'estar ordenat per aquesta nova columna en ordre descendent.\n",
    "\n",
    "**Esquema**\n",
    "```Python\n",
    "retweeted = retweeted.withColumn(<FILL IN>)\n",
    "retweeted.limit(10).show()\n",
    "```"
   ]
  },
  {
   "cell_type": "code",
   "execution_count": null,
   "metadata": {
    "deletable": false,
    "nbgrader": {
     "cell_type": "code",
     "checksum": "32511e269bdb031e456d50ac9381f6cb",
     "grade": false,
     "grade_id": "cell-d5842b06bc796b93",
     "locked": false,
     "schema_version": 3,
     "solution": true,
     "task": false
    }
   },
   "outputs": [],
   "source": [
    "# YOUR CODE HERE\n",
    "raise NotImplementedError()"
   ]
  },
  {
   "cell_type": "code",
   "execution_count": null,
   "metadata": {
    "deletable": false,
    "editable": false,
    "nbgrader": {
     "cell_type": "code",
     "checksum": "b2a8255d890716b9f9e81c51f06f0f62",
     "grade": true,
     "grade_id": "cell-e2dd111524c30b55",
     "locked": true,
     "points": 0.125,
     "schema_version": 3,
     "solution": false,
     "task": false
    }
   },
   "outputs": [],
   "source": [
    "output = retweeted.first()\n",
    "assert output.screen_name == 'PSOE' and output.friends_count == 13635 and output.tweets == 1 and output.followers_count == 671073 and output.ratio_tweet_retweeted == 155.0 and output.retweeted == 155, \"Incorrect output\""
   ]
  },
  {
   "cell_type": "markdown",
   "metadata": {
    "deletable": false,
    "editable": false,
    "nbgrader": {
     "cell_type": "markdown",
     "checksum": "6f897a8fb45c878a64db3ed45b0d1b8a",
     "grade": false,
     "grade_id": "cell-232f10e55e87ad12",
     "locked": true,
     "schema_version": 3,
     "solution": false,
     "task": false
    },
    "toc-hr-collapsed": false
   },
   "source": [
    "## **Part 2:** Bases de dades HIVE i operacions complexes\n",
    "\n",
    "Fins ara hem estat treballant amb un petit sample dels tweets generats (el 01%). En aquesta part de la PAC veurem com treballar i tractar el dataset complet per a això utilitzarem transformacions sobre taules i operacions sobre RDD quan sigui necessari."
   ]
  },
  {
   "cell_type": "markdown",
   "metadata": {
    "deletable": false,
    "editable": false,
    "nbgrader": {
     "cell_type": "markdown",
     "checksum": "acad392207f16b2ba93af6103b5f3c95",
     "grade": false,
     "grade_id": "cell-0b416ba9bc3ed03d",
     "locked": true,
     "schema_version": 3,
     "solution": false,
     "task": false
    }
   },
   "source": [
    "### **Part 2.1:** Bases de dades Hive\n",
    "\n",
    "Moltes vegades les dades s'utilitzen en varis projectes de manera simultània. Una manera d'organitzar les dades és, en lloc d'utilitzar directament els fitxers, recórrer a una base de dades per gestionar la informació. En l'entorn Hadoop una de les bases de dades més comuns és [Apache Hive](https://hive.apache.org/), una base de dades que permet treballar amb contingut distribuït.\n",
    "\n",
    "La manera d'accedir a aquesta base de dades és creant un context Hive de manera molt similar a com vam declarar un context SQL. Primer de tot anem a declarar una variable ```hiveContext``` creant una instància com un objecte de la classe ``` HiveContext```. Tot seguit anem a comprovar quantes taules estan registrades en aquest context.\n",
    "\n",
    "**Esquema**\n",
    "```Python\n",
    "hiveContext = <FILL IN>\n",
    "hiveContext.tables().show()\n",
    "```"
   ]
  },
  {
   "cell_type": "code",
   "execution_count": null,
   "metadata": {
    "deletable": false,
    "nbgrader": {
     "cell_type": "code",
     "checksum": "a212d9c1805f8c0305a8b5742528c597",
     "grade": true,
     "grade_id": "cell-c1fea886f6bfbcbf",
     "locked": false,
     "points": 0.125,
     "schema_version": 3,
     "solution": true,
     "task": false
    }
   },
   "outputs": [],
   "source": [
    "# YOUR CODE HERE\n",
    "raise NotImplementedError()"
   ]
  },
  {
   "cell_type": "markdown",
   "metadata": {},
   "source": [
    "Observeu que ara mateix tenim cinc taules registrades en aquest context. Tres d'elles no temporals i dues temporals, les que hem registrat prèviament. Per tant sqlContext i hiveContext estan connectats (és la mateixa sessió)\n",
    "\n",
    "Anem ha crear la variable ```tweets``` que utilitzarem per accedir a la taula ``` tweets28a_sample25``` guardada a ```hiveContext``` utilitzant el mètode ``` table () ``` d'aquest objecte.\n",
    "\n",
    "**Esquema**\n",
    "```Python\n",
    "tweets = <FILL IN>\n",
    "print(\"Loaded dataset contains {} tweets\".format(tweets.count()))\n",
    "```"
   ]
  },
  {
   "cell_type": "code",
   "execution_count": null,
   "metadata": {
    "deletable": false,
    "nbgrader": {
     "cell_type": "code",
     "checksum": "dee44c06e36300fcfd220842fc04d255",
     "grade": false,
     "grade_id": "cell-597891dd2d613c09",
     "locked": false,
     "schema_version": 3,
     "solution": true,
     "task": false
    }
   },
   "outputs": [],
   "source": [
    "# YOUR CODE HERE\n",
    "raise NotImplementedError()"
   ]
  },
  {
   "cell_type": "code",
   "execution_count": null,
   "metadata": {
    "deletable": false,
    "editable": false,
    "nbgrader": {
     "cell_type": "code",
     "checksum": "d05bd885de8e0b2d5068da8efce897c8",
     "grade": true,
     "grade_id": "cell-2da5fa7df4970547",
     "locked": true,
     "points": 0.0625,
     "schema_version": 3,
     "solution": false,
     "task": false
    }
   },
   "outputs": [],
   "source": [
    "assert tweets.count() == 6354961, \"Incorrect Answer\""
   ]
  },
  {
   "cell_type": "markdown",
   "metadata": {
    "deletable": false,
    "editable": false,
    "nbgrader": {
     "cell_type": "markdown",
     "checksum": "faf1850205e74efcd4cc5d2a6324a637",
     "grade": false,
     "grade_id": "cell-38bf6de2954151dd",
     "locked": true,
     "schema_version": 3,
     "solution": false,
     "task": false
    }
   },
   "source": [
    "Utilitzant el mateix mètode utilitzat en l'apartat 1.1, comproveu l'estructura de la taula que acabem de carregar."
   ]
  },
  {
   "cell_type": "code",
   "execution_count": null,
   "metadata": {
    "deletable": false,
    "nbgrader": {
     "cell_type": "code",
     "checksum": "45a95c132bae9c32a2aff7b3d0a7669b",
     "grade": true,
     "grade_id": "cell-ef350e58ac316978",
     "locked": false,
     "points": 0.0625,
     "schema_version": 3,
     "solution": true,
     "task": false
    }
   },
   "outputs": [],
   "source": [
    "# YOUR CODE HERE\n",
    "raise NotImplementedError()"
   ]
  },
  {
   "cell_type": "markdown",
   "metadata": {
    "deletable": false,
    "editable": false,
    "nbgrader": {
     "cell_type": "markdown",
     "checksum": "c885962a0e8d9f353d630ceba329f145",
     "grade": false,
     "grade_id": "cell-594eb699f3c4f56f",
     "locked": true,
     "schema_version": 3,
     "solution": false,
     "task": false
    },
    "toc-hr-collapsed": false
   },
   "source": [
    "### **Part 2.2:** Més enllà de les transformacions SQL\n",
    "\n",
    "Algunes vegades necessitarem obtenir resultats que necessiten operacions que van mes enllà del que podem aconseguir utilitzant el llenguatge SQL. En aquesta part de la pràctica anem practicar com passar d'una taula a un RDD, per fer operacions complexes, i després tornar a passar a una taula."
   ]
  },
  {
   "cell_type": "markdown",
   "metadata": {
    "deletable": false,
    "editable": false,
    "nbgrader": {
     "cell_type": "markdown",
     "checksum": "2c88d11ed8648545fe242aa32b39e551",
     "grade": false,
     "grade_id": "cell-8d0734c219f082d0",
     "locked": true,
     "schema_version": 3,
     "solution": false,
     "task": false
    },
    "toc-hr-collapsed": false
   },
   "source": [
    "#### **Part 2.2.1:** piulades per població\n",
    "##### **Part 2.2.1.1:** Utilitzant SQL\n",
    "Un petit percentatge, al voltant de l'1%, dels tweets realitzats està geolocalitzat. Això vol dir que per a aquests tweets tenim informació sobre el lloc on han estat realitzats guardat en el camp ```place```. En aquest exercici es demana que utilitzant una sentència SQL mostreu en ordre descendent quants tweets s'han realitzat en cada lloc. La taula resultant ```tweets_place``` ha de tenir les següents columnes:\n",
    "- ***name:*** nom de el lloc\n",
    "- ***tweets:*** nombre de tweets\n",
    "\n",
    "Recordeu que no tots els tweets a la base de dades han de tenir informació geolocalitzada, heu de filtrar-tenint en compte tots els que tenen un valor no nul. La taula ha d'estar en ordre descendent por nombre de tweets.\n",
    "\n",
    "**Esquema**\n",
    "```Python\n",
    "tweets_place = hiveContext.sql(<FILL IN>)\n",
    "tweets_place.limit(10).show()\n",
    "```"
   ]
  },
  {
   "cell_type": "code",
   "execution_count": null,
   "metadata": {
    "deletable": false,
    "nbgrader": {
     "cell_type": "code",
     "checksum": "0c70f032337b535ace2ee7938f3de91f",
     "grade": false,
     "grade_id": "cell-894db3dca0f080ea",
     "locked": false,
     "schema_version": 3,
     "solution": true,
     "task": false
    }
   },
   "outputs": [],
   "source": [
    "# YOUR CODE HERE\n",
    "raise NotImplementedError()"
   ]
  },
  {
   "cell_type": "code",
   "execution_count": null,
   "metadata": {
    "deletable": false,
    "editable": false,
    "nbgrader": {
     "cell_type": "code",
     "checksum": "35be4259da0f97caef67aeb240405799",
     "grade": true,
     "grade_id": "cell-c4cf795341edf5b3",
     "locked": true,
     "points": 0.25,
     "schema_version": 3,
     "solution": false,
     "task": false
    }
   },
   "outputs": [],
   "source": [
    "output = tweets_place.first()\n",
    "assert output.name == \"Madrid\" and output.tweets == 4911, \"Incorrect output\""
   ]
  },
  {
   "cell_type": "markdown",
   "metadata": {
    "deletable": false,
    "editable": false,
    "nbgrader": {
     "cell_type": "markdown",
     "checksum": "d4718ba2fa46880918b9a10dc36489e2",
     "grade": false,
     "grade_id": "cell-eb9c24d0b500613c",
     "locked": true,
     "schema_version": 3,
     "solution": false,
     "task": false
    }
   },
   "source": [
    "##### **Part 2.2.1.2:** Utilitzant RDD\n",
    "\n",
    "Ara es demana que feu el mateix però aquesta vegada utilitzant RDD per realitzar l'agregació (recordeu els exercicis de comptar paraules que vau fer a la PAC 1).\n",
    "\n",
    "El primer pas consisteix a generar un taula ```tweets_geo``` que només contingui informació de tweets geolocalitzats amb una sola columna:\n",
    "- ***name:*** nom de el lloc des d'on s'ha generat el tweet\n",
    "\n",
    "**Esquema**\n",
    "```Python\n",
    "tweets_geo = <FILL IN>\n",
    "```"
   ]
  },
  {
   "cell_type": "code",
   "execution_count": null,
   "metadata": {
    "deletable": false,
    "nbgrader": {
     "cell_type": "code",
     "checksum": "bbe1888f913198cc3cb6353e6be88bba",
     "grade": false,
     "grade_id": "cell-d3f8a6734cec62e5",
     "locked": false,
     "schema_version": 3,
     "solution": true,
     "task": false
    }
   },
   "outputs": [],
   "source": [
    "# YOUR CODE HERE\n",
    "raise NotImplementedError()"
   ]
  },
  {
   "cell_type": "code",
   "execution_count": null,
   "metadata": {
    "deletable": false,
    "editable": false,
    "nbgrader": {
     "cell_type": "code",
     "checksum": "d70fa2bb8e7f709d28e37a1fa2b115f1",
     "grade": true,
     "grade_id": "cell-a80661a525cbf003",
     "locked": true,
     "points": 0.125,
     "schema_version": 3,
     "solution": false,
     "task": false
    }
   },
   "outputs": [],
   "source": [
    "assert tweets_geo.count() == 44477, \"Incorrect answer\""
   ]
  },
  {
   "cell_type": "markdown",
   "metadata": {
    "deletable": false,
    "editable": false,
    "nbgrader": {
     "cell_type": "markdown",
     "checksum": "d90c4af2a510e42c196b298929c23bd6",
     "grade": false,
     "grade_id": "cell-1cb95ba661c79484",
     "locked": true,
     "schema_version": 3,
     "solution": false,
     "task": false
    }
   },
   "source": [
    "El punt clau és que una taula pot esdevenir un RDD a través de l'atribut ```.rdd```. Aquest atribut guarda la informació de la taula en una llista on cada element és un [objecte del tipus ```Row```](https://spark.apache.org/docs/2.4.0/api/python/pyspark.sql.html#pyspark.sql.Row). Els objectes pertanyents a aquesta classe es poden veure com diccionaris on la informació de les diferents columnes queda reflectida en forma d'atribut. Per exemple, imagineu que tenim una taula amb dues columnes, nom i cognom, si utilitzem l'atribut ```.rdd``` d'aquesta taula obtindrem una llista amb objectes del tipus row on cada objecte té dos atributs: nom i cognom. Per accedir als atributs només hem de fer servir la sintaxi *punt* de Python, e.g., ```row.nombre``` o ``` row.apellido```.\n",
    "\n",
    "En aquesta part de l'exercici es demana que creeu un objecte ```tweets_lang_rdd``` que contingui una llista de tuples amb la informació ``` (name, tweets) ``` sobre el nom del lloc i el nombre de tweets generats des del mateix. Recordeu l'exercici de comptar paraules de la PAC 1.\n",
    "\n",
    "**Esquema**\n",
    "```Python\n",
    "tweets_place_rdd = tweets_geo.<FILL IN>\n",
    "```"
   ]
  },
  {
   "cell_type": "code",
   "execution_count": null,
   "metadata": {
    "deletable": false,
    "nbgrader": {
     "cell_type": "code",
     "checksum": "4705a8a52eed12c1b0d7a8c1116a0e75",
     "grade": false,
     "grade_id": "cell-4509d0316eec4998",
     "locked": false,
     "schema_version": 3,
     "solution": true,
     "task": false
    }
   },
   "outputs": [],
   "source": [
    "# YOUR CODE HERE\n",
    "raise NotImplementedError()"
   ]
  },
  {
   "cell_type": "code",
   "execution_count": null,
   "metadata": {
    "deletable": false,
    "editable": false,
    "nbgrader": {
     "cell_type": "code",
     "checksum": "dafe55f461433114789884e094bde7f6",
     "grade": true,
     "grade_id": "cell-01a10584947205a8",
     "locked": true,
     "points": 0.5,
     "schema_version": 3,
     "solution": false,
     "task": false
    }
   },
   "outputs": [],
   "source": [
    "assert tweets_place_rdd.count() == 4038, \"Incorrect output\""
   ]
  },
  {
   "cell_type": "markdown",
   "metadata": {
    "deletable": false,
    "editable": false,
    "nbgrader": {
     "cell_type": "markdown",
     "checksum": "cad3c4c05e1a14cff4aa5bba980ce2d4",
     "grade": false,
     "grade_id": "cell-278eef05750c3de5",
     "locked": true,
     "schema_version": 3,
     "solution": false,
     "task": false
    }
   },
   "source": [
    "Un cop generat aquest RDD crearem un taula. El primer pas és generar per cada tupla un objecte Row que contingui un atribut ```name``` i un atribut ``` tweets```. Ara només heu d'aplicar el mètode ```toDF ()``` per generar una taula. Ordeneu les files d'aquesta taula pel nombre de tweets en ordre descendent.\n",
    "\n",
    "**Esquema**\n",
    "```Python\n",
    "tweets_place = tweets_place_rdd.<FILL IN>\n",
    "\n",
    "tweets_place.limit(10).show()\n",
    "```"
   ]
  },
  {
   "cell_type": "code",
   "execution_count": null,
   "metadata": {
    "deletable": false,
    "nbgrader": {
     "cell_type": "code",
     "checksum": "d8ee3c40ac484a28ddcbc75d281bed32",
     "grade": false,
     "grade_id": "cell-40de85c3cb590996",
     "locked": false,
     "schema_version": 3,
     "solution": true,
     "task": false
    }
   },
   "outputs": [],
   "source": [
    "# YOUR CODE HERE\n",
    "raise NotImplementedError()"
   ]
  },
  {
   "cell_type": "code",
   "execution_count": null,
   "metadata": {
    "deletable": false,
    "editable": false,
    "nbgrader": {
     "cell_type": "code",
     "checksum": "2aa9a5b6aba02b034f484a39661dc8ab",
     "grade": true,
     "grade_id": "cell-4b202ec17fb72450",
     "locked": true,
     "points": 0.375,
     "schema_version": 3,
     "solution": false,
     "task": false
    }
   },
   "outputs": [],
   "source": [
    "output = tweets_place.first()\n",
    "assert output.name == \"Madrid\" and output.tweets == 4911, \"Incorrect output\""
   ]
  },
  {
   "cell_type": "markdown",
   "metadata": {
    "deletable": false,
    "editable": false,
    "nbgrader": {
     "cell_type": "markdown",
     "checksum": "3346708a0e3b7fef0a9823430f90509f",
     "grade": false,
     "grade_id": "cell-beb23e0cb9a56f36",
     "locked": true,
     "schema_version": 3,
     "solution": false,
     "task": false
    }
   },
   "source": [
    "#### **Part 2.2.2:** Comptar hashtags\n",
    "\n",
    "En l'exercici anterior hem vist com podem generar la mateixa informació fent una agregació mitjançant SQL o utilitzant RDDs. Com segur que heu observat la semàntica de la sentència SQL és molt més neta per a realitzar aquesta tasca. Però no totes les tasques que us trobareu es poden fer mitjançant sentències SQL. En aquest exercici anem a veure un exemple.\n",
    "\n",
    "L'objectiu d'aquest exercici és comptar el nombre de vegades que cada hashtag (paraules precedides o separades per un #) ha aparegut al dataset. Per evitar la sobrerepresentació deguda als retweets anem a concentrar-nos en només aquells tweets que no són retweets de cap altre, o dit d'una altra manera, en aquells en els quals el camp ```retweeted_status``` és nul. Creeu una variable ```non_retweets``` que contingui tots aquests tweets.\n",
    "\n",
    "**Esquema**\n",
    "```Python\n",
    "non_retweets = <FILL IN>\n",
    "```"
   ]
  },
  {
   "cell_type": "code",
   "execution_count": null,
   "metadata": {
    "deletable": false,
    "nbgrader": {
     "cell_type": "code",
     "checksum": "937f2396b7f82613a95738ef4bc24ccd",
     "grade": false,
     "grade_id": "cell-54dc6516920b99c6",
     "locked": false,
     "schema_version": 3,
     "solution": true,
     "task": false
    }
   },
   "outputs": [],
   "source": [
    "# YOUR CODE HERE\n",
    "raise NotImplementedError()"
   ]
  },
  {
   "cell_type": "code",
   "execution_count": null,
   "metadata": {
    "deletable": false,
    "editable": false,
    "nbgrader": {
     "cell_type": "code",
     "checksum": "3f8d0bd6ccd35345cf43f51f635311e5",
     "grade": true,
     "grade_id": "cell-dc8bf26ac512836d",
     "locked": true,
     "points": 0.1,
     "schema_version": 3,
     "solution": false,
     "task": false
    }
   },
   "outputs": [],
   "source": [
    "assert non_retweets.count() == 1318664, \"Incorrect answer\""
   ]
  },
  {
   "cell_type": "markdown",
   "metadata": {
    "deletable": false,
    "editable": false,
    "nbgrader": {
     "cell_type": "markdown",
     "checksum": "c6823f627286373a4d2d615d29216c65",
     "grade": false,
     "grade_id": "cell-7dc2107203021a1c",
     "locked": true,
     "schema_version": 3,
     "solution": false,
     "task": false
    }
   },
   "source": [
    "Seguidament anem ha crear una variable ```hashtags``` que contingui una llista de tuples amb la informació ``` (hashtag, count) ```. Per a això, creeu un RDD que contingui una llista amb el text de tots els tweets. Un cop fet aquest pas heu d'extraure els hashtags (paraules precedides o separades per un #).\n",
    "\n",
    "Recordeu els coneixements adquirits a la PAC 1 i l'anterior exercici, us seran de gran ajuda."
   ]
  },
  {
   "cell_type": "code",
   "execution_count": null,
   "metadata": {
    "deletable": false,
    "nbgrader": {
     "cell_type": "code",
     "checksum": "502ec252554b51990b00d78981ae9739",
     "grade": true,
     "grade_id": "cell-472cc1af8d65ca8a",
     "locked": false,
     "points": 0.7,
     "schema_version": 3,
     "solution": true,
     "task": false
    }
   },
   "outputs": [],
   "source": [
    "# YOUR CODE HERE\n",
    "raise NotImplementedError()"
   ]
  },
  {
   "cell_type": "markdown",
   "metadata": {
    "deletable": false,
    "editable": false,
    "nbgrader": {
     "cell_type": "markdown",
     "checksum": "9c32adc6e22d5d1c65267d97c927aa95",
     "grade": false,
     "grade_id": "cell-2f143219bff9e857",
     "locked": true,
     "schema_version": 3,
     "solution": false,
     "task": false
    }
   },
   "source": [
    "Finalment, es demana que amb el RDD obtingut genereu una taula ```hashtagsTable``` composta de dues columnes:\n",
    "- ***hashtag***\n",
    "- ***num:*** nombre de vegades que apareix cada hashtag.\n",
    "\n",
    "Ordeneu-la per ordre descendent per nombre de tweets.\n",
    "\n",
    "**Esquema**\n",
    "```Python\n",
    "hashtagsTable = <FILL IN>\n",
    "\n",
    "hashtagsTable.limit(20).show()\n",
    "```"
   ]
  },
  {
   "cell_type": "code",
   "execution_count": null,
   "metadata": {
    "deletable": false,
    "nbgrader": {
     "cell_type": "code",
     "checksum": "775f43eadc8b59f5198ee3219102db44",
     "grade": false,
     "grade_id": "cell-10435b59256fe1ad",
     "locked": false,
     "schema_version": 3,
     "solution": true,
     "task": false
    }
   },
   "outputs": [],
   "source": [
    "# YOUR CODE HERE\n",
    "raise NotImplementedError()"
   ]
  },
  {
   "cell_type": "code",
   "execution_count": null,
   "metadata": {
    "deletable": false,
    "editable": false,
    "nbgrader": {
     "cell_type": "code",
     "checksum": "2ccdc8aa4d07e652239603292bc929f7",
     "grade": true,
     "grade_id": "cell-0554917487d542e2",
     "locked": true,
     "points": 0.7,
     "schema_version": 3,
     "solution": false,
     "task": false
    }
   },
   "outputs": [],
   "source": [
    "output = hashtagsTable.first()\n",
    "assert output.hashtag == \"#28A\" and output.num >= 38000, \"Incorrect output\""
   ]
  },
  {
   "cell_type": "markdown",
   "metadata": {
    "deletable": false,
    "editable": false,
    "nbgrader": {
     "cell_type": "markdown",
     "checksum": "ade828833db0da7d0a23fbef57ab0a60",
     "grade": false,
     "grade_id": "cell-eaac2bd3c05aaf8e",
     "locked": true,
     "schema_version": 3,
     "solution": false,
     "task": false
    },
    "toc-hr-collapsed": false
   },
   "source": [
    "## **Part 3:** Sampling\n",
    "\n",
    "En moltes ocasions, abans de llançar processos amb alt temps de càlcul, és pràctica habitual tractar amb un petit conjunt de les dades per investigar algunes propietats o simplement per debugar nostres algoritmes, a aquesta tasca se l'anomena sampling. En aquesta part de la pràctica anem a veure els dos principals mètodes de sampling i com utilitzar-los."
   ]
  },
  {
   "cell_type": "markdown",
   "metadata": {
    "deletable": false,
    "editable": false,
    "nbgrader": {
     "cell_type": "markdown",
     "checksum": "e49720f67e2756da635946017f93338e",
     "grade": false,
     "grade_id": "cell-6cc5b79056c13a7d",
     "locked": true,
     "schema_version": 3,
     "solution": false,
     "task": false
    }
   },
   "source": [
    "### **Part 3.1:** homogeni\n",
    "\n",
    "El primer sampling que veurem és [el homogeni](https://en.wikipedia.org/wiki/Simple_random_sample). Aquest sampling es basa simplement en triar una fracció de la població seleccionant aleatòriament elements de la mateixa.\n",
    "\n",
    "Primer de tot anem ha realitzar un sampling homogeni de l'1% dels tweets generats en el període electoral sense reemplaçament. Guardeu en una variable ```tweets_sample``` aquest sampling utilitzant el mètode ``` sample``` descrit a [API de pyspark SQL](https://spark.apache.org/docs/2.4.0/api/python/pyspark.sql.html). El seed que aneu a utilitzar per inicialitzar el generador aleatori és 42.\n",
    "\n",
    "**Esquema**\n",
    "```Python\n",
    "seed = 42\n",
    "fraction = 0.01\n",
    "\n",
    "tweets_sample = tweets.<FILL IN>\n",
    "\n",
    "print(\"Number of tweets sampled: {0}\".format(tweets_sample.count()))\n",
    "```"
   ]
  },
  {
   "cell_type": "code",
   "execution_count": null,
   "metadata": {
    "deletable": false,
    "nbgrader": {
     "cell_type": "code",
     "checksum": "7d01c1fc4066fd1e1002e3f3b459fd98",
     "grade": false,
     "grade_id": "cell-b64b6c8d35cf75ee",
     "locked": false,
     "schema_version": 3,
     "solution": true,
     "task": false
    }
   },
   "outputs": [],
   "source": [
    "# YOUR CODE HERE\n",
    "raise NotImplementedError()"
   ]
  },
  {
   "cell_type": "code",
   "execution_count": null,
   "metadata": {
    "deletable": false,
    "editable": false,
    "nbgrader": {
     "cell_type": "code",
     "checksum": "5ac91362c7714ba382fc320fe06c1ce7",
     "grade": true,
     "grade_id": "cell-a7cfa251ac394cc2",
     "locked": true,
     "points": 0.075,
     "schema_version": 3,
     "solution": false,
     "task": false
    }
   },
   "outputs": [],
   "source": [
    "assert tweets_sample.count() == 63888, \"Incorrect output\""
   ]
  },
  {
   "cell_type": "markdown",
   "metadata": {
    "deletable": false,
    "editable": false,
    "nbgrader": {
     "cell_type": "markdown",
     "checksum": "c34528cd04a53719a2936e2b51caebfa",
     "grade": false,
     "grade_id": "cell-9fbb3918484a07ce",
     "locked": true,
     "schema_version": 3,
     "solution": false,
     "task": false
    }
   },
   "source": [
    "Una de les coses que resulta interessant comprovar sobre els patrons d'ús de les xarxes socials és el patró d'ús diari. En aquest cas ens interessa el nombre mitjà de tweets que es genera cada hora de el dia. Per extreure aquesta informació el que farem primer, serà generar una taula ```tweets_timestamp``` amb la informació:\n",
    "- ***created_at***: timestamp de quan es va publicar el tweet.\n",
    "- ***hour***: a quina hora del dia correspon.\n",
    "- ***day***: Data en format MM-dd-YY\n",
    "\n",
    "La funció ```hour``` us servirà per extreure l'hora de l'timestamp i la funció ``` date_format``` us permetrà generar la data. La taula ha d'estar en ordre ascendent segons la columna `created_at`."
   ]
  },
  {
   "cell_type": "code",
   "execution_count": null,
   "metadata": {
    "deletable": false,
    "nbgrader": {
     "cell_type": "code",
     "checksum": "262ec79af805fc2972704923a42e2f1b",
     "grade": false,
     "grade_id": "cell-5d8ae05f924c3591",
     "locked": false,
     "schema_version": 3,
     "solution": true,
     "task": false
    }
   },
   "outputs": [],
   "source": [
    "from pyspark.sql.functions import date_format, hour, from_utc_timestamp\n",
    "\n",
    "# YOUR CODE HERE\n",
    "raise NotImplementedError()\n",
    "\n",
    "tweets_timestamp.limit(20).show()"
   ]
  },
  {
   "cell_type": "code",
   "execution_count": null,
   "metadata": {
    "deletable": false,
    "editable": false,
    "nbgrader": {
     "cell_type": "code",
     "checksum": "68c4033dda8437ebdbace512a1b163eb",
     "grade": true,
     "grade_id": "cell-846e0102e9e77c84",
     "locked": true,
     "points": 0.1,
     "schema_version": 3,
     "solution": false,
     "task": false
    }
   },
   "outputs": [],
   "source": [
    "output = tweets_timestamp.first()\n",
    "assert output.day == \"04-12-19\" and output.hour == 3, \"Incorrect output\""
   ]
  },
  {
   "cell_type": "markdown",
   "metadata": {
    "deletable": false,
    "editable": false,
    "nbgrader": {
     "cell_type": "markdown",
     "checksum": "8f3aef321e37507c4083442058780c36",
     "grade": false,
     "grade_id": "cell-4d55081b8f9d4261",
     "locked": true,
     "schema_version": 3,
     "solution": false,
     "task": false
    }
   },
   "source": [
    "El pas següent és afegir aquestes dades per hora i dia en una taula ```tweets_hour_day```. Heu de crear una taula ```tweets_hour``` amb la informació:\n",
    "- ***hour:*** hora de el dia\n",
    "- ***day:*** data\n",
    "- ***count:*** nombre de tweets generats"
   ]
  },
  {
   "cell_type": "code",
   "execution_count": null,
   "metadata": {
    "deletable": false,
    "nbgrader": {
     "cell_type": "code",
     "checksum": "081131a2e734d16c1242bcd86efd4435",
     "grade": false,
     "grade_id": "cell-5ff5adc081f0ed8a",
     "locked": false,
     "schema_version": 3,
     "solution": true,
     "task": false
    }
   },
   "outputs": [],
   "source": [
    "# YOUR CODE HERE\n",
    "raise NotImplementedError()\n",
    "\n",
    "tweets_hour_day.limit(20).show()"
   ]
  },
  {
   "cell_type": "code",
   "execution_count": null,
   "metadata": {
    "deletable": false,
    "editable": false,
    "nbgrader": {
     "cell_type": "code",
     "checksum": "9d40d2efbd2f837d3458d43234c6112e",
     "grade": true,
     "grade_id": "cell-4136767d4dba6837",
     "locked": true,
     "points": 0.075,
     "schema_version": 3,
     "solution": false,
     "task": false
    }
   },
   "outputs": [],
   "source": [
    "output = tweets_hour_day.first()\n",
    "assert output.hour == 23 and output['count'] == 1222, \"Incorrect output\""
   ]
  },
  {
   "cell_type": "markdown",
   "metadata": {
    "deletable": false,
    "editable": false,
    "nbgrader": {
     "cell_type": "markdown",
     "checksum": "c675f2bcdcacafb2a392cb750fec4020",
     "grade": false,
     "grade_id": "cell-9711c5a4b8435d13",
     "locked": true,
     "schema_version": 3,
     "solution": false,
     "task": false
    }
   },
   "source": [
    "Finalment només ens queda fer una agregació per hora per aconseguir la mitjana de tweets per hora. Heu de generar una taula ```tweets_hour``` amb la informació:\n",
    "- ***hour:*** Hora\n",
    "- ***tweets:*** Mitjana de tweets realitzats\n",
    "\n",
    "Recordeu que estem treballant amb un sample de l'1% per tant heu de corregir la columna ```tweets``` perquè reflecteixi la mitjana que hauríem d'esperar en el conjunt complet de tweets. La taula ha d'estar ordenada en ordre ascendent d'hora."
   ]
  },
  {
   "cell_type": "code",
   "execution_count": null,
   "metadata": {
    "deletable": false,
    "nbgrader": {
     "cell_type": "code",
     "checksum": "91db13dfb8cd1a97238b76c8715b6e60",
     "grade": false,
     "grade_id": "cell-e54cd30ac632f4bb",
     "locked": false,
     "schema_version": 3,
     "solution": true,
     "task": false
    }
   },
   "outputs": [],
   "source": [
    "# YOUR CODE HERE\n",
    "raise NotImplementedError()\n",
    "tweets_hour.limit(24).show()"
   ]
  },
  {
   "cell_type": "code",
   "execution_count": null,
   "metadata": {
    "deletable": false,
    "editable": false,
    "nbgrader": {
     "cell_type": "code",
     "checksum": "14a2129e8bbae4daf942b7887c550037",
     "grade": true,
     "grade_id": "cell-d7cdae10a0b3a437",
     "locked": true,
     "points": 0.125,
     "schema_version": 3,
     "solution": false,
     "task": false
    }
   },
   "outputs": [],
   "source": [
    "assert tweets_hour.first().hour == 0 and round(tweets_hour.first().tweets) == 26189"
   ]
  },
  {
   "cell_type": "markdown",
   "metadata": {
    "deletable": false,
    "editable": false,
    "nbgrader": {
     "cell_type": "markdown",
     "checksum": "13a171ff73dbbc812975132d6e996b28",
     "grade": false,
     "grade_id": "cell-57be2455836c59b9",
     "locked": true,
     "schema_version": 3,
     "solution": false,
     "task": false
    }
   },
   "source": [
    "Finalment, heu de produir un gràfic de barres utilitzant [Pandes] (https://pandas.pydata.org/) on es mostri la informació que acabeu de generar. Primer transformeu la taula `tweets_hour` a pandes utilitzant el mètode` toPandas ()`. Mostreu gràficament la taula resultant utilitzant [la funcionalitat gràfica de pandes.](https://pandas.pydata.org/docs/reference/api/pandas.DataFrame.plot.bar.html)"
   ]
  },
  {
   "cell_type": "code",
   "execution_count": null,
   "metadata": {
    "deletable": false,
    "nbgrader": {
     "cell_type": "code",
     "checksum": "29226d46c74b80c35f4f1fa07e04dd58",
     "grade": true,
     "grade_id": "cell-8b426c5ba583bcc9",
     "locked": false,
     "points": 0.125,
     "schema_version": 3,
     "solution": true,
     "task": false
    }
   },
   "outputs": [],
   "source": [
    "# YOUR CODE HERE\n",
    "raise NotImplementedError()"
   ]
  },
  {
   "cell_type": "markdown",
   "metadata": {
    "deletable": false,
    "editable": false,
    "nbgrader": {
     "cell_type": "markdown",
     "checksum": "ab40185d209d33947acef5f92d474a47",
     "grade": false,
     "grade_id": "cell-811275200af43ba5",
     "locked": true,
     "schema_version": 3,
     "solution": false,
     "task": false
    }
   },
   "source": [
    "### **Part 3.2:** Estratificat"
   ]
  },
  {
   "cell_type": "markdown",
   "metadata": {
    "deletable": false,
    "editable": false,
    "nbgrader": {
     "cell_type": "markdown",
     "checksum": "e9ab32f7c347ef221c2cbbec837db954",
     "grade": false,
     "grade_id": "cell-fbe68f197f991274",
     "locked": true,
     "schema_version": 3,
     "solution": false,
     "task": false
    }
   },
   "source": [
    "En moltes ocasions el sampling homogeni no és adequat ja que la pròpia estructura de les dades fa que determinades poblacions estiguin sobrerepresentades. Aquest és el cas que observem en els tweets on les grans àrees urbanes estan sobrerepresentades si ho comparem amb el volum de població. En aquesta activitat veurem com aplicar aquesta tècnica al dataset de tweets, per obtenir un sampling que respecti la proporció de diputats per província.\n",
    "\n",
    "A Espanya, el procés electoral assigna un volum de diputats a cada província que depèn de la població i d'un percentatge mínim assignat per llei. En el context Hive que hem creat prèviament (```hiveContext```) podem trobar una taula (``` province_28a```) que conté informació sobre les circumscripcions electorals. Carregueu aquesta taula en una variable amb nom ```province```."
   ]
  },
  {
   "cell_type": "code",
   "execution_count": null,
   "metadata": {
    "deletable": false,
    "nbgrader": {
     "cell_type": "code",
     "checksum": "41494f3eecb070841512f49107b0a96a",
     "grade": false,
     "grade_id": "cell-78c789c01092cbc0",
     "locked": false,
     "schema_version": 3,
     "solution": true,
     "task": false
    }
   },
   "outputs": [],
   "source": [
    "# YOUR CODE HERE\n",
    "raise NotImplementedError()\n",
    "\n",
    "province.limit(20).show()"
   ]
  },
  {
   "cell_type": "code",
   "execution_count": null,
   "metadata": {
    "deletable": false,
    "editable": false,
    "nbgrader": {
     "cell_type": "code",
     "checksum": "7dce4debf8a3bff33b4fba4c8fc160bd",
     "grade": true,
     "grade_id": "cell-df66365e7782a5a2",
     "locked": true,
     "points": 0.0625,
     "schema_version": 3,
     "solution": false,
     "task": false
    }
   },
   "outputs": [],
   "source": [
    "assert province.count() == 52, \"Incorrect answer\""
   ]
  },
  {
   "cell_type": "markdown",
   "metadata": {
    "deletable": false,
    "editable": false,
    "nbgrader": {
     "cell_type": "markdown",
     "checksum": "3384355812f254bcab597c37d316931d",
     "grade": false,
     "grade_id": "cell-559a5cf0365b93cf",
     "locked": true,
     "schema_version": 3,
     "solution": false,
     "task": false
    }
   },
   "source": [
    "Per fer un sampling estratificat el primer que hem de fer és determinar la fracció que volem assignar a cada categoria. En aquest cas volem una fracció que faci que la fracció de tweets diputat sigui igual per a totes les capitals de província. Hem de tenir en compte que la precisió de la geolocalització a Twitter és normalment a nivell de ciutat. Per això, per evitar incrementar la complexitat de l'exercici, utilitzarem els tweets en capitals de província com a proxy dels tweets en tota la província.\n",
    "\n",
    "El primer que heu de fer és crear un taula ```info_tweets_province``` que ha de contenir:\n",
    "- ***capital:*** nom de la capital de província.\n",
    "- ***tweets:*** nombre de tweets geolocalitzats a cada capital\n",
    "- ***diputats:*** diputats que assignats a la província.\n",
    "- ***ratio_tweets_diputado:*** nombre de tweets per diputat.\n",
    "\n",
    "Heu d'ordenar la llista per ```ratio_tweets_diputado``` en ordre ascendent.\n",
    "\n",
    "***Nota:*** Podeu fer aquest exercici de moltes maneres, probablement la més fàcil és utilitzar la taula ```tweets_place``` que heu generat en l'apartat 2.2.1. Recordeu com utilitzar el ```join ()```"
   ]
  },
  {
   "cell_type": "code",
   "execution_count": null,
   "metadata": {
    "deletable": false,
    "nbgrader": {
     "cell_type": "code",
     "checksum": "1b477bf4113286c6afc2749a5b5ba0e7",
     "grade": false,
     "grade_id": "cell-686a378ab0c82538",
     "locked": false,
     "schema_version": 3,
     "solution": true,
     "task": false
    }
   },
   "outputs": [],
   "source": [
    "# YOUR CODE HERE\n",
    "raise NotImplementedError()\n",
    "\n",
    "info_tweets_province.limit(20).show()"
   ]
  },
  {
   "cell_type": "code",
   "execution_count": null,
   "metadata": {
    "deletable": false,
    "editable": false,
    "nbgrader": {
     "cell_type": "code",
     "checksum": "d4dab434319671c833c372adee1f00eb",
     "grade": true,
     "grade_id": "cell-0786655528352342",
     "locked": true,
     "points": 0.25,
     "schema_version": 3,
     "solution": false,
     "task": false
    }
   },
   "outputs": [],
   "source": [
    "output = info_tweets_province.first()\n",
    "maximum_ratio = floor(output.ratio_tweets_diputado * 100) / 100\n",
    "assert output.capital == \"Teruel\" and output.tweets == 8 and output.diputados == 3, \"Incorrect output\""
   ]
  },
  {
   "cell_type": "markdown",
   "metadata": {
    "deletable": false,
    "editable": false,
    "nbgrader": {
     "cell_type": "markdown",
     "checksum": "f1587612fd6d291abd0f0636768e7b6b",
     "grade": false,
     "grade_id": "cell-c174ca1e2c152b10",
     "locked": true,
     "schema_version": 3,
     "solution": false,
     "task": false
    }
   },
   "source": [
    "En aquesta cas el primer que necessitarem és un diccionari amb nom ```ratios``` on cada capital de província és una clau i el seu valor associat és la fracció de tweets que anem a samplejar. En aquest cas el que volem és que el ràtio de tweets per cada diputat sigui similar per a cada capital de província.\n",
    "\n",
    "Com volem que el sampling sigui el més gran possible i no volem que cap capital quedi infrarepresentada el ràtio de tweets per diputat serà el valor més petit podeu observar a la taula ```info_tweets_province```, que correspon a 11.66 tweets per diputat a Terol. Teniu aquest valor guardat a la variable ```maximum_ratio```.\n",
    "\n",
    "*Nota:* El mètode ```collectAsMap ()``` transforma un PairRDD en un diccionari."
   ]
  },
  {
   "cell_type": "code",
   "execution_count": null,
   "metadata": {
    "deletable": false,
    "nbgrader": {
     "cell_type": "code",
     "checksum": "65bda9dc2291316da04c6459c06c416b",
     "grade": false,
     "grade_id": "cell-65ab3f04afcee421",
     "locked": false,
     "schema_version": 3,
     "solution": true,
     "task": false
    }
   },
   "outputs": [],
   "source": [
    "# YOUR CODE HERE\n",
    "raise NotImplementedError()"
   ]
  },
  {
   "cell_type": "code",
   "execution_count": null,
   "metadata": {
    "deletable": false,
    "editable": false,
    "nbgrader": {
     "cell_type": "code",
     "checksum": "f792b2b8057d22a43d326a2c3084ac74",
     "grade": true,
     "grade_id": "cell-aabf4f25dda3fd80",
     "locked": true,
     "points": 0.125,
     "schema_version": 3,
     "solution": false,
     "task": false
    }
   },
   "outputs": [],
   "source": [
    "assert ratios['Albacete'] == 0.12819277108433735, \"Incorrect output\""
   ]
  },
  {
   "cell_type": "markdown",
   "metadata": {
    "deletable": false,
    "editable": false,
    "nbgrader": {
     "cell_type": "markdown",
     "checksum": "b09c1b113da1283d7f0838440fec959b",
     "grade": false,
     "grade_id": "cell-d2d9aafd35905891",
     "locked": true,
     "schema_version": 3,
     "solution": false,
     "task": false
    }
   },
   "source": [
    "Genereu una taula ```geo_tweets``` amb tots els tweets geolocalitzats."
   ]
  },
  {
   "cell_type": "code",
   "execution_count": null,
   "metadata": {
    "deletable": false,
    "nbgrader": {
     "cell_type": "code",
     "checksum": "5749f705be432359aef81c9f1964229a",
     "grade": true,
     "grade_id": "cell-ba31ae52e39701e5",
     "locked": false,
     "points": 0.0625,
     "schema_version": 3,
     "solution": true,
     "task": false
    }
   },
   "outputs": [],
   "source": [
    "# YOUR CODE HERE\n",
    "raise NotImplementedError()"
   ]
  },
  {
   "cell_type": "markdown",
   "metadata": {
    "deletable": false,
    "editable": false,
    "nbgrader": {
     "cell_type": "markdown",
     "checksum": "a66e1656238385a7a927c9fb68cc0d3e",
     "grade": false,
     "grade_id": "cell-b279373d74116807",
     "locked": true,
     "schema_version": 3,
     "solution": false,
     "task": false
    }
   },
   "source": [
    "Ara ja estem en disposició de fer el sampling estratificat per població. Per a això podeu utilitzar el mètode ```sampleBy ()```. Utilitzeu 42 com seed de el generador pseudoaleatori.\n",
    "\n",
    "**Esquema**\n",
    "```Python\n",
    "seed = 42\n",
    "sample = <FILL IN>\n",
    "```"
   ]
  },
  {
   "cell_type": "code",
   "execution_count": null,
   "metadata": {
    "deletable": false,
    "nbgrader": {
     "cell_type": "code",
     "checksum": "03689b51b5402081bceb365466af129a",
     "grade": true,
     "grade_id": "cell-a59cf6ff77d3933c",
     "locked": false,
     "points": 0.0625,
     "schema_version": 3,
     "solution": true,
     "task": false
    }
   },
   "outputs": [],
   "source": [
    "# YOUR CODE HERE\n",
    "raise NotImplementedError()"
   ]
  },
  {
   "cell_type": "markdown",
   "metadata": {
    "deletable": false,
    "editable": false,
    "nbgrader": {
     "cell_type": "markdown",
     "checksum": "449e068966c91131996e9cf20ed7fa92",
     "grade": false,
     "grade_id": "cell-efeaef422602bb30",
     "locked": true,
     "schema_version": 3,
     "solution": false,
     "task": false
    }
   },
   "source": [
    "Per visualitzar el resultat de l'sampling aneu a crear una taula ```info_sample``` que contingui la següent informació:\n",
    "- ***capital:*** nom de la capital de província.\n",
    "- *** tweets:*** nombre de tweets samplejats a cada capital\n",
    "- ***diputats:*** diputats que assignats a la província.\n",
    "- ***ratio_tweets_diputado:*** nombre de tweets per diputat.\n",
    "\n",
    "Ordeneu la taula resultant per ordre de ```ratio_tweets_diputado``` ascendent."
   ]
  },
  {
   "cell_type": "code",
   "execution_count": null,
   "metadata": {
    "deletable": false,
    "nbgrader": {
     "cell_type": "code",
     "checksum": "3e3c5975cd337bbe4c4749eac7a56c80",
     "grade": false,
     "grade_id": "cell-b30012b203c207eb",
     "locked": false,
     "schema_version": 3,
     "solution": true,
     "task": false
    }
   },
   "outputs": [],
   "source": [
    "# YOUR CODE HERE\n",
    "raise NotImplementedError()\n",
    "\n",
    "info_sample.limit(20).show()"
   ]
  },
  {
   "cell_type": "code",
   "execution_count": null,
   "metadata": {
    "deletable": false,
    "editable": false,
    "nbgrader": {
     "cell_type": "code",
     "checksum": "592e349358f72953e164e23d7b2d586e",
     "grade": true,
     "grade_id": "cell-77898278f3ee3b69",
     "locked": true,
     "points": 0.25,
     "schema_version": 3,
     "solution": false,
     "task": false
    }
   },
   "outputs": [],
   "source": [
    "output = info_sample.first()\n",
    "assert output.capital == \"Melilla\" and output.tweets == 1  and output.diputados == 1 and output.ratio_tweets_diputado == 1.0, \"Incorrect output\""
   ]
  },
  {
   "cell_type": "markdown",
   "metadata": {
    "deletable": false,
    "editable": false,
    "nbgrader": {
     "cell_type": "markdown",
     "checksum": "3de32214dec64b4713903b194476dcbe",
     "grade": false,
     "grade_id": "cell-bf8ae16a0f12d52d",
     "locked": true,
     "schema_version": 3,
     "solution": false,
     "task": false
    }
   },
   "source": [
    "Com veieu el sampling no és exacte, és una aproximació. Però com podeu imaginar apropar el sampling a la representativitat electoral de les regions és necessaris en molts casos.\n",
    "\n",
    "Per comprovar-compteu primer tots els hashtags presents a la taula ```geo_tweets``` tal com hem fet en l'apartat 2.2.2 i ordeneu el resultat per nombre de tweets en ordre descendent. Deseu la taula en la variable `hashtagsTable`."
   ]
  },
  {
   "cell_type": "code",
   "execution_count": null,
   "metadata": {
    "deletable": false,
    "nbgrader": {
     "cell_type": "code",
     "checksum": "c3046076e9308d54f166b79aabd5e103",
     "grade": false,
     "grade_id": "cell-e1a2c1d512ab249e",
     "locked": false,
     "schema_version": 3,
     "solution": true,
     "task": false
    }
   },
   "outputs": [],
   "source": [
    "# YOUR CODE HERE\n",
    "raise NotImplementedError()\n",
    "\n",
    "hashtagsTable.limit(20).show()"
   ]
  },
  {
   "cell_type": "code",
   "execution_count": null,
   "metadata": {
    "deletable": false,
    "editable": false,
    "nbgrader": {
     "cell_type": "code",
     "checksum": "2714d3cc5cd6d8ad099c894d07795981",
     "grade": true,
     "grade_id": "cell-523a33c0ce6749f0",
     "locked": true,
     "points": 0.125,
     "schema_version": 3,
     "solution": false,
     "task": false
    }
   },
   "outputs": [],
   "source": [
    "output = hashtagsTable.first()\n",
    "assert output.hashtag == \"#28A\" and output.num >= 1700, \"Incorrect answer\""
   ]
  },
  {
   "cell_type": "markdown",
   "metadata": {
    "deletable": false,
    "editable": false,
    "nbgrader": {
     "cell_type": "markdown",
     "checksum": "eff3c9ed1ffb1ce78cb6895e4476f3f7",
     "grade": false,
     "grade_id": "cell-b41cdc82c0313230",
     "locked": true,
     "schema_version": 3,
     "solution": false,
     "task": false
    }
   },
   "source": [
    "Compareu aquest resultat amb el que obtenim quan vam crear una taula ```hashtagsTable_sample``` on comptem els hashtags al mostra. Ordeneu la taula per nombre de tweets en ordre descendent."
   ]
  },
  {
   "cell_type": "code",
   "execution_count": null,
   "metadata": {
    "deletable": false,
    "nbgrader": {
     "cell_type": "code",
     "checksum": "6267b0ce4b2029ef4e45a4d4996f05fa",
     "grade": false,
     "grade_id": "cell-2a1d0b60920e07ea",
     "locked": false,
     "schema_version": 3,
     "solution": true,
     "task": false
    }
   },
   "outputs": [],
   "source": [
    "# YOUR CODE HERE\n",
    "raise NotImplementedError()\n",
    "\n",
    "hashtagsTable_sample.limit(20).show()"
   ]
  },
  {
   "cell_type": "code",
   "execution_count": null,
   "metadata": {
    "deletable": false,
    "editable": false,
    "nbgrader": {
     "cell_type": "code",
     "checksum": "b5ac4e4116ce604f00a0903e21d9ca52",
     "grade": true,
     "grade_id": "cell-64cea6f5c2bf3d84",
     "locked": true,
     "points": 0.0625,
     "schema_version": 3,
     "solution": false,
     "task": false
    }
   },
   "outputs": [],
   "source": [
    "output = hashtagsTable_sample.first()\n",
    "assert output.hashtag == \"#28A\" and output.num >= 35, \"Incorrect answer\""
   ]
  },
  {
   "cell_type": "markdown",
   "metadata": {
    "deletable": false,
    "editable": false,
    "nbgrader": {
     "cell_type": "markdown",
     "checksum": "edeac81fb691e4d4a95ec747a0bcb8b8",
     "grade": false,
     "grade_id": "cell-282efc48db14dc51",
     "locked": true,
     "schema_version": 3,
     "solution": false,
     "task": false
    },
    "toc-hr-collapsed": false
   },
   "source": [
    "## **Part 4:** Introducció a les dades relacionals"
   ]
  },
  {
   "cell_type": "markdown",
   "metadata": {
    "deletable": false,
    "editable": false,
    "nbgrader": {
     "cell_type": "markdown",
     "checksum": "4bf03eef09598becfbb828fa65a56d05",
     "grade": false,
     "grade_id": "cell-37c26fe65603f838",
     "locked": true,
     "schema_version": 3,
     "solution": false,
     "task": false
    }
   },
   "source": [
    "El fet de treballar amb una base de dades que conté informació generada en una xarxa social ens permet introduir el concepte de dades relacionals. Podem definir dades relacionals com aquells en què les relacions entre les entitats constitueixen la base de dades. Sí aquestes relacions són binàries, relacions 1 a 1, podem representar les relacions com un graf compost per un conjunt de vèrtexs $\\mathcal{V}$ i un conjunt d'arestes $\\mathcal{E}$ que els relacionen.\n",
    "\n",
    "En el cas de grafs que emergeixen de manera auto-organitzada l'estructura va més enllà dels grafs regulars que segurament coneixeu. Aquest tipus d'estructures es coneixen com [xarxes complexes](https://es.wikipedia.org/wiki/Red_compleja). L'estudi de l'estructura i propietats dinàmiques d'aquest tipus de xarxes ha contribuït a importants resultats en camps tan dispars com la física, la sociologia, l'ecologia o la medicina.\n",
    "\n",
    "![Complex_network](https://images.squarespace-cdn.com/content/5150aec6e4b0e340ec52710a/1364574727391-XVOFAB9P6GHKTDAH6QTA/lastfm_800_graph_white.png?content-type=image%2Fpng)\n",
    "\n",
    "En aquesta última part de la pràctica anem ha treballar amb aquest tipus de dades. En concret anem a modelar un dels possibles relacions presents en el dataset, la xarxa de retweets."
   ]
  },
  {
   "cell_type": "markdown",
   "metadata": {
    "deletable": false,
    "editable": false,
    "nbgrader": {
     "cell_type": "markdown",
     "checksum": "4707d1193538bfed5c3edc4e551a3812",
     "grade": false,
     "grade_id": "cell-6a6e29d54a0ab104",
     "locked": true,
     "schema_version": 3,
     "solution": false,
     "task": false
    }
   },
   "source": [
    "### **Part 4.1:** Generar la xarxa de retweets"
   ]
  },
  {
   "cell_type": "markdown",
   "metadata": {
    "deletable": false,
    "editable": false,
    "nbgrader": {
     "cell_type": "markdown",
     "checksum": "c98aa162c0ace174080b8c2b08c6b71a",
     "grade": false,
     "grade_id": "cell-897b2eeeea0dafad",
     "locked": true,
     "schema_version": 3,
     "solution": false,
     "task": false
    }
   },
   "source": [
    "#### **Part 4.1.1**: Construcció de la edgelist"
   ]
  },
  {
   "cell_type": "markdown",
   "metadata": {
    "deletable": false,
    "editable": false,
    "nbgrader": {
     "cell_type": "markdown",
     "checksum": "7c4ed6f4a00be375f705d0a9e1eb6dd2",
     "grade": false,
     "grade_id": "cell-9a5492c3a2cca893",
     "locked": true,
     "schema_version": 3,
     "solution": false,
     "task": false
    }
   },
   "source": [
    "El primer es demana que genereu la xarxa (el graf). Hi ha diverses maneres de representar una xarxa complexa, per exemple, si estem interessats a treballar-hi des del punt de vista teòric, la manera més habitual de representar-les és utilitzant una [matriu d'adjacència](https://ca.wikipedia.org/wiki/Matriu_d%27adjac%C3%A8ncia). En aquesta pràctica ens centrarem en l'aspecte computacional, una de les maneres de mes eficients (computacionalment parlant) de representar una xarxa és mitjançant la seva [*edge list*](https://en.wikipedia.org/wiki/Edge_list) , una taula que especifica la relació a parelles entre les entitats.\n",
    "\n",
    "Les relacions poden ser bidireccionals o direccionals i tenir algun pes assignat o no (Weighted or unweighted). En el cas que ens ocupa, estem parlant d'una xarxa dirigida, un usuari retuiteja a un altre, i podem pensar-la tenint en compte quantes vegades això ha passat.\n",
    "\n",
    "El primer que fareu per simplificar el còmput, és crear una mostra homogènia sense reemplaçament de l'1% dels tweets. Utilitzant els coneixements que heu après en l'apartat 3.1. Utilitzarem 42 com a valor per a la seed.\n",
    "\n",
    "**Esquema**\n",
    "```Python\n",
    "seed = 42\n",
    "sample = tweets.<FILL IN>\n",
    "```"
   ]
  },
  {
   "cell_type": "code",
   "execution_count": null,
   "metadata": {
    "deletable": false,
    "nbgrader": {
     "cell_type": "code",
     "checksum": "f7c834bfe32aaf48ce9880dc243af438",
     "grade": true,
     "grade_id": "cell-c070f596e66ebeb2",
     "locked": false,
     "points": 0.1,
     "schema_version": 3,
     "solution": true,
     "task": false
    }
   },
   "outputs": [],
   "source": [
    "# YOUR CODE HERE\n",
    "raise NotImplementedError()"
   ]
  },
  {
   "cell_type": "markdown",
   "metadata": {
    "deletable": false,
    "editable": false,
    "nbgrader": {
     "cell_type": "markdown",
     "checksum": "fd0274b0dd36a2d843957ec3a25d7543",
     "grade": false,
     "grade_id": "cell-820555a5351b6bd3",
     "locked": true,
     "schema_version": 3,
     "solution": false,
     "task": false
    }
   },
   "source": [
    "Creeu una taula ```edgelist``` amb la següent informació:\n",
    "- ***src:*** usuari que retuiteja\n",
    "- ***dst:*** usuari que és retuitejat\n",
    "- ***weight:*** nombre de vegades que un usuari retuiteja a un altre.\n",
    "\n",
    "Filtrar el resultat perquè contingui només les relacions amb un weight igual o major a dos."
   ]
  },
  {
   "cell_type": "code",
   "execution_count": null,
   "metadata": {
    "deletable": false,
    "nbgrader": {
     "cell_type": "code",
     "checksum": "96de40fc61c7ce1c90d7c37bc369f823",
     "grade": false,
     "grade_id": "cell-068c4e6981f4bd17",
     "locked": false,
     "schema_version": 3,
     "solution": true,
     "task": false
    }
   },
   "outputs": [],
   "source": [
    "# YOUR CODE HERE\n",
    "raise NotImplementedError()\n",
    "\n",
    "L = edgelist.count()\n",
    "\n",
    "print(\"There are {0} edges on the network.\".format(L))"
   ]
  },
  {
   "cell_type": "code",
   "execution_count": null,
   "metadata": {
    "deletable": false,
    "editable": false,
    "nbgrader": {
     "cell_type": "code",
     "checksum": "9092a3720865f7a6dcd155bd0b52ffad",
     "grade": true,
     "grade_id": "cell-5382ba44e19655fc",
     "locked": true,
     "points": 0.4,
     "schema_version": 3,
     "solution": false,
     "task": false
    }
   },
   "outputs": [],
   "source": [
    "assert L == 517, \"Incorrect ouput\""
   ]
  },
  {
   "cell_type": "markdown",
   "metadata": {
    "deletable": false,
    "editable": false,
    "nbgrader": {
     "cell_type": "markdown",
     "checksum": "9a054c52aacc4fa4f61177336d27cd27",
     "grade": false,
     "grade_id": "cell-5e8643828cf2869d",
     "locked": true,
     "schema_version": 3,
     "solution": false,
     "task": false
    }
   },
   "source": [
    "#### **Part 4.1.2:** Centralitat de grau"
   ]
  },
  {
   "cell_type": "markdown",
   "metadata": {
    "deletable": false,
    "editable": false,
    "nbgrader": {
     "cell_type": "markdown",
     "checksum": "dcb0dd3fcbdb0ea2b42ae8c947a3471e",
     "grade": false,
     "grade_id": "cell-9ba26ef00ea8587b",
     "locked": true,
     "schema_version": 3,
     "solution": false,
     "task": false
    }
   },
   "source": [
    "Un dels descriptors més comuns en l'anàlisi de xarxes és el grau. El grau quantifica quantes arestes estan connectades a cada vèrtexs. En el cas de xarxes dirigides com la que acabem de crear aquest descriptor està descompost de:\n",
    "- **n degree**: quantes arestes apunten el node\n",
    "- **out degree**: quantes arestes surten de el node\n",
    "\n",
    "Si fem un rànquing d'aquests valors obtindreu una mesura de centralitat, la [centralitat de grau](https://en.wikipedia.org/wiki/Centrality#Degree_centrality), de cadascun dels nodes.\n",
    "\n",
    "Es demana que genereu una taula amb la següent informació:\n",
    "- ***screen_name:*** nom de l'usuari.\n",
    "- ***outDegree*** out degree de el node.\n",
    "\n",
    "Ordenar la taula per out degree en ordre descendent."
   ]
  },
  {
   "cell_type": "code",
   "execution_count": null,
   "metadata": {
    "deletable": false,
    "nbgrader": {
     "cell_type": "code",
     "checksum": "03650fc79254b488da052ab3cbb96ac4",
     "grade": false,
     "grade_id": "cell-ee617d0c697a3c28",
     "locked": false,
     "schema_version": 3,
     "solution": true,
     "task": false
    }
   },
   "outputs": [],
   "source": [
    "# YOUR CODE HERE\n",
    "raise NotImplementedError()\n",
    "\n",
    "outDegree.limit(20).show()"
   ]
  },
  {
   "cell_type": "code",
   "execution_count": null,
   "metadata": {
    "deletable": false,
    "editable": false,
    "nbgrader": {
     "cell_type": "code",
     "checksum": "32da2443447140ca0356aa22281b7608",
     "grade": true,
     "grade_id": "cell-c035c05881920745",
     "locked": true,
     "points": 0.25,
     "schema_version": 3,
     "solution": false,
     "task": false
    }
   },
   "outputs": [],
   "source": [
    "output = outDegree.first()\n",
    "assert output.screen_name == \"Manudocalin\" and output.outDegree == 3, \"Incorrect output\""
   ]
  },
  {
   "cell_type": "markdown",
   "metadata": {
    "deletable": false,
    "editable": false,
    "nbgrader": {
     "cell_type": "markdown",
     "checksum": "80251a17480f6c72cef3a79a64ef4d04",
     "grade": false,
     "grade_id": "cell-e346c8c66921c20d",
     "locked": true,
     "schema_version": 3,
     "solution": false,
     "task": false
    }
   },
   "source": [
    "Es demana ara que genereu una taula `inDegree` con la informació:\n",
    "- ***screen_name:*** nom de l'usuari.\n",
    "- ***inDegree:*** in degree de el node.\n",
    "\n",
    "Ordeneu la taula per in degree en ordre descendent."
   ]
  },
  {
   "cell_type": "code",
   "execution_count": null,
   "metadata": {
    "deletable": false,
    "nbgrader": {
     "cell_type": "code",
     "checksum": "15ab33812b6984766ed4183e765562c7",
     "grade": false,
     "grade_id": "cell-563978b25aed78d8",
     "locked": false,
     "schema_version": 3,
     "solution": true,
     "task": false
    }
   },
   "outputs": [],
   "source": [
    "# YOUR CODE HERE\n",
    "raise NotImplementedError()\n",
    "\n",
    "inDegree.limit(20).show()"
   ]
  },
  {
   "cell_type": "code",
   "execution_count": null,
   "metadata": {
    "deletable": false,
    "editable": false,
    "nbgrader": {
     "cell_type": "code",
     "checksum": "98982300a92a2294cff4e5680e69f21d",
     "grade": true,
     "grade_id": "cell-2e51da2e33a38b88",
     "locked": true,
     "points": 0.25,
     "schema_version": 3,
     "solution": false,
     "task": false
    }
   },
   "outputs": [],
   "source": [
    "output = inDegree.first()\n",
    "assert output.screen_name == \"PSOE\" and output.inDegree == 45, \"Incorrect output\""
   ]
  },
  {
   "cell_type": "markdown",
   "metadata": {
    "deletable": false,
    "editable": false,
    "nbgrader": {
     "cell_type": "markdown",
     "checksum": "54f54cbd33304095254f5a23e3b0771a",
     "grade": false,
     "grade_id": "cell-3090f93808799ac8",
     "locked": true,
     "schema_version": 3,
     "solution": false,
     "task": false
    },
    "toc-hr-collapsed": false
   },
   "source": [
    "### **Part 4.2:** Graphframes"
   ]
  },
  {
   "cell_type": "markdown",
   "metadata": {
    "deletable": false,
    "editable": false,
    "nbgrader": {
     "cell_type": "markdown",
     "checksum": "05f57713e73e5e2abba0d54e2ea9431e",
     "grade": false,
     "grade_id": "cell-573d4e35edb016e1",
     "locked": true,
     "schema_version": 3,
     "solution": false,
     "task": false
    }
   },
   "source": [
    "Aquest tipus d'estructures és molt comú en molts datasets i el seu anàlisi cada vegada s'ha tornat més habitual. Per simplificar les operacions i l'anàlisi utilitzarem una llibreria específicament dissenyada per treballar en xarxes en sistemes distribuïts: [**Graphframes**](https://graphframes.github.io/graphframes/docs/_site/index.html) ."
   ]
  },
  {
   "cell_type": "code",
   "execution_count": null,
   "metadata": {
    "deletable": false,
    "editable": false,
    "nbgrader": {
     "cell_type": "code",
     "checksum": "63565c68dadd69d622904df5c2386da3",
     "grade": false,
     "grade_id": "cell-d7ed2b30adbb608b",
     "locked": true,
     "schema_version": 3,
     "solution": false,
     "task": false
    }
   },
   "outputs": [],
   "source": [
    "import sys\n",
    "pyfiles = str(sc.getConf().get(u'spark.submit.pyFiles')).split(',')\n",
    "sys.path.extend(pyfiles)\n",
    "from graphframes import *"
   ]
  },
  {
   "cell_type": "markdown",
   "metadata": {
    "deletable": false,
    "editable": false,
    "nbgrader": {
     "cell_type": "markdown",
     "checksum": "6ae38411c820501d5d4d5bb33cb1f3fa",
     "grade": false,
     "grade_id": "cell-4eb5d1ee55df827d",
     "locked": true,
     "schema_version": 3,
     "solution": false,
     "task": false
    }
   },
   "source": [
    "El primer que anem a fer és crear un objecte ```GraphFrame``` que contindrà tota la informació de la xarxa.\n",
    "\n",
    "En un pas previ ja hem creat la *edge list* ara crearem una llista amb els vèrtexs. Crear una taula ```vértices``` que contingui una única columna ``` id``` amb els nom d'usuari de tots els vèrtexs. Recordeu que hi ha vèrtexs que pot ser que només tinguin arestes incidents i altres que potser no tinguin (heu de fer servir la informació de les dues columnes de la ```edgelist```). Recordeu que la llista de vèrtexs és un conjunt on no hi pot haver repetició d'identificadors!"
   ]
  },
  {
   "cell_type": "code",
   "execution_count": null,
   "metadata": {
    "deletable": false,
    "nbgrader": {
     "cell_type": "code",
     "checksum": "c769e75f0205604516ee772620012060",
     "grade": false,
     "grade_id": "cell-5223320eddb5e2df",
     "locked": false,
     "schema_version": 3,
     "solution": true,
     "task": false
    }
   },
   "outputs": [],
   "source": [
    "# YOUR CODE HERE\n",
    "raise NotImplementedError()\n",
    "\n",
    "N = vertices.count()\n",
    "print(\"There are {0} nodes on the network.\".format(N))"
   ]
  },
  {
   "cell_type": "code",
   "execution_count": null,
   "metadata": {
    "deletable": false,
    "editable": false,
    "nbgrader": {
     "cell_type": "code",
     "checksum": "4a05e368d18200e0a1c614536278e525",
     "grade": true,
     "grade_id": "cell-174493e69b3b15ae",
     "locked": true,
     "points": 0.25,
     "schema_version": 3,
     "solution": false,
     "task": false
    }
   },
   "outputs": [],
   "source": [
    "assert N == 682, 'Incorrect output'"
   ]
  },
  {
   "cell_type": "markdown",
   "metadata": {
    "deletable": false,
    "editable": false,
    "nbgrader": {
     "cell_type": "markdown",
     "checksum": "11473bc2fd81d98e542e4dc8668cac13",
     "grade": false,
     "grade_id": "cell-1bf3c068c7f4d9c6",
     "locked": true,
     "schema_version": 3,
     "solution": false,
     "task": false
    }
   },
   "source": [
    "A l'igual que amb les arestes, podeu assignar atributs als vèrtexs. Genereu la taula `vertices_extended` fent un *inner join* per ``` id``` amb la taula ```user_info``` guardada en el context ``` hiveContext```. Ordeneu la taula resultant per followers en ordre descendent.\n"
   ]
  },
  {
   "cell_type": "code",
   "execution_count": null,
   "metadata": {
    "deletable": false,
    "nbgrader": {
     "cell_type": "code",
     "checksum": "ee29a87d4bdf678c73a94b6f1543b82c",
     "grade": false,
     "grade_id": "cell-f9e24aabf014646e",
     "locked": false,
     "schema_version": 3,
     "solution": true,
     "task": false
    }
   },
   "outputs": [],
   "source": [
    "# YOUR CODE HERE\n",
    "raise NotImplementedError()\n",
    "\n",
    "vertices_extended.limit(20).show()"
   ]
  },
  {
   "cell_type": "code",
   "execution_count": null,
   "metadata": {
    "deletable": false,
    "editable": false,
    "nbgrader": {
     "cell_type": "code",
     "checksum": "477a9a61ef3b1e9998a6d148dbaeb7ad",
     "grade": true,
     "grade_id": "cell-b3fa48a27337ee8b",
     "locked": true,
     "points": 0.075,
     "schema_version": 3,
     "solution": false,
     "task": false
    }
   },
   "outputs": [],
   "source": [
    "output = vertices_extended.first()\n",
    "assert output.id == \"el_pais\" and output.lang == \"es\" and output.followers == 6904062"
   ]
  },
  {
   "cell_type": "markdown",
   "metadata": {
    "deletable": false,
    "editable": false,
    "nbgrader": {
     "cell_type": "markdown",
     "checksum": "0f61e5d046452b4288c73b1f5c87af67",
     "grade": false,
     "grade_id": "cell-3b15d252aa31f8d5",
     "locked": true,
     "schema_version": 3,
     "solution": false,
     "task": false
    }
   },
   "source": [
    "UnaUn cop tenim l'edgelist i la llista de vèrtexs estem en disposició d'instanciar [un objecte ```GraphFrame```](https://graphframes.github.io/graphframes/docs/_site/api/python/graphframes.html ). Instancieu aquest objecte a la variable ```network```."
   ]
  },
  {
   "cell_type": "code",
   "execution_count": null,
   "metadata": {
    "deletable": false,
    "nbgrader": {
     "cell_type": "code",
     "checksum": "5ed9389b626938c912b46613a110b2f4",
     "grade": false,
     "grade_id": "cell-e3a653e229dddcb4",
     "locked": false,
     "schema_version": 3,
     "solution": true,
     "task": false
    }
   },
   "outputs": [],
   "source": [
    "# YOUR CODE HERE\n",
    "raise NotImplementedError()"
   ]
  },
  {
   "cell_type": "code",
   "execution_count": null,
   "metadata": {
    "deletable": false,
    "editable": false,
    "nbgrader": {
     "cell_type": "code",
     "checksum": "a7a4ecc4fd7c58c79e5f0a7e28f82349",
     "grade": true,
     "grade_id": "cell-dc9f7c83382037ae",
     "locked": true,
     "points": 0.075,
     "schema_version": 3,
     "solution": false,
     "task": false
    }
   },
   "outputs": [],
   "source": [
    "assert type(network) == GraphFrame, \"Incorrect answer\""
   ]
  },
  {
   "cell_type": "markdown",
   "metadata": {
    "deletable": false,
    "editable": false,
    "nbgrader": {
     "cell_type": "markdown",
     "checksum": "e84af56a5b2ff82a66ebe17f5efa3c25",
     "grade": false,
     "grade_id": "cell-7b74e86f41949456",
     "locked": true,
     "schema_version": 3,
     "solution": false,
     "task": false
    }
   },
   "source": [
    "L'objecte que acabeu de crear té molts atributs i mètodes per a l'anàlisis de xarxes [(comproveu l'API)](https://graphframes.github.io/graphframes/docs/_site/api/python/graphframes.html). Es demana que utilitzeu l'atribut ```inDegrees``` de l'objecte que acabeu de crear per, conjuntament amb la transformació ``` orderBy```, generar una taula `inDegreeGraph` ordenada descendentement per grau.\n",
    "\n"
   ]
  },
  {
   "cell_type": "code",
   "execution_count": null,
   "metadata": {
    "deletable": false,
    "nbgrader": {
     "cell_type": "code",
     "checksum": "3a2edb6f9e9ec058b6aa5c8215050b3f",
     "grade": false,
     "grade_id": "cell-e2800f766932fb2b",
     "locked": false,
     "schema_version": 3,
     "solution": true,
     "task": false
    }
   },
   "outputs": [],
   "source": [
    "# YOUR CODE HERE\n",
    "raise NotImplementedError()\n",
    "\n",
    "inDegreeGraph.limit(20).show()"
   ]
  },
  {
   "cell_type": "code",
   "execution_count": null,
   "metadata": {
    "deletable": false,
    "editable": false,
    "nbgrader": {
     "cell_type": "code",
     "checksum": "d17f1747eb0b3a17e4abbbd5c7687521",
     "grade": true,
     "grade_id": "cell-2de83c2ac5675360",
     "locked": true,
     "points": 0.05,
     "schema_version": 3,
     "solution": false,
     "task": false
    }
   },
   "outputs": [],
   "source": [
    "output = inDegreeGraph.first()\n",
    "assert output.id == \"PSOE\" and output.inDegree == 45, \"Incorrect answer\""
   ]
  },
  {
   "cell_type": "markdown",
   "metadata": {
    "deletable": false,
    "editable": false,
    "nbgrader": {
     "cell_type": "markdown",
     "checksum": "7b8b6c02cbb57520b9bebc3099ce3a61",
     "grade": false,
     "grade_id": "cell-ca772769d5a97313",
     "locked": true,
     "schema_version": 3,
     "solution": false,
     "task": false
    }
   },
   "source": [
    "Feu el mateix amb l'atribut ```outDegrees``` per, conjuntament amb la transformació ``` orderBy```,  generar una taula `outDegreeGraph` que conteng</mark> la informació del out degree en orden descendente.\n"
   ]
  },
  {
   "cell_type": "code",
   "execution_count": null,
   "metadata": {
    "deletable": false,
    "nbgrader": {
     "cell_type": "code",
     "checksum": "77e9dcf86ad78877e509a67ae4640866",
     "grade": false,
     "grade_id": "cell-e4623aa725e82ecc",
     "locked": false,
     "schema_version": 3,
     "solution": true,
     "task": false
    }
   },
   "outputs": [],
   "source": [
    "# YOUR CODE HERE\n",
    "raise NotImplementedError()\n",
    "\n",
    "outDegreeGraph.limit(20).show()"
   ]
  },
  {
   "cell_type": "code",
   "execution_count": null,
   "metadata": {
    "deletable": false,
    "editable": false,
    "nbgrader": {
     "cell_type": "code",
     "checksum": "0805f4f98ce009866b4286ac98107995",
     "grade": true,
     "grade_id": "cell-106c397eb883e5cd",
     "locked": true,
     "points": 0.05,
     "schema_version": 3,
     "solution": false,
     "task": false
    }
   },
   "outputs": [],
   "source": [
    "output = outDegreeGraph.first()\n",
    "assert output.id == \"Manudocalin\" and output.outDegree == 3, \"Incorrect answer\""
   ]
  },
  {
   "cell_type": "markdown",
   "metadata": {
    "deletable": false,
    "editable": false,
    "nbgrader": {
     "cell_type": "markdown",
     "checksum": "4a73446630367a46c572f122bf7c3259",
     "grade": false,
     "grade_id": "cell-a7055035515a3473",
     "locked": true,
     "schema_version": 3,
     "solution": false,
     "task": false
    }
   },
   "source": [
    "### **Part 5:** Vídeo resposta - Dataframes (2 punt)\n",
    "\n",
    "En aquest apartat s'haurà de respondre a les qüestions que es mostren a continuació mitjançant un vídeo resposta d'entre 5 i 10 minuts. Heu de realitzar una gravació en la qual se us vegi la cara responent amb les vostres pròpies paraules a les qüestions. Heu de seguir els següents punts per a realitzar el vídeo:\n",
    "\n",
    "Al principi del vídeo heu de dir el vostre nom i DNI mentre mostreu el DNI (que ha de veure's amb claredat i ser llegible).\n",
    "\n",
    "Heu de respondre a les preguntes en l'ordre en el qual estan, comentant sempre al principi de cada resposta a quina pregunta us esteu referint.\n",
    "\n",
    "En el cas de no respondre a alguna pregunta, heu d'indicar el quina pregunta no contesteu i el perquè.\n",
    "\n",
    "### Preguntes\n",
    "\n",
    "1 - Expliqueu com s'ha treballat en grup (organització de tasques, canals de comunicació, etc.) i que ha fet cada membre del grup.\n",
    "\n",
    "2 - Explica les diferències entre un SGBDR i Apatxe Hive.\n",
    "\n",
    "3 - Explica les relacions que existeix entre Apatxe Hive, el seu Metastore i HDFS. \n",
    "\n",
    "4 - Realitza una comparativa detallada entre Apatxe Hive i Impala. \n",
    "\n",
    "5 - Explica el funcionament de Spark Accumulator \n",
    "\n",
    "6 - Explica quines opcions et semblen més útils per a connectar-se a una \"Font de dades\" amb Spark SQL"
   ]
  },
  {
   "cell_type": "markdown",
   "metadata": {
    "deletable": false,
    "editable": false,
    "nbgrader": {
     "cell_type": "markdown",
     "checksum": "967812226da1909c7ca877661a960db3",
     "grade": false,
     "grade_id": "cell-bf36386e9ef1997b",
     "locked": true,
     "points": 2,
     "schema_version": 3,
     "solution": false,
     "task": true
    }
   },
   "source": [
    "#Pugeu el vídeo al canvas."
   ]
  }
 ],
 "metadata": {
  "kernelspec": {
   "display_name": "Python 3",
   "language": "python",
   "name": "python3"
  },
  "language_info": {
   "codemirror_mode": {
    "name": "ipython",
    "version": 3
   },
   "file_extension": ".py",
   "mimetype": "text/x-python",
   "name": "python",
   "nbconvert_exporter": "python",
   "pygments_lexer": "ipython3",
   "version": "3.5.2"
  },
  "toc-autonumbering": false,
  "toc-showcode": false,
  "toc-showmarkdowntxt": false,
  "toc-showtags": false
 },
 "nbformat": 4,
 "nbformat_minor": 4
}
